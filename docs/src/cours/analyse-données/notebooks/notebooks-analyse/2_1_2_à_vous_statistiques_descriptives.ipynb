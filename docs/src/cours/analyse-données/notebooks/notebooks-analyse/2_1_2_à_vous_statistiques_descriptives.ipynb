{
 "cells": [
  {
   "cell_type": "markdown",
   "metadata": {},
   "source": [
    "# A vous : Statistiques descriptives"
   ]
  },
  {
   "cell_type": "markdown",
   "metadata": {},
   "source": [
    "Vous allez utiliser le célèbre jeu de données des [iris de ficher](https://fr.wikipedia.org/wiki/Iris_de_Fisher).\n",
    "\n"
   ]
  },
  {
   "cell_type": "markdown",
   "metadata": {},
   "source": [
    "## chargement des données\n",
    "\n",
    "Il est disponible dans seaborn :"
   ]
  },
  {
   "cell_type": "code",
   "execution_count": null,
   "metadata": {},
   "outputs": [],
   "source": [
    "import seaborn\n",
    "\n",
    "iris = seaborn.load_dataset('iris')\n",
    "iris"
   ]
  },
  {
   "cell_type": "markdown",
   "metadata": {},
   "source": [
    "- quel est le types des différentes colonnes ?\n",
    "- Les données sont elles-conforme à ce qu'on devrait avoir ?"
   ]
  },
  {
   "attachments": {},
   "cell_type": "markdown",
   "metadata": {},
   "source": [
    "## Caractéristiques"
   ]
  },
  {
   "attachments": {},
   "cell_type": "markdown",
   "metadata": {},
   "source": [
    "* représentez sous forme de boîte à moustache les différentes caractéristiques.\n",
    "* donnez les statistiques descriptives de chaque caractère espèce par espèce. Conclusion ?"
   ]
  },
  {
   "attachments": {},
   "cell_type": "markdown",
   "metadata": {},
   "source": [
    "## Liens entre caractéristiques\n",
    "\n",
    "En utilisant un [`seaborn.pairplot`](https://seaborn.pydata.org/generated/seaborn.pairplot.html) représentez les variations des caractères 2 à 2. Conclusion ?"
   ]
  },
  {
   "attachments": {},
   "cell_type": "markdown",
   "metadata": {},
   "source": [
    "## Colonnes\n",
    "\n",
    "Ajoutez une colonne qui somme les tailles du pétal et faites les statistiques descriptives sur celle-ci globalement et par espèce. Conclusion ?"
   ]
  },
  {
   "cell_type": "code",
   "execution_count": null,
   "metadata": {},
   "outputs": [],
   "source": []
  }
 ],
 "metadata": {
  "kernelspec": {
   "display_name": "Python 3",
   "language": "python",
   "name": "python3"
  },
  "language_info": {
   "codemirror_mode": {
    "name": "ipython",
    "version": 3
   },
   "file_extension": ".py",
   "mimetype": "text/x-python",
   "name": "python",
   "nbconvert_exporter": "python",
   "pygments_lexer": "ipython3",
   "version": "3.9.13 (main, May 24 2022, 21:28:31) \n[Clang 13.1.6 (clang-1316.0.21.2)]"
  },
  "vscode": {
   "interpreter": {
    "hash": "aee8b7b246df8f9039afb4144a1f6fd8d2ca17a180786b69acc140d282b71a49"
   }
  }
 },
 "nbformat": 4,
 "nbformat_minor": 4
}
