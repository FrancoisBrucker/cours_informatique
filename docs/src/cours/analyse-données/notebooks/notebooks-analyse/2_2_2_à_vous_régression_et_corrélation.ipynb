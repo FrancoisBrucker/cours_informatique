{
 "cells": [
  {
   "cell_type": "markdown",
   "metadata": {},
   "source": [
    "# régression et corrélation"
   ]
  },
  {
   "attachments": {},
   "cell_type": "markdown",
   "metadata": {},
   "source": [
    "## Iris de Fisher"
   ]
  },
  {
   "cell_type": "code",
   "execution_count": null,
   "metadata": {},
   "outputs": [],
   "source": [
    "import pandas\n",
    "import seaborn"
   ]
  },
  {
   "cell_type": "markdown",
   "metadata": {},
   "source": [
    "On réutilise le jeu de données des iris de fisher."
   ]
  },
  {
   "cell_type": "code",
   "execution_count": null,
   "metadata": {},
   "outputs": [],
   "source": [
    "iris = seaborn.load_dataset('iris')\n",
    "iris"
   ]
  },
  {
   "cell_type": "markdown",
   "metadata": {},
   "source": [
    "* quels sont les corrélations entre les différentes caractéristiques ? \n",
    "* Tracer les iris sur les deux axes dont la corrélation est la plus faible. Vous devriez voir qu'il ny a rien à voir en terme de linéarité.\n",
    "* Tracez les corrélations 2 à 2 en utilisant [pairplot](https://seaborn.pydata.org/generated/seaborn.pairplot.html) (c'est le paramètre `kind` qui doit être placé sur `reg`)\n"
   ]
  },
  {
   "cell_type": "markdown",
   "metadata": {},
   "source": [
    "Effectuez les mêmes opérations par espèces. \n",
    "\n",
    "On pourra utiliser le fait que :\n",
    "* la méthode `corr()`  fonctionne sur une dataframe issue d'un groupby.\n",
    "* on peut selectionner le regroupement de pairplot avec le paramètre `hue`"
   ]
  },
  {
   "cell_type": "markdown",
   "metadata": {},
   "source": [
    "Conclusion sur les corrélations des caractéristiques pour les iris de fisher ?"
   ]
  },
  {
   "cell_type": "markdown",
   "metadata": {},
   "source": [
    "## Crimes"
   ]
  },
  {
   "attachments": {},
   "cell_type": "markdown",
   "metadata": {},
   "source": [
    "Reprenez les données crimes déjà étudiées dans les exercices de lecture de données. \n",
    "\n",
    "On cherche à expliquer les crimes (caractéristique `ViolentCrimesPerPop`) par rapport aux autres caractéristiques numériques (colonnes d'index >= 5)\n",
    "\n",
    "\n",
    "1. Reprenez où l'on s'est arrêté, avec des données où les données manquantes ont été remplacées.\n",
    "2. supprimez les 5 premières colonnes qui sont non numériques. Pour cela vous pourrez utiliser :\n",
    "   * [`pandas.DataFrame.drop`](https://pandas.pydata.org/docs/reference/api/pandas.DataFrame.drop.html)\n",
    "   * les noms des colonnes sont disponibles dans l'attribut de DataFrame `columns`\n",
    "   * on veut supprimer les colonnes et non les lignes, donc faites attention au paramètre `axis` de la méthode `drop`."
   ]
  },
  {
   "attachments": {},
   "cell_type": "markdown",
   "metadata": {},
   "source": [
    "### Corrélations\n",
    "\n",
    "1. réduisez et centrez les données utiles (colonnes d'index >= 5)\n",
    "2. donnez les corrélations linéaires entre chaque caractéristique et la caractéristique à expliquer. Pour cela, créez un DataFrame d'une colonne où :\n",
    "   * chaque ligne a comme index  le nom de la caractéristique\n",
    "   * la valeur de la colonne correspond à la corrélation entre la caractéristique et `ViolentCrimesPerPop`\n",
    "\n",
    "   Pour cela, vous pourrez commencer par créer une liste python avec les différentes données et la transformer en Dataframe. \n",
    "3. En utilisant un [`seaborn.barplot`](https://seaborn.pydata.org/generated/seaborn.barplot.html) représentez graphiquement ces corrélations\n",
    "\n",
    "> Qu'en pensez-vous ?\n",
    "\n",
    "**Attention** : les corrélations ne disent pas si les variables sont des causes ou des conséquances d'autres facteurs. Faites très très attention avec leurs interprétations : causalité ≠ corrélations. Voir par exemple : https://sesame.apses.org/index.php?option=com_content&view=article&id=197&Itemid=191"
   ]
  },
  {
   "attachments": {},
   "cell_type": "markdown",
   "metadata": {},
   "source": [
    "### Tri des lignes\n",
    "\n",
    "Cette partie sera consacrée à rendre le graphique précédent plus joli à voir et à interpréter. On veut trier par valeur absolue de corrélation décroissante.\n",
    "\n",
    "Pour cela vous allez, en plusieurs commandes chaînées :\n",
    "\n",
    "1. créer une nouvelle colonne contenant la valeur absolue de la corrélation\n",
    "2. trier de façon décroissante selon cette colonne\n",
    "3. supprimer la colonne qui a permis de trier\n",
    "4. supprime la première ligne qui est de corrélation 1 (c'est `'ViolentCrimesPerPop'`)"
   ]
  },
  {
   "attachments": {},
   "cell_type": "markdown",
   "metadata": {},
   "source": [
    "#### Nouvelle colonne\n",
    "\n",
    "Utilisez la méthode [`pandas.DataFrame.assign`](https://pandas.pydata.org/docs/reference/api/pandas.DataFrame.assign.html) pour créez une nouvelle colonne, nommée `'abs'`, contenant la valeur absolue de la corrélation.\n",
    "> **Notez** que `abs(df['nom'])` rend une colonne avec la valeur absolue"
   ]
  },
  {
   "attachments": {},
   "cell_type": "markdown",
   "metadata": {},
   "source": [
    "#### Tri\n",
    "\n",
    "La méthode [`pandas.DataFrame.sort_values`](https://pandas.pydata.org/docs/reference/api/pandas.DataFrame.sort_values.html) tri le `DataFrame` selon une colonne particulière.\n",
    "\n",
    "Utilisez cette méthode pour trier le dataframe par valeur absolue de la corrélation décroissante."
   ]
  },
  {
   "attachments": {},
   "cell_type": "markdown",
   "metadata": {},
   "source": [
    "#### Suppression de la colonne\n",
    "\n",
    "\n",
    "Réutilisez la méthode [`pandas.DataFrame.drop`](https://pandas.pydata.org/docs/reference/api/pandas.DataFrame.drop.html) pour supprimer la colonne qui nous a permis de trier le DataFrame.\n",
    "\n",
    "#### Suppression de la première Ligne\n",
    "\n",
    "La première ligne est inutile puisque la corrélation entre une colonne t elle même est 1. Supprimez la du DataFrame"
   ]
  },
  {
   "attachments": {},
   "cell_type": "markdown",
   "metadata": {},
   "source": [
    "#### Combine le tout\n",
    "\n",
    "Réalisez les différents opérations précédentes en une seule opération chaînée\n",
    "\n",
    "\n",
    "#### Représentation graphique\n",
    "\n",
    "Représentez à nouveau le graphique. Il devrait être plus facile à lire."
   ]
  },
  {
   "attachments": {},
   "cell_type": "markdown",
   "metadata": {},
   "source": [
    "### Labels\n",
    "\n",
    "On va ajouter les valeurs de la corrélation au graphique.\n",
    "\n",
    "\n",
    "#### Coordonnées\n",
    "\n",
    "Il faut écrire la valeur de la corrélation au bon endroit : \n",
    "\n",
    "* ordonnée : le numéro de la ligne\n",
    "* abscisse : la valeur de la corrélation\n",
    "\n",
    "En utilisant la méthode [`text`](https://matplotlib.org/stable/api/_as_gen/matplotlib.pyplot.text.html) de matplotlib qui s'utilise — avec nos conventions — de cette façon : `ax.text(abscisse, ordonnée, corrélation)`, itérez sur les lignes des colonne en utilisant la méthode [`pandas.DataFrame.iterrows`](https://pandas.pydata.org/docs/reference/api/pandas.DataFrame.iterrows.html) pour ajouter la corrélation au graphique.\n",
    "\n",
    "\n",
    "> **Note** vous pouvez aussi utiliser [`enumerate`](enumérate (https://www.geeksforgeeks.org/enumerate-in-python/)) en plus pour avoir également directement le numéro de la ligne.\n",
    "\n",
    "#### Style du texte\n",
    "\n",
    "Utilisez les attribut `horizontalalignment` et `verticalalignment` de la fonction [`text`](https://matplotlib.org/stable/api/_as_gen/matplotlib.pyplot.text.html) pour que votre texte soit centré verticalement et ne déborde pas sur le dessin lorsque le label à une abcisse négative.\n",
    "\n",
    "### Couleurs\n",
    "\n",
    "Changez la couleur des corrélations pour qu'elle corresponde à la 1ère décimale de la vaeure aboslue de la corrélation (le `int(10 * abs(ligne['ViolentCrimesPerPop']))`)"
   ]
  }
 ],
 "metadata": {
  "kernelspec": {
   "display_name": "Python 3",
   "language": "python",
   "name": "python3"
  },
  "language_info": {
   "codemirror_mode": {
    "name": "ipython",
    "version": 3
   },
   "file_extension": ".py",
   "mimetype": "text/x-python",
   "name": "python",
   "nbconvert_exporter": "python",
   "pygments_lexer": "ipython3",
   "version": "3.10.9 (main, Dec 15 2022, 17:11:09) [Clang 14.0.0 (clang-1400.0.29.202)]"
  },
  "vscode": {
   "interpreter": {
    "hash": "b0fa6594d8f4cbf19f97940f81e996739fb7646882a419484c72d19e05852a7e"
   }
  }
 },
 "nbformat": 4,
 "nbformat_minor": 4
}
