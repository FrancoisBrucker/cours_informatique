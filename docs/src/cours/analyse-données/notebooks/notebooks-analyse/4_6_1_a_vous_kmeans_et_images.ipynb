{
 "cells": [
  {
   "cell_type": "markdown",
   "metadata": {},
   "source": [
    "# k-means et images"
   ]
  },
  {
   "cell_type": "markdown",
   "metadata": {},
   "source": [
    "On va utiliser l'algorithme des $k$-means pour réduire le nombre de couleurs d'une image.\n",
    "\n",
    "Pour travailler avec des images en python, on a coutume utiliser la bibliothèque [pillow](https://pillow.readthedocs.io/en/stable/). Elle est normalement installée par défaut dans anaconda. \n",
    "\n",
    "Nous allons l'utiliser via [matplotlib](https://matplotlib.org/3.3.3/tutorials/introductory/images.html)."
   ]
  },
  {
   "cell_type": "markdown",
   "metadata": {},
   "source": [
    "## Données images"
   ]
  },
  {
   "cell_type": "code",
   "execution_count": 9,
   "metadata": {},
   "outputs": [],
   "source": [
    "import pandas"
   ]
  },
  {
   "cell_type": "markdown",
   "metadata": {},
   "source": [
    "Chargez une image quelconque. Si vous ne savez pas laquelle prendre, utilisez celle là (lol) :"
   ]
  },
  {
   "cell_type": "code",
   "execution_count": 10,
   "metadata": {},
   "outputs": [],
   "source": [
    "url = \"https://www.aefinfo.fr/assets/medias/documents/4/9/493038_prv.jpeg\""
   ]
  },
  {
   "cell_type": "markdown",
   "metadata": {},
   "source": [
    "### Matrice d'image"
   ]
  },
  {
   "cell_type": "markdown",
   "metadata": {},
   "source": [
    "On va utiliser la bibliothèqye [PIL](https://pillow.readthedocs.io/en/stable/) pour charger l'image"
   ]
  },
  {
   "cell_type": "code",
   "execution_count": 11,
   "metadata": {},
   "outputs": [],
   "source": [
    "import urllib\n",
    "import PIL.Image"
   ]
  },
  {
   "cell_type": "code",
   "execution_count": 12,
   "metadata": {},
   "outputs": [],
   "source": [
    "image = PIL.Image.open(urllib.request.urlopen(url))"
   ]
  },
  {
   "cell_type": "code",
   "execution_count": 13,
   "metadata": {},
   "outputs": [],
   "source": [
    "image.show()"
   ]
  },
  {
   "cell_type": "markdown",
   "metadata": {},
   "source": [
    "Transformons l'image en matrice d'entiers :"
   ]
  },
  {
   "cell_type": "code",
   "execution_count": 14,
   "metadata": {},
   "outputs": [],
   "source": [
    "import numpy as np"
   ]
  },
  {
   "cell_type": "code",
   "execution_count": 15,
   "metadata": {},
   "outputs": [],
   "source": [
    "img = np.array(image)"
   ]
  },
  {
   "cell_type": "markdown",
   "metadata": {},
   "source": [
    "Notre image est denevue une matrice numpy :"
   ]
  },
  {
   "cell_type": "code",
   "execution_count": 16,
   "metadata": {},
   "outputs": [
    {
     "data": {
      "text/plain": [
       "numpy.ndarray"
      ]
     },
     "execution_count": 16,
     "metadata": {},
     "output_type": "execute_result"
    }
   ],
   "source": [
    "type(img)"
   ]
  },
  {
   "cell_type": "code",
   "execution_count": 17,
   "metadata": {},
   "outputs": [
    {
     "data": {
      "text/plain": [
       "array([[[162, 209, 175],\n",
       "        [162, 209, 175],\n",
       "        [162, 209, 175],\n",
       "        ...,\n",
       "        [ 66,  70,  69],\n",
       "        [ 69,  73,  72],\n",
       "        [ 69,  73,  72]],\n",
       "\n",
       "       [[164, 210, 181],\n",
       "        [164, 210, 181],\n",
       "        [165, 211, 182],\n",
       "        ...,\n",
       "        [ 66,  70,  69],\n",
       "        [ 68,  72,  71],\n",
       "        [ 68,  72,  71]],\n",
       "\n",
       "       [[169, 214, 191],\n",
       "        [169, 214, 191],\n",
       "        [169, 214, 191],\n",
       "        ...,\n",
       "        [ 67,  71,  70],\n",
       "        [ 66,  70,  69],\n",
       "        [ 66,  70,  69]],\n",
       "\n",
       "       ...,\n",
       "\n",
       "       [[145, 147, 170],\n",
       "        [180, 182, 205],\n",
       "        [180, 182, 205],\n",
       "        ...,\n",
       "        [114,  98,  82],\n",
       "        [120, 104,  88],\n",
       "        [120, 104,  88]],\n",
       "\n",
       "       [[195, 197, 218],\n",
       "        [171, 173, 194],\n",
       "        [160, 162, 185],\n",
       "        ...,\n",
       "        [116, 100,  84],\n",
       "        [119, 103,  87],\n",
       "        [119, 103,  87]],\n",
       "\n",
       "       [[176, 178, 199],\n",
       "        [179, 181, 202],\n",
       "        [179, 181, 202],\n",
       "        ...,\n",
       "        [116, 100,  84],\n",
       "        [119, 103,  87],\n",
       "        [119, 103,  87]]], dtype=uint8)"
      ]
     },
     "execution_count": 17,
     "metadata": {},
     "output_type": "execute_result"
    }
   ],
   "source": [
    "img"
   ]
  },
  {
   "cell_type": "markdown",
   "metadata": {},
   "source": [
    "Sa *forme* est une matrice tri-dimensionelle :"
   ]
  },
  {
   "cell_type": "code",
   "execution_count": 18,
   "metadata": {},
   "outputs": [
    {
     "data": {
      "text/plain": [
       "(554, 362, 3)"
      ]
     },
     "execution_count": 18,
     "metadata": {},
     "output_type": "execute_result"
    }
   ],
   "source": [
    "img.shape"
   ]
  },
  {
   "cell_type": "markdown",
   "metadata": {},
   "source": [
    "Le 1er élement de shape est le nombre de ligne, le second son nombre de ligne et le troisième la taille de l'élément (ici un pixel dont la couleur est [composée de 3 entiers (de 0 à 255)](https://en.wikipedia.org/wiki/RGB_color_model)  qui correspondent respectivement à la composante rouge, vert et bleue de la couleur)."
   ]
  },
  {
   "cell_type": "markdown",
   "metadata": {},
   "source": [
    "On peut la regarder avec la fonction [imshow](https://matplotlib.org/3.3.3/api/_as_gen/matplotlib.pyplot.imshow.html) :"
   ]
  },
  {
   "cell_type": "code",
   "execution_count": 19,
   "metadata": {},
   "outputs": [],
   "source": [
    "from matplotlib.pyplot import imshow"
   ]
  },
  {
   "cell_type": "code",
   "execution_count": 20,
   "metadata": {},
   "outputs": [
    {
     "data": {
      "text/plain": [
       "<matplotlib.image.AxesImage at 0x7fe22933de20>"
      ]
     },
     "execution_count": 20,
     "metadata": {},
     "output_type": "execute_result"
    },
    {
     "data": {
      "image/png": "[encoded data removed]",
      "text/plain": [
       "<Figure size 432x288 with 1 Axes>"
      ]
     },
     "metadata": {
      "needs_background": "light"
     },
     "output_type": "display_data"
    }
   ],
   "source": [
    "imshow(img)"
   ]
  },
  {
   "cell_type": "markdown",
   "metadata": {},
   "source": [
    "### Accéder aux pixel "
   ]
  },
  {
   "cell_type": "markdown",
   "metadata": {},
   "source": [
    "Le pixel de la 11ème ligne et de la 4ème colonne est alors de couleur : "
   ]
  },
  {
   "cell_type": "code",
   "execution_count": 21,
   "metadata": {},
   "outputs": [
    {
     "data": {
      "text/plain": [
       "array([182, 216, 228], dtype=uint8)"
      ]
     },
     "execution_count": 21,
     "metadata": {},
     "output_type": "execute_result"
    }
   ],
   "source": [
    "# pixel de la 11ème ligne 4ème colonne \n",
    "img[10, 3]"
   ]
  },
  {
   "cell_type": "code",
   "execution_count": 22,
   "metadata": {},
   "outputs": [
    {
     "data": {
      "text/plain": [
       "array([[182, 216, 226],\n",
       "       [182, 216, 226],\n",
       "       [182, 216, 226],\n",
       "       ...,\n",
       "       [ 65,  69,  68],\n",
       "       [ 66,  70,  69],\n",
       "       [ 66,  70,  69]], dtype=uint8)"
      ]
     },
     "execution_count": 22,
     "metadata": {},
     "output_type": "execute_result"
    }
   ],
   "source": [
    "# la 11ème ligne \n",
    "\n",
    "img[10]"
   ]
  },
  {
   "cell_type": "code",
   "execution_count": 23,
   "metadata": {},
   "outputs": [
    {
     "data": {
      "text/plain": [
       "array([[162, 209, 175],\n",
       "       [165, 211, 182],\n",
       "       [170, 214, 191],\n",
       "       ...,\n",
       "       [166, 168, 191],\n",
       "       [170, 172, 195],\n",
       "       [174, 176, 197]], dtype=uint8)"
      ]
     },
     "execution_count": 23,
     "metadata": {},
     "output_type": "execute_result"
    }
   ],
   "source": [
    "# 4ème colonne\n",
    "\n",
    "img[:, 3]"
   ]
  },
  {
   "cell_type": "markdown",
   "metadata": {},
   "source": [
    "### Créer une image\n",
    "\n",
    "Créer une image est facile, il suffit de créer des matrices.\n",
    "\n",
    "Créez, et représentez une image de 10 lignes et 34 colonnes formés de couleurs aléatoires (des listes de 3 entiers aléatoires allant de 0 à 255)\n",
    "\n",
    "Pour celà vous pourrez utiliser :\n",
    "    - [random.randint](https://docs.python.org/3/library/random.html#random.randint) pour créer des nombres aléatoires\n",
    "    - créer votre matrice avec des listes python, puis créer la matrice numpy à la fin avec [numpy.array(matrice)](http://math.mad.free.fr/depot/numpy/base.html)"
   ]
  },
  {
   "cell_type": "markdown",
   "metadata": {},
   "source": [
    "### Un dataframe"
   ]
  },
  {
   "cell_type": "markdown",
   "metadata": {},
   "source": [
    "Nos données sont donc ici les différents pixels, donc des objets décrits par 3 variables entières. Rangez-les dans une dataframe.\n",
    "\n",
    "On pourrait créer une dataframe initialement vide et y ajouter tous les pixels un à un, mais on va faire ça plus efficacement en : \n",
    "\n",
    "1. créant un dataframe pour chaque ligne de la matrice et en les rangeant dans une liste (créer un dataframe est facile avec [pandas.dataframe](https://pandas.pydata.org/pandas-docs/stable/reference/api/pandas.DataFrame.html). Par exemple `pandas.DataFrame(data=img[0], columns=[\"R\", \"G\", \"B\"])` crée un dataframe contenant la 1ère ligne de la matrice.\n",
    "3. concaténer ces dataframe de la liste en une seule en utilisant [pandas.concat](https://pandas.pydata.org/pandas-docs/stable/reference/api/pandas.concat.html)"
   ]
  },
  {
   "cell_type": "markdown",
   "metadata": {},
   "source": [
    "Le nombre d'éléments du dataframe doit correspondre au nombre de lignes fois le nombre de colonnes de l'image initiale."
   ]
  },
  {
   "cell_type": "markdown",
   "metadata": {},
   "source": [
    "## k-means"
   ]
  },
  {
   "cell_type": "markdown",
   "metadata": {},
   "source": [
    "### Un essai\n",
    "\n",
    "Faites un $k$-means de votre nouveau dataframe en 10 classes, donc 10 nouvelles couleurs."
   ]
  },
  {
   "cell_type": "markdown",
   "metadata": {},
   "source": [
    "#### Déterminer les centres et leur associer des couleurs"
   ]
  },
  {
   "cell_type": "markdown",
   "metadata": {},
   "source": [
    "Nos nouvelles couleurs vont être les centres de gravité. Il faut donc converir ces centre en entier.\n",
    "\n",
    "vous pourrez utiliser la méthode [astype(int)](https://numpy.org/doc/stable/reference/generated/numpy.ndarray.astype.html) des listes de numpy."
   ]
  },
  {
   "cell_type": "markdown",
   "metadata": {},
   "source": [
    "#### Voir les couleurs"
   ]
  },
  {
   "cell_type": "markdown",
   "metadata": {},
   "source": [
    "Une fois nos couleurs transformées en entier, vous pourrez les représenter.\n",
    "\n",
    "Pour cela vous pouvez considerer que si `centres` est la liste de vos centre mis sous forme entière, `[centres]` est une image de 1 ligne et de `len(centres)` coonnes. Cette image peut ainsi être vue avec la fonction `matplotlib.pyplot.imshow` (`from matplotlib.pyplot import imshow`)."
   ]
  },
  {
   "cell_type": "markdown",
   "metadata": {},
   "source": [
    "#### Nouvelles images"
   ]
  },
  {
   "cell_type": "markdown",
   "metadata": {},
   "source": [
    "Il nous reste maintenant à recolorier notre image en associant chaque pixel à sa nouvelle couleur.\n",
    "\n",
    "Pour cela, on va \n",
    "\n",
    "1. créer une fonction qui calcule la distance euclidienne entre 2 couleurs. vous pourrez utiliser le fait que :\n",
    "        - l'on a pas besoin de la racine carrée,\n",
    "        - numpy vous aide : `v1 - v2` et `v ** 2` fonctionnent si `v1`, `v2` et `v` sont des listes numpy (ce qui est le cas de votre image en entier, ainsi que de chaque ligne, colonne ou couleur).\n",
    "2. créer une fonction qui a partir d'une couleur `couleur` et d'une liste de couleurs `liste_couleur` rend la couleur de `liste_couleurs` la plus proche de `couleur`.\n",
    "3. recréer une nouvelle image avec nos nouvelles couleurs en créant la matrice pixel à pixel à partir de l'image originale."
   ]
  },
  {
   "cell_type": "markdown",
   "metadata": {},
   "source": [
    "### Détermination du nombre de classes\n",
    "\n",
    "Trouvez le nombre de couleurs utiles pour votre image et refaite ce qui précède avec ce nombre."
   ]
  },
  {
   "cell_type": "markdown",
   "metadata": {},
   "source": [
    "### En changeant les couleurs\n",
    "\n",
    "On va associer à chacune de nos nouvelles couleurs à la couleur la plus proche d'une palette de couleurs donnée. Prenons les couleurs par défaut de seaborn :"
   ]
  },
  {
   "cell_type": "code",
   "execution_count": 24,
   "metadata": {},
   "outputs": [
    {
     "data": {
      "image/png": "[encoded data removed]",
      "text/plain": [
       "<Figure size 720x72 with 1 Axes>"
      ]
     },
     "metadata": {
      "needs_background": "light"
     },
     "output_type": "display_data"
    }
   ],
   "source": [
    "import matplotlib.pyplot as plt\n",
    "import seaborn as sns\n",
    "\n",
    "current_palette = sns.color_palette()\n",
    "sns.palplot(current_palette) # https://seaborn.pydata.org/tutorial/color_palettes.html\n",
    "plt.show()"
   ]
  },
  {
   "cell_type": "markdown",
   "metadata": {},
   "source": [
    "**Attention** : si vous tapez `sns.set()`comme on le faisait habituellement, seaborn va changer la représentation par défaut des images et donc nos dessins seront moins joli."
   ]
  },
  {
   "cell_type": "markdown",
   "metadata": {},
   "source": [
    "### Préparation des couleurs"
   ]
  },
  {
   "cell_type": "markdown",
   "metadata": {},
   "source": [
    "On ne peut utiliser les couleurs de seaborn sans préparations. En effet, elles ne sont pas codées comme notre image :"
   ]
  },
  {
   "cell_type": "code",
   "execution_count": 25,
   "metadata": {},
   "outputs": [
    {
     "data": {
      "text/plain": [
       "(0.12156862745098039, 0.4666666666666667, 0.7058823529411765)"
      ]
     },
     "execution_count": 25,
     "metadata": {},
     "output_type": "execute_result"
    }
   ],
   "source": [
    "current_palette[0]"
   ]
  },
  {
   "cell_type": "markdown",
   "metadata": {},
   "source": [
    "Ce sont des pourcentages et non des valeurs absolues. Ici la couleur à 12% de rouge, 46% green et 70% de bleue.\n",
    "\n",
    "Convertissez notre palette en couleurs décritent par des entiers allant de 0 à 255 et représentez la avec `imshow`."
   ]
  },
  {
   "cell_type": "markdown",
   "metadata": {},
   "source": [
    "### Nouvelle image"
   ]
  },
  {
   "cell_type": "markdown",
   "metadata": {},
   "source": [
    "Passer notre nouvelle liste en paramètre de la création de l'image modifiée pour obtenir d'autres jeu de couleurs."
   ]
  },
  {
   "cell_type": "markdown",
   "metadata": {},
   "source": [
    "Quelle image obtient-t-on ?"
   ]
  },
  {
   "cell_type": "markdown",
   "metadata": {},
   "source": [
    "On peut faire plein de variations possibles. Laissez parler le data artiste qui est en vous :-)"
   ]
  },
  {
   "cell_type": "code",
   "execution_count": null,
   "metadata": {},
   "outputs": [],
   "source": []
  }
 ],
 "metadata": {
  "kernelspec": {
   "display_name": "Python 3 (ipykernel)",
   "language": "python",
   "name": "python3"
  },
  "language_info": {
   "codemirror_mode": {
    "name": "ipython",
    "version": 3
   },
   "file_extension": ".py",
   "mimetype": "text/x-python",
   "name": "python",
   "nbconvert_exporter": "python",
   "pygments_lexer": "ipython3",
   "version": "3.9.12"
  },
  "vscode": {
   "interpreter": {
    "hash": "aee8b7b246df8f9039afb4144a1f6fd8d2ca17a180786b69acc140d282b71a49"
   }
  }
 },
 "nbformat": 4,
 "nbformat_minor": 2
}
