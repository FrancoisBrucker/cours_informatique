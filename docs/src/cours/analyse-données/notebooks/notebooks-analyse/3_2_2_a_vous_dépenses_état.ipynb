{
 "cells": [
  {
   "cell_type": "markdown",
   "metadata": {},
   "source": [
    "# Dépenses de l'état"
   ]
  },
  {
   "cell_type": "markdown",
   "metadata": {},
   "source": [
    "Votre première Analyse en composante principale.\n",
    "\n",
    "**NOTE** : c'est le schéma général que vous devez suivre pour toute ACP.\n",
    "\n",
    "1. calcul de statistiques descriptives et **interprétations**\n",
    "2. calcul des données de l'ACP sur des données centrées et réduites\n",
    "3. étude de l'inertie : répartition de l'inertie pour sur les axes et combien garder d'axes a priori\n",
    "4. pour les axes d'intérêts :\n",
    "    1. étude des corrélations des anciens axes avec les nouveaux et **interprétations**\n",
    "    2. représentations graphiques des projections avec qualités des projections"
   ]
  },
  {
   "cell_type": "markdown",
   "metadata": {},
   "source": [
    "## Les données"
   ]
  },
  {
   "cell_type": "markdown",
   "metadata": {},
   "source": [
    "Les données du fichier `dépense_état.csv` décrivent les\n",
    " ventilations des dépenses de l'état français de 1872 à 1971. \n",
    "Les différents champs sont :\n",
    "\n",
    "* PVP : pouvoirs publics,\n",
    "* AGR : agriculture,\n",
    "* CMI : commerce et industrie,\n",
    "* TRA : transports,\n",
    "* LOG : logement et aménagement du territoire,\n",
    "* EDU : éducation et culture,\n",
    "* ACO : anciens combattants,\n",
    "* ACS : actions sociales,\n",
    "* DEF : défense,\n",
    "* DET : dette,\n",
    "* DIV : divers."
   ]
  },
  {
   "cell_type": "code",
   "execution_count": null,
   "metadata": {},
   "outputs": [],
   "source": [
    "import pandas\n",
    "\n",
    "dépense = pandas.read_csv(\"./dépense_état.csv\", index_col=0)"
   ]
  },
  {
   "cell_type": "code",
   "execution_count": null,
   "metadata": {},
   "outputs": [],
   "source": [
    "dépense"
   ]
  },
  {
   "cell_type": "markdown",
   "metadata": {},
   "source": [
    "### Statistiques descriptives\n",
    "\n",
    "* **Calcul** : \n",
    "  * analyse descriptive des données\n",
    "  * chaque caractéristique étant un pourcentage et chaque ligne sommant à 100%, représentez graphique les lignes en utilisant un [pandas.DataFrame.plot.barh](https://pandas.pydata.org/docs/reference/api/pandas.DataFrame.plot.barh.html)\n",
    "* **Analyses** :\n",
    "  * Faites des remarques générales sur les statistiques descriptives de ce jeu de donnée.\n",
    "  * Comment se ventile les caractéristiques par année.\n",
    "* **Questions** :\n",
    "  * Que vous apporte les statistiques descriptives de ce jeu de données quand à l'importance de chaque caractéristiques dans le budget de l'état ?\n",
    "  * Une petite variation est-elle moins importante qu'une grande ?\n",
    "\n",
    "\n",
    "> Il pourra être utile de consulter les moyens de [visualiser les données en pandas](https://pandas.pydata.org/pandas-docs/stable/visualization.html)."
   ]
  },
  {
   "cell_type": "markdown",
   "metadata": {},
   "source": [
    "## ACP\n",
    "\n",
    "### Calculs\n",
    "\n",
    "1. centrez et réduisez les données\n",
    "2. Faites l'ACP en déterminant tous les résultats"
   ]
  },
  {
   "cell_type": "markdown",
   "metadata": {},
   "source": [
    "## ACP Interprétations"
   ]
  },
  {
   "cell_type": "markdown",
   "metadata": {},
   "source": [
    "### Inertie\n",
    "\n",
    "* **Calculs** :\n",
    "  * représentez le graphique de l'évolution de l'inertie pour chaque axe. \n",
    "  * Représentez également le graphique de l'inertie cumulée.\n",
    "* **Questions** :\n",
    "  * Combien d'axes pensez-vous garder ? Pourquoi ?\n",
    "  * Quels sont les années les moins bien représentées sur ces axes ?"
   ]
  },
  {
   "cell_type": "markdown",
   "metadata": {},
   "source": [
    "### Interprétation des axes\n",
    "\n",
    "* **Questions** :\n",
    "  * proposer une interprétation des 2 premiers axes principaux en utilisant le cercle de corrélation\n",
    "  * donnez une interprétation des autres axes que vous pensez garder dans l'analyse"
   ]
  },
  {
   "cell_type": "markdown",
   "metadata": {},
   "source": [
    "### Projections\n",
    "\n",
    "* **Calculs** :\n",
    "  * représentez graphiquement les projections des années sur les 2 premiers axes factoriels\n",
    "  * quels sont les années qui ne se représentent pas bien dessus ?\n",
    "  * quels snt les années qui se représentent bien sur les autres axes que vous avez descidé de garder ?\n",
    "* **Interprétations** :\n",
    "  * Interprétez la répartition des années sur ce graphique. Peut-on grouper les années par paquet homogène ?\n",
    "  * Interprétez la répartition des années sur les autres axes."
   ]
  }
 ],
 "metadata": {
  "kernelspec": {
   "display_name": "Python 3 (ipykernel)",
   "language": "python",
   "name": "python3"
  },
  "language_info": {
   "codemirror_mode": {
    "name": "ipython",
    "version": 3
   },
   "file_extension": ".py",
   "mimetype": "text/x-python",
   "name": "python",
   "nbconvert_exporter": "python",
   "pygments_lexer": "ipython3",
   "version": "3.13.2"
  },
  "vscode": {
   "interpreter": {
    "hash": "aee8b7b246df8f9039afb4144a1f6fd8d2ca17a180786b69acc140d282b71a49"
   }
  }
 },
 "nbformat": 4,
 "nbformat_minor": 4
}
