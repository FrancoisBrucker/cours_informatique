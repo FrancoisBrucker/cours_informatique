{
 "cells": [
  {
   "cell_type": "markdown",
   "id": "2364d690-2844-4e51-b8e8-7d90e6dc061c",
   "metadata": {},
   "source": [
    "# Requêtes Openstreetmap\n",
    "\n",
    " spécifique à l'API d'OSM pour récupérer nos données au format json.\n",
    "\n",
    "Nous allons effectuer des requêtes [Openstreetmap](https://www.openstreetmap.org/) (OSM). Le [wiki](https://wiki.openstreetmap.org/wiki/Main_Page) est une ressources quasi-indispensable pour bien gérer les données issues d'OSM (c'est parfois un peu obscur de comment tout ça fonctionne)."
   ]
  },
  {
   "cell_type": "markdown",
   "id": "afa34d27-55d4-43f8-92b6-6425649aa95b",
   "metadata": {},
   "source": [
    "## Données géographiques OSM\n",
    "\n",
    "\n",
    "Openstreetmap connait 3 types de données : \n",
    "\n",
    "- les noeuds : `node` : une coordonnée\n",
    "- les chemins :  `way` : une liste ordonnée de nœuds (une route ou un contours)\n",
    "- les relations : `relation` : une liste ordonnée de nœuds, de chemains ou d'autres relations.\n",
    "\n",
    "Certains objets pouvant être décrits comme des chemins ou des relations selon la personne qui a référencé l'objet :\n",
    "\n",
    "- l'ecm est un chemin : <https://www.openstreetmap.org/way/527054532>\n",
    "- le chateau de versailles une relation : <https://www.openstreetmap.org/relation/1149002>\n",
    "- Marseille est une relation également : <https://www.openstreetmap.org/relation/76469>"
   ]
  },
  {
   "cell_type": "markdown",
   "id": "cdc85bd4-f3aa-4ce1-9dd2-8c465af4e0cc",
   "metadata": {},
   "source": [
    "## Requêtes\n",
    "\n",
    "On peut effectuer des requêtes OSM directement sur le site <https://overpass-turbo.eu/> ou en utisant une API avec le site <http://overpass-api.de>.\n",
    "\n",
    "> Il est nécessaire de bien la documentation : <https://dev.overpass-api.de/overpass-doc/fr/index.html>\n",
    "\n",
    "1. Nous allons commencer par nous familiariser avec les requêtes directement sur le site\n",
    "2. Forger nos requête avec l'API pour les utiliser dans nos représentations graphiques"
   ]
  },
  {
   "cell_type": "markdown",
   "id": "331dd2d2-30e9-4f30-9f6c-85996ff9f61a",
   "metadata": {},
   "source": [
    "### Appli web\n",
    "\n",
    "1. Rendez vous sur le site <http://overpass-turbo.eu/>\n",
    "2. Centrez la carte sur l'ecm. Gardez la carte petite pour ne prendre que les bâtiments de l'ecm\n",
    "3. tapez la requête ci-après dans l'éditeur de requête et exécutez là.\n",
    "\n",
    "```\n",
    "[out:json][timeout:25];\n",
    "(  node({{bbox}});   \n",
    "   way({{bbox}});   \n",
    "   relation({{bbox}}); \n",
    "); \n",
    "\n",
    "out body;\n",
    "```\n",
    "\n",
    "> Si vous prenez une carte trop grande, le site vous averira que vous avez trop de données à télécharger."
   ]
  },
  {
   "cell_type": "markdown",
   "id": "969e71a8-d743-453f-9c5f-72f262029c5f",
   "metadata": {},
   "source": [
    "Sur la carte seuls les `node` sont représentés (en utilisant leurs données `lat` et `lon`). En regardant les données vous verrez également, au format json, les `way` et les `relations` qui n'ont pas de coordonnées par défaut."
   ]
  },
  {
   "cell_type": "markdown",
   "id": "a2fe62a6-b43a-4b87-b1bc-a82fc2cedca6",
   "metadata": {},
   "source": [
    "#### selection bbox\n",
    "\n",
    "Notre sélection se fait actuellement via la carte un utilisant le paramètre `{{bbox}}`.\n",
    "\n",
    "On peut également choisir sa propre bbox, par exemple : \n",
    "\n",
    "```\n",
    "(43.33863,5.4336,43.34709,5.44304)\n",
    "```\n",
    "\n",
    "Qui correspond aux coordonnées (y1,x1, y2, x2) en latitude/longitude de l'ecm.\n",
    "\n",
    "On peut alors faire la requête suivante, indépendante de la carte du site :\n",
    "\n",
    "```\n",
    "[out:json][timeout:25];\n",
    "(  node(43.33863,5.4336,43.34709,5.44304);   \n",
    "   way(43.33863,5.4336,43.34709,5.44304);   \n",
    "   relation(43.33863,5.4336,43.34709,5.44304); \n",
    "); \n",
    "\n",
    "out body;\n",
    "```\n",
    "\n",
    "> Vous pouvez trouver vos propres bbox avec le site <https://norbertrenner.de/osm/bbox.html>"
   ]
  },
  {
   "cell_type": "markdown",
   "id": "97897b61-1fd7-4cfb-88f8-2f63be4f03df",
   "metadata": {},
   "source": [
    "#### Sélection par area\n",
    "\n",
    "Enfin, opn peut utiliser les bornes géographique d'un `way` ou d'une `relation` pour récupérer tout ce qui'il y a à l'intérieur. Par exemple dans l'em, qui est un `way` :\n",
    "\n",
    "<https://www.openstreetmap.org/way/527054532>\n",
    "\n",
    "On peut utiliser le code suivant, qui transforme le way en area puis fait la recherche :\n",
    "\n",
    "```\n",
    "[out:json][timeout:25];\n",
    "\n",
    "way(527054532) -> .b;\n",
    ".b map_to_area -> .a;\n",
    "\n",
    "(  \tnode(area.a);   \n",
    "\tway(area.a);   \n",
    "\trelation(area.a); \n",
    "); \n",
    "out body;\n",
    "```\n",
    "\n",
    "> Lisez la doc pour voir les différentes possibilités :\n",
    "> - <https://osmlab.github.io/learnoverpass/en/docs/filters/area/>\n",
    "> - <https://wiki.cartocite.fr/doku.php?id=tutoverpass:jour_9_l_instruction_map_to_area>\n",
    "> - <https://wiki.openstreetmap.org/wiki/Overpass_API/Overpass_QL#Map_way/relation_to_area_(map_to_area)>"
   ]
  },
  {
   "cell_type": "markdown",
   "id": "709bdb92-1886-48f5-b595-2a6c001ef341",
   "metadata": {},
   "source": [
    "## Compter les pizzeria\n",
    "\n",
    "Notre but sera ici de compter le nombre pizzéria marseillaises par arrondissement pour les représenter sur une carte chloroplète.\n",
    "\n",
    "Pour délimiter Marseille, on utilisera la relation : <https://www.openstreetmap.org/relation/76469>\n",
    "\n",
    "On ne peut pas chercher tout les éléments de Marseille, il faut restreindre aux pizzeria. Pour cela :\n",
    "\n",
    "- on sélectionne des tags dans la recherche : <https://osmlab.github.io/learnoverpass/en/docs/filters/tag/>\n",
    "- les possiboités sont énorme, voir : <https://wiki.openstreetmap.org/wiki/FR:%C3%89l%C3%A9ments_cartographiques>"
   ]
  },
  {
   "cell_type": "markdown",
   "id": "3b688f15-f02d-4917-b2c8-7ac867b91a43",
   "metadata": {},
   "source": [
    "### Sur le site\n",
    "\n",
    "Sur le sire cela revient à utiliser la requête :\n",
    "\n",
    "```\n",
    "[out:json][timeout:25];\n",
    "\n",
    "rel(76469) -> .b;\n",
    ".b map_to_area -> .a;\n",
    "\n",
    "(  \tnode[\"cuisine\"~\"pizza\"](area.a);   \n",
    "\tway[\"cuisine\"~\"pizza\"](area.a);   \n",
    "\trelation[\"cuisine\"~\"pizza\"](area.a); \n",
    "); \n",
    "out body;\n",
    "```\n",
    "\n",
    "Remarquer qu'il faut que : le champ cuisine soit renseigné et qu'il contienne `\"pizza\"`. Au final cela ne fait pas toutes les pizzerias de Marseille (et de loin) et il manque également les camions-pizza."
   ]
  },
  {
   "cell_type": "markdown",
   "id": "07dc2a27-e243-4bca-96a7-cc58d1c1cad4",
   "metadata": {},
   "source": [
    "### Récupérer les données\n",
    "\n",
    "Pour l'instant, les données sont récupérées sur un site et pas dasn le notebook. On peut utiliser le module [requests](https://requests-fr.readthedocs.io/en/latest/) :"
   ]
  },
  {
   "cell_type": "code",
   "execution_count": null,
   "id": "380d4b7d-cb22-4bf2-a810-d87e42aca0ec",
   "metadata": {},
   "outputs": [],
   "source": [
    "import requests\n",
    "import json"
   ]
  },
  {
   "cell_type": "code",
   "execution_count": null,
   "id": "a7821dbd-15ae-43dd-a075-2cb6c8e37120",
   "metadata": {},
   "outputs": [],
   "source": [
    "overpass_url = \"http://overpass-api.de/api/interpreter\"\n",
    "overpass_query = \"\"\"\n",
    "[out:json][timeout:25];\n",
    "\n",
    "rel(76469) -> .b;\n",
    ".b map_to_area -> .a;\n",
    "\n",
    "(  \tnode[\"cuisine\"~\"pizza\"](area.a);   \n",
    "\tway[\"cuisine\"~\"pizza\"](area.a);   \n",
    "\trelation[\"cuisine\"~\"pizza\"](area.a); \n",
    "); \n",
    "out body;\n",
    "\"\"\"\n",
    "\n",
    "réponse = requests.get(overpass_url, params={'data': overpass_query})"
   ]
  },
  {
   "cell_type": "markdown",
   "id": "4cb50e73-21b3-43ba-bac1-a47a0a91ce5d",
   "metadata": {},
   "source": [
    "la réponse est un [objet complexe](https://requests.readthedocs.io/en/latest/user/quickstart/#response-content). Dans notre cas, elle contient un objet json qu'il nous faut convertir en dictgionnaire python :"
   ]
  },
  {
   "cell_type": "code",
   "execution_count": null,
   "id": "a5bd6daf-e50f-4ca3-910b-e88372215a10",
   "metadata": {
    "scrolled": true
   },
   "outputs": [],
   "source": [
    "data = réponse.json()"
   ]
  },
  {
   "cell_type": "code",
   "execution_count": null,
   "id": "bbb6c31d-837b-442f-91fc-cf25934d3fad",
   "metadata": {},
   "outputs": [],
   "source": [
    "# data  # attention c'est gros"
   ]
  },
  {
   "cell_type": "markdown",
   "id": "e19c492c-df05-4bb4-8088-2e8e1a1b6a30",
   "metadata": {},
   "source": [
    "Les réponses sont placées dans une liste :"
   ]
  },
  {
   "cell_type": "code",
   "execution_count": null,
   "id": "ea083698-ba3d-44cf-b017-ecc47f9e8393",
   "metadata": {},
   "outputs": [],
   "source": [
    "data[\"elements\"][:5]"
   ]
  },
  {
   "cell_type": "markdown",
   "id": "a7d9e9fd-09f7-44e9-843e-22e5b62e9fa0",
   "metadata": {},
   "source": [
    "Il y a deux des trois types possible :"
   ]
  },
  {
   "cell_type": "code",
   "execution_count": null,
   "id": "0151e437-d6c7-4d15-a643-4b588c05a035",
   "metadata": {},
   "outputs": [],
   "source": [
    "type_elements = set()\n",
    "for e in data[\"elements\"]:\n",
    "    type_elements.add(e[\"type\"])\n",
    "\n",
    "print(type_elements)"
   ]
  },
  {
   "cell_type": "code",
   "execution_count": null,
   "id": "333af92a-634e-4ccb-b94c-35e1645f8fdf",
   "metadata": {},
   "outputs": [],
   "source": [
    "for e in data[\"elements\"]:\n",
    "    if e[\"type\"] == \"node\":\n",
    "        print(json.dumps(e, indent=2))\n",
    "        break"
   ]
  },
  {
   "cell_type": "code",
   "execution_count": null,
   "id": "c043cfb9-d835-4c7f-8455-8d36a8b76537",
   "metadata": {},
   "outputs": [],
   "source": [
    "for e in data[\"elements\"]:\n",
    "    if e[\"type\"] == \"way\":\n",
    "        print(json.dumps(e, indent=2))\n",
    "        break"
   ]
  },
  {
   "cell_type": "markdown",
   "id": "afca1665-024c-4d83-ae79-736d32ffafa7",
   "metadata": {},
   "source": [
    "On remarque que les éléments de type `way` n'ont pas de coordonnées. Ce qui va être problématique pour la suite lorsqu'il faudra les ranger par earrondissement. Il faut refaire la requête en ajoutant un paramètre à exporter, `center` :"
   ]
  },
  {
   "cell_type": "code",
   "execution_count": null,
   "id": "deba491f-356c-460d-8a0a-5e14b34a40c6",
   "metadata": {},
   "outputs": [],
   "source": [
    "overpass_url = \"http://overpass-api.de/api/interpreter\"\n",
    "overpass_query = \"\"\"\n",
    "[out:json][timeout:25];\n",
    "\n",
    "rel(76469) -> .b;\n",
    ".b map_to_area -> .a;\n",
    "\n",
    "(  \tnode[\"cuisine\"~\"pizza\"](area.a);   \n",
    "\tway[\"cuisine\"~\"pizza\"](area.a);   \n",
    "\trelation[\"cuisine\"~\"pizza\"](area.a); \n",
    "); \n",
    "out body center;\n",
    "\"\"\"\n",
    "\n",
    "pizzerias_json_raw = requests.get(overpass_url, params={'data': overpass_query}).json()[\"elements\"]"
   ]
  },
  {
   "cell_type": "code",
   "execution_count": null,
   "id": "102363f3-10c1-4cbc-b393-30d7fa014a89",
   "metadata": {},
   "outputs": [],
   "source": [
    "pizzerias_json_raw[:5]"
   ]
  },
  {
   "cell_type": "markdown",
   "id": "38aa1817-4d33-4185-8a05-fdf24adc8609",
   "metadata": {},
   "source": [
    "Vérifions que l'on peut bien extraire les coordonnées de nos pizzérias :"
   ]
  },
  {
   "cell_type": "code",
   "execution_count": null,
   "id": "9d4edaa5-b2e9-43d8-8757-ebde07d96934",
   "metadata": {},
   "outputs": [],
   "source": [
    "for e in pizzerias_json_raw:\n",
    "    if e[\"type\"] == \"node\":\n",
    "        print(json.dumps(e, indent=2))\n",
    "        break"
   ]
  },
  {
   "cell_type": "code",
   "execution_count": null,
   "id": "c7ea8728-a087-41cc-a13b-9785e6523628",
   "metadata": {},
   "outputs": [],
   "source": [
    "for e in pizzerias_json_raw:\n",
    "    if e[\"type\"] == \"way\":\n",
    "        print(json.dumps(e, indent=2))\n",
    "        break"
   ]
  },
  {
   "cell_type": "markdown",
   "id": "bc9968d3-3da2-4b37-98f8-6e2eb79295e8",
   "metadata": {},
   "source": [
    "On va créer nos données json on ne conservant que les coordonnées et le nom. Attention certaines pizzeria n'ont pas de nom :"
   ]
  },
  {
   "cell_type": "code",
   "execution_count": null,
   "id": "e9a3b5f1-ff99-4ad8-8a9d-badcee103e1c",
   "metadata": {},
   "outputs": [],
   "source": [
    "for e in pizzerias_json_raw:\n",
    "    if \"name\" not in e[\"tags\"]:\n",
    "        print(json.dumps(e, indent=2))"
   ]
  },
  {
   "cell_type": "code",
   "execution_count": null,
   "id": "8c2f94b5-0aea-4066-bde5-50ff43792ea4",
   "metadata": {},
   "outputs": [],
   "source": [
    "pizzerias_json = []\n",
    "for e in pizzerias_json_raw:\n",
    "    if e[\"type\"] == \"node\":\n",
    "        pizzerias_json.append({\n",
    "            \"lat\": e[\"lat\"],\n",
    "            \"lon\": e[\"lon\"],\n",
    "            \"nom\": e[\"tags\"].get(\"name\", None)})\n",
    "    else:\n",
    "        pizzerias_json.append({\n",
    "            \"lat\": e[\"center\"][\"lat\"],\n",
    "            \"lon\": e[\"center\"][\"lon\"],\n",
    "            \"nom\": e[\"tags\"].get(\"name\", None)})"
   ]
  },
  {
   "cell_type": "code",
   "execution_count": null,
   "id": "1f3a0572-ef71-4661-8134-200a1d2f3bb8",
   "metadata": {},
   "outputs": [],
   "source": [
    "pizzerias_json[:5]"
   ]
  },
  {
   "cell_type": "markdown",
   "id": "dadfdeb5-1bd0-4fda-b26b-39f6e8d9c0c1",
   "metadata": {},
   "source": [
    "Avant de créer le geodataframe, commençpns par ranger nos données dans un dataframe :"
   ]
  },
  {
   "cell_type": "code",
   "execution_count": null,
   "id": "7332662a-e702-44a1-85d0-aa1f414a355b",
   "metadata": {},
   "outputs": [],
   "source": [
    "import pandas as pd"
   ]
  },
  {
   "cell_type": "code",
   "execution_count": null,
   "id": "5fb130c0-88a1-41f3-a154-8a991ba13e50",
   "metadata": {},
   "outputs": [],
   "source": [
    "df = pd.DataFrame(pizzerias_json)"
   ]
  },
  {
   "cell_type": "code",
   "execution_count": null,
   "id": "6acb4467-f54a-460e-be01-39b1e86f0c3a",
   "metadata": {},
   "outputs": [],
   "source": [
    "df"
   ]
  },
  {
   "cell_type": "markdown",
   "id": "9487bec8-cce4-4535-92f4-d382decf2371",
   "metadata": {},
   "source": [
    "On peut maintenant créer le GeoDataframe."
   ]
  },
  {
   "cell_type": "code",
   "execution_count": null,
   "id": "c91088b0-8a2c-494d-a22d-7b7be0f5e5bf",
   "metadata": {},
   "outputs": [],
   "source": [
    "import geopandas as gpd"
   ]
  },
  {
   "cell_type": "code",
   "execution_count": null,
   "id": "c0f4bdb5-9eb4-4da6-9d59-6d4d021dff03",
   "metadata": {},
   "outputs": [],
   "source": [
    "pizzerias = gpd.GeoDataFrame(df, geometry=gpd.points_from_xy(df.lon, df.lat), crs=4326)"
   ]
  },
  {
   "cell_type": "code",
   "execution_count": null,
   "id": "3b203dd5-58c0-443f-ab9e-629895935637",
   "metadata": {},
   "outputs": [],
   "source": [
    "pizzerias"
   ]
  },
  {
   "cell_type": "code",
   "execution_count": null,
   "id": "e343a6fc-3817-4d10-92f8-9160adc8ece6",
   "metadata": {},
   "outputs": [],
   "source": [
    "pizzerias.crs"
   ]
  },
  {
   "cell_type": "markdown",
   "id": "343b4bc7-e94d-41b0-819c-3516da180356",
   "metadata": {},
   "source": [
    "Il faut maintenant trouver les arrondissements de marseille et faire le comptage. On peut utiliser deux jeux de données :\n",
    "\n",
    "- Les arrondissements disponibles depuis : <https://laprovence.carto.com/tables/arrondissements/public/map>\n",
    "- les quartiers disponible depuis <https://www.data.gouv.fr/fr/datasets/quartiers-de-marseille-1/>\n",
    "\n",
    "Prenons les quartiers de marseille"
   ]
  },
  {
   "cell_type": "code",
   "execution_count": null,
   "id": "df81ec2e-a250-41d3-852a-f08bdee604c2",
   "metadata": {},
   "outputs": [],
   "source": [
    "quartiers = gpd.read_file(\"https://www.data.gouv.fr/fr/datasets/r/8a8f7f54-7f91-482c-a78c-dd09d893d1b6\")"
   ]
  },
  {
   "cell_type": "code",
   "execution_count": null,
   "id": "c030aeff-8d79-4c66-8851-432733b882cf",
   "metadata": {},
   "outputs": [],
   "source": [
    "quartiers"
   ]
  },
  {
   "cell_type": "code",
   "execution_count": null,
   "id": "175d87ac-af50-4f96-96e0-5bf49e36cefd",
   "metadata": {},
   "outputs": [],
   "source": [
    "quartiers.crs"
   ]
  },
  {
   "cell_type": "code",
   "execution_count": null,
   "id": "52685f67-1a1d-428f-b5a5-56f8040e4613",
   "metadata": {},
   "outputs": [],
   "source": [
    "pizzeria_quartier = gpd.sjoin(pizzerias, quartiers, how=\"inner\", predicate='intersects')"
   ]
  },
  {
   "cell_type": "code",
   "execution_count": null,
   "id": "71cd9fa2-b2a9-429c-a314-dda9de16c8d0",
   "metadata": {},
   "outputs": [],
   "source": [
    "pizzeria_quartier"
   ]
  },
  {
   "cell_type": "code",
   "execution_count": null,
   "id": "eb54728a-90cf-4770-8a00-c9b2b42a69b2",
   "metadata": {},
   "outputs": [],
   "source": [
    "compte = (pizzeria_quartier\n",
    "             .assign(nombre=1)\n",
    "             .groupby(by=\"NOM_QUA\", as_index=False)\n",
    "             .sum(numeric_only=True)\n",
    "        )\n",
    "compte"
   ]
  },
  {
   "cell_type": "code",
   "execution_count": null,
   "id": "47c6fbb1-9d73-4d40-befa-ecc184b94a01",
   "metadata": {},
   "outputs": [],
   "source": [
    "quartiers_compte = quartiers.merge(compte[['NOM_QUA', 'nombre']], how='inner', on='NOM_QUA')"
   ]
  },
  {
   "cell_type": "code",
   "execution_count": null,
   "id": "df1764ed-c42d-4b43-99d4-6222b7f3061b",
   "metadata": {},
   "outputs": [],
   "source": [
    "quartiers_compte"
   ]
  },
  {
   "cell_type": "code",
   "execution_count": null,
   "id": "625bb388-703d-4f9b-afc7-ec6941c4f78b",
   "metadata": {},
   "outputs": [],
   "source": [
    "import matplotlib.pyplot as plt\n",
    "import contextily as ctx\n",
    "import xyzservices.providers as xyz"
   ]
  },
  {
   "cell_type": "markdown",
   "id": "2e318a76-18ae-46a9-93e9-149cace474d5",
   "metadata": {},
   "source": [
    "On fait un peut de magie pour rajouter de la transparence à nos couleurs"
   ]
  },
  {
   "cell_type": "code",
   "execution_count": null,
   "id": "a39f01a0-8d94-4c68-a57a-c94de0e9fba6",
   "metadata": {},
   "outputs": [],
   "source": [
    "import matplotlib.pylab as pl\n",
    "from matplotlib.colors import ListedColormap"
   ]
  },
  {
   "cell_type": "code",
   "execution_count": null,
   "id": "4c5c3989-00a9-478f-b29e-412d6eca77b9",
   "metadata": {},
   "outputs": [],
   "source": [
    "cmap = pl.cm.OrRd\n",
    "\n",
    "\n",
    "my_cmap = cmap(list(range(cmap.N)))\n",
    "my_cmap[:,-1] = [.5] * cmap.N\n",
    "\n",
    "cmap = ListedColormap(my_cmap)"
   ]
  },
  {
   "cell_type": "markdown",
   "id": "0488eeb2-551e-4709-a539-b67ece2d2502",
   "metadata": {},
   "source": [
    "Puis on peut dessiner notre carte du nombre de pizzeria par quartier, en ajoutant les délimations de chaque quartier :"
   ]
  },
  {
   "cell_type": "code",
   "execution_count": null,
   "id": "f88a882b-ed93-4150-a8d2-48638328d4f5",
   "metadata": {},
   "outputs": [],
   "source": [
    "fig, ax = plt.subplots(figsize=(10, 10))\n",
    "\n",
    "ax.axis(False)\n",
    "\n",
    "quartiers.boundary.plot(ax=ax)\n",
    "quartiers_compte.plot(column='nombre', \n",
    "             legend=True,\n",
    "             legend_kwds={'label': \"Nombre de pizzeria\", 'orientation': \"horizontal\"},\n",
    "             cmap=cmap,\n",
    "             ax=ax)\n",
    "ctx.add_basemap(ax, crs=\"epsg:4326\", source=xyz.GeoportailFrance.plan)\n",
    "\n",
    "plt.show()"
   ]
  },
  {
   "cell_type": "code",
   "execution_count": null,
   "id": "cb96dbbb-b682-4037-9553-e6b07ac3ee50",
   "metadata": {},
   "outputs": [],
   "source": []
  }
 ],
 "metadata": {
  "kernelspec": {
   "display_name": "Python 3 (ipykernel)",
   "language": "python",
   "name": "python3"
  },
  "language_info": {
   "codemirror_mode": {
    "name": "ipython",
    "version": 3
   },
   "file_extension": ".py",
   "mimetype": "text/x-python",
   "name": "python",
   "nbconvert_exporter": "python",
   "pygments_lexer": "ipython3",
   "version": "3.13.3"
  }
 },
 "nbformat": 4,
 "nbformat_minor": 5
}
