{
 "cells": [
  {
   "cell_type": "markdown",
   "metadata": {},
   "source": [
    "# Lire des données"
   ]
  },
  {
   "cell_type": "markdown",
   "metadata": {},
   "source": [
    "**Références** : https://pandas.pydata.org/pandas-docs/stable/user_guide/io.html\n",
    "\n",
    "Chaque type de données est différent et nécessitera une méthodede chargement adapté. De plus chaque format de donnée admets plusieurs variantes qu'il faudra également contrôler.\n",
    "\n",
    "> **règle d'or** : TOUJOURS vérifier les données que l'on a chargé !\n",
    "\n",
    "Il peut se passer tout un tas de problèmes comme (liste non exhaustive) :\n",
    "* un nombre chargé comme une chaine de caractère\n",
    "* un csv dont le séparateur est le `';'` plutôt que la `','`(un classique d'excel),\n",
    "* un csv dont la première ligne et (*resp.* n'est pas) le nom des colonnes\n",
    "* l'encodage du texte qui n'est pas l'[utf-8](https://fr.wikipedia.org/wiki/UTF-8) un autre classique de d'excel\n",
    "* le séparateur de décimal qui dans le monde est le `'.'` et en France la `','`\n",
    "* un séparateur de millier (un `' '`, parfois la `','`\n",
    "* ...\n",
    "\n",
    "Bref ça peut merder partout. Et faire un jour ou une semaine d'analyse pour se rendre compte que l'on a fait tout ça sur queque chose qui n'étaitpas les données, c'est rageant. Et c'est en core plus rageant quand quelqu'un d'autre s'en rend compte en essayant de vérifier vos résultats."
   ]
  },
  {
   "cell_type": "markdown",
   "metadata": {},
   "source": [
    "## datasets\n",
    "\n",
    "Pour s'entrainer ou tester des choses sur des jeu de donnée jouet, on peut utiliser ceux mis à disposition par les bibliothèques.\n"
   ]
  },
  {
   "cell_type": "markdown",
   "metadata": {},
   "source": [
    "### dans des bibliothèques pythons\n",
    "\n",
    "Déjà packagées dans des bibliothèques, comme *seaborn* ou *scikit-lean*"
   ]
  },
  {
   "cell_type": "markdown",
   "metadata": {},
   "source": [
    "#### seaborn\n",
    "\n",
    "https://github.com/mwaskom/seaborn-data"
   ]
  },
  {
   "cell_type": "code",
   "execution_count": null,
   "metadata": {
    "pycharm": {
     "name": "#%%\n"
    }
   },
   "outputs": [],
   "source": [
    "import seaborn"
   ]
  },
  {
   "cell_type": "markdown",
   "metadata": {},
   "source": [
    "les différents jeux de données :"
   ]
  },
  {
   "cell_type": "code",
   "execution_count": null,
   "metadata": {
    "pycharm": {
     "name": "#%%\n"
    }
   },
   "outputs": [],
   "source": [
    "seaborn.get_dataset_names()"
   ]
  },
  {
   "cell_type": "markdown",
   "metadata": {},
   "source": [
    "les iris, comme on l'a déjà vu :"
   ]
  },
  {
   "cell_type": "code",
   "execution_count": null,
   "metadata": {
    "pycharm": {
     "name": "#%%\n"
    }
   },
   "outputs": [],
   "source": [
    "iris = seaborn.load_dataset('iris')\n",
    "iris"
   ]
  },
  {
   "cell_type": "markdown",
   "metadata": {},
   "source": [
    "#### scikit-learn\n",
    "\n",
    "https://scikit-learn.org/stable/datasets/index.html\n",
    "\n",
    "Attention, le format n'est pas du tout au format pandas. Il va falloir les importer."
   ]
  },
  {
   "cell_type": "code",
   "execution_count": null,
   "metadata": {
    "pycharm": {
     "name": "#%%\n"
    }
   },
   "outputs": [],
   "source": [
    "import sklearn.datasets"
   ]
  },
  {
   "cell_type": "code",
   "execution_count": null,
   "metadata": {
    "pycharm": {
     "name": "#%%\n"
    }
   },
   "outputs": [],
   "source": [
    "wine = sklearn.datasets.load_wine()"
   ]
  },
  {
   "cell_type": "markdown",
   "metadata": {},
   "source": [
    "Les données sklearn sont dans leur format à eux. C'est un dictionnaire qui contient les données :"
   ]
  },
  {
   "cell_type": "code",
   "execution_count": null,
   "metadata": {
    "pycharm": {
     "name": "#%%\n"
    }
   },
   "outputs": [],
   "source": [
    "print(wine.keys())"
   ]
  },
  {
   "cell_type": "markdown",
   "metadata": {},
   "source": [
    "les clés `DESCR`et `feature_names` décrivent les données :"
   ]
  },
  {
   "cell_type": "code",
   "execution_count": null,
   "metadata": {
    "pycharm": {
     "name": "#%%\n"
    }
   },
   "outputs": [],
   "source": [
    "print(wine['DESCR'])"
   ]
  },
  {
   "cell_type": "code",
   "execution_count": null,
   "metadata": {
    "pycharm": {
     "name": "#%%\n"
    }
   },
   "outputs": [],
   "source": [
    "print(wine['feature_names'])"
   ]
  },
  {
   "cell_type": "markdown",
   "metadata": {},
   "source": [
    "Les données en eux-mêmes sont dans la clé `data` et sont stockées sous la forme d'une matrice toute bête."
   ]
  },
  {
   "cell_type": "code",
   "execution_count": null,
   "metadata": {
    "pycharm": {
     "name": "#%%\n"
    }
   },
   "outputs": [],
   "source": [
    "print(wine['data'])"
   ]
  },
  {
   "cell_type": "markdown",
   "metadata": {},
   "source": [
    "Pour bénéficier des bibliothèques de traitement de données de pandas, il faut fabriquer un dataframe (en gros une matrice dont les lignes et colonnes sont nommées)."
   ]
  },
  {
   "cell_type": "code",
   "execution_count": null,
   "metadata": {
    "pycharm": {
     "name": "#%%\n"
    }
   },
   "outputs": [],
   "source": [
    "import pandas\n",
    "\n",
    "wine2 = pandas.DataFrame(wine['data'], columns=wine['feature_names'])\n",
    "\n",
    "wine2"
   ]
  },
  {
   "cell_type": "markdown",
   "metadata": {},
   "source": [
    "### Sites\n",
    "\n",
    "De nombreux site proposent des données"
   ]
  },
  {
   "cell_type": "markdown",
   "metadata": {},
   "source": [
    "#### UCI\n",
    "\n",
    "https://archive.ics.uci.edu/ml/index.php\n",
    "\n",
    "Par exemple https://archive.ics.uci.edu/ml/datasets/Car+Evaluation dont les données osnt là : https://archive.ics.uci.edu/ml/machine-learning-databases/car/\n",
    "\n",
    "> **Attention** ce site contient des données depuis longtmeps. Leur format peut donc être vraiment exotique. Il faut faire très très attention"
   ]
  },
  {
   "cell_type": "code",
   "execution_count": null,
   "metadata": {
    "pycharm": {
     "name": "#%%\n"
    }
   },
   "outputs": [],
   "source": [
    "import urllib.request\n",
    "\n",
    "print(urllib.request\n",
    "        .urlopen('https://archive.ics.uci.edu/ml/machine-learning-databases/car/car.names')\n",
    "        .read()\n",
    "        .decode('ascii'))"
   ]
  },
  {
   "cell_type": "markdown",
   "metadata": {},
   "source": [
    "Transformer des données d'un format à un autre peut être piégeux. Il faut être extrêment méfiant et scupuleux. Dans l'exemple ci-après :\n",
    "\n",
    "- attention aux nombre de colonnes (il y en a une de plus qu'annoncé). Il y a une colonne de prédiction en plus.\n",
    "- il y a plein de variante de csv. Ici il n'y a pas de délimiteur de chaine de caractères (usuellement \")\n",
    "- on a l'impression que les colonnes 3 et 4 sont des entiers, ce n'est pas le cas (regardez les dernières lignes).\n",
    "- attention au nom des colonnes. Sans \"header=None\", la première ligne devient le nom des colonnes"
   ]
  },
  {
   "cell_type": "code",
   "execution_count": null,
   "metadata": {
    "pycharm": {
     "name": "#%%\n"
    }
   },
   "outputs": [],
   "source": [
    "cars = pandas.read_csv('https://archive.ics.uci.edu/ml/machine-learning-databases/car/car.data',\n",
    "                       header=None,\n",
    "                       names=['buying', 'maint', 'doors', 'persons', 'lug_boot', 'safety', 'value'])\n",
    "\n",
    "print(cars)"
   ]
  },
  {
   "cell_type": "markdown",
   "metadata": {},
   "source": [
    "#### Autres sites\n",
    "\n",
    "* https://www.data.gouv.fr/fr/\n",
    "* https://catalog.data.gov/dataset\n",
    "* http://opendata.maregionsud.fr/\n",
    "* https://opendata.paris.fr/pages/home/\n",
    "* https://www.insee.fr/fr/statistiques\n",
    "* ...\n"
   ]
  },
  {
   "cell_type": "markdown",
   "metadata": {},
   "source": [
    "## lire et exporter des données excel\n",
    "\n",
    "Pandas peut : \n",
    "- lire des fichiers excels : https://pandas.pydata.org/pandas-docs/stable/reference/api/pandas.read_excel.html\n",
    "- ecrire des fichiers excel : https://pandas.pydata.org/pandas-docs/stable/reference/api/pandas.DataFrame.to_excel.html\n",
    "\n",
    "Pour modifier des fichiers excel on préfèrera utiliser des bibliothèques spécialisées comme https://openpyxl.readthedocs.io/en/stable/"
   ]
  },
  {
   "cell_type": "markdown",
   "metadata": {},
   "source": [
    "## csv\n",
    "\n",
    "Pour Comma Separated Value : https://fr.wikipedia.org/wiki/Comma-separated_values\n",
    "\n",
    "Mais **attention** : il y a plein de variantes!\n",
    "\n",
    "* excel en français va mettre des \";\" à la place des \",\"\n",
    "* parfois c'est des tabulations comme séparateur, on parle alors de TSV\n",
    "* 1ère ligne : est-ce des données ou le nom des champs ?\n",
    "* ...\n",
    "\n",
    "\n",
    "**Bref** : comme à chaque fois que vous voulez importer des données, il faut fire très très attention. Dans l'exemple ci-dessous :\n",
    "* le séparateur est un \";\"\n",
    "* l'encoding du texte est spécial.\n"
   ]
  },
  {
   "cell_type": "code",
   "execution_count": null,
   "metadata": {
    "pycharm": {
     "name": "#%%\n"
    }
   },
   "outputs": [],
   "source": [
    "import pandas"
   ]
  },
  {
   "cell_type": "code",
   "execution_count": null,
   "metadata": {
    "pycharm": {
     "name": "#%%\n"
    }
   },
   "outputs": [],
   "source": [
    "# https://www.data.gouv.fr/fr/datasets/liste-de-prenoms/\n",
    "\n",
    "csv_prenom = pandas.read_csv(\"https://www.data.gouv.fr/fr/datasets/r/55cd803a-998d-4a5c-9741-4cd0ee0a7699\",\n",
    "                             sep=\";\",\n",
    "                             encoding=\"ISO-8859-1\")\n",
    "csv_prenom"
   ]
  },
  {
   "cell_type": "markdown",
   "metadata": {},
   "source": [
    "## json url\n",
    "\n",
    "Le format https://www.json.org est un format populaire de transmission de données. C'est **une chaine de caractère** qui est transformée en données (de type entier, réel, etc).\n",
    "\n",
    "On peut voir ça comme un dictionnaire  ou une liste façon javascript (https://la-cascade.io/json-pour-les-debutants/). Python utilise nativement le json via sa bibliothèque json (https://docs.python.org/3/library/json.html).\n",
    "\n",
    "pandas permet d'importer des données décrite sous la forme d'un objet json où chaque entrée est une colonne."
   ]
  },
  {
   "cell_type": "markdown",
   "metadata": {},
   "source": [
    "### json, dictionnaires et importation"
   ]
  },
  {
   "cell_type": "markdown",
   "metadata": {},
   "source": [
    "**Attention** à pas confondre les données écrites sous forme json **qui sont des chaines de caractères** et leurs interprétations dans le langage pyhton **sous la forme de dictionnaire**."
   ]
  },
  {
   "cell_type": "markdown",
   "metadata": {},
   "source": [
    "#### Des données sous la forme d'un dictionnaire python"
   ]
  },
  {
   "cell_type": "code",
   "execution_count": null,
   "metadata": {
    "pycharm": {
     "name": "#%%\n"
    }
   },
   "outputs": [],
   "source": [
    "mes_donnees_dictionnaire = {\n",
    "    \"x\": [1, 2, 3, 4, 5],\n",
    "    \"y\": [-1, -2, -3, -4, -5]\n",
    "}"
   ]
  },
  {
   "cell_type": "markdown",
   "metadata": {},
   "source": [
    "#### Les même donées au format json (une chaine de caractère)"
   ]
  },
  {
   "cell_type": "code",
   "execution_count": null,
   "metadata": {
    "pycharm": {
     "name": "#%%\n"
    }
   },
   "outputs": [],
   "source": [
    "import json\n",
    "\n",
    "json.dumps(mes_donnees_dictionnaire)"
   ]
  },
  {
   "cell_type": "markdown",
   "metadata": {},
   "source": [
    "#### Importation d'un json en pandas"
   ]
  },
  {
   "cell_type": "code",
   "execution_count": null,
   "metadata": {
    "pycharm": {
     "name": "#%%\n"
    }
   },
   "outputs": [],
   "source": [
    "json_data = pandas.read_json(json.dumps(mes_donnees_dictionnaire))\n",
    "\n",
    "print(json_data)"
   ]
  },
  {
   "cell_type": "markdown",
   "metadata": {},
   "source": [
    "La ligne suivante (si on la décommente) ne fonctionne en revanche pas :"
   ]
  },
  {
   "cell_type": "code",
   "execution_count": null,
   "metadata": {
    "pycharm": {
     "name": "#%%\n"
    }
   },
   "outputs": [],
   "source": [
    "# pandas.read_json(mes_donnees_dictionnaire)"
   ]
  },
  {
   "cell_type": "markdown",
   "metadata": {},
   "source": [
    "On peut aussi charger un json directement depuis une url :  https://chrisalbon.com/python/data_wrangling/load_json_file_into_pandas/"
   ]
  }
 ],
 "metadata": {
  "kernelspec": {
   "display_name": "Python 3",
   "language": "python",
   "name": "python3"
  },
  "language_info": {
   "codemirror_mode": {
    "name": "ipython",
    "version": 3
   },
   "file_extension": ".py",
   "mimetype": "text/x-python",
   "name": "python",
   "nbconvert_exporter": "python",
   "pygments_lexer": "ipython3",
   "version": "3.9.13 (main, May 24 2022, 21:28:31) \n[Clang 13.1.6 (clang-1316.0.21.2)]"
  },
  "vscode": {
   "interpreter": {
    "hash": "aee8b7b246df8f9039afb4144a1f6fd8d2ca17a180786b69acc140d282b71a49"
   }
  }
 },
 "nbformat": 4,
 "nbformat_minor": 4
}
