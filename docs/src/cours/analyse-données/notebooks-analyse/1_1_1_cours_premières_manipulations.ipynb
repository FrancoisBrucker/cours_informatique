{
 "cells": [
  {
   "cell_type": "markdown",
   "metadata": {},
   "source": [
    "# Premières manipulations"
   ]
  },
  {
   "cell_type": "markdown",
   "metadata": {},
   "source": [
    "On utilisera pandas : https://pandas.pydata.org/ pour nos données"
   ]
  },
  {
   "cell_type": "markdown",
   "metadata": {},
   "source": [
    "Un data frame c'est une matrice. où :\n",
    "  - une ligne c'est un objet\n",
    "  - une colonne c'est un attribut\n",
    "\n",
    "Un dataframe décrit des individus par un ensemble de caractéristiques qui peuvent être de nature diverses : \n",
    "  - nombre réel \n",
    "  - entier (attention à la moyenne)\n",
    "  - catégorie (couleur, oui/non, femme/homme, ...)\n",
    "  - ordre\n",
    "  \n",
    "Il peut y avoir des colonnes de prédictions (oui/non, valeur, ...)"
   ]
  },
  {
   "cell_type": "markdown",
   "metadata": {},
   "source": [
    "Il y a tout un tas d'autres types de données :\n",
    "\n",
    "  - time series (ce n'est pas une série netflix...) : évolution d'une données réelle dans le temps (comme le prix de l'action netflix justement)\n",
    "  - données spaciales : coordonée + type de données (maison, forêt, etc)\n",
    "  - graphes (relations)"
   ]
  },
  {
   "cell_type": "markdown",
   "metadata": {},
   "source": [
    "## Lire des données"
   ]
  },
  {
   "attachments": {},
   "cell_type": "markdown",
   "metadata": {},
   "source": [
    "On va utiliser des données de l'insee sur les prénoms donnés aux enfants Français : https://www.insee.fr/fr/statistiques/7633685?sommaire=7635552"
   ]
  },
  {
   "cell_type": "markdown",
   "metadata": {},
   "source": [
    "Lorsque l'on lit des données, il est **crucial** de ne pas se précipiter. On va suivre le protocole suivant :\n",
    "\n",
    "1. On télécharge les données et on les lit avec un éditeur de texte/excel pour **voir** les données\n",
    "2. Si les données sont dans un format texte, on charge le fichier avec un **éditeur de texte** (comme [visual studio](https://visualstudio.microsoft.com/fr/) par exemple) pour **analyser** le format utilisé car il existe toujours plein de variantes d'un même format\n",
    "3. dans un projet vide, on construit la (ou les) commande(s) permettant de charger les données\n",
    "4. **on vérifie que ce qui est chargé est conforme à ce qu'on veut !**. Ce n'est souvent pas le cas. Par exemple : \n",
    "    - nombres qui sont lus comme des chaines de caractères, \n",
    "    - séparateur de décimal non correct,\n",
    "    - accents décadents (si le fichier n'est pas encodé en utf-8)\n",
    "    - première ligne prise pour des données alors que c'est le nom des colonnes\n",
    "    - ... (tellement de possibilités d'erreurs que l'ion ne peut tous les noter)\n",
    "5. on copie/colle les commandes de chargement dans le projet existant."
   ]
  },
  {
   "attachments": {},
   "cell_type": "markdown",
   "metadata": {},
   "source": [
    "### Téléchargement des données\n",
    "\n",
    "Le lien https://www.insee.fr/fr/statistiques/7633685?sommaire=7635552 mène sur le site de l'insee et d la version 2022 des prénoms. On va télécharger le fichier \"*France (y compris Mayotte depuis 2013)*\" au format [csv](https://fr.wikipedia.org/wiki/Comma-separated_values). \n",
    "\n",
    "C'est un fichier zip que l'on décompresse. Il se nomme _nat2022.csv_\n",
    "\n",
    "#### Excel\n",
    "\n",
    "On ouvre le fichier avec excel. On remarque :\n",
    "\n",
    "- le fichier comporte 4 colonnes, dont le nom est la première ligne\n",
    "    - `sexe` : le sexe\n",
    "    - `preusuel` : prénom usuel\n",
    "    - `annais` : année naissance\n",
    "    - `nombre` : nombre d'enfants de ce nom et ce sexe né [cette année là](https://www.youtube.com/watch?v=Oei7OKqadS8)\n",
    "- il y a 667365 lignes (c'est à la fois beaucoup et peu)\n",
    "\n",
    "Le dictionnaire des modalités est décrit : https://www.insee.fr/fr/statistiques/2540004?sommaire=4767262#dictionnaire\n",
    "\n",
    "On peut remarquer que :\n",
    "\n",
    "- le sexe est 1 pour les ♂ et 2 pour les ♀ (c'est le format standard)\n",
    "- aucun enfant ne s'appelle *_PRENOMS_RARES*... La modalité est expliquée là : https://www.insee.fr/fr/statistiques/2540004?sommaire=4767262#documentation\n",
    "- l'année de naissance peut être *XXXX*, qui n'est pas un nombre. \n",
    "\n",
    "#### Éditeur de texte\n",
    "\n",
    "En ouvrant fichier avec un éditeur de texte (jupyter permet de le faire, ou [vscode](https://code.visualstudio.com/) par exemple), on se rend compte que le séparateur n'est pas la `,` mais le `;`.\n",
    "\n",
    "> **Danger** : Cette pratique est courante lorsque le fichier est sauvé par un excel français, où la virgule est le séparateur de décimal.\n",
    "\n",
    "Pour éviter tout soucis, je vous conseille de rester international dans vos fichiers :\n",
    "\n",
    "- séparateur de décimal : `.`\n",
    "- séparateur de colonnes : `,`\n",
    "\n",
    "Mais ici on a pas le choix, les données sont de ce type. Il faut faire avec.\n",
    "\n",
    "> **Règle d'or** : On ne modifie pas le fichier de données initial, on modifie la procédure de chargement."
   ]
  },
  {
   "cell_type": "markdown",
   "metadata": {},
   "source": [
    "### Lecture des données avec jupyter"
   ]
  },
  {
   "cell_type": "markdown",
   "metadata": {},
   "source": [
    "En panda, la lecture de fichier csv se fait avec la commande : https://pandas.pydata.org/pandas-docs/stable/reference/api/pandas.read_csv.html\n",
    "\n",
    "Il faut trouver le moyen :\n",
    "\n",
    "- charger un fichier dans une url (en copiant le lien depuis \n",
    "- de lire des fichiers zip\n",
    "- de changer le séparateur de colonnes\n"
   ]
  },
  {
   "attachments": {},
   "cell_type": "markdown",
   "metadata": {},
   "source": [
    "Je vais utiliser la version 2020 de ce jeu de données, disponible sur le site du cours. N'hésitez pas à prendre la dernière version sur le site de l'insee."
   ]
  },
  {
   "cell_type": "code",
   "execution_count": null,
   "metadata": {
    "pycharm": {
     "name": "#%%\n"
    }
   },
   "outputs": [],
   "source": [
    "import pandas"
   ]
  },
  {
   "cell_type": "code",
   "execution_count": null,
   "metadata": {},
   "outputs": [],
   "source": [
    "pandas.__version__"
   ]
  },
  {
   "cell_type": "markdown",
   "metadata": {},
   "source": [
    "Pandas nous permet de lire le fichier depuis notre disque dur, à l'endroit où est notre fichier jupyter :"
   ]
  },
  {
   "cell_type": "code",
   "execution_count": null,
   "metadata": {},
   "outputs": [],
   "source": [
    "prénom = pandas.read_csv(\"nat2020_csv.zip\",\n",
    "                         compression='zip',\n",
    "                         sep=\";\")"
   ]
  },
  {
   "cell_type": "markdown",
   "metadata": {},
   "source": [
    "Mais on peut aussi le récupérer directemnt depuis internet si on connait son adresse (version 2021) :"
   ]
  },
  {
   "cell_type": "code",
   "execution_count": null,
   "metadata": {
    "pycharm": {
     "name": "#%%\n"
    }
   },
   "outputs": [],
   "source": [
    "# dé-commentez les 3 lignes ci-après pour le faire\n",
    "\n",
    "# prénom = pandas.read_csv(\"https://www.insee.fr/fr/statistiques/fichier/2540004/nat2021_csv.zip\",\n",
    "#                          compression='zip',\n",
    "#                          sep=\";\")"
   ]
  },
  {
   "cell_type": "code",
   "execution_count": null,
   "metadata": {
    "pycharm": {
     "name": "#%%\n"
    }
   },
   "outputs": [],
   "source": [
    "prénom"
   ]
  },
  {
   "cell_type": "markdown",
   "metadata": {},
   "source": [
    "Les données sont chargées, on vérifie que tout est correct. "
   ]
  },
  {
   "cell_type": "code",
   "execution_count": null,
   "metadata": {
    "pycharm": {
     "name": "#%%\n"
    }
   },
   "outputs": [],
   "source": [
    "# premières lignes.\n",
    "prénom.head(30)"
   ]
  },
  {
   "cell_type": "code",
   "execution_count": null,
   "metadata": {
    "pycharm": {
     "name": "#%%\n"
    }
   },
   "outputs": [],
   "source": [
    "# dernières lignes\n",
    "prénom.tail(15)"
   ]
  },
  {
   "cell_type": "markdown",
   "metadata": {},
   "source": [
    "On vérifie le type des données :"
   ]
  },
  {
   "cell_type": "code",
   "execution_count": null,
   "metadata": {
    "pycharm": {
     "name": "#%%\n"
    }
   },
   "outputs": [],
   "source": [
    "# forme du dataframe\n",
    "prénom.shape"
   ]
  },
  {
   "cell_type": "code",
   "execution_count": null,
   "metadata": {
    "pycharm": {
     "name": "#%%\n"
    }
   },
   "outputs": [],
   "source": [
    "len(prénom.index), len(prénom.columns)"
   ]
  },
  {
   "cell_type": "code",
   "execution_count": null,
   "metadata": {
    "pycharm": {
     "name": "#%%\n"
    }
   },
   "outputs": [],
   "source": [
    "prénom.columns"
   ]
  },
  {
   "cell_type": "markdown",
   "metadata": {},
   "source": [
    "Type des données. `object`signifiant chaine de caractère. C'est le cas de `annais` à cause des `XXXX`."
   ]
  },
  {
   "cell_type": "code",
   "execution_count": null,
   "metadata": {
    "pycharm": {
     "name": "#%%\n"
    }
   },
   "outputs": [],
   "source": [
    "prénom.dtypes"
   ]
  },
  {
   "attachments": {},
   "cell_type": "markdown",
   "metadata": {},
   "source": [
    "## Transformer les données\n",
    "\n",
    "On va maintenant essayer de voir ce qu'il y a dans les données. Pour cela, on va extraire de celles-ci un sous ensemble des données permettant de répondre à une question spécifique que l'on se pose. \n",
    "\n",
    "> **Rappel** : On copie toujours les données initiales, on ne les modifie **jamais**"
   ]
  },
  {
   "attachments": {},
   "cell_type": "markdown",
   "metadata": {},
   "source": [
    "### Chaînage des données"
   ]
  },
  {
   "attachments": {},
   "cell_type": "markdown",
   "metadata": {},
   "source": [
    "Pour transformer les données, on va chaîner les opérations, chaque opération élémentaire etant passée à l'opération suivante : une opération complexe est un chaînage d'opérations simple.\n",
    "\n",
    "Cette technique rend le code lisible et réutilisable. Deux \n",
    "tutos bien fait sur ces méthodes : \n",
    " \n",
    "* https://towardsdatascience.com/the-unreasonable-effectiveness-of-method-chaining-in-pandas-15c2109e3c69\n",
    "* https://tomaugspurger.github.io/posts/modern-1-intro/\n",
    "\n",
    ">  **Bonne pratique** : On utilise le plus souvent possible des opérations qui recréent de nouveaux tableaux, ce qui permet de respecter la règle d'or : **ON NE MODIFIE JAMAIS LES DONNEES INITIALES !** (je l'ai déjà dit, non ?)"
   ]
  },
  {
   "cell_type": "markdown",
   "metadata": {},
   "source": [
    "### tutos\n",
    "\n",
    "Il existe de nombreux tutos pour manipuler les données en pandas. Il ne faut pas hésiter à chercher un peu pour faire ses analyses.\n",
    "\n",
    "* https://jakevdp.github.io/PythonDataScienceHandbook/04.06-customizing-legends.html\n",
    "* http://queirozf.com/entries/pandas-dataframe-examples-column-operations\n",
    "* https://wiki.centrale-marseille.fr/informatique/public:appro-s7:td6\n",
    "* https://geo-python.github.io/2017/\n",
    "* https://pandas.pydata.org/pandas-docs/stable/user_guide/basics.html\n",
    "* ...\n",
    "\n",
    "Et bien sur, la doc officielle : https://pandas.pydata.org/pandas-docs/stable/reference/frame.html"
   ]
  },
  {
   "cell_type": "markdown",
   "metadata": {},
   "source": [
    "### exemple : les prénoms les plus populaires\n",
    "\n",
    "On veut connaître les prénoms les plus donnés."
   ]
  },
  {
   "cell_type": "markdown",
   "metadata": {},
   "source": [
    "On va effectuer plusieurs opérations sur les données, d'abord individuellement, puis en les chaînant."
   ]
  },
  {
   "cell_type": "markdown",
   "metadata": {},
   "source": [
    "####  renommage de colonnes\n",
    "\n",
    "Renommons les colonnes que l'on va utiliser en quelque chose de plus explicite.\n",
    "\n",
    "https://pandas.pydata.org/pandas-docs/stable/reference/api/pandas.DataFrame.rename.html "
   ]
  },
  {
   "cell_type": "code",
   "execution_count": null,
   "metadata": {
    "pycharm": {
     "name": "#%%\n"
    }
   },
   "outputs": [],
   "source": [
    "prénom.rename(columns={\"preusuel\": \"prénom\", \"annais\": \"années\"})"
   ]
  },
  {
   "cell_type": "markdown",
   "metadata": {},
   "source": [
    "Rename redonne un nouveau dataframe, on a pas modifié les données initiales.\n"
   ]
  },
  {
   "cell_type": "code",
   "execution_count": null,
   "metadata": {},
   "outputs": [],
   "source": [
    "# décommentez l'instruction ci-dessous pour voir que les données initiales sont conservées.\n",
    "\n",
    "# prénom.columns"
   ]
  },
  {
   "cell_type": "markdown",
   "metadata": {},
   "source": [
    "#### changement des modalités\n",
    "\n",
    "On va dire que les garçons c'est ♂ et les filles c'est ♀, c'est plus explicit qu'un codage 1, 2.\n",
    "\n",
    "https://pandas.pydata.org/pandas-docs/stable/reference/api/pandas.DataFrame.assign.html\n",
    "\n",
    "Ici, on crée une nouvelle colonne qui a le même nom que l'ancienne, ce qui revient à la modifier. "
   ]
  },
  {
   "cell_type": "markdown",
   "metadata": {},
   "source": [
    "Pour comprendre comment on fait on va procéder par étapes :\n",
    "\n",
    "1. qu'est-ce qu'une colonne en panda\n",
    "2. comment créer une colonne\n",
    "3. comment assigner une colonne\n",
    "4. combiner le tout pour changer notre colonne"
   ]
  },
  {
   "cell_type": "code",
   "execution_count": null,
   "metadata": {
    "pycharm": {
     "name": "#%%\n"
    }
   },
   "outputs": [],
   "source": [
    "# une colonne\n",
    "\n",
    "prénom.sexe"
   ]
  },
  {
   "cell_type": "markdown",
   "metadata": {},
   "source": [
    "Une autre façon de trouver une colonne : "
   ]
  },
  {
   "cell_type": "code",
   "execution_count": null,
   "metadata": {
    "pycharm": {
     "name": "#%%\n"
    }
   },
   "outputs": [],
   "source": [
    "# décommentez pour voir\n",
    "\n",
    "prénom['sexe']"
   ]
  },
  {
   "cell_type": "code",
   "execution_count": null,
   "metadata": {
    "pycharm": {
     "name": "#%%\n"
    },
    "tags": []
   },
   "outputs": [],
   "source": [
    "#la nouvelle colonne\n",
    "\n",
    "['♂' if x == 1 else '♀' for x in prénom.sexe]"
   ]
  },
  {
   "cell_type": "markdown",
   "metadata": {},
   "source": [
    "L'exemple précédent utilise les [list comprehension](https://www.w3schools.com/python/python_lists_comprehension.asp)  qui sont des façons rapide de créer des listes. \n",
    "\n",
    "C'est équivalent à :"
   ]
  },
  {
   "cell_type": "code",
   "execution_count": null,
   "metadata": {
    "tags": []
   },
   "outputs": [],
   "source": [
    "ma_liste = []\n",
    "\n",
    "for x in prénom.sexe:\n",
    "    if x == 1:\n",
    "        ma_liste.append('♂')\n",
    "    else:\n",
    "        ma_liste.append('♀')\n",
    "\n",
    "ma_liste"
   ]
  },
  {
   "cell_type": "markdown",
   "metadata": {},
   "source": [
    "La méthode [assign](https://pandas.pydata.org/docs/reference/api/pandas.DataFrame.assign.html) permet d'ajouter/remplacer une colonne existante. On peut procéder de deux façons :\n",
    "\n",
    "1. en assignatnt directement la colonne\n",
    "2. en passant par une fonction"
   ]
  },
  {
   "cell_type": "code",
   "execution_count": null,
   "metadata": {
    "pycharm": {
     "name": "#%%\n"
    }
   },
   "outputs": [],
   "source": [
    "#méthode 1 :\n",
    "\n",
    "prénom.assign(sexe=['♂' if x == 1 else '♀' for x in prénom.sexe])"
   ]
  },
  {
   "cell_type": "code",
   "execution_count": null,
   "metadata": {},
   "outputs": [],
   "source": [
    "# méthode 2 : \n",
    "\n",
    "prénom.assign(sexe=lambda df: ['♂' if x == 1 else '♀' for x in df.sexe])"
   ]
  },
  {
   "cell_type": "markdown",
   "metadata": {},
   "source": [
    "Dans l'esemple précédent on a utilisé une fonction [lambda](https://www.w3schools.com/python/python_lambda.asp) qui permet de créer et d'exécuter immédiatement une fonction d'une ligne. C'est très pratique. \n",
    "\n",
    "C'est équivalent à :"
   ]
  },
  {
   "cell_type": "code",
   "execution_count": null,
   "metadata": {},
   "outputs": [],
   "source": [
    "def f(df):\n",
    "    return ['♂' if x == 1 else '♀' for x in df.sexe]\n",
    "\n",
    "prénom.assign(sexe=f)"
   ]
  },
  {
   "cell_type": "markdown",
   "metadata": {},
   "source": [
    "> **Attention** : on passe la fonction en paramètre, c'est à dire `f`, et pas son résultat qui est `f(x)`"
   ]
  },
  {
   "cell_type": "markdown",
   "metadata": {},
   "source": [
    "#### on combine les deux"
   ]
  },
  {
   "cell_type": "code",
   "execution_count": null,
   "metadata": {
    "pycharm": {
     "name": "#%%\n"
    }
   },
   "outputs": [],
   "source": [
    "# A l'ancienne\n",
    "\n",
    "p2 = prénom.rename(columns={\"preusuel\": \"prénom\", \"annais\": \"années\"})\n",
    "p3 = p2.assign(sexe=lambda df: ['♂' if x == 1 else '♀' for x in prénom.sexe])"
   ]
  },
  {
   "cell_type": "markdown",
   "metadata": {},
   "source": [
    "Notre nouvelle dataframe s'appelle p3 :"
   ]
  },
  {
   "cell_type": "code",
   "execution_count": null,
   "metadata": {
    "pycharm": {
     "name": "#%%\n"
    }
   },
   "outputs": [],
   "source": [
    "p3"
   ]
  },
  {
   "cell_type": "markdown",
   "metadata": {},
   "source": [
    "La façon de faire ci-dessus n'est pas très chouette car elle crée des variables dont nous n'avons pas vraiment besoin.\n",
    "\n",
    "Il est plus efficace de tout faire en une fois, en utilisant la notation pointée :"
   ]
  },
  {
   "cell_type": "code",
   "execution_count": null,
   "metadata": {
    "pycharm": {
     "name": "#%%\n"
    }
   },
   "outputs": [],
   "source": [
    "prénom.rename(columns={\"preusuel\": \"prénom\", \"annais\": \"années\"}).assign(sexe=lambda df: ['♂' if x == 1 else '♀' for x in prénom.sexe])"
   ]
  },
  {
   "cell_type": "markdown",
   "metadata": {},
   "source": [
    "Bon, c'est pas encore ça. On a maintenant tout sur une seule ligne et c'est pas vraiemnt clair ce qu'on fait. On va reformater tout ça pour que ce soit bien plus clair : "
   ]
  },
  {
   "cell_type": "code",
   "execution_count": null,
   "metadata": {
    "pycharm": {
     "name": "#%%\n"
    }
   },
   "outputs": [],
   "source": [
    "(prénom\n",
    "    .rename(columns={\"preusuel\": \"prénom\", \"annais\": \"années\"})\n",
    "    .assign(sexe=['♂' if x == 1 else '♀' for x in prénom.sexe])\n",
    ")"
   ]
  },
  {
   "cell_type": "markdown",
   "metadata": {},
   "source": [
    "> **Attention** : on met tout entre parenthèse pour que python nous laisse aller à la ligne sans penser que c'est une nouvelle instruction"
   ]
  },
  {
   "cell_type": "markdown",
   "metadata": {},
   "source": [
    "Si on eut sauver nottre nouvelle dataframe dans p3 on peut affecter le résultat :"
   ]
  },
  {
   "cell_type": "code",
   "execution_count": null,
   "metadata": {},
   "outputs": [],
   "source": [
    "p3 = (prénom\n",
    "    .rename(columns={\"preusuel\": \"prénom\", \"annais\": \"années\"})\n",
    "    .assign(sexe=['♂' if x == 1 else '♀' for x in prénom.sexe])\n",
    ")"
   ]
  },
  {
   "cell_type": "markdown",
   "metadata": {},
   "source": [
    "Dès qu'on pourra le faire on favorisera ce genre d'écriture. Cela montre bien ce que l'on fait et dans quel ordre on le fait. Le tout sans créer de variables temporaires inutiles et sans modifier les données initiales."
   ]
  },
  {
   "cell_type": "markdown",
   "metadata": {},
   "source": [
    "#### grouper les éléments\n",
    "\n",
    "Il nous faut maintenant sommer les enfants par sexe et nom. Pour cela, on utilise la fonction : [groupby](https://pandas.pydata.org/pandas-docs/stable/reference/api/pandas.DataFrame.groupby.html) connue en base de données."
   ]
  },
  {
   "cell_type": "code",
   "execution_count": null,
   "metadata": {
    "pycharm": {
     "name": "#%%\n"
    }
   },
   "outputs": [],
   "source": [
    "prénom.groupby(['preusuel', 'sexe']).sum()"
   ]
  },
  {
   "cell_type": "markdown",
   "metadata": {},
   "source": [
    "`sum()` somme les attributs sommables.\n",
    "\n",
    "Sur les versions récente de pandas, la colonnes `annais` est sommée (ce qui n'est pas le cas si vous avez une version de pandas plus anciennes). Comme ce sont des chaînes de caractères, c'est concaténé"
   ]
  },
  {
   "cell_type": "markdown",
   "metadata": {},
   "source": [
    "> **Attention** : pratiquement toutes les opérations sur les bases de données vont se fier à l'index des colonnes pour travailler."
   ]
  },
  {
   "cell_type": "markdown",
   "metadata": {},
   "source": [
    "Ce n'est pas encore parfait, car maintenant notre table ne contient plus qu'une colonne, le groupby étant un index."
   ]
  },
  {
   "cell_type": "code",
   "execution_count": null,
   "metadata": {
    "pycharm": {
     "name": "#%%\n"
    }
   },
   "outputs": [],
   "source": [
    "prénom.groupby(['preusuel', 'sexe']).sum().index"
   ]
  },
  {
   "cell_type": "code",
   "execution_count": null,
   "metadata": {
    "pycharm": {
     "name": "#%%\n"
    }
   },
   "outputs": [],
   "source": [
    "# sans changer l'index\n",
    "\n",
    "prénom.groupby(['preusuel', 'sexe'], as_index=False).sum()"
   ]
  },
  {
   "cell_type": "markdown",
   "metadata": {},
   "source": [
    "Là, chaque ligne a juste un numéro. Ceci nous permet de voir qu'il y a 36444 différentes possiblités prénom/sexe dans la table."
   ]
  },
  {
   "cell_type": "markdown",
   "metadata": {},
   "source": [
    "#### on recombine le tout\n",
    "\n",
    "Attention, on achangé les nom des colonnes... Il faut en tenir compte dans notre `groupby`"
   ]
  },
  {
   "cell_type": "code",
   "execution_count": null,
   "metadata": {
    "pycharm": {
     "name": "#%%\n"
    }
   },
   "outputs": [],
   "source": [
    "(prénom\n",
    "    .rename(columns={\"preusuel\": \"prénom\", \"annais\": \"années\"})\n",
    "    .assign(sexe=lambda df: ['♂' if x == 1 else '♀' for x in prénom.sexe])\n",
    "    .groupby(['prénom', 'sexe'], as_index=False).sum()\n",
    ")"
   ]
  },
  {
   "cell_type": "markdown",
   "metadata": {},
   "source": [
    "#### La fin\n",
    "\n",
    "On y est presque. Il nous faut juste trier les résultats. Pour cela on utilie la méthode [sort_values](https://pandas.pydata.org/pandas-docs/stable/reference/api/pandas.DataFrame.sort_values.html) :"
   ]
  },
  {
   "cell_type": "code",
   "execution_count": null,
   "metadata": {
    "pycharm": {
     "name": "#%%\n"
    }
   },
   "outputs": [],
   "source": [
    "(prénom\n",
    "    .rename(columns={\"preusuel\": \"prénom\", \"annais\": \"années\"})\n",
    "    .assign(sexe=lambda df: ['♂' if x == 1 else '♀' for x in prénom.sexe])\n",
    "    .groupby(['prénom', 'sexe'], as_index=False).sum()\n",
    "    .sort_values(by=['nombre'])\n",
    ")"
   ]
  },
  {
   "cell_type": "markdown",
   "metadata": {},
   "source": [
    "Par défaut on trie du plus petit au plus grand. ON veut les plus plus gros en premier :"
   ]
  },
  {
   "cell_type": "code",
   "execution_count": null,
   "metadata": {
    "pycharm": {
     "name": "#%%\n"
    }
   },
   "outputs": [],
   "source": [
    "(prénom\n",
    "    .rename(columns={\"preusuel\": \"prénom\", \"annais\": \"années\"})\n",
    "    .assign(sexe=lambda df: ['♂' if x == 1 else '♀' for x in prénom.sexe])\n",
    "    .groupby(['prénom', 'sexe'], as_index=False).sum(numeric_only=True)\n",
    "    .sort_values(by=['nombre'], ascending=False)\n",
    ")"
   ]
  },
  {
   "cell_type": "markdown",
   "metadata": {},
   "source": [
    "#### sauve le resultat\n",
    "\n",
    "Maintenant qu'on a fini notre composition, on peut sauver le résultat dans ue nouvelle variable"
   ]
  },
  {
   "cell_type": "code",
   "execution_count": null,
   "metadata": {
    "pycharm": {
     "name": "#%%\n"
    }
   },
   "outputs": [],
   "source": [
    "prénom_triés = (prénom\n",
    "    .rename(columns={\"preusuel\": \"prénom\", \"annais\": \"années\"})\n",
    "    .assign(sexe=lambda df: ['♂' if x == 1 else '♀' for x in df.sexe])\n",
    "    .groupby(['prénom', 'sexe'], as_index=False).sum(numeric_only=True)\n",
    "    .sort_values(by=['nombre'], ascending=False)\n",
    ")"
   ]
  },
  {
   "cell_type": "markdown",
   "metadata": {},
   "source": [
    "Comme il y a eu une affectation, jupyter n'affiche pas le résultat. Pour le faire, il faut explicitement donner la variable (comme un print)."
   ]
  },
  {
   "cell_type": "code",
   "execution_count": null,
   "metadata": {
    "pycharm": {
     "name": "#%%\n"
    }
   },
   "outputs": [],
   "source": [
    "prénom_triés"
   ]
  },
  {
   "cell_type": "markdown",
   "metadata": {},
   "source": [
    "On a encore une petite amélioration à faire, l'index n'est pas cohérent. Il vient du groupby. On va le renommer pour que la ième ligne ait l'index i en utilisant la méthode [reset_index](https://pandas.pydata.org/docs/reference/api/pandas.DataFrame.reset_index.html) :"
   ]
  },
  {
   "cell_type": "code",
   "execution_count": null,
   "metadata": {
    "pycharm": {
     "name": "#%%\n"
    }
   },
   "outputs": [],
   "source": [
    "prénom_triés.reset_index(inplace=True, drop=True)"
   ]
  },
  {
   "cell_type": "code",
   "execution_count": null,
   "metadata": {
    "pycharm": {
     "name": "#%%\n"
    }
   },
   "outputs": [],
   "source": [
    "prénom_triés"
   ]
  },
  {
   "cell_type": "markdown",
   "metadata": {},
   "source": [
    "L'utilisation de inplace n'est pas recommandé, donc faisons tout en une seule grosse expression :"
   ]
  },
  {
   "cell_type": "code",
   "execution_count": null,
   "metadata": {},
   "outputs": [],
   "source": [
    "prénom_triés = (prénom\n",
    "    .rename(columns={\"preusuel\": \"prénom\", \"annais\": \"années\"})\n",
    "    .assign(sexe=lambda df: ['♂' if x == 1 else '♀' for x in df.sexe])\n",
    "    .groupby(['prénom', 'sexe'], as_index=False).sum(numeric_only=True)\n",
    "    .sort_values(by=['nombre'], ascending=False)\n",
    "    .reset_index(drop=True)\n",
    ")"
   ]
  },
  {
   "cell_type": "code",
   "execution_count": null,
   "metadata": {},
   "outputs": [],
   "source": [
    "prénom_triés"
   ]
  },
  {
   "cell_type": "markdown",
   "metadata": {},
   "source": [
    "> **Moralité** : En y allant pas à pas (et en googlant un peu à chaque étape) on arrive à faire de superbes anaylises !"
   ]
  },
  {
   "cell_type": "markdown",
   "metadata": {},
   "source": [
    "### exemple 2 : le plus joli des prénoms\n",
    "\n",
    "On va analyser les réponses sur le (superbe) prénom François."
   ]
  },
  {
   "cell_type": "markdown",
   "metadata": {},
   "source": [
    "#### Les François !\n",
    "\n",
    "Les lignes dont le prénom commencant par `'FRANÇOIS'` :\n",
    "\n",
    "https://pandas.pydata.org/pandas-docs/stable/reference/api/pandas.Series.str.startswith.html \n",
    "\n",
    "On a mis `False`comme deuxième argument pour gérer les lignes qui n'ont pas de prénom (ce n'est pas le cas ici, mais ça pourrait arriver)."
   ]
  },
  {
   "cell_type": "code",
   "execution_count": null,
   "metadata": {
    "pycharm": {
     "name": "#%%\n"
    }
   },
   "outputs": [],
   "source": [
    "prénom_triés[\"prénom\"].str.startswith('FRANÇOIS', na=False)"
   ]
  },
  {
   "cell_type": "markdown",
   "metadata": {},
   "source": [
    "On donne cette liste à un dataframe pour ne rendre que les lignes vraies, ce qui donne tous les prénoms commençant par `FRANÇOIS` : "
   ]
  },
  {
   "cell_type": "code",
   "execution_count": null,
   "metadata": {
    "pycharm": {
     "name": "#%%\n"
    }
   },
   "outputs": [],
   "source": [
    "prénom_triés[prénom_triés[\"prénom\"].str.startswith('FRANÇOIS', na=False)]"
   ]
  },
  {
   "cell_type": "markdown",
   "metadata": {},
   "source": [
    "Ce code utilise `prénoms_triés`. Si on veut sélectionner en une seule fois uniquement les François à partir de prénoms on peut donner une fonction en paramètre de la méthode loc :"
   ]
  },
  {
   "cell_type": "code",
   "execution_count": null,
   "metadata": {},
   "outputs": [],
   "source": [
    "(prénom\n",
    "    .rename(columns={\"preusuel\": \"prénom\", \"annais\": \"années\"})\n",
    "    .assign(sexe=lambda df: ['♂' if x == 1 else '♀' for x in df.sexe])\n",
    "    .groupby(['prénom', 'sexe'], as_index=False).sum(numeric_only=True)\n",
    "    .sort_values(by=['nombre'], ascending=False)\n",
    "    .loc[lambda df: df[\"prénom\"].str.startswith('FRANÇOIS', na=False)]\n",
    ")"
   ]
  },
  {
   "cell_type": "markdown",
   "metadata": {},
   "source": [
    "Il nous reste à refaire l'index, mais cette fois ci on va créer ne colonne pour conserver l'index précédent et pouvoir s'y référer si nécessaire (ceci se fait simplement en gardant l'attribut `drop` à sa valeur par défaut) :"
   ]
  },
  {
   "cell_type": "code",
   "execution_count": null,
   "metadata": {},
   "outputs": [],
   "source": [
    "(prénom\n",
    "    .rename(columns={\"preusuel\": \"prénom\", \"annais\": \"années\"})\n",
    "    .assign(sexe=lambda df: ['♂' if x == 1 else '♀' for x in df.sexe])\n",
    "    .groupby(['prénom', 'sexe'], as_index=False).sum(numeric_only=True)\n",
    "    .sort_values(by=['nombre'], ascending=False)\n",
    "    .loc[lambda df: df[\"prénom\"].str.startswith('FRANÇOIS', na=False)]\n",
    "    .reset_index()\n",
    ")"
   ]
  },
  {
   "cell_type": "markdown",
   "metadata": {},
   "source": [
    "#### les prénoms contenant François ?"
   ]
  },
  {
   "cell_type": "code",
   "execution_count": null,
   "metadata": {},
   "outputs": [],
   "source": [
    "prénom_triés[prénom_triés[\"prénom\"].str.contains('FRANÇOIS', na=False)]"
   ]
  },
  {
   "cell_type": "markdown",
   "metadata": {},
   "source": [
    "#### françois sans françois"
   ]
  },
  {
   "attachments": {},
   "cell_type": "markdown",
   "metadata": {},
   "source": [
    "Les prénoms ne commençant pas par FRANÇOIS (on a utilisé des [opérateurs logiques](https://pandas.pydata.org/docs/user_guide/boolean.html?highlight=logical%20operator#kleene-logical-operations)) : "
   ]
  },
  {
   "cell_type": "code",
   "execution_count": null,
   "metadata": {},
   "outputs": [],
   "source": [
    "prénom_triés[prénom_triés[\"prénom\"].str.contains('FRANÇOIS', na=False) ^ prénom_triés[\"prénom\"].str.startswith('FRANÇOIS', na=False)]"
   ]
  },
  {
   "cell_type": "markdown",
   "metadata": {},
   "source": [
    "On remarque qu'il y a 138 Claude-François. Ce qui était attendu :-)"
   ]
  },
  {
   "cell_type": "markdown",
   "metadata": {},
   "source": [
    "Je vous laisse voir les coorélations du nombre d'occurence du prénom avec [ses plus grand succès](https://www.notretemps.com/loisirs/musique/les-sept-chansons-inoubliables-de-claude-francois-19489) :"
   ]
  },
  {
   "cell_type": "code",
   "execution_count": null,
   "metadata": {},
   "outputs": [],
   "source": [
    "(prénom[prénom.preusuel == \"CLAUDE-FRANÇOIS\"]\n",
    ")"
   ]
  },
  {
   "cell_type": "markdown",
   "metadata": {},
   "source": [
    "#### combien de prénoms commençant par François ?"
   ]
  },
  {
   "cell_type": "code",
   "execution_count": null,
   "metadata": {
    "pycharm": {
     "name": "#%%\n"
    }
   },
   "outputs": [],
   "source": [
    "# On comptent celles qui sont vraies (faux vaut 0 et vrai 1 en python)\n",
    "\n",
    "sum(prénom_triés[\"prénom\"].str.startswith('FRANÇOIS', na=False))"
   ]
  },
  {
   "cell_type": "markdown",
   "metadata": {},
   "source": [
    "> Ce nombre résume bien les François :-)"
   ]
  },
  {
   "cell_type": "markdown",
   "metadata": {},
   "source": [
    "#### Les FranCois (sans cédille)"
   ]
  },
  {
   "cell_type": "code",
   "execution_count": null,
   "metadata": {
    "pycharm": {
     "name": "#%%\n"
    }
   },
   "outputs": [],
   "source": [
    "prénom_triés[prénom_triés[\"prénom\"].str.startswith('FRANCOIS', na=False)]"
   ]
  },
  {
   "cell_type": "markdown",
   "metadata": {},
   "source": [
    "#### Les François de sexe féminin par année."
   ]
  },
  {
   "cell_type": "code",
   "execution_count": null,
   "metadata": {
    "pycharm": {
     "name": "#%%\n"
    }
   },
   "outputs": [],
   "source": [
    "(prénom[\"preusuel\"] == 'FRANÇOIS') & (prénom[\"sexe\"] == 2)"
   ]
  },
  {
   "cell_type": "code",
   "execution_count": null,
   "metadata": {
    "pycharm": {
     "name": "#%%\n"
    }
   },
   "outputs": [],
   "source": [
    "(prénom[(prénom[\"preusuel\"] == 'FRANÇOIS') & (prénom[\"sexe\"] == 2)]\n",
    "    .sort_values(by=['annais']))"
   ]
  },
  {
   "cell_type": "markdown",
   "metadata": {
    "pycharm": {
     "name": "#%%\n"
    }
   },
   "source": [
    "> **ATTENTION** : Le tri par année est un tri lexicographique !"
   ]
  },
  {
   "cell_type": "markdown",
   "metadata": {},
   "source": [
    "On ne peut pas utiliser la formule : "
   ]
  },
  {
   "cell_type": "code",
   "execution_count": null,
   "metadata": {},
   "outputs": [],
   "source": [
    "(prénom[(prénom[\"preusuel\"] == 'FRANÇOIS') & (prénom[\"sexe\"] == 2)]\n",
    "    ['nombre']\n",
    "    .mean())"
   ]
  },
  {
   "cell_type": "markdown",
   "metadata": {},
   "source": [
    "Car il y a plein d'années sans François Filles. Sur 100 années, il n'y en a que :"
   ]
  },
  {
   "cell_type": "code",
   "execution_count": null,
   "metadata": {},
   "outputs": [],
   "source": [
    "(prénom[(prénom[\"preusuel\"] == 'FRANÇOIS') & (prénom[\"sexe\"] == 2)]\n",
    "    .shape[0])"
   ]
  },
  {
   "cell_type": "markdown",
   "metadata": {},
   "source": [
    "Pour connaitre le nombre moyen de François fille par année, il va falloir rajouter les années manquantes à nos données. Pour ajouter des lignes à une base de données selon un critère de colonne, une façon simple de procéder est de mettre la colonne en index puis de réindexer avec la liste complète. \n",
    "\n",
    "Pour faire ça, on va :\n",
    "\n",
    "1. supprimer ce qui est inutile dans nos données\n",
    "2. indexer notre dataframe par les années\n",
    "3. ajouter les années manquantes"
   ]
  },
  {
   "cell_type": "markdown",
   "metadata": {},
   "source": [
    "Commençons par garder ce qui est utile : \n",
    "\n",
    "    * les années\n",
    "    * les nombres"
   ]
  },
  {
   "cell_type": "code",
   "execution_count": null,
   "metadata": {
    "tags": []
   },
   "outputs": [],
   "source": [
    "(prénom[(prénom[\"preusuel\"] == 'FRANÇOIS') & (prénom[\"sexe\"] == 2)]\n",
    "     [[\"annais\", \"nombre\"]]\n",
    ")"
   ]
  },
  {
   "cell_type": "markdown",
   "metadata": {},
   "source": [
    "Pour générer nos années, on va générer une suite d'entier. Comme nos années sont des chaines de caractères (à cause de l'année `XXXX`), il va falloir convertir tout ça. Pour cela, on va procéder en 2 temps :\n",
    "\n",
    "1. supprimer ce qui n'est pas un entier (lannée `XXXX`)\n",
    "2. convertir les années restantes en entier."
   ]
  },
  {
   "cell_type": "markdown",
   "metadata": {},
   "source": [
    "Suppression de `XXXX` :"
   ]
  },
  {
   "cell_type": "code",
   "execution_count": null,
   "metadata": {
    "tags": []
   },
   "outputs": [],
   "source": [
    "(prénom[(prénom[\"preusuel\"] == 'FRANÇOIS') & (prénom[\"sexe\"] == 2) & (prénom[\"annais\"] != 'XXXX')]\n",
    "     [[\"annais\", \"nombre\"]]\n",
    ")"
   ]
  },
  {
   "cell_type": "markdown",
   "metadata": {},
   "source": [
    "Conversion en entier :"
   ]
  },
  {
   "cell_type": "code",
   "execution_count": null,
   "metadata": {},
   "outputs": [],
   "source": [
    "(prénom[(prénom[\"preusuel\"] == 'FRANÇOIS') & (prénom[\"sexe\"] == 2) & (prénom[\"annais\"] != 'XXXX')]\n",
    "     [[\"annais\", \"nombre\"]]\n",
    "     .assign(annais=lambda df: pandas.to_numeric(df.annais))\n",
    ")"
   ]
  },
  {
   "cell_type": "markdown",
   "metadata": {},
   "source": [
    "C'est bien un entier, comme le montre le type des colonnes :"
   ]
  },
  {
   "cell_type": "code",
   "execution_count": null,
   "metadata": {},
   "outputs": [],
   "source": [
    "(prénom[(prénom[\"preusuel\"] == 'FRANÇOIS') & (prénom[\"sexe\"] == 2) & (prénom[\"annais\"] != 'XXXX')]\n",
    "     [[\"annais\", \"nombre\"]]\n",
    "     .assign(annais=lambda df: pandas.to_numeric(df.annais))\n",
    "     .dtypes\n",
    ")"
   ]
  },
  {
   "cell_type": "markdown",
   "metadata": {},
   "source": [
    "On peut mainteant indexer notre table avec les années. Comme on utilise une colonne de notre table comme nouvel index, on utilise la méthode [set_index](https://pandas.pydata.org/docs/reference/api/pandas.DataFrame.set_index.html) :"
   ]
  },
  {
   "cell_type": "code",
   "execution_count": null,
   "metadata": {},
   "outputs": [],
   "source": [
    "(prénom[(prénom[\"preusuel\"] == 'FRANÇOIS') & (prénom[\"sexe\"] == 2) & (prénom[\"annais\"] != 'XXXX')]\n",
    "     [[\"annais\", \"nombre\"]]\n",
    "     .assign(annais=lambda df: pandas.to_numeric(df.annais))\n",
    "     .set_index(\"annais\")\n",
    ")"
   ]
  },
  {
   "cell_type": "markdown",
   "metadata": {},
   "source": [
    "> **Attention** : la colonne qui sert d'index n'est **plus** une colonne de la table aprs l'opération"
   ]
  },
  {
   "cell_type": "markdown",
   "metadata": {},
   "source": [
    "On a presque fini. Il nous reste à réindexer notre tableau par la liste de toutes les années. Cece est aisée avec la méthode [reindex](https://pandas.pydata.org/docs/reference/api/pandas.DataFrame.reindex.html) qui reindexe la table avec de nouveaux indexes qu'on a ici [généré avec une liste](https://pandas.pydata.org/docs/reference/api/pandas.RangeIndex.html) :"
   ]
  },
  {
   "cell_type": "code",
   "execution_count": null,
   "metadata": {},
   "outputs": [],
   "source": [
    "(prénom[(prénom[\"preusuel\"] == 'FRANÇOIS') & (prénom[\"sexe\"] == 2) & (prénom[\"annais\"] != 'XXXX')]\n",
    "     [[\"annais\", \"nombre\"]]\n",
    "     .assign(annais=lambda df: pandas.to_numeric(df.annais))\n",
    "     .set_index(\"annais\")\n",
    "     .reindex(pandas.RangeIndex(1900,2020 + 1,1))\n",
    ")"
   ]
  },
  {
   "cell_type": "markdown",
   "metadata": {},
   "source": [
    "Les nouvelles lignes sont de valeurs `NaN` (Not a Number), on va les remplacer par 0 :"
   ]
  },
  {
   "cell_type": "code",
   "execution_count": null,
   "metadata": {},
   "outputs": [],
   "source": [
    "(prénom[(prénom[\"preusuel\"] == 'FRANÇOIS') & (prénom[\"sexe\"] == 2) & (prénom[\"annais\"] != 'XXXX')]\n",
    "     [[\"annais\", \"nombre\"]]\n",
    "     .assign(annais=lambda df: pandas.to_numeric(df.annais))\n",
    "     .set_index(\"annais\")\n",
    "     .reindex(pandas.RangeIndex(1900,2020 + 1,1))\n",
    "     .fillna(0)\n",
    ")"
   ]
  },
  {
   "cell_type": "markdown",
   "metadata": {},
   "source": [
    "On peut finalement prendre la moyenne de tout ça :"
   ]
  },
  {
   "cell_type": "code",
   "execution_count": null,
   "metadata": {},
   "outputs": [],
   "source": [
    "(prénom[(prénom[\"preusuel\"] == 'FRANÇOIS') & (prénom[\"sexe\"] == 2) & (prénom[\"annais\"] != 'XXXX')]\n",
    "     [[\"annais\", \"nombre\"]]\n",
    "     .assign(annais=lambda df: pandas.to_numeric(df.annais))\n",
    "     .set_index(\"annais\")\n",
    "     .reindex(pandas.RangeIndex(1900,2020 + 1,1))\n",
    "     .fillna(0)\n",
    "     [\"nombre\"]\n",
    "     .mean()\n",
    ")"
   ]
  },
  {
   "cell_type": "markdown",
   "metadata": {},
   "source": [
    "## représenter les données\n",
    "\n",
    "Représenter graphiquement des données est un champ en soit. Nous allons ici juste présenter la bibliothèque que nous allons utiliser https://seaborn.pydata.org/ qui travaille en combinaison avec les méthodes de dessin de pandas : \n",
    "https://pandas.pydata.org/pandas-docs/stable/reference/frame.html#plotting"
   ]
  },
  {
   "cell_type": "markdown",
   "metadata": {},
   "source": [
    "### les 200 prénoms les plus utilisés l'année courante"
   ]
  },
  {
   "cell_type": "markdown",
   "metadata": {},
   "source": [
    "L'année la plus récente où on été recensé les prénoms : On trie les années et on prend la plus récente"
   ]
  },
  {
   "cell_type": "code",
   "execution_count": null,
   "metadata": {
    "pycharm": {
     "name": "#%%\n"
    }
   },
   "outputs": [],
   "source": [
    "prénom['annais'].max()"
   ]
  },
  {
   "cell_type": "markdown",
   "metadata": {},
   "source": [
    "Caramba... On avait oublié que ce n'était pas un nombre mais un objet. \n",
    "\n",
    "Supprimons les `'XXXX'` du champ et reprenons le max :"
   ]
  },
  {
   "cell_type": "code",
   "execution_count": null,
   "metadata": {
    "pycharm": {
     "name": "#%%\n"
    }
   },
   "outputs": [],
   "source": [
    "prénom[~prénom['annais'].str.startswith('X')]['annais'].max()"
   ]
  },
  {
   "cell_type": "markdown",
   "metadata": {},
   "source": [
    "Les 200 prénoms les plus données :"
   ]
  },
  {
   "cell_type": "code",
   "execution_count": null,
   "metadata": {},
   "outputs": [],
   "source": [
    "(prénom[prénom['annais'] == '2020']\n",
    "    .sort_values(by=['nombre'], ascending=False)\n",
    "    .head(200)\n",
    ")"
   ]
  },
  {
   "cell_type": "markdown",
   "metadata": {},
   "source": [
    "On supprime les prénoms rares qui sont majoritaires : "
   ]
  },
  {
   "cell_type": "code",
   "execution_count": null,
   "metadata": {
    "pycharm": {
     "name": "#%%\n"
    }
   },
   "outputs": [],
   "source": [
    "prénom_2020 = (prénom[(prénom['annais'] == '2020') & (prénom.preusuel != '_PRENOMS_RARES')]\n",
    "    .sort_values(by=['nombre'], ascending=False)\n",
    "    .head(200)\n",
    ")\n",
    "prénom_2020"
   ]
  },
  {
   "cell_type": "markdown",
   "metadata": {},
   "source": [
    "Le prénom le plus donné en garçon et fille on utilise [.iloc](https://pandas.pydata.org/docs/reference/api/pandas.DataFrame.iloc.html) pour prendre une ligne par index : "
   ]
  },
  {
   "cell_type": "code",
   "execution_count": null,
   "metadata": {},
   "outputs": [],
   "source": [
    "(prénom[(prénom['annais'] == '2020') & (prénom.preusuel != '_PRENOMS_RARES') & (prénom.sexe == 1)]\n",
    "    .sort_values(by=['nombre'], ascending=False)\n",
    "    .iloc[0]\n",
    ")"
   ]
  },
  {
   "cell_type": "code",
   "execution_count": null,
   "metadata": {},
   "outputs": [],
   "source": [
    "(prénom[(prénom['annais'] == '2020') & (prénom.preusuel != '_PRENOMS_RARES') & (prénom.sexe == 1)]\n",
    "    .sort_values(by=['nombre'], ascending=False)\n",
    "    .iloc[0]\n",
    ")"
   ]
  },
  {
   "cell_type": "markdown",
   "metadata": {},
   "source": [
    "### matplotlib\n",
    "\n",
    "La bibliotèque de dessin par défaut. C'est vieux, c'est moche, c'est compliqué (on dirait un prof)."
   ]
  },
  {
   "cell_type": "code",
   "execution_count": null,
   "metadata": {
    "pycharm": {
     "name": "#%%\n"
    }
   },
   "outputs": [],
   "source": [
    "import matplotlib.pyplot as plt\n",
    "import seaborn as sns\n",
    "\n",
    "sns.reset_orig() # reset au cas où on a déjà exécuté des cellules en-dessous"
   ]
  },
  {
   "cell_type": "code",
   "execution_count": null,
   "metadata": {
    "pycharm": {
     "name": "#%%\n"
    }
   },
   "outputs": [],
   "source": [
    "plt.figure(figsize=(20, 5))\n",
    "plt.xticks(rotation=90)\n",
    "plt.bar(prénom_2020['preusuel'].str.capitalize(), prénom_2020['nombre'])\n",
    "plt.show()"
   ]
  },
  {
   "cell_type": "markdown",
   "metadata": {},
   "source": [
    "### seaborn\n",
    "\n",
    "Une surcouche de matplotlib. C'est bien plus joli et facile à manipuler.\n",
    "\n",
    "Cela s'approche du mieux qe l'on peut faire actuellement https://ggplot2.tidyverse.org/index.html avec le logiciel R, qui est la réfence actuellement dans ce qui se fait de joli en graphique. "
   ]
  },
  {
   "cell_type": "markdown",
   "metadata": {},
   "source": [
    "#### Palette de couleur\n",
    "\n",
    "Seaborn utilise des palette pour représenter ses figure.\n",
    "\n",
    "> **Attention** : pour ne pas passer pour un plouc, n'utilisez pas plus d'une dizaine de couleurs !"
   ]
  },
  {
   "cell_type": "code",
   "execution_count": null,
   "metadata": {
    "pycharm": {
     "name": "#%%\n"
    }
   },
   "outputs": [],
   "source": [
    "import seaborn as sns\n",
    "\n",
    "sns.set()\n",
    "current_palette = sns.color_palette()\n",
    "sns.palplot(current_palette) # https://seaborn.pydata.org/tutorial/color_palettes.html\n",
    "plt.show()"
   ]
  },
  {
   "cell_type": "markdown",
   "metadata": {},
   "source": [
    "#### graphique\n",
    "\n",
    "On procède comme précédemment, par étape successive. \n",
    "On commence par mettre l'histogramme tout bête. On va toujours procéder de la même manière : \n",
    "\n",
    "1. créer le graphique avec matplotlib : `fig, ax = plt.subplots(figsize=(20, 5))` \n",
    "2. ajouter des choses au dessin : plusieurs commandes ajoutant des choses au dessin, c'est à dire `ax`\n",
    "3. représenter la figure (commande `plt.show()`) ou la sauver dans un fichier\n"
   ]
  },
  {
   "cell_type": "code",
   "execution_count": null,
   "metadata": {
    "pycharm": {
     "name": "#%%\n"
    }
   },
   "outputs": [],
   "source": [
    "# 1. créer le dessin (ici ax)\n",
    "fig, ax = plt.subplots(figsize=(20, 5)) \n",
    "\n",
    "#  2. ajouter des choses au dessin\n",
    "sns.barplot(x=prénom_2020['preusuel'].str.capitalize(), \n",
    "            y=prénom_2020['nombre'],\n",
    "            ax=ax)\n",
    "\n",
    "# 3. représenter le graphique\n",
    "plt.show()"
   ]
  },
  {
   "cell_type": "markdown",
   "metadata": {},
   "source": [
    "Bon, c'est un début on va dire. Commençons par ne prendre que les 100 premiers prénoms."
   ]
  },
  {
   "cell_type": "code",
   "execution_count": null,
   "metadata": {
    "pycharm": {
     "name": "#%%\n"
    }
   },
   "outputs": [],
   "source": [
    "data = prénom_2020.head(100)\n",
    "\n",
    "fig, ax = plt.subplots(figsize=(20, 5)) \n",
    "\n",
    "sns.barplot(x=data['preusuel'].str.capitalize(), \n",
    "            y=data['nombre'],\n",
    "            ax=ax)\n",
    "\n",
    "plt.show()"
   ]
  },
  {
   "cell_type": "markdown",
   "metadata": {},
   "source": [
    "Les prénoms c'est pas ça. On va les retourner de 90°.\n",
    "\n",
    "Pour ça, il faut modifier le dessin avant de l'afficher. On le sauve dans dans une variable (`chart`) que l'on modifie et enfin que l'on dessine (`plt.show()`)"
   ]
  },
  {
   "cell_type": "code",
   "execution_count": null,
   "metadata": {
    "pycharm": {
     "name": "#%%\n"
    }
   },
   "outputs": [],
   "source": [
    "data = prénom_2020.head(100)\n",
    "\n",
    "fig, ax = plt.subplots(figsize=(20, 5)) \n",
    "\n",
    "chart = sns.barplot(x=data['preusuel'].str.capitalize(), \n",
    "                    y=data['nombre'],\n",
    "                    ax=ax)\n",
    "\n",
    "plt.xticks(rotation=90)\n",
    "\n",
    "plt.show()"
   ]
  },
  {
   "cell_type": "markdown",
   "metadata": {},
   "source": [
    "On met des jolies labels au graphique :"
   ]
  },
  {
   "cell_type": "code",
   "execution_count": null,
   "metadata": {
    "pycharm": {
     "name": "#%%\n"
    }
   },
   "outputs": [],
   "source": [
    "data = prénom_2020.head(100)\n",
    "\n",
    "fig, ax = plt.subplots(figsize=(20, 5)) \n",
    "\n",
    "chart = sns.barplot(x=data['preusuel'].str.capitalize(), \n",
    "                    y=data['nombre'],\n",
    "                    ax=ax)\n",
    "\n",
    "plt.xticks(rotation=90)\n",
    "ax.set_title(\"les 100 prénoms les plus donnés en 2020\")\n",
    "ax.set_xlabel('prénom')\n",
    "\n",
    "plt.show()"
   ]
  },
  {
   "attachments": {},
   "cell_type": "markdown",
   "metadata": {},
   "source": [
    "On va donner des couleurs un peu plus réglementaires. Bleu pour les garçons et rose pour les filles :"
   ]
  },
  {
   "cell_type": "code",
   "execution_count": null,
   "metadata": {
    "pycharm": {
     "name": "#%%\n"
    },
    "tags": []
   },
   "outputs": [],
   "source": [
    "data = prénom_2020.head(100)\n",
    "\n",
    "fig, ax = plt.subplots(figsize=(20, 5)) \n",
    "chart = sns.barplot(x=data['preusuel'].str.capitalize(), \n",
    "                    y=data['nombre'],\n",
    "                    palette=[current_palette[9] if (x == 1) else current_palette[6] for x in data['sexe']],\n",
    "                    ax=ax)\n",
    "\n",
    "plt.xticks(rotation=90)\n",
    "ax.set_title(\"les 100 prénoms les plus donnés en 2020\")\n",
    "ax.set_xlabel('prénom')\n",
    "\n",
    "plt.show()"
   ]
  },
  {
   "cell_type": "markdown",
   "metadata": {},
   "source": [
    "#### sauvegarde"
   ]
  },
  {
   "cell_type": "code",
   "execution_count": null,
   "metadata": {
    "pycharm": {
     "name": "#%%\n"
    }
   },
   "outputs": [],
   "source": [
    "# formats supportés :\n",
    "\n",
    "plt.gcf().canvas.get_supported_filetypes()"
   ]
  },
  {
   "cell_type": "markdown",
   "metadata": {},
   "source": [
    "Pour sauver, il faut refaire la figure. On remplace `plt.show()` par `plt.savefig`"
   ]
  },
  {
   "cell_type": "code",
   "execution_count": null,
   "metadata": {
    "pycharm": {
     "name": "#%%\n"
    }
   },
   "outputs": [],
   "source": [
    "data = prénom_2020.head(100)\n",
    "\n",
    "fig, ax = plt.subplots(figsize=(20, 5)) \n",
    "\n",
    "chart = sns.barplot(x=data['preusuel'].str.capitalize(), \n",
    "                    y=data['nombre'],\n",
    "                    palette=[current_palette[9] if (x == 1) else current_palette[6] for x in data['sexe']],\n",
    "                    ax=ax)\n",
    "\n",
    "plt.xticks(rotation=90)\n",
    "ax.set_title(\"les 100 prénoms les plus donnés en 2020\")\n",
    "ax.set_xlabel('prénom')\n",
    "\n",
    "plt.savefig(\"naissances_2020.pdf\", format=\"pdf\", bbox_inches='tight')"
   ]
  },
  {
   "cell_type": "code",
   "execution_count": null,
   "metadata": {},
   "outputs": [],
   "source": []
  }
 ],
 "metadata": {
  "kernelspec": {
   "display_name": "Python 3",
   "language": "python",
   "name": "python3"
  },
  "language_info": {
   "codemirror_mode": {
    "name": "ipython",
    "version": 3
   },
   "file_extension": ".py",
   "mimetype": "text/x-python",
   "name": "python",
   "nbconvert_exporter": "python",
   "pygments_lexer": "ipython3",
   "version": "3.13.0"
  },
  "vscode": {
   "interpreter": {
    "hash": "aee8b7b246df8f9039afb4144a1f6fd8d2ca17a180786b69acc140d282b71a49"
   }
  }
 },
 "nbformat": 4,
 "nbformat_minor": 4
}
