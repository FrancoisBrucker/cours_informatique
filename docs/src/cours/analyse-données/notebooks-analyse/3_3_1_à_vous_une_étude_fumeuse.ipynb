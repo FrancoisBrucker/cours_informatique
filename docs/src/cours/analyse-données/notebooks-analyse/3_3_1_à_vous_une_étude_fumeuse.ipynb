{
 "cells": [
  {
   "cell_type": "markdown",
   "metadata": {},
   "source": [
    "# Une analyse qui fleure bon les années 50"
   ]
  },
  {
   "cell_type": "markdown",
   "metadata": {},
   "source": [
    "## Introduction"
   ]
  },
  {
   "cell_type": "markdown",
   "metadata": {},
   "source": [
    "Cette étude de cas est extraite de l'ouvrage de Jean-Pierre Benzécri\n",
    "\"Analyse des données. Tome 2 : l'analyse des correspondances\". Il\n",
    "s'agit d'une étude réelle dont nous avons complété les\n",
    "objectifs. \n"
   ]
  },
  {
   "cell_type": "markdown",
   "metadata": {},
   "source": [
    "## But"
   ]
  },
  {
   "cell_type": "markdown",
   "metadata": {},
   "source": [
    "Une enquête a été effectuée auprès de cent fumeurs afin de choisir les\n",
    "noms de deux nouvelles marques de cigarettes. La première marque est\n",
    "destinée à une clientèle masculine : L'homme ciblé est un connaisseur\n",
    "distingué, raffiné mais viril, de niveau socio-économique élevé. La\n",
    "seconde symbolise un public féminin, élégant, assuré, dynamique."
   ]
  },
  {
   "cell_type": "markdown",
   "metadata": {},
   "source": [
    "## Les donées"
   ]
  },
  {
   "cell_type": "markdown",
   "metadata": {},
   "source": [
    "Douze marques ont été retenues :\n",
    "- Orly (Orl)\n",
    "- Alezan (Ale)\n",
    "- Corsaire (Cor)\n",
    "- Directoire (Dir)\n",
    "- Ducat (Duc)\n",
    "- Fontenoy (Fon)\n",
    "- Icare (Ica)\n",
    "- Zodiac (Zod)\n",
    "- Pavois (Pav)\n",
    "- Cocker (Coc)\n",
    "- Escale (Esc)\n",
    "- Hôtesse (Hot)\n",
    "\n",
    "Pour évaluer leur image auprès du public, onze attributs ont été\n",
    "proposés aux fumeurs :\n",
    "- vieillot - désuet (VD)\n",
    "- nouveau riche (NR)\n",
    "- sobre, élégant (SE)\n",
    "- cocasse - ridicule (CR)\n",
    "- racé (RA)\n",
    "- mièvre (MI)\n",
    "- distingué (DI)\n",
    "- vulgaire - commun (VC)\n",
    "- pour un homme (HO)\n",
    "- pour une femme (FE)\n",
    "- pour une petite nature (PN)\n",
    "\n",
    "On a demandé à chacun des cent fumeurs d'associer une ou plusieurs\n",
    "parques qui selon eux conviennent le mieux.\n",
    "Le tableau de données est disponible dans le fichier \"fume.txt\"."
   ]
  },
  {
   "cell_type": "code",
   "execution_count": null,
   "metadata": {},
   "outputs": [],
   "source": [
    "import pandas"
   ]
  },
  {
   "cell_type": "code",
   "execution_count": null,
   "metadata": {},
   "outputs": [],
   "source": [
    "fume = pandas.read_csv(\"fume.txt\", delim_whitespace=True)"
   ]
  },
  {
   "cell_type": "code",
   "execution_count": null,
   "metadata": {},
   "outputs": [],
   "source": [
    "fume"
   ]
  },
  {
   "cell_type": "markdown",
   "metadata": {},
   "source": [
    "## Analyse"
   ]
  },
  {
   "cell_type": "markdown",
   "metadata": {},
   "source": [
    "### Quelles sont les marques les plus citées ? Attributs ?"
   ]
  },
  {
   "cell_type": "markdown",
   "metadata": {},
   "source": [
    "## Regarder la correlation entre les marques. Quelles sont les marques dont les correlations sont les plus faibles ? Les plus élevées ? Comment interpréter ces résultats ?"
   ]
  },
  {
   "cell_type": "markdown",
   "metadata": {},
   "source": [
    "## Les publics visés ont-ils des points communs ? Quels sont les attributs correspondants  Pourquoi a-t-on proposé des attributs ne leur correspondant pas ?"
   ]
  },
  {
   "cell_type": "markdown",
   "metadata": {},
   "source": [
    "## Regarder la correlation entre les attributs. Quelles sont les marques dont les correlations sont les plus faibles ? Les plus élevées ? Comment interpréter ces résultats ?"
   ]
  },
  {
   "cell_type": "markdown",
   "metadata": {},
   "source": [
    "## En examinant les valeurs propres et leur diagramme, déterminer les axes principaux qu'il faut garder dans les analyses."
   ]
  },
  {
   "cell_type": "markdown",
   "metadata": {},
   "source": [
    "**Attention** : nous voulons expliquer les marques par rapports aux attributs. Nos données sont donc les marques. Il faut transposer le tableau de données."
   ]
  },
  {
   "cell_type": "markdown",
   "metadata": {},
   "source": [
    "## Interprétation"
   ]
  },
  {
   "cell_type": "markdown",
   "metadata": {},
   "source": [
    "### Les axes"
   ]
  },
  {
   "cell_type": "markdown",
   "metadata": {},
   "source": [
    "Pour les axes retenus représeter sous forme d'un histogramme les corrélations aux anciens axes (`correlations[i].plot.bar()`)"
   ]
  },
  {
   "cell_type": "markdown",
   "metadata": {},
   "source": [
    "interprétations ?"
   ]
  },
  {
   "cell_type": "markdown",
   "metadata": {},
   "source": [
    "## Choix des marques ? Homme ? Femme ?"
   ]
  },
  {
   "cell_type": "code",
   "execution_count": null,
   "metadata": {},
   "outputs": [],
   "source": []
  }
 ],
 "metadata": {
  "kernelspec": {
   "display_name": "Python 3 (ipykernel)",
   "language": "python",
   "name": "python3"
  },
  "language_info": {
   "codemirror_mode": {
    "name": "ipython",
    "version": 3
   },
   "file_extension": ".py",
   "mimetype": "text/x-python",
   "name": "python",
   "nbconvert_exporter": "python",
   "pygments_lexer": "ipython3",
   "version": "3.13.2"
  },
  "vscode": {
   "interpreter": {
    "hash": "aee8b7b246df8f9039afb4144a1f6fd8d2ca17a180786b69acc140d282b71a49"
   }
  }
 },
 "nbformat": 4,
 "nbformat_minor": 4
}
