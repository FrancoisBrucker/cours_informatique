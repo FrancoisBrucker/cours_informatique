{
 "cells": [
  {
   "attachments": {},
   "cell_type": "markdown",
   "metadata": {},
   "source": [
    "# A vous : Premières manipulations\n",
    "\n",
    "Utilisez ce que vous avez appris lors du cours pour faire ces petits exercices.\n",
    "\n",
    "Le jeu de données utilisé sera la version 2021 des prénoms. Vous pourrez la télécharger de l'internet comme vue en cours."
   ]
  },
  {
   "cell_type": "markdown",
   "metadata": {},
   "source": [
    "## Un prénom\n",
    "\n",
    "### votre prénom\n",
    "\n",
    "Refaite l'étude des François avec votre prénom ou un prénom de la base si votre prénom n'y figure pas. \n",
    " \n",
    "Représentez graphiquement le nombre d'enfant né avec ce prénom par année. Tracez également une ligne avec la moyenne sur le graphique.\n",
    "\n",
    "### cas particulier des Adolphe\n",
    "\n",
    "Représentez graphiquement le nombre d'Adolphe par année. **Attention**, il y a des années sans Adolphe donc utiliser les techniques que nous avons mises en œuvre en 1.1 pour les François Fille pour être sur de pouvoir mettre un nombre à chaque année.\n",
    "\n",
    "### de l'importance des séries dans la vie\n",
    "\n",
    "Qui de 'DAENERYS' ou de 'HERMIONE' est la plus aimée ?"
   ]
  },
  {
   "cell_type": "markdown",
   "metadata": {
    "pycharm": {
     "name": "#%% md\n"
    }
   },
   "source": [
    "## Prénoms mixtes\n",
    "\n",
    "### dominiques\n",
    "\n",
    "Reprenez la partie 1.2 et tracer un graphique avec en abcisse les années et en ordonnée le pourcentage de dominique homme par rapport aux dominiques nés cette année là."
   ]
  },
  {
   "cell_type": "markdown",
   "metadata": {},
   "source": [
    "### nombre de prémons mixtes\n",
    "\n",
    "Quel est le nombre de prénoms mixte pour tout le jeu de données ? \n",
    "\n",
    "Pour faire cela, utilisez la méthode [`unique`](https://pandas.pydata.org/pandas-docs/stable/reference/api/pandas.Series.unique.html) pour obtenir une liste de prénom donnés aux hommes et un lise de prénoms donnés aux femmes. En convertissant ces listes en [ensembles](https://docs.python.org/3/tutorial/datastructures.html#sets) pour en faire facilement l'intersection.\n",
    "\n",
    "### proportions femme/homme\n",
    "\n",
    "Etudiez la propotion de garçons/filles au cours du temps. \n",
    "\n",
    "> **Attention** au fait que votre colonne doit être de type `float` et pas `int`.\n",
    "\n",
    "### proportions prenoms femme/homme\n",
    "\n",
    "Etudiez la propotion du nombre de prénoms différents garçons/filles au cours du temps. \n",
    "\n",
    "> **Attention** au fait que votre colonne doit être de type `float` et pas `int`.\n",
    "\n",
    "\n",
    "## prénom le plus donné\n",
    "\n",
    "### mode \n",
    "\n",
    "Quel est le prénoms homme et femme le plus donné par année ?"
   ]
  },
  {
   "cell_type": "markdown",
   "metadata": {},
   "source": [
    "### coefficient de Gini\n",
    "\n",
    "Faite le calcul effectif du [coefficient de gini](https://fr.wikipedia.org/wiki/Coefficient_de_Gini). On utilisera le fait que dans notre cas le coefficient de Gini peut s'écrire : \n",
    "\n",
    "$$ G = \\frac{2\\sum_{i=1}^{n}iy_i}{n\\sum_{i=1}^{n}y_i} - \\frac{n+1}{n}$$\n",
    "\n",
    "avec : \n",
    "\n",
    "- $n$ le nombre de prénoms\n",
    "- $y_i$ le nombre de personnes ayant le prénom numéro $i$ avec $y_i \\leq y_{i+1}$\n",
    "\n",
    "Explicitez en quoi ce coefficient représente bien la concentration des prénoms (que vaut ce coefficient si tout le monde à le même prénom ou si la répartition des prénoms est equiprobable ?)"
   ]
  },
  {
   "cell_type": "markdown",
   "metadata": {},
   "source": [
    "## à vous !\n",
    "\n",
    "Trouvez d'autres calculs à faire."
   ]
  },
  {
   "cell_type": "code",
   "execution_count": null,
   "metadata": {},
   "outputs": [],
   "source": []
  }
 ],
 "metadata": {
  "kernelspec": {
   "display_name": "Python 3",
   "language": "python",
   "name": "python3"
  },
  "language_info": {
   "codemirror_mode": {
    "name": "ipython",
    "version": 3
   },
   "file_extension": ".py",
   "mimetype": "text/x-python",
   "name": "python",
   "nbconvert_exporter": "python",
   "pygments_lexer": "ipython3",
   "version": "3.9.13"
  },
  "vscode": {
   "interpreter": {
    "hash": "aee8b7b246df8f9039afb4144a1f6fd8d2ca17a180786b69acc140d282b71a49"
   }
  }
 },
 "nbformat": 4,
 "nbformat_minor": 4
}
