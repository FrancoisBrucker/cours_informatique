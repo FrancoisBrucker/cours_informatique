{
 "cells": [
  {
   "cell_type": "markdown",
   "metadata": {},
   "source": [
    "# Dépenses de l'état"
   ]
  },
  {
   "cell_type": "code",
   "execution_count": null,
   "metadata": {},
   "outputs": [],
   "source": [
    "import pandas as pd\n",
    "\n",
    "dépense = pd.read_csv(\"dépense_état.csv\", index_col=0)\n",
    "\n",
    "dépense"
   ]
  },
  {
   "cell_type": "markdown",
   "metadata": {},
   "source": [
    "## k-means global"
   ]
  },
  {
   "cell_type": "markdown",
   "metadata": {},
   "source": [
    "On cherche le nombre de classes pour  les $k$-means"
   ]
  },
  {
   "cell_type": "code",
   "execution_count": null,
   "metadata": {},
   "outputs": [],
   "source": [
    "from sklearn.cluster import KMeans"
   ]
  },
  {
   "cell_type": "code",
   "execution_count": null,
   "metadata": {},
   "outputs": [],
   "source": [
    "data = dépense\n",
    "\n",
    "inertie = []\n",
    "\n",
    "for nb in range(1, 10):\n",
    "    kmeans = KMeans(n_clusters=nb,\n",
    "                    n_init=10, \n",
    "                    max_iter=300).fit(data)\n",
    "    inertie.append(kmeans.inertia_)"
   ]
  },
  {
   "cell_type": "code",
   "execution_count": null,
   "metadata": {},
   "outputs": [],
   "source": [
    "import matplotlib.pyplot as plt\n",
    "import seaborn as sns\n",
    "\n",
    "sns.set()"
   ]
  },
  {
   "cell_type": "code",
   "execution_count": null,
   "metadata": {},
   "outputs": [],
   "source": [
    "fig, ax = plt.subplots(figsize=(10, 10))\n",
    "\n",
    "sns.lineplot(x=list(range(1, len(inertie) + 1)), \n",
    "             y=inertie, \n",
    "             legend=False,\n",
    "             ax=ax)\n",
    "plt.show()"
   ]
  },
  {
   "cell_type": "markdown",
   "metadata": {},
   "source": [
    "5 classes à l'air d'être le point d'inflexion"
   ]
  },
  {
   "cell_type": "code",
   "execution_count": null,
   "metadata": {},
   "outputs": [],
   "source": [
    "kmeans = KMeans(n_clusters=5,\n",
    "                n_init=10, \n",
    "                max_iter=300).fit(data)"
   ]
  },
  {
   "cell_type": "code",
   "execution_count": null,
   "metadata": {},
   "outputs": [],
   "source": [
    "kmeans.inertia_"
   ]
  },
  {
   "cell_type": "code",
   "execution_count": null,
   "metadata": {},
   "outputs": [],
   "source": [
    "kmeans.cluster_centers_"
   ]
  },
  {
   "cell_type": "code",
   "execution_count": null,
   "metadata": {},
   "outputs": [],
   "source": [
    "clusters_kmeans = kmeans.predict(data)\n",
    "\n",
    "clusters_kmeans"
   ]
  },
  {
   "cell_type": "code",
   "execution_count": null,
   "metadata": {},
   "outputs": [],
   "source": [
    "clusters = [[], [], [], [], []]\n",
    "\n",
    "for i, cluster in enumerate(clusters_kmeans):\n",
    "    clusters[cluster].append(dépense.index[i])\n",
    "    \n",
    "clusters"
   ]
  },
  {
   "cell_type": "markdown",
   "metadata": {},
   "source": [
    "## k-means ACP\n",
    "\n",
    "Refaite l'exercice précédent, mais uniquement sur les 2 premiers axes de l'ACP sur des données **non centrées ni réduites**."
   ]
  },
  {
   "cell_type": "code",
   "execution_count": null,
   "metadata": {},
   "outputs": [],
   "source": [
    "from sklearn.decomposition import PCA \n",
    "import numpy as np\n",
    "import pandas"
   ]
  },
  {
   "cell_type": "markdown",
   "metadata": {},
   "source": [
    "On utilise les données non centrées ni réduites :"
   ]
  },
  {
   "cell_type": "code",
   "execution_count": null,
   "metadata": {},
   "outputs": [],
   "source": [
    "X = dépense"
   ]
  },
  {
   "cell_type": "code",
   "execution_count": null,
   "metadata": {},
   "outputs": [],
   "source": [
    "pca = PCA()\n",
    "pca.fit(X)\n",
    "\n",
    "U = np.transpose(pca.components_) # vecteurs propres\n",
    "I = pandas.DataFrame(np.transpose(pca.explained_variance_ratio_), columns=[\"pourcentage\"])  # information véhiculée\n",
    "\n",
    "C = pandas.DataFrame(X @ U, index=X.index) # nouvelles coordonnées"
   ]
  },
  {
   "cell_type": "code",
   "execution_count": null,
   "metadata": {},
   "outputs": [],
   "source": [
    "data = C.iloc[:, [0, 1]]\n",
    "\n",
    "data"
   ]
  },
  {
   "cell_type": "code",
   "execution_count": null,
   "metadata": {},
   "outputs": [],
   "source": [
    "inertie = []\n",
    "\n",
    "for nb in range(1, 10):\n",
    "    kmeans = KMeans(n_clusters=nb,\n",
    "                    n_init=10, \n",
    "                    max_iter=300).fit(data)\n",
    "    inertie.append(kmeans.inertia_)"
   ]
  },
  {
   "cell_type": "code",
   "execution_count": null,
   "metadata": {},
   "outputs": [],
   "source": [
    "fig, ax = plt.subplots(figsize=(10, 10))\n",
    "\n",
    "sns.lineplot(x=list(range(1, len(inertie) + 1)), \n",
    "             y=inertie, \n",
    "             legend=False,\n",
    "             ax=ax)\n",
    "plt.show()"
   ]
  },
  {
   "cell_type": "markdown",
   "metadata": {},
   "source": [
    "On voit que 5 classes suffisent également"
   ]
  },
  {
   "cell_type": "code",
   "execution_count": null,
   "metadata": {},
   "outputs": [],
   "source": [
    "kmeans = KMeans(n_clusters=5,\n",
    "                n_init=10, \n",
    "                max_iter=300).fit(data)\n",
    "\n",
    "clusters_kmeans = kmeans.predict(data)\n",
    "\n",
    "clusters = [[], [], [], [], []]\n",
    "\n",
    "for i, cluster in enumerate(clusters_kmeans):\n",
    "    clusters[cluster].append(dépense.index[i])\n",
    "    \n",
    "clusters"
   ]
  },
  {
   "cell_type": "code",
   "execution_count": null,
   "metadata": {},
   "outputs": [],
   "source": [
    "#centres\n",
    "\n",
    "centers = kmeans.cluster_centers_\n",
    "centers\n",
    "\n",
    "#couleurs \n",
    "current_palette = sns.color_palette()\n",
    "colors = {i: current_palette[i] for i in range(len(centers))}"
   ]
  },
  {
   "cell_type": "code",
   "execution_count": null,
   "metadata": {},
   "outputs": [],
   "source": [
    "fig, ax = plt.subplots(figsize=(10, 10))\n",
    "\n",
    "draw = sns.scatterplot(x=0, \n",
    "                y=1, \n",
    "                data=data,\n",
    "                hue=clusters_kmeans,\n",
    "                palette=colors,\n",
    "                legend=False,\n",
    "                ax=ax)\n",
    "\n",
    "for index, row in data.iterrows():\n",
    "    draw.annotate(str(index), (row[0], row[1]))\n",
    "                 \n",
    "\n",
    "plt.show()"
   ]
  },
  {
   "cell_type": "markdown",
   "metadata": {},
   "source": [
    "Les classes peuvent être identiques, mais l'inertie est beaucoup plus petite pour la deuxième classification."
   ]
  },
  {
   "cell_type": "markdown",
   "metadata": {},
   "source": [
    "## Centrer et réduire\n",
    "\n",
    "On refait l'ACP sur des données centrées et réduite cette fois-ci."
   ]
  },
  {
   "cell_type": "code",
   "execution_count": null,
   "metadata": {},
   "outputs": [],
   "source": [
    "from sklearn.preprocessing import StandardScaler\n",
    "import pandas"
   ]
  },
  {
   "cell_type": "code",
   "execution_count": null,
   "metadata": {},
   "outputs": [],
   "source": [
    "scaler = StandardScaler()\n",
    "\n",
    "X = pandas.DataFrame(scaler.fit_transform(dépense), columns=dépense.columns)"
   ]
  },
  {
   "cell_type": "code",
   "execution_count": null,
   "metadata": {},
   "outputs": [],
   "source": [
    "pca = PCA()\n",
    "pca.fit(X)\n",
    "\n",
    "U = np.transpose(pca.components_) # vecteurs propres\n",
    "I = pandas.DataFrame(np.transpose(pca.explained_variance_ratio_), columns=[\"pourcentage\"])  # information véhiculée\n",
    "\n",
    "C = pandas.DataFrame(X @ U, index=X.index) # nouvelles coordonnées"
   ]
  },
  {
   "cell_type": "code",
   "execution_count": null,
   "metadata": {},
   "outputs": [],
   "source": [
    "data = C.iloc[:, [0, 1]]\n",
    "\n",
    "data"
   ]
  },
  {
   "cell_type": "code",
   "execution_count": null,
   "metadata": {},
   "outputs": [],
   "source": [
    "inertie = []\n",
    "\n",
    "for nb in range(1, 10):\n",
    "    kmeans = KMeans(n_clusters=nb,\n",
    "                    n_init=10, \n",
    "                    max_iter=300).fit(data)\n",
    "    inertie.append(kmeans.inertia_)"
   ]
  },
  {
   "cell_type": "code",
   "execution_count": null,
   "metadata": {},
   "outputs": [],
   "source": [
    "fig, ax = plt.subplots(figsize=(10, 10))\n",
    "\n",
    "sns.lineplot(x=list(range(1, len(inertie) + 1)), \n",
    "             y=inertie, \n",
    "             legend=False,\n",
    "             ax=ax)\n",
    "plt.show()"
   ]
  },
  {
   "cell_type": "markdown",
   "metadata": {},
   "source": [
    "Ici 4 classes est suffisant et l'inertie est minuscule."
   ]
  },
  {
   "cell_type": "code",
   "execution_count": null,
   "metadata": {},
   "outputs": [],
   "source": [
    "kmeans = KMeans(n_clusters=4,\n",
    "                n_init=10, \n",
    "                max_iter=300).fit(data)\n",
    "\n",
    "clusters_kmeans = kmeans.predict(data)\n",
    "\n",
    "clusters = [[], [], [], []]\n",
    "\n",
    "for i, cluster in enumerate(clusters_kmeans):\n",
    "    clusters[cluster].append(dépense.index[i])\n",
    "    \n",
    "clusters"
   ]
  },
  {
   "cell_type": "code",
   "execution_count": null,
   "metadata": {},
   "outputs": [],
   "source": []
  }
 ],
 "metadata": {
  "kernelspec": {
   "display_name": "Python 3 (ipykernel)",
   "language": "python",
   "name": "python3"
  },
  "language_info": {
   "codemirror_mode": {
    "name": "ipython",
    "version": 3
   },
   "file_extension": ".py",
   "mimetype": "text/x-python",
   "name": "python",
   "nbconvert_exporter": "python",
   "pygments_lexer": "ipython3",
   "version": "3.9.12"
  },
  "vscode": {
   "interpreter": {
    "hash": "40d3a090f54c6569ab1632332b64b2c03c39dcf918b08424e98f38b5ae0af88f"
   }
  }
 },
 "nbformat": 4,
 "nbformat_minor": 2
}
