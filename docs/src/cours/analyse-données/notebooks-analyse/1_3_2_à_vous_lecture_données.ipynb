{
 "cells": [
  {
   "cell_type": "markdown",
   "metadata": {},
   "source": [
    "# A vous : Lecture de données\n",
    "\n",
    "On vous demande de charger des données et de vérifier que tout est ok. Pour les trois jeux de données, des compétences différentes vont être utilisées."
   ]
  },
  {
   "cell_type": "markdown",
   "metadata": {},
   "source": [
    "**N'oubliez pas** : chargement des données = comprendre ce qu'il y a dedans."
   ]
  },
  {
   "cell_type": "markdown",
   "metadata": {},
   "source": [
    "## iris de fisher\n",
    "\n",
    "Les [iris de fisher](https://fr.wikipedia.org/wiki/Iris_de_Fisher) sont un jeu de donnée classique, il est disponible dans de nombreuses bibliothèques. Chargez les depuis les bibliothèques suivantes et vérifiez que c'est bien le même :\n",
    "\n",
    "* seaborn : https://seaborn.pydata.org/generated/seaborn.load_dataset.html\n",
    "* sklearn : https://scikit-learn.org/stable/datasets/index.html\n",
    "* uci : http://archive.ics.uci.edu/ml/datasets/Iris"
   ]
  },
  {
   "cell_type": "markdown",
   "metadata": {},
   "source": [
    "## crimes\n",
    "\n",
    "http://archive.ics.uci.edu/ml/datasets/communities+and+crime\n",
    "\n",
    "1. que représentent les données ?\n",
    "2. chargez les données\n",
    "3. Explicitez les différentes colonnes et modifier les données pur que les colonnes soient ok.\n",
    "4. Il y a des données manquantes. Où sont-elles ?\n",
    "5. En s'aidant de <https://pandas.pydata.org/pandas-docs/stable/user_guide/missing_data.html> remplacez les données manquantes par la moyenne"
   ]
  },
  {
   "cell_type": "code",
   "execution_count": null,
   "metadata": {},
   "outputs": [],
   "source": []
  }
 ],
 "metadata": {
  "kernelspec": {
   "display_name": "Python 3",
   "language": "python",
   "name": "python3"
  },
  "language_info": {
   "codemirror_mode": {
    "name": "ipython",
    "version": 3
   },
   "file_extension": ".py",
   "mimetype": "text/x-python",
   "name": "python",
   "nbconvert_exporter": "python",
   "pygments_lexer": "ipython3",
   "version": "3.9.13 (main, May 24 2022, 21:28:31) \n[Clang 13.1.6 (clang-1316.0.21.2)]"
  },
  "vscode": {
   "interpreter": {
    "hash": "aee8b7b246df8f9039afb4144a1f6fd8d2ca17a180786b69acc140d282b71a49"
   }
  }
 },
 "nbformat": 4,
 "nbformat_minor": 4
}
