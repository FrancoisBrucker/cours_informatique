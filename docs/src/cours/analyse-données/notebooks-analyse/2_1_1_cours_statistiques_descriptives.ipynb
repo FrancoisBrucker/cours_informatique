{
 "cells": [
  {
   "cell_type": "markdown",
   "metadata": {},
   "source": [
    "# Données"
   ]
  },
  {
   "cell_type": "markdown",
   "metadata": {},
   "source": [
    "## Données et Matrice"
   ]
  },
  {
   "cell_type": "markdown",
   "metadata": {},
   "source": [
    "On considère qu'une donnée $x_i$ est décrite par $m$ caractéristiques réelles. La donnée $x_i$ est ainsi assimilable à un vecteur $x_i = (x_i^1, \\dots, x_i^m)$ de $\\mathbb{R}^m$. Si l'on possède $n$ données, on peut les représenter sous la forme d'une matrice :\n",
    "\n",
    "$$X = \\left(\n",
    "\\begin{array}{cccccc}\n",
    "x^1_1&\\dots &x^j_1 &\\dots &x_1^m\\\\\n",
    "     &      &\\vdots&      &  \\\\\n",
    "x_i^1&\\dots &x^j_i &\\dots &x_i^m\\\\\n",
    "     &      &\\vdots&      & \\\\\n",
    "x_n^1&\\dots &x^j_n&\\dots &x_n^m\n",
    "\\end{array}\n",
    "\\right)$$\n",
    "\n",
    "Où :\n",
    "\n",
    "* une donnée est un vecteur ligne $x_i$ à $m$ coordonnées\n",
    "* un caractère est un vecteur colonne  $x^j$  à $n$ coordonnées"
   ]
  },
  {
   "cell_type": "markdown",
   "metadata": {},
   "source": [
    "> Nous nous restreingons à des donées réelles, mais il existe tout un tas d'autres type de données (catégorielles, entière, booléennes, ...) qui mobilisent chacunes leurs propres méthodes d'analyse."
   ]
  },
  {
   "cell_type": "markdown",
   "metadata": {},
   "source": [
    "C'est ce modèle de donnée qui est utilisé dans la bibliothèque [`pandas`](https://pandas.pydata.org/). \n",
    "\n",
    "* un jeu de donné est un objet du type [`pandas.DataFrame`](https://pandas.pydata.org/docs/reference/api/pandas.DataFrame.html)\n",
    "* chaque caractéristique (les colonnes d'un `DataFrame`) est un objet de type [`pandas.Series`](https://pandas.pydata.org/docs/reference/api/pandas.Series.html)\n",
    "\n",
    "Manipuler et analyser des données en pandas revient à utiliser des méthodes de l'objet `pandas.DataFrame` ou de `pandas.Series`."
   ]
  },
  {
   "cell_type": "markdown",
   "metadata": {},
   "source": [
    "## Jeu de données"
   ]
  },
  {
   "attachments": {},
   "cell_type": "markdown",
   "metadata": {},
   "source": [
    "Le jeu de donné que l'on va utiliser est ici le résultat d'un contrôle (fichier \"*epreuve.txt*\"). Il y a 26 étudiants et pour chacun sont listés le temps mit pour faire l'épreuve et le nombre d'erreurs.\n",
    "\n",
    "**On regarde** le fichier dans un éditeur de texte et on voit que :\n",
    "\n",
    "* l'encodage du fichier est : unicode\n",
    "* c'est un fichier csv dont le délimiteur est un espace"
   ]
  },
  {
   "cell_type": "markdown",
   "metadata": {},
   "source": [
    "### Importation avec `pandas`"
   ]
  },
  {
   "cell_type": "code",
   "execution_count": null,
   "metadata": {},
   "outputs": [],
   "source": [
    "import pandas"
   ]
  },
  {
   "cell_type": "code",
   "execution_count": null,
   "metadata": {},
   "outputs": [],
   "source": [
    "épreuve = pandas.read_csv(\"./épreuve.txt\", delim_whitespace=True)\n",
    "épreuve"
   ]
  },
  {
   "cell_type": "markdown",
   "metadata": {},
   "source": [
    "### Représentation graphique\n",
    "\n",
    "Comme nos données sont des vecteurs de $\\mathbb{R}^2$ on peut les repréenter dans le plan."
   ]
  },
  {
   "cell_type": "code",
   "execution_count": null,
   "metadata": {},
   "outputs": [],
   "source": [
    "import seaborn as sns\n",
    "import matplotlib.pyplot as plt\n",
    "\n",
    "sns.set()"
   ]
  },
  {
   "cell_type": "markdown",
   "metadata": {},
   "source": [
    "> **Attention !** On a appelé `sns` la bibliothèque seaborn. Une fonction de la documentation nommé `seaborn.nom_méthode` devra être appelée `sns.nom_méthode` ici."
   ]
  },
  {
   "cell_type": "markdown",
   "metadata": {},
   "source": [
    "On représente les données comme des points en 2 dimensions. Pour cela on utilise [`seaborn.scatterplot`](https://seaborn.pydata.org/generated/seaborn.scatterplot.html) :"
   ]
  },
  {
   "cell_type": "code",
   "execution_count": null,
   "metadata": {},
   "outputs": [],
   "source": [
    "fig, ax = plt.subplots(figsize=(12, 7))\n",
    "\n",
    "sns.scatterplot(x=épreuve['temps'], \n",
    "                y=épreuve['erreurs'],\n",
    "                ax=ax)\n",
    "for i in épreuve.index:\n",
    "    ax.text(épreuve['temps'][i], épreuve['erreurs'][i], str(i))\n",
    "plt.show()"
   ]
  },
  {
   "cell_type": "markdown",
   "metadata": {},
   "source": [
    "PLusiuers étudiants ont pris le même temps et fait le même nombre d'erreurs. Pour essayer de voir tous les étudiants, on peut faire comme pour des données catégorielles, c'est à dire ajouter un *jitter* en x.  Mais attention, ce ne sont plus les données originelles représentées comme des point d'un espace vectoriel.\n",
    "\n",
    "On utilise alors [`seaborn.stripplot`](https://seaborn.pydata.org/generated/seaborn.stripplot.html) :"
   ]
  },
  {
   "cell_type": "code",
   "execution_count": null,
   "metadata": {},
   "outputs": [],
   "source": [
    "fig, ax = plt.subplots(figsize=(20, 5))\n",
    "sns.stripplot(x=épreuve['temps'], \n",
    "              y=épreuve['erreurs'], \n",
    "              ax=ax)\n",
    "plt.show()"
   ]
  },
  {
   "cell_type": "markdown",
   "metadata": {},
   "source": [
    "Pour les labels, c'est un peu plus compliqué. Ci-dessous une solution possible."
   ]
  },
  {
   "cell_type": "code",
   "execution_count": null,
   "metadata": {},
   "outputs": [],
   "source": [
    "fig, ax = plt.subplots(figsize=(20, 5))\n",
    "sns.stripplot(x=épreuve['temps'], \n",
    "              y=épreuve['erreurs'], \n",
    "              ax=ax\n",
    "             )\n",
    "temps_values = épreuve['temps'].drop_duplicates().sort_values().to_list()\n",
    "décalage = {}\n",
    "for i in épreuve.index:\n",
    "    x, y = temps_values.index(épreuve['temps'][i]), épreuve['erreurs'][i]\n",
    "    if (x, y) not in décalage:\n",
    "        décalage[(x, y)] = 0\n",
    "    else:\n",
    "        décalage[(x, y)] += .1\n",
    "    ax.text(x + décalage[(x, y)], y, str(i))\n",
    "\n",
    "plt.show()"
   ]
  },
  {
   "cell_type": "markdown",
   "metadata": {},
   "source": [
    "# Résumer des données\n",
    "\n",
    "Lorsque le jeu de donnée devient trop grand pour l'appréhender directement, on a coutume de le résumer par des valeurs qui auront chacune pour tâche d'éclairer un pan des données."
   ]
  },
  {
   "cell_type": "markdown",
   "metadata": {},
   "source": [
    "## Grouper des données\n",
    "\n",
    "Ici on va étudier chaque caractère indépendamment."
   ]
  },
  {
   "cell_type": "markdown",
   "metadata": {},
   "source": [
    "### Histogrammes"
   ]
  },
  {
   "cell_type": "markdown",
   "metadata": {},
   "source": [
    "On utilise un histogramme, directement présent pour un dataframe pandas ([`pandas.DataFrame.hist`](https://pandas.pydata.org/docs/reference/api/pandas.DataFrame.hist.html)) : "
   ]
  },
  {
   "cell_type": "markdown",
   "metadata": {},
   "source": [
    "> **Attention !** Nos données sont ici des dataframes, on peut donc directement utiliser `df.hist` si nos données sont appelées `df`."
   ]
  },
  {
   "cell_type": "code",
   "execution_count": null,
   "metadata": {},
   "outputs": [],
   "source": [
    "fig, ax = plt.subplots(figsize=(20, 5), ncols=2) # 2 histogrammes, un sur chaque colonne\n",
    "épreuve.hist(ax=ax)\n",
    "plt.show()"
   ]
  },
  {
   "cell_type": "markdown",
   "metadata": {},
   "source": [
    "### Densités"
   ]
  },
  {
   "cell_type": "markdown",
   "metadata": {},
   "source": [
    "On supperpose à un histogramme un estimateur de densité. Ceci peut se faire avec la méthode [`seaborn.histplot`](https://seaborn.pydata.org/generated/seaborn.histplot.html) de seaborn :"
   ]
  },
  {
   "cell_type": "code",
   "execution_count": null,
   "metadata": {},
   "outputs": [],
   "source": [
    "fig, ax = plt.subplots(figsize=(20, 5))\n",
    "sns.histplot(data=épreuve, x='temps', kde=True, ax=ax)\n",
    "plt.show()"
   ]
  },
  {
   "cell_type": "code",
   "execution_count": null,
   "metadata": {},
   "outputs": [],
   "source": [
    "fig, ax = plt.subplots(figsize=(20, 5))\n",
    "sns.histplot(data=épreuve, x='erreurs', kde=True, ax=ax)\n",
    "plt.show()"
   ]
  },
  {
   "cell_type": "markdown",
   "metadata": {},
   "source": [
    "## Statistiques descriptives\n",
    "\n",
    "Il n'y a presque jamais de raisons de résumer une donnée par un nombre. En revanche résumer un caractère a beaucoup de sens car il permet de voir comment une donée particulière se situe par rapport aux autres données."
   ]
  },
  {
   "cell_type": "markdown",
   "metadata": {},
   "source": [
    "On utilise les statistiques descriptives que sont :\n",
    "\n",
    "* la moyenne\n",
    "* variance et écart-type\n",
    "* les [quartiles](https://fr.wikipedia.org/wiki/Quartile)\n",
    "* min et max\n",
    "\n",
    "Ces données sont directement accessibles avec pandas si le dataframe est numérique (ce qui est le cas ici) avec la méthode : [`pandas.DataFrame.describe`](https://pandas.pydata.org/docs/reference/api/pandas.DataFrame.describe.html)"
   ]
  },
  {
   "cell_type": "code",
   "execution_count": null,
   "metadata": {},
   "outputs": [],
   "source": [
    "épreuve.describe()"
   ]
  },
  {
   "cell_type": "markdown",
   "metadata": {},
   "source": [
    "On peut représenter ces nombres dans [une boîte à moustache](https://en.wikipedia.org/wiki/Box_plot) avec la méthode [`pandas.DataFrame.boxplot`](https://pandas.pydata.org/docs/reference/api/pandas.DataFrame.boxplot.html)"
   ]
  },
  {
   "cell_type": "code",
   "execution_count": null,
   "metadata": {},
   "outputs": [],
   "source": [
    "fig, ax = plt.subplots(figsize=(20, 5))\n",
    "sns.boxplot(data=épreuve, x='temps', ax=ax)\n",
    "plt.show()"
   ]
  },
  {
   "cell_type": "code",
   "execution_count": null,
   "metadata": {},
   "outputs": [],
   "source": [
    "fig, ax = plt.subplots(figsize=(20, 5))\n",
    "sns.boxplot(data=épreuve, x='erreurs', ax=ax)\n",
    "plt.show()"
   ]
  },
  {
   "cell_type": "markdown",
   "metadata": {},
   "source": [
    "Ou encore une [violin box](https://en.wikipedia.org/wiki/Violin_plot) qui représente la densité estimée avec [`seaborn.violinplot`](https://seaborn.pydata.org/generated/seaborn.violinplot.html)"
   ]
  },
  {
   "cell_type": "code",
   "execution_count": null,
   "metadata": {},
   "outputs": [],
   "source": [
    "fig, ax = plt.subplots(figsize=(20, 5))\n",
    "sns.violinplot(data=épreuve, x='temps', ax=ax)\n",
    "plt.show()"
   ]
  },
  {
   "cell_type": "code",
   "execution_count": null,
   "metadata": {},
   "outputs": [],
   "source": [
    "fig, ax = plt.subplots(figsize=(20, 5))\n",
    "sns.violinplot(data=épreuve, x='erreurs', ax=ax)\n",
    "plt.show()"
   ]
  },
  {
   "cell_type": "markdown",
   "metadata": {},
   "source": [
    "# Qu'est ce que la moyenne et la variance ?"
   ]
  },
  {
   "cell_type": "markdown",
   "metadata": {},
   "source": [
    "## Valeur centrale d'ordre $p$"
   ]
  },
  {
   "attachments": {},
   "cell_type": "markdown",
   "metadata": {},
   "source": [
    "Soit $u = (u_1, \\dots, u_n)$ un vecteur de $\\mathbb{R}^n$ muni de la norme $L_p$ :\n",
    "\n",
    "$$\n",
    "|| u ||_p = \\sqrt[{\\large p}]{\\frac{1}{n}\\sum_{1 \\leq i \\leq n}(u_i)^p}\n",
    "$$\n",
    "\n",
    "On appelle ***valeur centrale d'ordre $p$*** la valeur $c_p(u)$ tel que le vecteur constant $(c_p(u), \\dots, c_p(u))$ réalise le minimum de (avec $C$ l'ensemble des vecteurs constant à $n$ dimensions) :\n",
    "\n",
    "$$||u - c_p(u)||_p = \\min_{c \\in C} ||u - c||_p$$\n",
    "\n",
    "La valeur centrale d'ordre $p$ est donc le minimum de la fonction :\n",
    "\n",
    "$$\n",
    "f(x) = \\sum_{1 \\leq i \\leq n}(u_i-x)^p\n",
    "$$"
   ]
  },
  {
   "cell_type": "markdown",
   "metadata": {},
   "source": [
    "> Les valeurs centrales sont de bons résumés d'un vecteur par un nombre."
   ]
  },
  {
   "cell_type": "markdown",
   "metadata": {},
   "source": [
    "## Moyenne"
   ]
  },
  {
   "cell_type": "markdown",
   "metadata": {},
   "source": [
    "> On appelle ***[moyenne](https://fr.wikipedia.org/wiki/Moyenne)*** d'un vecteur $u = (u_1, \\dots, u_n)$ sa valeur centrale d'ordre 2 et on la note $\\overline{u}$"
   ]
  },
  {
   "cell_type": "markdown",
   "metadata": {},
   "source": [
    "En effet, la valeur centrale d'ordre 2 doit minimiser la fonction $f(x)$  :\n",
    "  \n",
    "$$\n",
    "f_2(x) = \\sum_{1 \\leq i \\leq n}(u_i-c)^2\n",
    "$$\n",
    "\n",
    "Ce minimum est facile à trouver en minimsant la dérivée."
   ]
  },
  {
   "cell_type": "markdown",
   "metadata": {},
   "source": [
    "> la moyenne d'un vecteur $u = (u_1, \\dots, u_n)$ est :\n",
    "\n",
    "$$\n",
    "\\overline{u} = \\frac{1}{n}\\sum_{1 \\leq i \\leq n}u_i\n",
    "$$"
   ]
  },
  {
   "cell_type": "code",
   "execution_count": null,
   "metadata": {},
   "outputs": [],
   "source": [
    "moyenne = épreuve.mean()\n",
    "print(moyenne)"
   ]
  },
  {
   "cell_type": "markdown",
   "metadata": {},
   "source": [
    "Ajoutons la moyenne à notre représentation graphique (croix rouge) :"
   ]
  },
  {
   "cell_type": "code",
   "execution_count": null,
   "metadata": {},
   "outputs": [],
   "source": [
    "fig, ax = plt.subplots(figsize=(20, 5))\n",
    "sns.scatterplot(x=épreuve['temps'], \n",
    "                y=épreuve['erreurs'],\n",
    "                ax=ax)\n",
    "\n",
    "# for i in épreuve.index:\n",
    "#     ax.text(épreuve['temps'][i], épreuve['erreurs'][i], str(i))\n",
    "\n",
    "ax.scatter(moyenne['temps'], moyenne['erreurs'], marker=\"+\", color=\"red\")\n",
    "plt.show()"
   ]
  },
  {
   "cell_type": "markdown",
   "metadata": {},
   "source": [
    "## Médiane"
   ]
  },
  {
   "attachments": {},
   "cell_type": "markdown",
   "metadata": {},
   "source": [
    "> On appelle ***[médiane](https://fr.wikipedia.org/wiki/M%C3%A9diane_(statistiques))*** d'un vecteur $u = (u_1, \\dots, u_n)$ sa valeur centrale d'ordre 1 et on la note $me(u)$."
   ]
  },
  {
   "attachments": {},
   "cell_type": "markdown",
   "metadata": {},
   "source": [
    "La valeur centrale d'ordre 1 minimise la fonction :\n",
    "\n",
    "$$f(x) = \\sum_{i=1}^{n} |u_i - y|$$\n",
    "\n",
    "Et on trouve en raisonnant par cas que $me(u)$ est l'élément du milieu de la liste triée contenant les éléments de $u$."
   ]
  },
  {
   "cell_type": "code",
   "execution_count": null,
   "metadata": {},
   "outputs": [],
   "source": [
    "mediane = épreuve.median()\n",
    "print(mediane)"
   ]
  },
  {
   "cell_type": "markdown",
   "metadata": {},
   "source": [
    "Ajoutons la médiane à notre représentation graphique (étoile mauve) :"
   ]
  },
  {
   "cell_type": "code",
   "execution_count": null,
   "metadata": {},
   "outputs": [],
   "source": [
    "fig, ax = plt.subplots(figsize=(20, 5))\n",
    "sns.scatterplot(x=épreuve['temps'], \n",
    "                y=épreuve['erreurs'],\n",
    "                ax=ax)\n",
    "\n",
    "# for i in épreuve.index:\n",
    "#     ax.text(épreuve['temps'][i], épreuve['erreurs'][i], str(i))\n",
    "\n",
    "ax.scatter(mediane['temps'], mediane['erreurs'], marker=\"*\", color=\"purple\")\n",
    "ax.scatter(moyenne['temps'], moyenne['erreurs'], marker=\"+\", color=\"red\")\n",
    "\n",
    "plt.show()"
   ]
  },
  {
   "cell_type": "markdown",
   "metadata": {},
   "source": [
    "## Dispersion\n",
    "\n",
    "Un paramère de dispersion permet de mesurer l'amplitude des variations autour d'une valeur centrale. On la calcule comme une erreur."
   ]
  },
  {
   "cell_type": "markdown",
   "metadata": {},
   "source": [
    "On appelle ***paramètre de dispersion d'ordre $p$*** la valeur $d_p(u)$ correspondant à la valeur :\n",
    "\n",
    "$$d_p(u) = ||u - c_p(u)||_p$$\n",
    "\n",
    "Où $c_p(u)$ est la valeur centrale d'ordre $p$."
   ]
  },
  {
   "cell_type": "markdown",
   "metadata": {},
   "source": [
    "> On appelle ***[écart-type](https://fr.wikipedia.org/wiki/%C3%89cart_type)*** le paramètre de dispersion d'ordre 2\n",
    "\n",
    "On le note $\\sigma(u)$ et il vaut :\n",
    "\n",
    "$$\n",
    "\\sigma(u) = \\sqrt{\\frac{1}{n}\\sum_{1 \\leq i \\leq n}(u_i - \\overline{u})^2}\n",
    "$$"
   ]
  },
  {
   "cell_type": "markdown",
   "metadata": {},
   "source": [
    "> On appelle ***[variance](https://fr.wikipedia.org/wiki/Variance_(math%C3%A9matiques))*** le carré de l'écart-type et on le note $\\sigma^2(u)$"
   ]
  },
  {
   "cell_type": "code",
   "execution_count": null,
   "metadata": {},
   "outputs": [],
   "source": [
    "écart_type =  épreuve.std()\n",
    "\n",
    "écart_type"
   ]
  },
  {
   "cell_type": "markdown",
   "metadata": {},
   "source": [
    "# Centrer et réduire les données"
   ]
  },
  {
   "cell_type": "markdown",
   "metadata": {},
   "source": [
    "Lorsque l'on étudie non plus juste un paramètre des données, mais que l'on cherche à comparer des données entre elles, il faut faire un peu attention car on cherche en analyse des données à prendre en compte tous les paramètres de façon équivalente dans ces comparaisons.\n",
    "\n",
    "> L'usage est de ***centrer*** et ***réduire*** les données."
   ]
  },
  {
   "cell_type": "markdown",
   "metadata": {},
   "source": [
    "La ***moyenne*** d'un jeu de donnée $X$ sera alors le vecteur :\n",
    "\n",
    "$$\n",
    "\\overline{X} = (\\overline{x^1}, \\dots, \\overline{x^j}, \\dots, \\overline{x^m})\n",
    "$$\n",
    "\n",
    "Et sa ***variance*** : \n",
    "\n",
    "$$\n",
    "\\sigma^2(X) = (\\sigma^2(x^1), \\dots, \\sigma^2(x^j), \\dots, \\sigma^2(x^m))\n",
    "$$\n"
   ]
  },
  {
   "cell_type": "markdown",
   "metadata": {},
   "source": [
    "## Centrer"
   ]
  },
  {
   "cell_type": "markdown",
   "metadata": {},
   "source": [
    "En considérant nos données comme un nuage de points, l'origine du repère peut être très éloigné (des humains mesurés en $\\mu$mètres par exemple. Pour rendre son statut d'origine à l'origine, on a alors coutume de ***centrer les les données*** : c'est à dire d'effectuer la translation pour chaque **colonne** :\n",
    "\n",
    "$$x^j \\leftarrow x^j - \\overline{x^j}$$"
   ]
  },
  {
   "cell_type": "markdown",
   "metadata": {},
   "source": [
    "> La moyenne de données centrée est 0"
   ]
  },
  {
   "cell_type": "code",
   "execution_count": null,
   "metadata": {},
   "outputs": [],
   "source": [
    "épreuve_centrée = épreuve - moyenne\n",
    "\n",
    "épreuve_centrée"
   ]
  },
  {
   "cell_type": "code",
   "execution_count": null,
   "metadata": {},
   "outputs": [],
   "source": [
    "épreuve_centrée.mean()"
   ]
  },
  {
   "cell_type": "markdown",
   "metadata": {},
   "source": [
    "Les données centrées permettent de voir ce qui est petit / grand par rapport à la moyenne en regardant uniquement le signe des données."
   ]
  },
  {
   "cell_type": "code",
   "execution_count": null,
   "metadata": {},
   "outputs": [],
   "source": [
    "fig, ax = plt.subplots(figsize=(7, 7))\n",
    "sns.scatterplot(x=épreuve_centrée['temps'], \n",
    "                y=épreuve_centrée['erreurs'],\n",
    "                ax=ax)\n",
    "\n",
    "for i in épreuve.index:\n",
    "    ax.text(épreuve_centrée['temps'][i], épreuve_centrée['erreurs'][i], str(i))\n",
    "\n",
    "ax.axvline(0)\n",
    "ax.axhline(0)\n",
    "plt.show()"
   ]
  },
  {
   "cell_type": "markdown",
   "metadata": {},
   "source": [
    "## Réduire"
   ]
  },
  {
   "cell_type": "markdown",
   "metadata": {},
   "source": [
    "Comparer les données entre elles se fait en calculant une distance entres elles. En reprenant la norme $L_2$, comparer deux données se fait alors selon la formule :\n",
    "\n",
    "$$\n",
    "d^2(x_i, x_{i'}) = \\frac{1}{n}\\sum_{1\\leq j \\leq m}(x_i^j - x_{i'}^j)^2\n",
    "$$\n",
    "\n",
    "Pour que cette comparaison soit efficace il faut :\n",
    "\n",
    "* que les variation de chaque colonne contribuent de la même façn à la distance\n",
    "* ne faut pas qu'une caractéristique écrase les autres dans le calcul de la distance\n"
   ]
  },
  {
   "cell_type": "markdown",
   "metadata": {},
   "source": [
    "Pour savoir comment se comportent les objets par rapport à leurs coordonnées on a un problème d'unité : temps et nombre d'erreurs. Plus pertinent de regarder l'écart par rapport à la position moyenne.\n",
    "\n",
    "L'erreur des nombres par rapport à la moyenne est appelé variance : $\\frac{1}{n} \\sum_{i=1}^{n} (x_i - \\bar{x})^2 = \\sigma(x)^2$.\n",
    "De là si on divise chaque nombre par $\\sigma$ (appelé l'écart type) on obtient $x'_i = \\frac{x_i}{\\sigma}$ et de là la variance de $x' = (x_1, \\dots, x_n)$ vaut $1$ et est un nombre sans unité : on homogénise les différents axes.  \n"
   ]
  },
  {
   "cell_type": "markdown",
   "metadata": {},
   "source": [
    "Répondre au deux préoccupations précédente peut se faire en divisant chaque caractérisitque par son écart type : \n",
    "\n",
    "$$x^j \\leftarrow \\frac{x^j}{\\sigma(x^j)}$$\n",
    "\n",
    "Cette opération s'appelle ***réduire les données***"
   ]
  },
  {
   "cell_type": "markdown",
   "metadata": {},
   "source": [
    "> L'écart-type de données réduites vaut 1"
   ]
  },
  {
   "cell_type": "code",
   "execution_count": null,
   "metadata": {},
   "outputs": [],
   "source": [
    "écart_type =  épreuve.std()\n",
    "\n",
    "écart_type"
   ]
  },
  {
   "cell_type": "code",
   "execution_count": null,
   "metadata": {},
   "outputs": [],
   "source": [
    "épreuve_réduit = épreuve / écart_type\n",
    "\n",
    "épreuve_réduit"
   ]
  },
  {
   "cell_type": "code",
   "execution_count": null,
   "metadata": {},
   "outputs": [],
   "source": [
    "épreuve_réduit.std()"
   ]
  },
  {
   "cell_type": "markdown",
   "metadata": {},
   "source": [
    "### Données centrées et réduites"
   ]
  },
  {
   "cell_type": "markdown",
   "metadata": {},
   "source": [
    "Les données centrée et réduite sont dite homogénéisées. On peut les comparer car ils ont la même unité (sans unité) et leur variantion est identique (variance = écart à la moyenne = 1).\n",
    "Cette opération étant quasi-obligatoire pour tout jeu de données, une méthode toute faite existe."
   ]
  },
  {
   "cell_type": "code",
   "execution_count": null,
   "metadata": {},
   "outputs": [],
   "source": [
    "épreuve_centrée_réduite = (épreuve - épreuve.mean()) / épreuve.std()\n",
    "épreuve_centrée_réduite"
   ]
  },
  {
   "cell_type": "code",
   "execution_count": null,
   "metadata": {},
   "outputs": [],
   "source": [
    "épreuve_centrée_réduite.describe()"
   ]
  },
  {
   "cell_type": "markdown",
   "metadata": {},
   "source": [
    "On peut maintenant trouver les étudiants ayant fait moins bien que la moyenne en temps et en erreurs.\n",
    "\n",
    "Au delà de ±2 c'est un gros écrart."
   ]
  },
  {
   "cell_type": "markdown",
   "metadata": {},
   "source": [
    "Représentons graphiquement ces données :"
   ]
  },
  {
   "cell_type": "code",
   "execution_count": null,
   "metadata": {},
   "outputs": [],
   "source": [
    "fig, ax = plt.subplots(figsize=(7, 7))\n",
    "sns.scatterplot(x=épreuve_centrée_réduite['temps'], \n",
    "                y=épreuve_centrée_réduite['erreurs'],\n",
    "                ax=ax)\n",
    "\n",
    "for i in épreuve_centrée_réduite.index:\n",
    "    ax.text(épreuve_centrée_réduite['temps'][i], épreuve_centrée_réduite['erreurs'][i], str(i))\n",
    "\n",
    "ax.axvline(0)\n",
    "ax.axhline(0)\n",
    "plt.show()"
   ]
  },
  {
   "cell_type": "markdown",
   "metadata": {},
   "source": [
    "### Homogénéisation avec `sklearn`"
   ]
  },
  {
   "cell_type": "markdown",
   "metadata": {},
   "source": [
    "La bibliothèque [`sklearn`](https://scikit-learn.org/stable/) est très utilisée en machine learning. Nous allons l'utiiser dansune optique d'analyse des données."
   ]
  },
  {
   "cell_type": "code",
   "execution_count": null,
   "metadata": {},
   "outputs": [],
   "source": [
    "from sklearn.preprocessing import StandardScaler\n",
    "\n",
    "scaler = StandardScaler()\n",
    "épreuve_scaled_sklearn = scaler.fit_transform(pandas.DataFrame(épreuve, dtype='float')) # sinon warning de conversion"
   ]
  },
  {
   "cell_type": "markdown",
   "metadata": {},
   "source": [
    "Le résultat est un tableau [`numpy.ndarray`](https://numpy.org/doc/stable/reference/generated/numpy.ndarray.html) et pas un dataframe de pandas. "
   ]
  },
  {
   "cell_type": "code",
   "execution_count": null,
   "metadata": {},
   "outputs": [],
   "source": [
    "type(épreuve_scaled_sklearn)"
   ]
  },
  {
   "cell_type": "markdown",
   "metadata": {},
   "source": [
    "Remédions à ça en recréeant un dataframe :"
   ]
  },
  {
   "cell_type": "code",
   "execution_count": null,
   "metadata": {},
   "outputs": [],
   "source": [
    "épreuve_scaled = pandas.DataFrame(épreuve_scaled_sklearn, columns=épreuve.columns)\n",
    "épreuve_scaled"
   ]
  },
  {
   "cell_type": "code",
   "execution_count": null,
   "metadata": {},
   "outputs": [],
   "source": [
    "épreuve_scaled.describe()"
   ]
  },
  {
   "attachments": {},
   "cell_type": "markdown",
   "metadata": {},
   "source": [
    "> **Attention** : sklearn utilise la [variance corrigée](https://fr.khanacademy.org/math/be-4eme-secondaire2/x213a6fc6f6c9e122:statistiques-1/x213a6fc6f6c9e122:variance-et-ecart-type/v/review-and-intuition-why-we-divide-by-n-1-for-the-unbiased-sample-variance) qui divise par $n-1$ et non par $n$. \n",
    "> \n",
    "> La variance corrigée est un estimateur sas biais de la variance (qui se calcule bien avec \\frac{1}{n}$). Nous n'en avons pas besoin en analyse des données car notre population c'est nos données, on a pas besoin d'estimer la variance, on l'a."
   ]
  },
  {
   "cell_type": "markdown",
   "metadata": {},
   "source": []
  }
 ],
 "metadata": {
  "kernelspec": {
   "display_name": "Python 3",
   "language": "python",
   "name": "python3"
  },
  "language_info": {
   "codemirror_mode": {
    "name": "ipython",
    "version": 3
   },
   "file_extension": ".py",
   "mimetype": "text/x-python",
   "name": "python",
   "nbconvert_exporter": "python",
   "pygments_lexer": "ipython3",
   "version": "3.9.13 (main, May 24 2022, 21:28:31) \n[Clang 13.1.6 (clang-1316.0.21.2)]"
  },
  "vscode": {
   "interpreter": {
    "hash": "aee8b7b246df8f9039afb4144a1f6fd8d2ca17a180786b69acc140d282b71a49"
   }
  }
 },
 "nbformat": 4,
 "nbformat_minor": 4
}
