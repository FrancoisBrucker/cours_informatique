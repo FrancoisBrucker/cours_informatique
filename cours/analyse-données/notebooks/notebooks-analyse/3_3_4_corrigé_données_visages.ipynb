{
 "cells": [
  {
   "cell_type": "markdown",
   "metadata": {},
   "source": [
    "# ACP de visages\n",
    "\n",
    "Nous allons faire une ACP sur des images. On considérera pour cela que nos images sont des vecteurs où chaque pixel est un entier entre 0 et 255 (en niveaux de gris)."
   ]
  },
  {
   "cell_type": "markdown",
   "metadata": {},
   "source": [
    "## Chargement des données"
   ]
  },
  {
   "cell_type": "markdown",
   "metadata": {},
   "source": [
    "Le chargement des données MNIST s'effectue facilement grâce aux commandes suivantes. Le site associé est http://vis-www.cs.umass.edu/lfw/"
   ]
  },
  {
   "cell_type": "markdown",
   "metadata": {},
   "source": [
    "**Attention** : la 1ère fois, la ligne suivante va télécharger 200 méga de données, et créer un dossier `lfw_home`.\n",
    "\n",
    "On va télécharger les images des personnalités ayant plus de 20 images ([doc de la fonction](https://scikit-learn.org/stable/modules/generated/sklearn.datasets.fetch_lfw_people.html))"
   ]
  },
  {
   "cell_type": "code",
   "execution_count": null,
   "metadata": {},
   "outputs": [],
   "source": [
    "from sklearn.datasets import fetch_lfw_people\n",
    "\n",
    "lfw_people = fetch_lfw_people(data_home=\".\", min_faces_per_person=20, resize=0.4)"
   ]
  },
  {
   "cell_type": "markdown",
   "metadata": {},
   "source": [
    "Quelques variables associées aux images :"
   ]
  },
  {
   "cell_type": "code",
   "execution_count": null,
   "metadata": {},
   "outputs": [],
   "source": [
    "images = lfw_people.data #liste d'images\n",
    "nombre_images, hauteur_image, largeur_image = lfw_people.images.shape\n",
    "\n",
    "print(\"nombre images : \", nombre_images)\n",
    "print(\"dimension des images : \", hauteur_image, largeur_image)"
   ]
  },
  {
   "cell_type": "markdown",
   "metadata": {},
   "source": [
    "Les personnalités : "
   ]
  },
  {
   "cell_type": "code",
   "execution_count": null,
   "metadata": {
    "tags": []
   },
   "outputs": [],
   "source": [
    "personnalités = lfw_people.target_names\n",
    "\n",
    "for nom in personnalités:\n",
    "    print(nom)"
   ]
  },
  {
   "cell_type": "code",
   "execution_count": null,
   "metadata": {
    "tags": []
   },
   "outputs": [],
   "source": [
    "personnalités_index = [personnalités[lfw_people.target[index]] for index in range(nombre_images)]\n",
    "\n",
    "for index in range(nombre_images):\n",
    "    print(\"image\", index, \"nom :\", personnalités_index[index])"
   ]
  },
  {
   "cell_type": "markdown",
   "metadata": {},
   "source": [
    "## Regardons les images"
   ]
  },
  {
   "cell_type": "markdown",
   "metadata": {},
   "source": [
    "Chaque image est une liste de coordonnées. \n",
    "Nos donnees sont ainsi des vecteurs de dimension hauteur * largeur. Chaque coordonnée est un niveau de gris.\n",
    "\n",
    "Regardans l'image d'index 2698"
   ]
  },
  {
   "cell_type": "code",
   "execution_count": null,
   "metadata": {
    "scrolled": true
   },
   "outputs": [],
   "source": [
    "print(images[2698])"
   ]
  },
  {
   "cell_type": "markdown",
   "metadata": {},
   "source": [
    "Pour représenter graphiquement cette ligne, il faut reconstruire l'image en la séparant en ligne :"
   ]
  },
  {
   "cell_type": "code",
   "execution_count": null,
   "metadata": {},
   "outputs": [],
   "source": [
    "import seaborn as sns\n",
    "import matplotlib.pyplot as plt\n",
    "\n",
    "sns.reset_orig() # pour une fois on ne veut pas des paramètres de seaborn\n",
    "current_palette = sns.color_palette()"
   ]
  },
  {
   "cell_type": "code",
   "execution_count": null,
   "metadata": {},
   "outputs": [],
   "source": [
    "fig, ax = plt.subplots(figsize=(3, 3)) \n",
    "\n",
    "plt.imshow(images[2698].reshape((hauteur_image, largeur_image)), \n",
    "           cmap=plt.cm.gray)\n",
    "\n",
    "plt.title(personnalités_index[2698])\n",
    "\n",
    "plt.show()"
   ]
  },
  {
   "cell_type": "markdown",
   "metadata": {},
   "source": [
    "**QUESTION** : Trouvez l'index de toutes les photos de winona ryder."
   ]
  },
  {
   "cell_type": "code",
   "execution_count": null,
   "metadata": {},
   "outputs": [],
   "source": [
    "for index in range(nombre_images):\n",
    "    if personnalités_index[index] == \"Winona Ryder\":\n",
    "        print(\"image\", index)"
   ]
  },
  {
   "cell_type": "markdown",
   "metadata": {},
   "source": [
    "## l'ACP"
   ]
  },
  {
   "cell_type": "markdown",
   "metadata": {},
   "source": [
    "Centrer et reduire les donnees a normalisé les niveaux de gris pour toutes les images. On est pas obligé de le faire, mais si on ne le fait pas, le calcul des $cos^2$ va être faux, il ne faudra pas en tenir compte.\n",
    "\n",
    "On utilisera maintenant les données centrées et réduites. Elles sont un peut différentes des images de départ. Regardez commant Winona a été changée."
   ]
  },
  {
   "cell_type": "code",
   "execution_count": null,
   "metadata": {},
   "outputs": [],
   "source": [
    "images"
   ]
  },
  {
   "cell_type": "code",
   "execution_count": null,
   "metadata": {},
   "outputs": [],
   "source": [
    "from sklearn.preprocessing import StandardScaler\n",
    "import pandas"
   ]
  },
  {
   "cell_type": "code",
   "execution_count": null,
   "metadata": {},
   "outputs": [],
   "source": [
    "scaler = StandardScaler()\n",
    "\n",
    "images_scaled = scaler.fit_transform(images)"
   ]
  },
  {
   "cell_type": "code",
   "execution_count": null,
   "metadata": {},
   "outputs": [],
   "source": [
    "fig, ax = plt.subplots(figsize=(3, 3)) \n",
    "\n",
    "plt.imshow(images_scaled[2698].reshape((hauteur_image, largeur_image)), \n",
    "           cmap=plt.cm.gray)\n",
    "\n",
    "plt.title(personnalités_index[2698])\n",
    "\n",
    "plt.show()"
   ]
  },
  {
   "cell_type": "markdown",
   "metadata": {},
   "source": [
    "Effectuons une analyse en composantes principale de nos images.\n",
    "\n",
    "Comme le nombre de dimensions est très importante, nous ne calculerons que les 50 premiers axes. On choisi le nombre d'axe à conserver en utilisant le paramètre `n_components` de la fonction `PCA` de sklearn (voir https://scikit-learn.org/stable/modules/generated/sklearn.decomposition.PCA.html)"
   ]
  },
  {
   "cell_type": "code",
   "execution_count": null,
   "metadata": {},
   "outputs": [],
   "source": [
    "import pandas\n",
    "from sklearn.decomposition import PCA \n",
    "import numpy as np"
   ]
  },
  {
   "cell_type": "code",
   "execution_count": null,
   "metadata": {},
   "outputs": [],
   "source": [
    "X = pandas.DataFrame(images_scaled)\n",
    "\n",
    "pca = PCA(n_components=50)\n",
    "pca.fit(X)\n",
    "\n",
    "U = np.transpose(pca.components_) # vecteurs propres\n",
    "I = pandas.DataFrame(np.transpose(pca.explained_variance_ratio_), columns=[\"pourcentage\"])  # information véhiculée\n",
    "\n",
    "C = pandas.DataFrame(X @ U, index=X.index) # nouvelles coordonnées\n",
    "\n",
    "corrélations = pandas.DataFrame([[C[facteur].corr(X[column]) for facteur in C] for column in X], index=X.columns)\n",
    "cos2 = (C**2).div((X**2).sum(axis=1), axis='index')"
   ]
  },
  {
   "cell_type": "markdown",
   "metadata": {},
   "source": [
    "**QUESTION** : Affichez l'inertie du nuage"
   ]
  },
  {
   "cell_type": "code",
   "execution_count": null,
   "metadata": {},
   "outputs": [],
   "source": [
    "I"
   ]
  },
  {
   "cell_type": "code",
   "execution_count": null,
   "metadata": {},
   "outputs": [],
   "source": [
    "fig, ax = plt.subplots(figsize=(7, 7)) \n",
    "\n",
    "I.plot(ax=ax)\n",
    "\n",
    "plt.title(\"inertie expliquée\")\n",
    "plt.xlabel(\"axes principaux\")\n",
    "plt.ylabel(\"% d'inertie expliquée\")\n",
    "\n",
    "plt.show() "
   ]
  },
  {
   "cell_type": "markdown",
   "metadata": {},
   "source": [
    "\n",
    "* regarder l'inertie cumulée. Combien d'inertie est conservée sur les 50 permiers axes ?\n",
    "* combien d'axes avons nous en tout ?\n",
    "* la qualité de la représentation (l'angle) pour les 50 axes gardés \n",
    "* pour les 12 premiers axes"
   ]
  },
  {
   "cell_type": "code",
   "execution_count": null,
   "metadata": {},
   "outputs": [],
   "source": [
    "I.cumsum()"
   ]
  },
  {
   "cell_type": "code",
   "execution_count": null,
   "metadata": {},
   "outputs": [],
   "source": [
    "fig, ax = plt.subplots(figsize=(7, 7)) \n",
    "\n",
    "I.cumsum().plot(ax=ax)\n",
    "\n",
    "plt.title(\"inertie expliquée cumulée\")\n",
    "plt.xlabel(\"axes principaux\")\n",
    "plt.ylabel(\"% d'inertie expliquée\")\n",
    "\n",
    "plt.show() "
   ]
  },
  {
   "cell_type": "code",
   "execution_count": null,
   "metadata": {},
   "outputs": [],
   "source": [
    "I.sum()"
   ]
  },
  {
   "cell_type": "markdown",
   "metadata": {},
   "source": [
    "On a conservé 85% de l'inertie pour 50 axes. Il y a `hauteur_image * largeur_image` axes en tout."
   ]
  },
  {
   "cell_type": "markdown",
   "metadata": {},
   "source": [
    "Qualité de projection ($cos^2$) :"
   ]
  },
  {
   "cell_type": "code",
   "execution_count": null,
   "metadata": {},
   "outputs": [],
   "source": [
    "cos2 # cos^2"
   ]
  },
  {
   "cell_type": "markdown",
   "metadata": {},
   "source": [
    "Qualité de projection (angles) :"
   ]
  },
  {
   "cell_type": "code",
   "execution_count": null,
   "metadata": {},
   "outputs": [],
   "source": [
    "#angles \n",
    "from math import sqrt, acos, pi\n",
    "\n",
    "cos2.sum(axis=1).apply(lambda x: acos(sqrt(x)) * 180 / pi).sort_values()"
   ]
  },
  {
   "cell_type": "markdown",
   "metadata": {},
   "source": [
    "Les plus proches ont un angle de 9°, les plus éloignées de 45°"
   ]
  },
  {
   "cell_type": "code",
   "execution_count": null,
   "metadata": {},
   "outputs": [],
   "source": [
    "cos2.loc[:, :11].sum(axis=1).apply(lambda x: acos(sqrt(x)) * 180 / pi).sort_values()"
   ]
  },
  {
   "cell_type": "markdown",
   "metadata": {},
   "source": [
    "Les plus proches ont un angle de °12, les plus éloignées de 65°"
   ]
  },
  {
   "cell_type": "markdown",
   "metadata": {},
   "source": [
    "## On peut regarder les nouveaux axes (eigenfaces)"
   ]
  },
  {
   "cell_type": "markdown",
   "metadata": {},
   "source": [
    "On a gardé les 50 premiers vecteur propres. Chacun étant un vecteur de dimension  hauteur * largeur :"
   ]
  },
  {
   "cell_type": "code",
   "execution_count": null,
   "metadata": {},
   "outputs": [],
   "source": [
    "hauteur_image * largeur_image"
   ]
  },
  {
   "cell_type": "markdown",
   "metadata": {},
   "source": [
    "Le premier vecteur est une colonne de U. Pour l'obtenir :"
   ]
  },
  {
   "cell_type": "code",
   "execution_count": null,
   "metadata": {},
   "outputs": [],
   "source": [
    "U.transpose()[0]"
   ]
  },
  {
   "cell_type": "markdown",
   "metadata": {},
   "source": [
    "**QUESTION** : Représentez l'image associée à cet axe"
   ]
  },
  {
   "cell_type": "code",
   "execution_count": null,
   "metadata": {},
   "outputs": [],
   "source": [
    "fig, ax = plt.subplots(figsize=(7, 7)) \n",
    "\n",
    "plt.imshow(U.transpose()[0].reshape((hauteur_image, largeur_image)), \n",
    "           cmap=plt.cm.gray)\n",
    "\n",
    "plt.show()"
   ]
  },
  {
   "cell_type": "markdown",
   "metadata": {},
   "source": [
    "**QUESTION** : Représentez les images associées aux 12 premiers axes"
   ]
  },
  {
   "cell_type": "code",
   "execution_count": null,
   "metadata": {},
   "outputs": [],
   "source": [
    "fig, ax = plt.subplots(figsize=(7, 7), nrows=3, ncols=4) \n",
    "\n",
    "for i in range(3):\n",
    "    for j in range(4):\n",
    "        ax[i][j].set_xticks([])\n",
    "        ax[i][j].set_yticks([])\n",
    "        ax[i][j].set_title(\"axe \" + str(i * 4 + j))\n",
    "        ax[i][j].imshow(U.transpose()[4 * i + j].reshape((hauteur_image, largeur_image)), \n",
    "                                  cmap=plt.cm.gray)\n",
    "\n",
    "plt.show()"
   ]
  },
  {
   "cell_type": "markdown",
   "metadata": {},
   "source": [
    "## Les images approximées"
   ]
  },
  {
   "cell_type": "markdown",
   "metadata": {},
   "source": [
    "On peu reconstruire les images en n'utilisant que les axes considérés. Nous en avons pris 50 sur les hauteur * largeur possibles."
   ]
  },
  {
   "cell_type": "code",
   "execution_count": null,
   "metadata": {},
   "outputs": [],
   "source": [
    "images_scaled"
   ]
  },
  {
   "cell_type": "markdown",
   "metadata": {},
   "source": [
    "Pour ne conserver que les 50 premiers axes, on pourrait faire le calcul en reprojetant nos nouvelles coordonnées sur l'ancien repère, mais la sklearn nous permet de le faire tout seul."
   ]
  },
  {
   "cell_type": "markdown",
   "metadata": {},
   "source": [
    "**QUESTION** : Quelle est la qualité de représentation ($cos^2$ et angle) de l'image 2698 ?"
   ]
  },
  {
   "cell_type": "code",
   "execution_count": null,
   "metadata": {},
   "outputs": [],
   "source": [
    "#cos^2\n",
    "\n",
    "cos2.sum(axis=1)[2698]"
   ]
  },
  {
   "cell_type": "code",
   "execution_count": null,
   "metadata": {},
   "outputs": [],
   "source": [
    "#angle\n",
    "\n",
    "acos(sqrt(cos2.sum(axis=1)[2698]))"
   ]
  },
  {
   "cell_type": "markdown",
   "metadata": {},
   "source": [
    "Winona dans le nouveau repère des 50 premiers axes factoriels :"
   ]
  },
  {
   "cell_type": "code",
   "execution_count": null,
   "metadata": {},
   "outputs": [],
   "source": [
    "C.iloc[2698]"
   ]
  },
  {
   "cell_type": "markdown",
   "metadata": {},
   "source": [
    "Dans le repère originel :"
   ]
  },
  {
   "cell_type": "code",
   "execution_count": null,
   "metadata": {},
   "outputs": [],
   "source": [
    "image_reconstruite = pca.inverse_transform(C.iloc[2698])\n",
    "\n",
    "image_reconstruite"
   ]
  },
  {
   "cell_type": "markdown",
   "metadata": {},
   "source": [
    "**QUESTION** : représentez l'image reconstruite. Mettez côte à côte l'image originelle, l'image centrée réduite et l'image sur les 50 premiers axes factoriels."
   ]
  },
  {
   "cell_type": "code",
   "execution_count": null,
   "metadata": {},
   "outputs": [],
   "source": [
    "fig, ax = plt.subplots(figsize=(7, 7), nrows=1, ncols=3) \n",
    "\n",
    "ax[0].set_xticks([])\n",
    "ax[0].set_yticks([])\n",
    "ax[0].set_title(\"originale\")\n",
    "ax[0].imshow(images[2698].reshape((hauteur_image, largeur_image)), \n",
    "             cmap=plt.cm.gray)\n",
    "\n",
    "ax[1].set_xticks([])\n",
    "ax[1].set_yticks([])\n",
    "ax[1].set_title(\"centrée réduite\")\n",
    "ax[1].imshow(images_scaled[2698].reshape((hauteur_image, largeur_image)), \n",
    "             cmap=plt.cm.gray)\n",
    "\n",
    "ax[2].set_xticks([])\n",
    "ax[2].set_yticks([])\n",
    "ax[2].set_title(\"projetée\")\n",
    "ax[2].imshow(image_reconstruite.reshape((hauteur_image, largeur_image)), \n",
    "             cmap=plt.cm.gray)\n",
    "\n",
    "\n",
    "plt.show()"
   ]
  },
  {
   "cell_type": "markdown",
   "metadata": {},
   "source": [
    "## Nombre d'axes utilisés"
   ]
  },
  {
   "cell_type": "markdown",
   "metadata": {},
   "source": [
    "On ne va pas centrer/reduire les données et voir l'évolution d'une image lorsque l'on ajoute des axes.\n",
    "\n",
    "Pour cela, commançons par faire une ACP sur 200 composantes (attention, ça va prendre du temps) :"
   ]
  },
  {
   "cell_type": "code",
   "execution_count": null,
   "metadata": {},
   "outputs": [],
   "source": [
    "X_img = pandas.DataFrame(images)\n",
    "\n",
    "pca = PCA(n_components=200)\n",
    "pca.fit(X_img)\n",
    "\n",
    "U_img = np.transpose(pca.components_) # vecteurs propres\n",
    "I_img = pandas.DataFrame(np.transpose(pca.explained_variance_ratio_), columns=[\"pourcentage\"])  # information véhiculée\n",
    "\n",
    "C_img = pandas.DataFrame(X_img @ U_img, index=X.index) # nouvelles coordonnées\n",
    "\n",
    "corrélations_img = pandas.DataFrame([[C[facteur].corr(X[column]) for facteur in C] for column in X], index=X.columns)\n",
    "cos2_img = (C**2).div((X**2).sum(axis=1), axis='index')"
   ]
  },
  {
   "cell_type": "markdown",
   "metadata": {},
   "source": [
    "Les coordonnées d'une image selon les nouveaux axes dont données par `C_img` et les coordonnées des nouveaux axes dans l'ancien repère est donnée par `U_img`.\n",
    "\n",
    "Les coodonnées de l'image 2698 dans le repère original est alors, pour les 200 axes :"
   ]
  },
  {
   "cell_type": "code",
   "execution_count": null,
   "metadata": {},
   "outputs": [],
   "source": [
    "np.matmul(U_img, C_img.loc[2698])"
   ]
  },
  {
   "cell_type": "code",
   "execution_count": null,
   "metadata": {},
   "outputs": [],
   "source": [
    "img = np.matmul(U_img, C_img.loc[2698])\n",
    "\n",
    "fig, ax = plt.subplots(figsize=(7, 7)) \n",
    "\n",
    "ax.imshow(img.reshape((hauteur_image, largeur_image)), \n",
    "             cmap=plt.cm.gray)\n",
    "plt.show()"
   ]
  },
  {
   "cell_type": "markdown",
   "metadata": {},
   "source": [
    "Et pour les 50 premiers axes : "
   ]
  },
  {
   "cell_type": "code",
   "execution_count": null,
   "metadata": {},
   "outputs": [],
   "source": [
    "img = np.matmul(U_img[:, :50], C_img.loc[2698][:50])\n",
    "\n",
    "fig, ax = plt.subplots(figsize=(7, 7)) \n",
    "\n",
    "ax.imshow(img.reshape((hauteur_image, largeur_image)), \n",
    "          cmap=plt.cm.gray)\n",
    "plt.show()"
   ]
  },
  {
   "cell_type": "markdown",
   "metadata": {},
   "source": [
    "**Question** Prenez l'image de la base de données d'indice 2698 et affichez sa reconstruction par une acp utilisant \n",
    "5, 10, 50, 100 et 200 composantes."
   ]
  },
  {
   "cell_type": "code",
   "execution_count": null,
   "metadata": {},
   "outputs": [],
   "source": [
    "fig, ax = plt.subplots(figsize=(15, 5), nrows=1, ncols=5) \n",
    "\n",
    "for i, nb in zip(range(5), [5, 10, 50, 100, 200]):\n",
    "    ax[i].set_xticks([])\n",
    "    ax[i].set_yticks([])\n",
    "    ax[i].set_title(str(nb))\n",
    "    img = np.matmul(U_img[:, :nb], C_img.loc[2698][:nb])\n",
    "    ax[i].imshow(img.reshape((hauteur_image, largeur_image)), \n",
    "                 cmap=plt.cm.gray)\n",
    "\n",
    "plt.show()"
   ]
  },
  {
   "cell_type": "markdown",
   "metadata": {},
   "source": [
    "## Quels axes sont importants pour une image donnée"
   ]
  },
  {
   "cell_type": "markdown",
   "metadata": {},
   "source": [
    "**QUESTION** :  Regardez la qualité de la projection de cette image avec les nouveaux axes et trouvez les 12 axes les plus important pour cette image."
   ]
  },
  {
   "cell_type": "code",
   "execution_count": null,
   "metadata": {},
   "outputs": [],
   "source": [
    "cos2_img.iloc[2698].sort_values(ascending=False).head(12)"
   ]
  },
  {
   "cell_type": "markdown",
   "metadata": {},
   "source": [
    "**QUESTION** : Dessinez les eigenfaces correspondantes à ces 12 vecteurs."
   ]
  },
  {
   "cell_type": "markdown",
   "metadata": {},
   "source": [
    "on utilise le fait que l'on peut passer n'importe quelle ensemble de colonnes comme sélecteur"
   ]
  },
  {
   "cell_type": "code",
   "execution_count": null,
   "metadata": {},
   "outputs": [],
   "source": [
    "cols = cos2_img.iloc[2698].sort_values(ascending=False).head(12).index"
   ]
  },
  {
   "cell_type": "code",
   "execution_count": null,
   "metadata": {},
   "outputs": [],
   "source": [
    "img = np.matmul(U_img[:, cols], C_img.loc[2698][cols])\n",
    "\n",
    "fig, ax = plt.subplots(figsize=(7, 7)) \n",
    "\n",
    "ax.imshow(img.reshape((hauteur_image, largeur_image)), \n",
    "          cmap=plt.cm.gray)\n",
    "plt.show()"
   ]
  },
  {
   "cell_type": "markdown",
   "metadata": {},
   "source": [
    "le $cos^2$ :"
   ]
  },
  {
   "cell_type": "code",
   "execution_count": null,
   "metadata": {},
   "outputs": [],
   "source": [
    "sum(cos2_img.iloc[2698][cols])"
   ]
  },
  {
   "cell_type": "markdown",
   "metadata": {},
   "source": [
    "En prenant uniquement les 12 premiers axes, c'est un peu moins bien :"
   ]
  },
  {
   "cell_type": "code",
   "execution_count": null,
   "metadata": {},
   "outputs": [],
   "source": [
    "img = np.matmul(U_img[:, :12], C_img.loc[2698][:12])\n",
    "\n",
    "fig, ax = plt.subplots(figsize=(7, 7)) \n",
    "\n",
    "ax.imshow(img.reshape((hauteur_image, largeur_image)), \n",
    "          cmap=plt.cm.gray)\n",
    "plt.show()"
   ]
  },
  {
   "cell_type": "markdown",
   "metadata": {},
   "source": [
    "le $cos^2$ :"
   ]
  },
  {
   "cell_type": "code",
   "execution_count": null,
   "metadata": {},
   "outputs": [],
   "source": [
    "sum(cos2_img.iloc[2698][:12])"
   ]
  },
  {
   "cell_type": "code",
   "execution_count": null,
   "metadata": {},
   "outputs": [],
   "source": []
  }
 ],
 "metadata": {
  "kernelspec": {
   "display_name": "Python 3 (ipykernel)",
   "language": "python",
   "name": "python3"
  },
  "language_info": {
   "codemirror_mode": {
    "name": "ipython",
    "version": 3
   },
   "file_extension": ".py",
   "mimetype": "text/x-python",
   "name": "python",
   "nbconvert_exporter": "python",
   "pygments_lexer": "ipython3",
   "version": "3.9.12"
  },
  "vscode": {
   "interpreter": {
    "hash": "aee8b7b246df8f9039afb4144a1f6fd8d2ca17a180786b69acc140d282b71a49"
   }
  }
 },
 "nbformat": 4,
 "nbformat_minor": 4
}
