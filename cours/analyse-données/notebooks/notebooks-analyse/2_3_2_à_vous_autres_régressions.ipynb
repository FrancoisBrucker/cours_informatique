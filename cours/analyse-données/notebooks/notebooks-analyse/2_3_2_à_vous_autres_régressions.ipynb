{
 "cells": [
  {
   "attachments": {},
   "cell_type": "markdown",
   "metadata": {},
   "source": [
    "# Autre régressions"
   ]
  },
  {
   "attachments": {},
   "cell_type": "markdown",
   "metadata": {},
   "source": [
    "## Iris\n",
    "\n",
    "Faites une régression logistique pour trouver comment distinguer l'espèce *Virginica* des autres espèces par rapport à la longueur des pétales.\n",
    "\n",
    "### Chargement de données\n",
    "\n",
    "Reprenez la partie de chargement d'un jeu de données pour recharger le DataFrame des Iris de Fisher.\n",
    "\n",
    "### Colonne binaire\n",
    "\n",
    "La régression logistique nécessite une colonne binaire. \n",
    "\n",
    "En utilisant [`pandas.DataFrame.assign`](https://pandas.pydata.org/docs/reference/api/pandas.DataFrame.assign.html) pour ajouter une colonne nommée `'est_virginica'` et [`numpy.where`](https://numpy.org/doc/stable/reference/generated/numpy.where.html) pour créer une colonne selon une condition ajoutez une colonne nommée `'est_virginica'` qui possède 1 si l'iris est une `'virginica'` et 0 sinon.\n",
    "\n",
    "Supprimez ensuite la colonne `'species'` du DataFrame en utilisant [`pandas.DataFrame.drop`](https://pandas.pydata.org/docs/reference/api/pandas.DataFrame.drop.html)\n",
    "\n",
    "### Régression Logistique\n",
    "\n",
    "Faire une régression logistique de la nouvelle colonne binaire ajoutée et la longueur du pétale. \n",
    "\n",
    "En conclure sur la taille de pétale qui sépare la probabilité d'être une `'virginica'` de 1/2."
   ]
  },
  {
   "attachments": {},
   "cell_type": "markdown",
   "metadata": {},
   "source": [
    "## Crimes\n",
    "\n",
    "Reprenez les données crimes déà étudié dans les exercices de lecture de données. \n",
    "\n",
    "### Préparation des données\n",
    "\n",
    "On cherche à expliquer les crimes (caractéristique `ViolentCrimesPerPop`) par rapport aux autres caractéristiques numériques (colonnes d'index >= 5)\n",
    "\n",
    "\n",
    "1. Reprenez où l'on s'est arrêté, avec des données où les données manquantes ont été remplacées.\n",
    "2. supprimez les 5 premières colonnes qui sont non numériques. Pour cela vous pourrez utiliser :\n",
    "   * [`pandas.DataFrame.drop`](https://pandas.pydata.org/docs/reference/api/pandas.DataFrame.drop.html)\n",
    "   * les noms des colonnes sont disponibles dans l'attribut de DataFrame `columns`\n",
    "   * on veut supprimer les colonnes et non les lignes, donc faites attention au paramètre `axis` de la méthode `drop`.\n",
    "\n",
    "Une fois les données récupérées, centrez et réduisez les"
   ]
  },
  {
   "attachments": {},
   "cell_type": "markdown",
   "metadata": {},
   "source": [
    "### Préparation du modèle\n",
    "\n",
    "\n",
    "On veut expliquer nos la caractéristique `'ViolentCrimesPerPop'` par rapport aux autres caractéristiques.\n",
    "\n",
    "1. créez une variable $y$ contenant la colonne de caractéristique `'ViolentCrimesPerPop'`\n",
    "2. créez une variable $X$ contenant le dataFrame sans la colonne `'ViolentCrimesPerPop'`\n",
    "\n",
    "Créez le modèle de régression multiple, en n'oubliant pas d'ajouter une constante à $X$."
   ]
  },
  {
   "attachments": {},
   "cell_type": "markdown",
   "metadata": {},
   "source": [
    "### Résolution\n",
    "\n",
    "1. Faite la régression multiple.\n",
    "2. Affichez les coefficients en les triant par valeur absolue du coefficient décroissant\n",
    "3. quels sont les plus grands contributeurs ?\n"
   ]
  }
 ],
 "metadata": {
  "kernelspec": {
   "display_name": "Python 3",
   "language": "python",
   "name": "python3"
  },
  "language_info": {
   "codemirror_mode": {
    "name": "ipython",
    "version": 3
   },
   "file_extension": ".py",
   "mimetype": "text/x-python",
   "name": "python",
   "nbconvert_exporter": "python",
   "pygments_lexer": "ipython3",
   "version": "3.9.13 (main, May 24 2022, 21:28:31) \n[Clang 13.1.6 (clang-1316.0.21.2)]"
  },
  "vscode": {
   "interpreter": {
    "hash": "aee8b7b246df8f9039afb4144a1f6fd8d2ca17a180786b69acc140d282b71a49"
   }
  }
 },
 "nbformat": 4,
 "nbformat_minor": 2
}
