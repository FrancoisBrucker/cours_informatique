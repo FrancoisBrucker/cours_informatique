{
 "cells": [
  {
   "cell_type": "markdown",
   "metadata": {},
   "source": [
    "# Dépenses de l'état"
   ]
  },
  {
   "cell_type": "markdown",
   "metadata": {},
   "source": [
    "## Les données"
   ]
  },
  {
   "cell_type": "markdown",
   "metadata": {},
   "source": [
    "Les données du fichier `dépense_état.csv` décrivent les\n",
    " ventilations des dépenses de l'état français de 1872 à 1971. \n",
    "Les différents champs sont :\n",
    "\n",
    "* PVP : pouvoirs publics,\n",
    "* AGR : agriculture,\n",
    "* CMI : commerce et industrie,\n",
    "* TRA : transports,\n",
    "* LOG : logement et aménagement du territoire,\n",
    "* EDU : éducation et culture,\n",
    "* ACO : anciens combattants,\n",
    "* ACS : actions sociales,\n",
    "* DEF : défense,\n",
    "* DET : dette,\n",
    "* DIV : divers."
   ]
  },
  {
   "cell_type": "code",
   "execution_count": null,
   "metadata": {},
   "outputs": [],
   "source": [
    "import pandas\n",
    "\n",
    "dépense = pandas.read_csv(\"./dépense_état.csv\", index_col=0)"
   ]
  },
  {
   "cell_type": "code",
   "execution_count": null,
   "metadata": {},
   "outputs": [],
   "source": [
    "dépense"
   ]
  },
  {
   "cell_type": "markdown",
   "metadata": {},
   "source": [
    "## Analyses"
   ]
  },
  {
   "cell_type": "code",
   "execution_count": null,
   "metadata": {},
   "outputs": [],
   "source": [
    "import seaborn as sns\n",
    "import matplotlib.pyplot as plt\n",
    "\n",
    "current_palette = sns.color_palette()"
   ]
  },
  {
   "cell_type": "markdown",
   "metadata": {},
   "source": [
    "### Représentation graphique\n",
    "\n",
    "1. Faite une représentation des données de chaque paires de coordonnées.\n",
    "2. Faites la même analyse si l'on considère que nos données sont les années."
   ]
  },
  {
   "cell_type": "markdown",
   "metadata": {},
   "source": [
    "### Plan factoriel"
   ]
  },
  {
   "cell_type": "markdown",
   "metadata": {},
   "source": [
    "#### Représentation\n",
    "\n",
    "Faites une représentation des données sur le plan factoriel. Que remarquez-vous ?"
   ]
  },
  {
   "cell_type": "markdown",
   "metadata": {},
   "source": [
    "#### Représentation de la transposée\n",
    "\n",
    "Faites une représentation de la transposée des données sur le plan factoriel. Que remarquez-vous ?"
   ]
  },
  {
   "cell_type": "markdown",
   "metadata": {},
   "source": [
    "### Aléatoire"
   ]
  },
  {
   "cell_type": "markdown",
   "metadata": {},
   "source": [
    "Représentez les données (puis la transposée) en prenant deux axes aléatoires."
   ]
  },
  {
   "cell_type": "markdown",
   "metadata": {},
   "source": [
    "### Plongements"
   ]
  },
  {
   "cell_type": "markdown",
   "metadata": {},
   "source": [
    "1. Représentez les données en effectuant un multidimenstional scaling\n",
    "2. Même question avec isomap"
   ]
  },
  {
   "cell_type": "markdown",
   "metadata": {},
   "source": [
    "# Données de Henley\n",
    "\n",
    "Les données de Henley (1969) concernent une expérience de rappel\n",
    "libre. \n",
    "\n",
    "L'expérience était la suivante : on a demandé à des\n",
    "sujets d'écrire une liste de tous les animaux auxquels ils pouvaient penser en\n",
    "un temps limité. \n",
    "\n",
    "Le but de cette expérience est d'analyser le comportement de la mémoire. Deux\n",
    "animaux proches dans une liste montre qu'ils sont proches dans la mémoire des\n",
    "sujets  et inversement deux animaux éloignés dans une même liste montre\n",
    "qu'ils doivent être *rangés* séparément dans le cerveau du sujet et ils se\n",
    "retrouvent dans la même liste par association d'idées successives.\n",
    "\n",
    "\n",
    "N'ont été conservés dans la table que les animaux présents\n",
    "dans toutes les listes ou presque, la dissimilarité entre deux animaux donnés\n",
    "correspondant aux nombres moyens d'animaux entre eux (à la gestion des animaux\n",
    "absents de certaines listes près). On pourra se référer à Henley (1969)\n",
    "pour des renseignements plus précis concernant la création de cette\n",
    "dissimilarité."
   ]
  },
  {
   "cell_type": "markdown",
   "metadata": {},
   "source": [
    "## Lecture des données"
   ]
  },
  {
   "cell_type": "markdown",
   "metadata": {},
   "source": [
    "Le fichier `henley.mat` contient une matrice triangulaire inférieure contenant les données"
   ]
  },
  {
   "cell_type": "code",
   "execution_count": null,
   "metadata": {},
   "outputs": [],
   "source": [
    "print(open('henley.mat').read())"
   ]
  },
  {
   "cell_type": "markdown",
   "metadata": {},
   "source": [
    "Le code suivant crée une matrice carrée `d` de distance et les noms des animaux dans la liste `elements`"
   ]
  },
  {
   "cell_type": "code",
   "execution_count": null,
   "metadata": {},
   "outputs": [],
   "source": [
    "# crée \n",
    "elements = []\n",
    "d = []\n",
    "for line in open('henley.mat'):\n",
    "    token = line.split()\n",
    "    elements.append(token[0])\n",
    "    d.append([])\n",
    "    for x in token[1:]:\n",
    "        d[-1].append(float(x))\n",
    "    \n",
    "    for i, d_line in enumerate(d[:-1]):\n",
    "        d_line.append(d[-1][i])"
   ]
  },
  {
   "cell_type": "code",
   "execution_count": null,
   "metadata": {},
   "outputs": [],
   "source": [
    "elements"
   ]
  },
  {
   "cell_type": "code",
   "execution_count": null,
   "metadata": {},
   "outputs": [],
   "source": [
    "d"
   ]
  },
  {
   "cell_type": "markdown",
   "metadata": {},
   "source": [
    "## Analyse\n",
    "\n",
    "- isomap\n",
    "- mds\n",
    "- retrouver des coordonnées"
   ]
  },
  {
   "cell_type": "markdown",
   "metadata": {},
   "source": [
    "### MDS classique\n",
    "\n",
    "Faite une représentation en 2d des animaux en utilisant le MDS classique"
   ]
  },
  {
   "cell_type": "markdown",
   "metadata": {},
   "source": [
    "Vous pourrez essayer de représenter le nom des animaux sur le graphique.\n",
    "\n",
    "Si `data` est la dataframe contenant les nouvelles positions (cf cours) vous pourrez ainsi utiliser le code suivant pour représenter le nom des animaux :"
   ]
  },
  {
   "cell_type": "markdown",
   "metadata": {},
   "source": [
    "```\n",
    "for i, row in data.iterrows():\n",
    "    label = elements[i]\n",
    "    ax.text(row['0'], row['1'], label)\n",
    "```"
   ]
  },
  {
   "cell_type": "markdown",
   "metadata": {},
   "source": [
    "### Isomap\n",
    "\n",
    "Que donne les méthodes isomap ? Essayez plusieurs plus proches voisins (de 1 à 3 par exemple)."
   ]
  }
 ],
 "metadata": {
  "kernelspec": {
   "display_name": "Python 3 (ipykernel)",
   "language": "python",
   "name": "python3"
  },
  "language_info": {
   "codemirror_mode": {
    "name": "ipython",
    "version": 3
   },
   "file_extension": ".py",
   "mimetype": "text/x-python",
   "name": "python",
   "nbconvert_exporter": "python",
   "pygments_lexer": "ipython3",
   "version": "3.13.7"
  },
  "vscode": {
   "interpreter": {
    "hash": "aee8b7b246df8f9039afb4144a1f6fd8d2ca17a180786b69acc140d282b71a49"
   }
  }
 },
 "nbformat": 4,
 "nbformat_minor": 4
}
