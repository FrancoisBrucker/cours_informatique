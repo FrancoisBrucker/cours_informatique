{
 "cells": [
  {
   "cell_type": "markdown",
   "metadata": {},
   "source": [
    "# Dépenses de l'état"
   ]
  },
  {
   "cell_type": "markdown",
   "metadata": {},
   "source": [
    "## Les données"
   ]
  },
  {
   "cell_type": "markdown",
   "metadata": {},
   "source": [
    "Les données du fichier `dépense_état.csv` décrivent les\n",
    " ventilations des dépenses de l'état français de 1872 à 1971. \n",
    "Les différents champs sont :\n",
    "\n",
    "* PVP : pouvoirs publics,\n",
    "* AGR : agriculture,\n",
    "* CMI : commerce et industrie,\n",
    "* TRA : transports,\n",
    "* LOG : logement et aménagement du territoire,\n",
    "* EDU : éducation et culture,\n",
    "* ACO : anciens combattants,\n",
    "* ACS : actions sociales,\n",
    "* DEF : défense,\n",
    "* DET : dette,\n",
    "* DIV : divers."
   ]
  },
  {
   "cell_type": "code",
   "execution_count": null,
   "metadata": {},
   "outputs": [],
   "source": [
    "import pandas\n",
    "\n",
    "dépense = pandas.read_csv(\"./dépense_état.csv\", index_col=0)"
   ]
  },
  {
   "cell_type": "markdown",
   "metadata": {},
   "source": [
    "## Analyses"
   ]
  },
  {
   "cell_type": "markdown",
   "metadata": {},
   "source": [
    "### Plan factoriel"
   ]
  },
  {
   "cell_type": "markdown",
   "metadata": {},
   "source": [
    "### Aléatoire"
   ]
  },
  {
   "cell_type": "markdown",
   "metadata": {},
   "source": [
    "### MDS"
   ]
  },
  {
   "cell_type": "markdown",
   "metadata": {},
   "source": [
    "### Isomap"
   ]
  },
  {
   "cell_type": "code",
   "execution_count": null,
   "metadata": {},
   "outputs": [],
   "source": []
  },
  {
   "cell_type": "markdown",
   "metadata": {},
   "source": [
    "# Données de Henley\n",
    "\n",
    "Les données de Henley (1969) concernent une expérience de rappel\n",
    "libre. \n",
    "\n",
    "L'expérience était la suivante : on a demandé à des\n",
    "sujets d'écrire une liste de tous les animaux auxquels ils pouvaient penser en\n",
    "un temps limité. \n",
    "\n",
    "Le but de cette expérience est d'analyser le comportement de la mémoire. Deux\n",
    "animaux proches dans une liste montre qu'ils sont proches dans la mémoire des\n",
    "sujets  et inversement deux animaux éloignés dans une même liste montre\n",
    "qu'ils doivent être *rangés* séparément dans le cerveau du sujet et ils se\n",
    "retrouvent dans la même liste par association d'idées successives.\n",
    "\n",
    "\n",
    "N'ont été conservés dans la table que les animaux présents\n",
    "dans toutes les listes ou presque, la dissimilarité entre deux animaux donnés\n",
    "correspondant aux nombres moyens d'animaux entre eux (à la gestion des animaux\n",
    "absents de certaines listes près). On pourra se référer à Henley (1969)\n",
    "pour des renseignements plus précis concernant la création de cette\n",
    "dissimilarité."
   ]
  },
  {
   "cell_type": "markdown",
   "metadata": {},
   "source": [
    "**Remarque** : Si cela vous amuse, essayez de créer votre propre distance de Henley avec les autres étudiants. Ca dnne souvent des résultats rigolo et, au final, très interprétables. En utilisant les données du fichier, vous regardez l'intérieur du cerveaux d'étudiants américain des années 1970 et non dans celui d'élèves de 2020.\n"
   ]
  },
  {
   "cell_type": "markdown",
   "metadata": {},
   "source": [
    "## Lecture des données"
   ]
  },
  {
   "cell_type": "markdown",
   "metadata": {},
   "source": [
    "Le fichier `henley.mat` contient une matrice triangulaire inférieure contenant les données"
   ]
  },
  {
   "cell_type": "code",
   "execution_count": null,
   "metadata": {},
   "outputs": [],
   "source": [
    "print(open('henley.mat').read())"
   ]
  },
  {
   "cell_type": "markdown",
   "metadata": {},
   "source": [
    "Le code suivant crée une matrice carrée `d` de distance et les noms des animaux dans la liste `elements`"
   ]
  },
  {
   "cell_type": "code",
   "execution_count": null,
   "metadata": {},
   "outputs": [],
   "source": [
    "# crée \n",
    "elements = []\n",
    "d = []\n",
    "for line in open('henley.mat'):\n",
    "    token = line.split()\n",
    "    elements.append(token[0])\n",
    "    d.append([])\n",
    "    for x in token[1:]:\n",
    "        d[-1].append(float(x))\n",
    "    \n",
    "    for i, d_line in enumerate(d[:-1]):\n",
    "        d_line.append(d[-1][i])"
   ]
  },
  {
   "cell_type": "code",
   "execution_count": null,
   "metadata": {},
   "outputs": [],
   "source": [
    "elements"
   ]
  },
  {
   "cell_type": "code",
   "execution_count": null,
   "metadata": {},
   "outputs": [],
   "source": [
    "d"
   ]
  },
  {
   "cell_type": "markdown",
   "metadata": {},
   "source": [
    "## MDS classique\n",
    "\n",
    "Faite une représentation en 2d des animaux en utilisant le MDS classique"
   ]
  },
  {
   "cell_type": "code",
   "execution_count": null,
   "metadata": {},
   "outputs": [],
   "source": [
    "from sklearn import manifold"
   ]
  },
  {
   "cell_type": "code",
   "execution_count": null,
   "metadata": {},
   "outputs": [],
   "source": [
    "import seaborn as sns\n",
    "import matplotlib.pyplot as plt\n",
    "\n",
    "sns.set()"
   ]
  },
  {
   "cell_type": "code",
   "execution_count": null,
   "metadata": {},
   "outputs": [],
   "source": [
    "mds = manifold.MDS(n_components=2, max_iter=3000,\n",
    "                   dissimilarity=\"precomputed\", n_jobs=1, n_init=5)\n",
    "\n",
    "pos = mds.fit(d).embedding_"
   ]
  },
  {
   "cell_type": "code",
   "execution_count": null,
   "metadata": {},
   "outputs": [],
   "source": [
    "data = pandas.DataFrame(pos)\n",
    "data.columns=(str(x) for x in data.columns) # pour ce fichu bug\n",
    "\n",
    "fig, ax = plt.subplots(figsize=(10, 10))\n",
    "\n",
    "sns.scatterplot(x='0', \n",
    "                y='1', \n",
    "                data=data,\n",
    "                legend=False,\n",
    "                ax=ax)\n",
    "\n",
    "for i, row in data.iterrows():\n",
    "    label = elements[i]\n",
    "    ax.text(row['0'], row['1'], label)\n",
    "    \n",
    "plt.show()"
   ]
  },
  {
   "cell_type": "markdown",
   "metadata": {},
   "source": [
    "## Isomap\n",
    "\n",
    "Que donne les méthodes isomap ? Essayez plusieurs plus proches voisins"
   ]
  },
  {
   "cell_type": "code",
   "execution_count": null,
   "metadata": {},
   "outputs": [],
   "source": [
    "mds = manifold.Isomap(n_neighbors=3,\n",
    "                      n_components=2, max_iter=3000,                      \n",
    "                      metric=\"precomputed\")\n",
    "\n",
    "pos = mds.fit(d).embedding_"
   ]
  },
  {
   "cell_type": "code",
   "execution_count": null,
   "metadata": {},
   "outputs": [],
   "source": [
    "data = pandas.DataFrame(pos)\n",
    "data.columns=(str(x) for x in data.columns) # pour ce fichu bug\n",
    "\n",
    "fig, ax = plt.subplots(figsize=(10, 10))\n",
    "\n",
    "sns.scatterplot(x='0', \n",
    "                y='1', \n",
    "                data=data,\n",
    "                legend=False,\n",
    "                ax=ax)\n",
    "\n",
    "for i, row in data.iterrows():\n",
    "    label = elements[i]\n",
    "    ax.text(row['0'], row['1'], label)\n",
    "    \n",
    "plt.show()"
   ]
  },
  {
   "cell_type": "code",
   "execution_count": null,
   "metadata": {},
   "outputs": [],
   "source": []
  }
 ],
 "metadata": {
  "kernelspec": {
   "display_name": "Python 3 (ipykernel)",
   "language": "python",
   "name": "python3"
  },
  "language_info": {
   "codemirror_mode": {
    "name": "ipython",
    "version": 3
   },
   "file_extension": ".py",
   "mimetype": "text/x-python",
   "name": "python",
   "nbconvert_exporter": "python",
   "pygments_lexer": "ipython3",
   "version": "3.13.7"
  }
 },
 "nbformat": 4,
 "nbformat_minor": 4
}
