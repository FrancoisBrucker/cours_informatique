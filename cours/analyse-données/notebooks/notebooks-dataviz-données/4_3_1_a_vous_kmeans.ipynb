{
 "cells": [
  {
   "cell_type": "markdown",
   "metadata": {},
   "source": [
    "# Dépenses de l'état"
   ]
  },
  {
   "cell_type": "markdown",
   "metadata": {},
   "source": [
    "On reprend les données des dépenses de l'état."
   ]
  },
  {
   "cell_type": "code",
   "execution_count": null,
   "metadata": {},
   "outputs": [],
   "source": [
    "import pandas\n",
    "\n",
    "dépense = pandas.read_csv(\"dépense_état.csv\", index_col=0)\n",
    "\n",
    "dépense"
   ]
  },
  {
   "cell_type": "markdown",
   "metadata": {},
   "source": [
    "## k-means global\n",
    "\n",
    "Faite un k-means sur toutes les données en déterminant le meilleurs nombre de classes.\n",
    "\n",
    "Quelles sont les classes ?"
   ]
  },
  {
   "attachments": {},
   "cell_type": "markdown",
   "metadata": {},
   "source": [
    "## k-means ACP\n",
    "\n",
    "Refaite l'exercice précédent, mais uniquement sur les 2 premiers axes de l'ACP sur les données non centrées et réduites.\n",
    "\n",
    "Quelles sont les classes ? \n",
    "Représentez-les graphiquement sur les deux axes choisis en prenant des couleurs différentes pour chaque cluster."
   ]
  },
  {
   "cell_type": "markdown",
   "metadata": {},
   "source": [
    "## centrer et réduire\n",
    "\n",
    "Pour l'analyse que l'on avait faite de ces donnée en ACP, on avait centré et réduit nos données car ce qui nous intéressait etait les variations des colonnes et pas leurs valeurs proprement dite.\n",
    "\n",
    "Faite l'ACP sur les données centrées et réduite et refaite un k-means sur les 2 premiers axes principaux. Y a-t-il des différences entre les 2 classifications ?"
   ]
  },
  {
   "cell_type": "code",
   "execution_count": null,
   "metadata": {},
   "outputs": [],
   "source": []
  }
 ],
 "metadata": {
  "kernelspec": {
   "display_name": "Python 3",
   "language": "python",
   "name": "python3"
  },
  "language_info": {
   "codemirror_mode": {
    "name": "ipython",
    "version": 3
   },
   "file_extension": ".py",
   "mimetype": "text/x-python",
   "name": "python",
   "nbconvert_exporter": "python",
   "pygments_lexer": "ipython3",
   "version": "3.9.13"
  },
  "vscode": {
   "interpreter": {
    "hash": "aee8b7b246df8f9039afb4144a1f6fd8d2ca17a180786b69acc140d282b71a49"
   }
  }
 },
 "nbformat": 4,
 "nbformat_minor": 2
}
