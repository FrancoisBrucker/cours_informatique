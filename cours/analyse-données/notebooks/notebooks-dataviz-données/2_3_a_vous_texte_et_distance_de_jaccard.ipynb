{
 "cells": [
  {
   "cell_type": "markdown",
   "metadata": {},
   "source": [
    "# Texte et distance de jaccard"
   ]
  },
  {
   "cell_type": "markdown",
   "metadata": {},
   "source": [
    "On va dans ce TD regarder les proximités de fables de la Fontaine en comparant les mots les composants.\n",
    "\n",
    "Ceci est une prémière approche dans l'analyse de textes. Des méthodes bien plus *sioux* sont utilisées en vrai (mettre les mots au singulier, les verbe à l'infinitif, etc)"
   ]
  },
  {
   "cell_type": "markdown",
   "metadata": {},
   "source": [
    "## création de la distance\n",
    "\n",
    "Pour créer une distance entre fable on devra :\n",
    "\n",
    "1. récupérer les fables\n",
    "2. extraire les mots qui les composent\n",
    "3. créer une distance"
   ]
  },
  {
   "cell_type": "markdown",
   "metadata": {},
   "source": [
    "### Récupération des fables\n",
    "\n",
    "Les fables sont disponibles là : https://www.gutenberg.org/files/56327/56327-h/56327-h.htm\n",
    "\n",
    "On va récupérer le fichier html puis entraire le texte d celui-ci"
   ]
  },
  {
   "cell_type": "markdown",
   "metadata": {},
   "source": [
    "#### page internet\n",
    "\n",
    "En utilisant la bibliothèque [requests](https://requests-fr.readthedocs.io/en/latest/)"
   ]
  },
  {
   "cell_type": "code",
   "execution_count": null,
   "metadata": {},
   "outputs": [],
   "source": [
    "import requests"
   ]
  },
  {
   "cell_type": "code",
   "execution_count": null,
   "metadata": {},
   "outputs": [],
   "source": [
    "page = requests.get(\"https://www.gutenberg.org/files/56327/56327-h/56327-h.htm\")"
   ]
  },
  {
   "cell_type": "markdown",
   "metadata": {},
   "source": [
    "#### parser la page\n",
    "\n",
    "Il faut récuperer les tokens html de la page qui compoent les fables.\n",
    "\n",
    "En regardant la page dans un browser et les outils de développement on voit que :\n",
    "* les titres des fables sont des des balises `<h3>`\n",
    "* le texte des fables est dans le `<div>` juste en dessous (un `div` *frère*)"
   ]
  },
  {
   "cell_type": "markdown",
   "metadata": {},
   "source": [
    "Il existe plusieurs bibliothèque pour parser du html. On va utiliser [beautifulsoup](https://www.crummy.com/software/BeautifulSoup/bs4/doc/).\n",
    "\n",
    "**Références** :\n",
    "* https://www.dataquest.io/blog/web-scraping-tutorial-python/\n",
    "* http://sametmax.com/parser-du-html-avec-beautifulsoup/"
   ]
  },
  {
   "cell_type": "code",
   "execution_count": null,
   "metadata": {},
   "outputs": [],
   "source": [
    "from bs4 import BeautifulSoup"
   ]
  },
  {
   "cell_type": "code",
   "execution_count": null,
   "metadata": {},
   "outputs": [],
   "source": [
    "soup = BeautifulSoup(page.content, \"html.parser\")"
   ]
  },
  {
   "cell_type": "code",
   "execution_count": null,
   "metadata": {},
   "outputs": [],
   "source": [
    "[type(item) for item in list(soup.children)]"
   ]
  },
  {
   "cell_type": "markdown",
   "metadata": {},
   "source": [
    "On cherche tous les fables. En regardant dans le html on remarque que les `<h3>` semblent correspondre aux titres des fables. On vérifie :"
   ]
  },
  {
   "cell_type": "code",
   "execution_count": null,
   "metadata": {
    "scrolled": true
   },
   "outputs": [],
   "source": [
    "for x in soup.find_all('h3'):\n",
    "    print(x)"
   ]
  },
  {
   "cell_type": "markdown",
   "metadata": {},
   "source": [
    "Le contenu est dans le `div` juste après (c'est un frère) :"
   ]
  },
  {
   "cell_type": "code",
   "execution_count": null,
   "metadata": {
    "scrolled": true
   },
   "outputs": [],
   "source": [
    "for x in soup.find_all('h3'):\n",
    "    print(x.text)\n",
    "    print('----')\n",
    "    poem = x.find_next_sibling()\n",
    "    print(poem)\n",
    "    print(\"=====\")"
   ]
  },
  {
   "cell_type": "markdown",
   "metadata": {},
   "source": [
    "On doit maintenant récupérer le poème. Il est dans une balise `span` de class différente à `pagenum`.\n",
    "\n",
    "**Attention** : le dernier poème n'a pas de contenu. On doit traiter ce cas particulier pour qu'il n'y ait pas d'erreurs."
   ]
  },
  {
   "cell_type": "code",
   "execution_count": null,
   "metadata": {
    "scrolled": true
   },
   "outputs": [],
   "source": [
    "for x in soup.find_all('h3'):\n",
    "    print(x.text)\n",
    "    print('----')\n",
    "    poem = x.find_next_sibling()\n",
    "    contenu_div = poem.find('div')\n",
    "    if contenu_div is None: # le dernier poeme n'a pas de contenu\n",
    "        continue\n",
    "    for y in contenu_div.find_all('span'):\n",
    "        if 'pagenum' not in y.attrs['class']:\n",
    "            print(y.text)\n",
    "    print(\"====\")"
   ]
  },
  {
   "cell_type": "markdown",
   "metadata": {},
   "source": [
    "On peut maintenant créer nos fables :"
   ]
  },
  {
   "cell_type": "code",
   "execution_count": null,
   "metadata": {},
   "outputs": [],
   "source": [
    "fables = {}\n",
    "\n",
    "for x in soup.find_all('h3'):\n",
    "    titre = x.text\n",
    "    div_frere = x.find_next_sibling()\n",
    "    contenu_div = div_frere.find('div')    \n",
    "    if contenu_div is None: # le dernier poeme n'a pas de contenu\n",
    "        continue\n",
    "        \n",
    "    contenu = \"\"\n",
    "    for y in contenu_div.find_all('span'):\n",
    "        if 'pagenum' not in y.attrs['class']:\n",
    "            contenu += y.text + '\\n'\n",
    "    fables[titre] = contenu\n",
    "    \n",
    "fables"
   ]
  },
  {
   "cell_type": "markdown",
   "metadata": {},
   "source": [
    "## extraire les mots des fables\n",
    "\n",
    "Pour cela on va comencer par mettre le texte en minuscule puis utiliser une expression régulière pour chercher tous les mots.\n",
    "\n",
    "**Références** :\n",
    "* https://fr.wikipedia.org/wiki/Expression_régulière\n",
    "* https://www.lucaswillems.com/fr/articles/25/tutoriel-pour-maitriser-les-expressions-regulieres\n",
    "\n"
   ]
  },
  {
   "cell_type": "code",
   "execution_count": null,
   "metadata": {},
   "outputs": [],
   "source": [
    "import re"
   ]
  },
  {
   "cell_type": "code",
   "execution_count": null,
   "metadata": {},
   "outputs": [],
   "source": [
    "bag_of_word = {}\n",
    "for titre, texte in fables.items():\n",
    "    bag_of_word[titre] = set(re.findall(r'\\b\\w+\\b',texte.lower()))"
   ]
  },
  {
   "cell_type": "code",
   "execution_count": null,
   "metadata": {},
   "outputs": [],
   "source": [
    "print(fables['LE RENARD ET LES POULETS D’INDE.'])"
   ]
  },
  {
   "cell_type": "code",
   "execution_count": null,
   "metadata": {},
   "outputs": [],
   "source": [
    "bag_of_word['LE RENARD ET LES POULETS D’INDE.']"
   ]
  },
  {
   "cell_type": "markdown",
   "metadata": {},
   "source": [
    "On supprime les mots de longueur pus petit ou égal à 2 pour essayer de ne conserver que les *vrais* mots."
   ]
  },
  {
   "cell_type": "code",
   "execution_count": null,
   "metadata": {},
   "outputs": [],
   "source": [
    "for titre in bag_of_word:\n",
    "    new = set()\n",
    "    for x in bag_of_word[titre]:\n",
    "        if len(x) > 2:\n",
    "            new.add(x)\n",
    "    bag_of_word[titre] = new"
   ]
  },
  {
   "cell_type": "markdown",
   "metadata": {},
   "source": [
    "### distance de jaccard\n",
    "\n",
    "La  [distance de jaccard](https://fr.wikipedia.org/wiki/Indice_et_distance_de_Jaccard) est très utilisée pour comparer des objets décrit par des ensembles de propriétés. \n",
    "\n",
    "Elle vaut si :\n",
    "* 1 : aucun mots en commun\n",
    "* 0 : même vocabulaire"
   ]
  },
  {
   "cell_type": "markdown",
   "metadata": {},
   "source": [
    "On commence par regarder les distance avec une fable de référence :"
   ]
  },
  {
   "cell_type": "code",
   "execution_count": null,
   "metadata": {},
   "outputs": [],
   "source": [
    "base = bag_of_word['LE RENARD ET LES POULETS D’INDE.']\n",
    "\n",
    "similarite = []\n",
    "for titre, texte in bag_of_word.items(): \n",
    "    similarite.append([1 - len(base.intersection(texte)) / len(base.union(texte)), titre])\n",
    "    \n",
    "similarite.sort()"
   ]
  },
  {
   "cell_type": "code",
   "execution_count": null,
   "metadata": {},
   "outputs": [],
   "source": [
    "similarite"
   ]
  },
  {
   "cell_type": "markdown",
   "metadata": {},
   "source": [
    "On crée la matrice de distance :"
   ]
  },
  {
   "cell_type": "code",
   "execution_count": null,
   "metadata": {},
   "outputs": [],
   "source": [
    "elements = list(bag_of_word.keys())\n",
    "\n",
    "d = []\n",
    "\n",
    "for x in elements:\n",
    "    d.append([])\n",
    "    base = bag_of_word[x]\n",
    "    for y in elements:\n",
    "        texte = bag_of_word[y]\n",
    "        d[-1].append(1 - len(base.intersection(texte)) / len(base.union(texte)))\n",
    "d"
   ]
  },
  {
   "cell_type": "markdown",
   "metadata": {},
   "source": [
    "## Représentation des données"
   ]
  },
  {
   "cell_type": "markdown",
   "metadata": {},
   "source": [
    "### MDS\n",
    "\n",
    "Faites une MDS en 2 dimensions de ces données. Conclusion ?"
   ]
  },
  {
   "cell_type": "markdown",
   "metadata": {},
   "source": [
    "### isomap\n",
    "\n",
    "Faites une isomap en 2 dimensions de ces données en utilisant les 2 plus proches voisins. Chercher à augmenter le nombre de voisins. Conclusions ?"
   ]
  }
 ],
 "metadata": {
  "kernelspec": {
   "display_name": "Python 3 (ipykernel)",
   "language": "python",
   "name": "python3"
  },
  "language_info": {
   "codemirror_mode": {
    "name": "ipython",
    "version": 3
   },
   "file_extension": ".py",
   "mimetype": "text/x-python",
   "name": "python",
   "nbconvert_exporter": "python",
   "pygments_lexer": "ipython3",
   "version": "3.13.7"
  },
  "vscode": {
   "interpreter": {
    "hash": "40d3a090f54c6569ab1632332b64b2c03c39dcf918b08424e98f38b5ae0af88f"
   }
  }
 },
 "nbformat": 4,
 "nbformat_minor": 4
}
