{
 "cells": [
  {
   "cell_type": "markdown",
   "id": "fe2278ac-3c50-4305-87c8-2c572e88cb1c",
   "metadata": {},
   "source": [
    "# Openstreetmap et graphes\n",
    "\n",
    "Utilisation d'openstreetmap pour construire des graphes de réseaux routiers.\n",
    "\n",
    "Ceci permettra de trouver des chemins de longueurs minimum."
   ]
  },
  {
   "cell_type": "code",
   "execution_count": null,
   "id": "50ecf1a9-e0eb-4f6c-8da3-91d1d35bd817",
   "metadata": {},
   "outputs": [],
   "source": [
    "import osmnx as ox"
   ]
  },
  {
   "cell_type": "markdown",
   "id": "cbe20104-3260-41c1-94e0-cb61bbac5fd0",
   "metadata": {},
   "source": [
    "On utilise la bibliothèque OSMnx qui connecte OSM et networkx. Jetez un coup d'oeil aux divers exemples fournis, ils sont éclairant sur les capacités de cette bibliothèque :\n",
    "\n",
    "<https://github.com/gboeing/osmnx-examples/tree/main/notebooks>"
   ]
  },
  {
   "cell_type": "code",
   "execution_count": null,
   "id": "7078e149-3f05-47fc-8d72-f9e5c512a20e",
   "metadata": {},
   "outputs": [],
   "source": [
    "Marseille = ox.graph.graph_from_address('Marseille, France', 1000)"
   ]
  },
  {
   "cell_type": "markdown",
   "id": "887d9e55-d46e-4e10-b4d5-75804f8eff71",
   "metadata": {},
   "source": [
    "la bibliothèque [osmnx](https://osmnx.readthedocs.io/) récupère d'openstreetmap le graphe des routes de Marseille (on le verra, c'est juste le centre).\n",
    "\n",
    "Le type de graphe utilisé est un [`MultiDiGraph`](https://networkx.org/documentation/stable/reference/classes/multidigraph.html), c'est l'équivalent d'un multi-graphe (il peut y avoir plusieurs arêtes entre deux sommets) mixte (les arêtes peuvent être dirigées (route à sens unique) ou non (routes à double sens))."
   ]
  },
  {
   "cell_type": "code",
   "execution_count": null,
   "id": "a4de3e9c-34d0-41c3-a027-7360d7c01695",
   "metadata": {},
   "outputs": [],
   "source": [
    "type(Marseille)"
   ]
  },
  {
   "cell_type": "markdown",
   "id": "017d6b13-adf2-404d-8279-a8b26a07ac57",
   "metadata": {},
   "source": [
    "## Dessin"
   ]
  },
  {
   "cell_type": "code",
   "execution_count": null,
   "id": "64094b2f-96f4-471d-ad13-0f485ed8ddca",
   "metadata": {},
   "outputs": [],
   "source": [
    "import matplotlib.pyplot as plt"
   ]
  },
  {
   "cell_type": "markdown",
   "id": "8698aa99-20c3-46f8-9f44-79018b013890",
   "metadata": {},
   "source": [
    "### Directement"
   ]
  },
  {
   "cell_type": "code",
   "execution_count": null,
   "id": "c2ba3173-3fbb-48d4-b82c-6ddd6fd0b863",
   "metadata": {},
   "outputs": [],
   "source": [
    "ox.plot_graph(Marseille)"
   ]
  },
  {
   "cell_type": "markdown",
   "id": "a73e71f4-d559-480b-a7fe-18c9292b242e",
   "metadata": {},
   "source": [
    "Vous devriez voir apparaître (après un certain temps) une fenêtre avec un graphe où l'on devine le [vieux-port de Marseille](https://www.google.fr/maps/@43.2944646,5.3601266,16z)."
   ]
  },
  {
   "cell_type": "markdown",
   "id": "ffa82156-0711-4224-869f-12d73f86e4cf",
   "metadata": {},
   "source": [
    "### Avec matplotlib\n",
    "\n",
    "On peut aussi utiliser la figure de matplotlib que l'on peut paramétrer ensite."
   ]
  },
  {
   "cell_type": "code",
   "execution_count": null,
   "id": "afcfe1cc-6ed1-4e92-a462-408574fa0750",
   "metadata": {},
   "outputs": [],
   "source": [
    "fig, ax = plt.subplots(figsize=(12, 12)) \n",
    "\n",
    "ax.set_facecolor(\"#111111\")\n",
    "\n",
    "ox.plot_graph(Marseille, ax=ax, show=False)\n",
    "plt.show()"
   ]
  },
  {
   "cell_type": "markdown",
   "id": "06015499-4835-4832-88fa-b368787cdeef",
   "metadata": {},
   "source": [
    "### Réseau routier"
   ]
  },
  {
   "cell_type": "code",
   "execution_count": null,
   "id": "89e39174-1a59-4d4a-a665-6da107194fb5",
   "metadata": {},
   "outputs": [],
   "source": [
    "ox.plot.plot_figure_ground(Marseille)"
   ]
  },
  {
   "cell_type": "markdown",
   "id": "8ff595c9-e74c-4624-a554-60088ae5f8be",
   "metadata": {},
   "source": [
    "## Obtenir des graphes\n",
    "\n",
    "Il existe plusieurs façons d'obtenir des graphes de réseaux routiers, nous allons en voir trois.\n",
    "\n",
    "> Il est aussi possible d'obtenir d'autres types de réseaux. Référez vous au paramètre `custom_filter` dans la documentation."
   ]
  },
  {
   "cell_type": "markdown",
   "id": "5e0ad65d-f504-4496-aa7e-c7691d5b497d",
   "metadata": {},
   "source": [
    "### A partir d'une adresse\n",
    "\n",
    "<https://osmnx.readthedocs.io/en/stable/osmnx.html#osmnx.graph.graph_from_address>\n"
   ]
  },
  {
   "cell_type": "code",
   "execution_count": null,
   "id": "059eea6c-7186-4505-8146-079c0aead1f7",
   "metadata": {},
   "outputs": [],
   "source": [
    "ecm = ox.graph.graph_from_address('Ecole centrale marseille', dist=2000)\n",
    "\n",
    "fig, ax = ox.plot_graph(ecm, show=False)\n",
    "plt.show()"
   ]
  },
  {
   "cell_type": "markdown",
   "id": "690f9a21-3163-4c00-9b5e-081d7bb54d71",
   "metadata": {},
   "source": [
    "Diminuons la distance pour *reconnaître* l'école."
   ]
  },
  {
   "cell_type": "code",
   "execution_count": null,
   "id": "f7b51b5d-3f46-47ae-af7b-c7c741dfc6bd",
   "metadata": {},
   "outputs": [],
   "source": [
    "ecm = ox.graph.graph_from_address('Ecole centrale marseille', dist=500)\n",
    "\n",
    "fig, ax = ox.plot_graph(ecm, show=False)\n",
    "plt.show()"
   ]
  },
  {
   "cell_type": "markdown",
   "id": "2aa21439-ce11-4508-906f-2a24acb07345",
   "metadata": {},
   "source": [
    "Notez que si l'on cherche centrale med, cela ne parche pas."
   ]
  },
  {
   "cell_type": "markdown",
   "id": "949b249e-ecb6-45d5-a076-0828f27697ea",
   "metadata": {},
   "source": [
    "### A partir d'une boite `bbox`\n",
    "\n",
    "<https://osmnx.readthedocs.io/en/stable/osmnx.html#osmnx.graph.graph_from_bbox>"
   ]
  },
  {
   "cell_type": "code",
   "execution_count": null,
   "id": "1dac22fc-a2c2-421c-a7a5-ed72ed997f64",
   "metadata": {},
   "outputs": [],
   "source": [
    "marseille_en_grand = ox.graph.graph_from_bbox((43.388, 43.168, 5.498, 5.295), network_type='drive')\n",
    "\n",
    "fig, ax = ox.plot_graph(marseille_en_grand, show=False)\n",
    "plt.show()"
   ]
  },
  {
   "cell_type": "markdown",
   "id": "292c294b-2686-466d-b68b-f593a28a6241",
   "metadata": {},
   "source": [
    "On peut utiliser <http://norbertrenner.de/osm/bbox.html> pour construire nos `bbox`. \n",
    "\n",
    "Faisons celle de l'école, on obtient un truc du genre : \n",
    "\n",
    "```\n",
    "5.43466,43.33865,5.44056,43.34519(left,bottom,right,top)\n",
    "```\n",
    "\n",
    "Attention aux coordonnées, la doc nous dis que l'ordre est nord, sud, est, ouest."
   ]
  },
  {
   "cell_type": "code",
   "execution_count": null,
   "id": "f0800464-868f-4a10-bbbe-9b3b576b184b",
   "metadata": {},
   "outputs": [],
   "source": [
    "ecm = ox.graph.graph_from_bbox((43.34519, 43.33865, 5.44056, 5.43466), network_type='drive')\n",
    "\n",
    "fig, ax = ox.plot_graph(ecm, show=False)\n",
    "plt.show()"
   ]
  },
  {
   "cell_type": "markdown",
   "id": "a67565c3-5571-44fc-a6e0-178ff27c9de8",
   "metadata": {},
   "source": [
    "On a que les route. Pour voir tous les chemins, on utilise tout le réseau de routes (c'est le paramètre par défaut) :"
   ]
  },
  {
   "cell_type": "code",
   "execution_count": null,
   "id": "3e01a80f-85b3-4dce-b1e6-7f8192c5dcdc",
   "metadata": {},
   "outputs": [],
   "source": [
    "ecm = ox.graph.graph_from_bbox((43.34519, 43.33865, 5.44056, 5.43466))\n",
    "\n",
    "fig, ax = ox.plot_graph(ecm, show=False)\n",
    "plt.show()"
   ]
  },
  {
   "cell_type": "markdown",
   "id": "f51bbb36-6a4c-461b-9a70-0e5155c37bcd",
   "metadata": {},
   "source": [
    "### A partir de coordonnées GPS\n",
    "\n",
    "<https://osmnx.readthedocs.io/en/stable/osmnx.html#osmnx.graph.graph_from_point>\n"
   ]
  },
  {
   "cell_type": "code",
   "execution_count": null,
   "id": "cbfa603b-8e4c-4252-a840-98399c117836",
   "metadata": {},
   "outputs": [],
   "source": [
    "ailefroide = ox.graph.graph_from_point((44.8833273, 6.444307), dist=3000, network_type='all')\n",
    "\n",
    "fig, ax = ox.plot_graph(ailefroide, show=False)\n",
    "plt.show()"
   ]
  },
  {
   "cell_type": "markdown",
   "id": "e4d2d31c-078c-4403-9d3d-2bdbbe4f55da",
   "metadata": {},
   "source": [
    "On peut facilement voir où c'est grace à google maps : <https://www.google.fr/maps/@44.8833273,6.444307,13z>\n",
    "\n",
    "Les 3 paramètres sont :\n",
    "\n",
    "1. latitude\n",
    "2. longitude\n",
    "3. zoom"
   ]
  },
  {
   "cell_type": "markdown",
   "id": "b6116dba-8992-4e6d-b343-9741f5e54a18",
   "metadata": {},
   "source": [
    "### Type de réseau\n",
    "\n",
    "le paramètre `network_type` permet de déterminer quel réseau routier est utilisé par défaut. D'après la documentation, il y a plusieurs possiblités :\n",
    "\n",
    "- `\"all_private\"` (par défaut, tout y compris les chemins privés)\n",
    "- `\"all\"`\n",
    "- `\"bike\"`\n",
    "- `\"drive\"`\n",
    "- `\"drive_service\"`\n",
    "- `\"walk\"`"
   ]
  },
  {
   "cell_type": "markdown",
   "id": "1dc97917-c169-463b-85d5-f71335265c65",
   "metadata": {},
   "source": [
    "Comparons l'ecm à vélo et en voiture :"
   ]
  },
  {
   "cell_type": "code",
   "execution_count": null,
   "id": "c661e97d-bb50-48d6-97d4-6d113d36d8a0",
   "metadata": {},
   "outputs": [],
   "source": [
    "fig, ax = plt.subplots(figsize=(12, 12), ncols=2) \n",
    "\n",
    "ax[0].set_facecolor(\"#111111\")\n",
    "ax[1].set_facecolor(\"#111111\")\n",
    "ax[0].set_title(\"Voiture\")\n",
    "ax[1].set_title(\"Vélo\")\n",
    "\n",
    "ox.plot_graph(ox.graph_from_point((43.3426309, 5.4350088), dist=750, network_type='drive'), ax=ax[0], show=False)\n",
    "ox.plot_graph(ox.graph_from_point((43.3426309, 5.4350088), dist=750, network_type='bike'), ax=ax[1], show=False)\n",
    "\n",
    "plt.show()"
   ]
  },
  {
   "cell_type": "markdown",
   "id": "bc3e0a41-d0d9-4ef7-a847-7922deba434f",
   "metadata": {},
   "source": [
    "On remarque les routes sont considérées comme cyclables"
   ]
  },
  {
   "cell_type": "markdown",
   "id": "0c15cc5f-b236-42a2-8bb5-1a77fe24f312",
   "metadata": {},
   "source": [
    "## Obtenir des batiments\n",
    "\n",
    "En plus du réseau routier, openstreetmap met à disposition des features :\n",
    "\n",
    "<https://wiki.openstreetmap.org/wiki/Map_features>\n",
    "\n",
    "Qui sont tout les centres d'intérets (building, arrêt de bus, etc)"
   ]
  },
  {
   "cell_type": "code",
   "execution_count": null,
   "id": "47608e7e-60ae-45dc-b89e-556b39240096",
   "metadata": {},
   "outputs": [],
   "source": [
    "ecm_features = ox.features_from_point((43.3426309, 5.4350088), tags = {'building': True}, dist=750)"
   ]
  },
  {
   "cell_type": "code",
   "execution_count": null,
   "id": "866246f3-d155-4474-9b09-4372d0565b67",
   "metadata": {},
   "outputs": [],
   "source": [
    "type(ecm_features)"
   ]
  },
  {
   "cell_type": "code",
   "execution_count": null,
   "id": "c7c59b7f-2627-405a-b2c1-74c80c8b51b7",
   "metadata": {},
   "outputs": [],
   "source": [
    "ecm_features.head()"
   ]
  },
  {
   "cell_type": "code",
   "execution_count": null,
   "id": "4fc97e53-2858-4633-93d0-4bbbef7a839e",
   "metadata": {},
   "outputs": [],
   "source": [
    "fig, ax = plt.subplots(figsize=(12, 12)) \n",
    "\n",
    "ecm_features.plot(ax=ax)\n",
    "\n",
    "plt.show()"
   ]
  },
  {
   "cell_type": "markdown",
   "id": "1f1391d2-7735-4d39-be73-ba215947906c",
   "metadata": {},
   "source": [
    "On remarque qu'il manque l'amphi JouLe"
   ]
  },
  {
   "cell_type": "markdown",
   "id": "aeeb80c3-60f4-4d41-a6a0-f03df6a77928",
   "metadata": {},
   "source": [
    "## Données\n"
   ]
  },
  {
   "cell_type": "code",
   "execution_count": null,
   "id": "064138fc-ae09-49fc-a57b-87697d14bc2e",
   "metadata": {},
   "outputs": [],
   "source": [
    "ailefroide.graph"
   ]
  },
  {
   "cell_type": "markdown",
   "id": "79a89b43-453f-431c-acc2-45b5d44c4322",
   "metadata": {},
   "source": [
    "Le CRS [epsg:4326](https://epsg.io/4326) est le crs du GPS, classique. \n",
    "\n",
    "### CRS\n",
    "\n",
    "On peut facilement en changer en utilisant [pyproj](https://pyproj4.github.io/) :"
   ]
  },
  {
   "cell_type": "code",
   "execution_count": null,
   "id": "199269c9-bada-4efe-beea-7a2945c6018c",
   "metadata": {},
   "outputs": [],
   "source": [
    "from pyproj import CRS"
   ]
  },
  {
   "cell_type": "code",
   "execution_count": null,
   "id": "48ccc6f6-1538-4463-8bb1-45b7341ed49e",
   "metadata": {},
   "outputs": [],
   "source": [
    "ailefroide_mercator = ox.projection.project_graph(ailefroide, to_crs=CRS.from_string(\"epsg:3785\"))"
   ]
  },
  {
   "cell_type": "markdown",
   "id": "6689fd12-abf6-444d-8c58-b55ae15474a6",
   "metadata": {},
   "source": [
    "Sur un si petit graphe, la forme ne change pas vraiment :"
   ]
  },
  {
   "cell_type": "code",
   "execution_count": null,
   "id": "9a303820-bce9-4238-bf34-941f01185b95",
   "metadata": {},
   "outputs": [],
   "source": [
    "fig, ax = plt.subplots(figsize=(12, 12), ncols=2) \n",
    "\n",
    "ax[0].set_facecolor(\"#111111\")\n",
    "ax[1].set_facecolor(\"#111111\")\n",
    "ax[0].set_title(\"Mercator\")\n",
    "ax[1].set_title(\"GPS\")\n",
    "\n",
    "ox.plot_graph(ailefroide_mercator, ax=ax[0], show=False)\n",
    "ox.plot_graph(ailefroide, ax=ax[1], show=False)\n",
    "\n",
    "plt.show()"
   ]
  },
  {
   "cell_type": "markdown",
   "id": "c09b930d-1d52-43f3-acd3-a5668fc9cfed",
   "metadata": {},
   "source": [
    "En revanche, les coordonnées sont très différentes."
   ]
  },
  {
   "cell_type": "code",
   "execution_count": null,
   "id": "106dad7f-68a2-4c4f-8df9-e4021f25e57c",
   "metadata": {},
   "outputs": [],
   "source": [
    "ax[0].get_xlim(), ax[0].get_ylim()  # mercator"
   ]
  },
  {
   "cell_type": "code",
   "execution_count": null,
   "id": "2aa98a95-e79a-4d4a-8419-6be4e12ff957",
   "metadata": {},
   "outputs": [],
   "source": [
    "ax[1].get_xlim(), ax[1].get_ylim()  # GPS"
   ]
  },
  {
   "cell_type": "markdown",
   "id": "797619ec-25e8-43c3-98ab-f6a964102289",
   "metadata": {},
   "source": [
    "### Sommets et arêtes"
   ]
  },
  {
   "cell_type": "code",
   "execution_count": null,
   "id": "306305cc-c084-4a8d-b9fb-ce85019d2a12",
   "metadata": {},
   "outputs": [],
   "source": [
    "len(ailefroide.nodes)"
   ]
  },
  {
   "cell_type": "code",
   "execution_count": null,
   "id": "75ad7ba0-a4d1-4d75-91b3-0df3c43b7913",
   "metadata": {},
   "outputs": [],
   "source": [
    "len(ailefroide.edges)"
   ]
  },
  {
   "cell_type": "markdown",
   "id": "5bd368e9-7f88-452e-91a0-e97c53829362",
   "metadata": {},
   "source": [
    "Le graphe a 189 sommets et 453 arêtes (le 7/1/24). "
   ]
  },
  {
   "cell_type": "markdown",
   "id": "a0c645ed-95b7-48ca-8352-17e2205ce0c7",
   "metadata": {},
   "source": [
    "Chaque sommet est un numéro (comme `268931860`) :"
   ]
  },
  {
   "cell_type": "code",
   "execution_count": null,
   "id": "09595e47-1630-48ac-bab6-93804a8a9987",
   "metadata": {},
   "outputs": [],
   "source": [
    "[n for n in ailefroide.nodes][:10]  # 10 premiers sommets"
   ]
  },
  {
   "cell_type": "code",
   "execution_count": null,
   "id": "fcf57417-6fb2-4855-997c-a57d28fc2a45",
   "metadata": {},
   "outputs": [],
   "source": [
    "ailefroide.nodes[268931832]"
   ]
  },
  {
   "cell_type": "markdown",
   "id": "b5c11f45-c374-4704-a29c-eec57779a18c",
   "metadata": {},
   "source": [
    "les arêtes sont des triplets `(sommet origine, sommet arrivé, numéro d'arête)`. Le numéro d'arête est par défaut 0 (c'est le cas général s'il n'y a qu'une arête par couple de sommet) :"
   ]
  },
  {
   "cell_type": "code",
   "execution_count": null,
   "id": "0eca1cad-21f6-4f16-80bf-089b8a7d467c",
   "metadata": {},
   "outputs": [],
   "source": [
    "[e for e in ailefroide.edges][:10]  # 10 premières arêtes"
   ]
  },
  {
   "cell_type": "code",
   "execution_count": null,
   "id": "d0797ac5-bc16-45b0-b907-a73da08eaaee",
   "metadata": {},
   "outputs": [],
   "source": [
    "ailefroide.edges[(268931832, 6643877819, 0)]"
   ]
  },
  {
   "cell_type": "markdown",
   "id": "835284b4-9128-4f36-ae6d-c316f713943f",
   "metadata": {},
   "source": [
    "Pour connaître le sommet associé à une coordonnée, on utilise les fonctions :\n",
    "\n",
    "- [`get_nearest_nodes`](https://osmnx.readthedocs.io/en/stable/osmnx.html#osmnx.distance.nearest_nodes)\n",
    "- [`get_nearest_edges`](https://osmnx.readthedocs.io/en/stable/osmnx.html#osmnx.distance.nearest_edges)\n",
    "\n",
    "Par exemple (**faite attention à l'ordre des coordonnées**) :"
   ]
  },
  {
   "cell_type": "code",
   "execution_count": null,
   "id": "53c74579-b754-4d8c-80f5-a8d5bb084ee9",
   "metadata": {},
   "outputs": [],
   "source": [
    "sommet = ox.distance.nearest_nodes(ailefroide, 6.41556, 44.91679)\n",
    "arete = ox.distance.nearest_edges(ailefroide, 6.41556, 44.91679)"
   ]
  },
  {
   "cell_type": "code",
   "execution_count": null,
   "id": "641d7f38-c086-4ac0-a2e4-c20e1a011939",
   "metadata": {},
   "outputs": [],
   "source": [
    "sommet"
   ]
  },
  {
   "cell_type": "code",
   "execution_count": null,
   "id": "2a26f9d5-82ca-40ac-94fa-34de7e7f4f0f",
   "metadata": {},
   "outputs": [],
   "source": [
    "arete"
   ]
  },
  {
   "cell_type": "code",
   "execution_count": null,
   "id": "5aa00c42-5780-4af6-aa5d-677999fa87b4",
   "metadata": {},
   "outputs": [],
   "source": [
    "ailefroide.nodes[sommet]"
   ]
  },
  {
   "cell_type": "markdown",
   "id": "ac12306b-3a92-46c3-9456-db04f8ea2f9e",
   "metadata": {},
   "source": [
    "C'est à dire que le sommet le plus proche est aux coordonnées GPS (44.8707699, 6.4812867) et est de degré 3. C'est [pré de madame Carle](https://fr.wikipedia.org/wiki/Pr%C3%A9_de_Madame_Carle)"
   ]
  },
  {
   "cell_type": "code",
   "execution_count": null,
   "id": "3dbfd74a-03d1-4543-a529-c31e14cb9fc1",
   "metadata": {},
   "outputs": [],
   "source": [
    "fig, ax = ox.plot_graph(ailefroide, show=False,\n",
    "                        node_color=[\"red\" if n == sommet else \"white\" for n in ailefroide.nodes],\n",
    "                        node_size=[100 if n == sommet else 15 for n in ailefroide.nodes]\n",
    "                       )\n",
    "\n",
    "plt.show()"
   ]
  },
  {
   "cell_type": "code",
   "execution_count": null,
   "id": "8b24bfbe-a175-4eae-9b87-ae88f9f0020a",
   "metadata": {},
   "outputs": [],
   "source": [
    "ailefroide.edges[arete]"
   ]
  },
  {
   "cell_type": "markdown",
   "id": "13e12b70-b926-4908-a691-e20c2796ff8f",
   "metadata": {},
   "source": [
    "C'est une route à sens unique de 5km de longueur (c'est une descente de ski depuis le sommet du pelvoux)"
   ]
  },
  {
   "cell_type": "code",
   "execution_count": null,
   "id": "000106c8-d6f0-4b9e-877f-9464da20e5e3",
   "metadata": {},
   "outputs": [],
   "source": [
    "fig, ax = ox.plot_graph(ailefroide, show=False,\n",
    "                        edge_color=[\"red\" if e == arete else \"white\" for e in ailefroide.edges],\n",
    "                        edge_linewidth=[3 if e == arete else 1 for e in ailefroide.edges]\n",
    "                       )\n",
    "\n",
    "plt.show()"
   ]
  },
  {
   "cell_type": "markdown",
   "id": "b2726645-7e47-47b0-81a5-b48428b40ed1",
   "metadata": {},
   "source": [
    "Il doit y avoir plusieurs routes qui passent par notre route et donc selon l'ordre d'affichage notre arete est en-dessous des autres. \n",
    "\n",
    "Utilisons une autre fonction : [`plot_graph_route`](https://osmnx.readthedocs.io/en/stable/user-reference.html#osmnx.plot.plot_graph_route) :"
   ]
  },
  {
   "cell_type": "code",
   "execution_count": null,
   "id": "c0fbf77e-3ca8-4625-b0b9-bfdfe8f33d68",
   "metadata": {},
   "outputs": [],
   "source": [
    "fig, ax = ox.plot_graph_route(ailefroide, [arete[0], arete[1]])"
   ]
  },
  {
   "cell_type": "markdown",
   "id": "79580a0f-b5d0-4f2e-9ed2-9e5d52f53dc7",
   "metadata": {},
   "source": [
    "On peut mettre le réeau routier en surbrillance :"
   ]
  },
  {
   "cell_type": "code",
   "execution_count": null,
   "id": "cf52bd26-5d2d-42c8-b9dc-6d25b817f1b0",
   "metadata": {},
   "outputs": [],
   "source": [
    "fig, ax = ox.plot_figure_ground(ailefroide, dist=3500, show=False)\n",
    "\n",
    "plt.show()"
   ]
  },
  {
   "cell_type": "markdown",
   "id": "e24588e5-f5d6-4da8-ac5e-0d6f5bbe43b1",
   "metadata": {},
   "source": [
    "Mais le système de coordonnée est tout autre :"
   ]
  },
  {
   "cell_type": "code",
   "execution_count": null,
   "id": "d7e624b3-e952-4634-9f87-1abb717dbfda",
   "metadata": {},
   "outputs": [],
   "source": [
    "ailefroide.nodes[sommet]"
   ]
  },
  {
   "cell_type": "code",
   "execution_count": null,
   "id": "c66790b4-5b94-4959-ac8c-37ad17fbfd1f",
   "metadata": {},
   "outputs": [],
   "source": [
    "ailefroide_mercator.nodes[sommet]"
   ]
  },
  {
   "cell_type": "markdown",
   "id": "d42ce6f5-e844-421c-b2a3-6119f90c4ad7",
   "metadata": {},
   "source": [
    "## Fond de cartes\n",
    "\n",
    "Pour ajouter un fond de carte à notre graphe il faut :\n",
    "\n",
    "1. un fond de carte\n",
    "2. s'assurer que la carte et le graphe ont le même crs\n",
    "3. transformer le graphe en geodataframe\n",
    "4. supperposer les deux dessins."
   ]
  },
  {
   "cell_type": "markdown",
   "id": "07b08958-4c2b-40f7-98ce-ba72650790ce",
   "metadata": {},
   "source": [
    "On utilise [contextily](https://contextily.readthedocs.io/) pour les fond de cartes (au format GPS, on a donc pas à transformer le CRS de notre graphe) :"
   ]
  },
  {
   "cell_type": "code",
   "execution_count": null,
   "id": "4fe60344-9ebc-443e-99e4-43c5e918416d",
   "metadata": {},
   "outputs": [],
   "source": [
    "import contextily as ctx"
   ]
  },
  {
   "cell_type": "markdown",
   "id": "154e46c9-da7a-4568-915a-d88fd61dc776",
   "metadata": {},
   "source": [
    "Conversion du graphe en 2 Geodataframes, l'un pour les sommet, l'autre pour les arêtes :"
   ]
  },
  {
   "cell_type": "code",
   "execution_count": null,
   "id": "098cd85a-6baa-4621-8061-4874a504f7d3",
   "metadata": {},
   "outputs": [],
   "source": [
    "ailefroide_sommets_gdf, ailefroide_arêtes_gdf = ox.graph_to_gdfs(ailefroide)"
   ]
  },
  {
   "cell_type": "code",
   "execution_count": null,
   "id": "34c043ee-7e85-4b7a-9854-348aae24a7a4",
   "metadata": {},
   "outputs": [],
   "source": [
    "type(ailefroide_arêtes_gdf)"
   ]
  },
  {
   "cell_type": "code",
   "execution_count": null,
   "id": "a94504a9-b7fc-453e-b042-745036d9fcd7",
   "metadata": {},
   "outputs": [],
   "source": [
    "ailefroide_arêtes_gdf.head()"
   ]
  },
  {
   "cell_type": "markdown",
   "id": "2b58f2be-1a11-40e6-aca9-b717fff60624",
   "metadata": {},
   "source": [
    "Si on ne veut que les arêtes on peut aussi :"
   ]
  },
  {
   "cell_type": "code",
   "execution_count": null,
   "id": "8b1ca44c-095e-4a68-914e-c7524087f4cd",
   "metadata": {},
   "outputs": [],
   "source": [
    "ailefroide_gdf = ox.graph_to_gdfs(ailefroide, nodes=False)"
   ]
  },
  {
   "cell_type": "markdown",
   "id": "9fbc3189-2bd1-4587-81ba-f8f41894395e",
   "metadata": {},
   "source": [
    "Cette conversion au format geopandas des arêtes du graphe permet de travailler directement avec des geodataframes."
   ]
  },
  {
   "cell_type": "code",
   "execution_count": null,
   "id": "07732f36-e4a8-4aa5-b266-dfdf961ae4f6",
   "metadata": {},
   "outputs": [],
   "source": [
    "ailefroide_gdf.index[0]"
   ]
  },
  {
   "cell_type": "code",
   "execution_count": null,
   "id": "119f3aa4-e0d8-4caf-9b1d-73c8b5dae857",
   "metadata": {},
   "outputs": [],
   "source": [
    "ailefroide_gdf.iloc[0]"
   ]
  },
  {
   "cell_type": "markdown",
   "id": "d8044c9d-3f90-4661-b770-008c5faee303",
   "metadata": {},
   "source": [
    "On peut alors avoir directement accès à toutes les manipulations graphiques que l'on a vu précédemment, en comme la supperposition de la carte et du graphe. "
   ]
  },
  {
   "cell_type": "code",
   "execution_count": null,
   "id": "0c4f7751-2b5e-4c57-88cd-5671bf1bca11",
   "metadata": {},
   "outputs": [],
   "source": [
    "import xyzservices.providers as xyz"
   ]
  },
  {
   "cell_type": "code",
   "execution_count": null,
   "id": "c5669ce2-75dc-4b52-9bca-1d7a93d15a9a",
   "metadata": {},
   "outputs": [],
   "source": [
    "fig, ax = plt.subplots(figsize=(10, 10)) \n",
    "\n",
    "\n",
    "ailefroide_gdf.plot(ax=ax)\n",
    "ctx.add_basemap(ax, crs=ailefroide_gdf.crs.to_string(), \n",
    "                source=xyz.GeoportailFrance.plan)\n",
    "\n",
    "plt.plot()"
   ]
  },
  {
   "cell_type": "markdown",
   "id": "a64f7d02-e177-49ac-8f59-d4565ee89dac",
   "metadata": {},
   "source": [
    "Ce genre d'approche vous permer de combiner de créer des cartes très détaillées, puisque l'on peut ajouter ce que l'on veut, en particuliers les features associées à la carte :"
   ]
  },
  {
   "cell_type": "code",
   "execution_count": null,
   "id": "84519743-052f-4703-939b-93018d8ddcc7",
   "metadata": {},
   "outputs": [],
   "source": [
    "aiefroide_features = ox.features_from_point((44.8833273, 6.444307), dist=3000,\n",
    "                                            tags = {'amenity': True})"
   ]
  },
  {
   "cell_type": "code",
   "execution_count": null,
   "id": "90267c21-79fa-49dd-8287-4f5cb12a352f",
   "metadata": {},
   "outputs": [],
   "source": [
    "fig, ax = plt.subplots(figsize=(10, 10)) \n",
    "\n",
    "ailefroide_gdf.plot(ax=ax)\n",
    "ctx.add_basemap(ax, crs=ailefroide_gdf.crs.to_string(), \n",
    "                source=xyz.GeoportailFrance.plan)\n",
    "aiefroide_features.plot(ax=ax, color=\"red\")\n",
    "\n",
    "plt.plot()"
   ]
  },
  {
   "cell_type": "markdown",
   "id": "cfd6cfeb-9506-48cd-b5fa-e78c9cc8f58c",
   "metadata": {},
   "source": [
    "## Chemins\n",
    "\n",
    "On veut aller de l'école à deep pour acheter du café."
   ]
  },
  {
   "cell_type": "markdown",
   "id": "e3230554-c2a5-42ec-98ec-bc6da48e8136",
   "metadata": {},
   "source": [
    "> TBD : trouver dans marseille en grands le sommet le plus proche de l'ecm et de deep\n",
    "> puis faire un chemin le plus court et l'afficher"
   ]
  },
  {
   "cell_type": "markdown",
   "id": "b49c2610-c3fd-4555-be3c-80f3504afedc",
   "metadata": {},
   "source": [
    "### Détermination des sommets de départ et d'arrivée\n",
    "\n",
    "Si l'on ne connait pas les coordonnées GPS des points de départ et d'arrivée d'arrivées on puet les trouver en utilisant OSM via ;la bibliothèque [`geopy`](https://geopy.readthedocs.io/) (qui devrait déjà être installée via une dépendance)."
   ]
  },
  {
   "cell_type": "code",
   "execution_count": null,
   "id": "2d786069-3058-4918-90ed-caf6c814416a",
   "metadata": {},
   "outputs": [],
   "source": [
    "import geopy\n",
    "\n",
    "from geopy.geocoders import Nominatim  # décodeur OSM\n",
    "geolocator = Nominatim(user_agent=\"juterlab cours ecm\")"
   ]
  },
  {
   "cell_type": "markdown",
   "id": "ca9ba53e-ce55-4f7b-a443-bbd3dc38c464",
   "metadata": {},
   "source": [
    "Faisons une requête pour trouver le départ :"
   ]
  },
  {
   "cell_type": "code",
   "execution_count": null,
   "id": "14236787-88fd-41c4-b45c-e4627e50db0a",
   "metadata": {},
   "outputs": [],
   "source": [
    "départ = geolocator.geocode(\"Ecole centrale marseille, france\")"
   ]
  },
  {
   "cell_type": "code",
   "execution_count": null,
   "id": "d0224e5d-bf83-4422-adce-7ffd4e238d0c",
   "metadata": {},
   "outputs": [],
   "source": [
    "départ"
   ]
  },
  {
   "cell_type": "code",
   "execution_count": null,
   "id": "c55696c1-df9c-4e49-8483-d2e7a18c5776",
   "metadata": {},
   "outputs": [],
   "source": [
    "type(départ)"
   ]
  },
  {
   "cell_type": "markdown",
   "id": "69a0e628-e4d8-4be1-8de5-e782d58b01c0",
   "metadata": {},
   "source": [
    "En lisant la [doc](https://geopy.readthedocs.io/en/latest/index.html#geopy.location.Location) on trouve les coordonnées recherchées :"
   ]
  },
  {
   "cell_type": "code",
   "execution_count": null,
   "id": "5a77cbcb-35f4-49cf-8fdd-25eff78ba8f3",
   "metadata": {},
   "outputs": [],
   "source": [
    "départ.point"
   ]
  },
  {
   "cell_type": "code",
   "execution_count": null,
   "id": "e7b5a1b6-31de-403a-91e8-97a7ac6f862f",
   "metadata": {},
   "outputs": [],
   "source": [
    "arrivée = geolocator.geocode(\"café deep, marseille, france\")"
   ]
  },
  {
   "cell_type": "code",
   "execution_count": null,
   "id": "efa45d05-1747-4cd8-8a5d-40411e5360cc",
   "metadata": {},
   "outputs": [],
   "source": [
    "arrivée"
   ]
  },
  {
   "cell_type": "markdown",
   "id": "e40c7a27-ab22-4959-9406-78c296dba83e",
   "metadata": {},
   "source": [
    "### Sommet assocées\n",
    "\n",
    "Trouvons les sommets associés sur le graphe (attention à l'ordre des coordonnées) :"
   ]
  },
  {
   "cell_type": "code",
   "execution_count": null,
   "id": "0aa068d0-8b79-499b-a55d-89dde4d01813",
   "metadata": {},
   "outputs": [],
   "source": [
    "départ_sommet = ox.nearest_nodes(marseille_en_grand, départ.point[1], départ.point[0]) \n",
    "arrivée_sommet = ox.nearest_nodes(marseille_en_grand, arrivée.point[1], arrivée.point[0]) "
   ]
  },
  {
   "cell_type": "code",
   "execution_count": null,
   "id": "e889faac-88cd-4903-8230-4196b004539b",
   "metadata": {},
   "outputs": [],
   "source": [
    "départ_sommet, arrivée_sommet"
   ]
  },
  {
   "cell_type": "code",
   "execution_count": null,
   "id": "11e59765-e7b5-4949-ad8e-e01f1ed4a6a6",
   "metadata": {},
   "outputs": [],
   "source": [
    "fig, ax = ox.plot_graph(marseille_en_grand, show=False,\n",
    "                        node_color=[\"red\" if n in (départ_sommet, arrivée_sommet) else \"white\" for n in marseille_en_grand.nodes],\n",
    "                        node_size=[100 if n in (départ_sommet, arrivée_sommet) else 15 for n in marseille_en_grand.nodes]\n",
    "                       )\n",
    "\n",
    "plt.show()"
   ]
  },
  {
   "cell_type": "markdown",
   "id": "cd2a7d98-1429-4fe5-a520-348a0b9d8e3d",
   "metadata": {},
   "source": [
    "### Route\n",
    "\n",
    "On utilise [`shortest_path`](https://osmnx.readthedocs.io/en/stable/user-reference.html#osmnx.routing.shortest_path) qui permet de trouver un chemin le plus court selon le poid considéré. Allons-y le plus vite possible."
   ]
  },
  {
   "cell_type": "code",
   "execution_count": null,
   "id": "f898700e-fda3-429e-813f-4321078e91a2",
   "metadata": {},
   "outputs": [],
   "source": [
    "route = ox.shortest_path(marseille_en_grand, départ_sommet, arrivée_sommet, weight='travel_time')"
   ]
  },
  {
   "cell_type": "markdown",
   "id": "c7d49ded-0c58-4229-b755-30b9a632bb15",
   "metadata": {},
   "source": [
    "La fonction rend une liste de sommets :"
   ]
  },
  {
   "cell_type": "code",
   "execution_count": null,
   "id": "5a41bb0c-2f8c-41c8-9f1f-faf0687a67ef",
   "metadata": {},
   "outputs": [],
   "source": [
    "len(route)"
   ]
  },
  {
   "cell_type": "code",
   "execution_count": null,
   "id": "5ef4ef1f-04bd-431b-8042-13ec74f89f0d",
   "metadata": {},
   "outputs": [],
   "source": [
    "route[:10]  # les dix premiers sommets"
   ]
  },
  {
   "cell_type": "markdown",
   "id": "665b70a5-d0ef-44da-93d7-7564355bd219",
   "metadata": {},
   "source": [
    "Que l'on peut afficher :"
   ]
  },
  {
   "cell_type": "code",
   "execution_count": null,
   "id": "9b55f6fa-827d-4f17-bae1-df13ca975e78",
   "metadata": {},
   "outputs": [],
   "source": [
    "fig, ax = ox.plot_graph_route(marseille_en_grand, route)"
   ]
  },
  {
   "cell_type": "markdown",
   "id": "c1ecf05f-2d46-4355-beb7-dc0b351e6972",
   "metadata": {},
   "source": [
    "Le chemin le plus court prend la L2 jusqu'au vieux port, mais ne compte pas le temps pour trouver une place de parking gratuite."
   ]
  },
  {
   "cell_type": "markdown",
   "id": "91b2c21a-603b-4203-8c7a-ec346d15490f",
   "metadata": {},
   "source": [
    "## Coordonnées géographiques\n",
    "\n",
    "On a déjà vu les formes géométriques Point et Polygon du format geojson. Les arêtes du graphe utilisent une autre primitive, les [`LineString`](https://shapely.readthedocs.io/en/stable/reference/shapely.LineString.html)."
   ]
  },
  {
   "cell_type": "code",
   "execution_count": null,
   "id": "9737616e-2b5d-4d42-a20d-cc5668604db0",
   "metadata": {},
   "outputs": [],
   "source": []
  },
  {
   "cell_type": "markdown",
   "id": "c3fe8d12-bde4-43e4-81fe-6fe79f1db23e",
   "metadata": {},
   "source": [
    "Considérons uniquement le geodataframe des arêtes utilisées pour aller de l'ecm à deep. Pour celà on va travailler par étapes :\n",
    "\n",
    "1. créer le geodataframe des arêtes du graphe de marseille\n",
    "2. trouver les arêtes du chemins (notre route est une suite de sommets\n",
    "3. restreindre le geodataframe à ces arêtes"
   ]
  },
  {
   "cell_type": "code",
   "execution_count": null,
   "id": "0c3ee54e-cbec-4328-a54a-a5f16135d71d",
   "metadata": {},
   "outputs": [],
   "source": [
    "marseille_en_grand_gdf = ox.graph_to_gdfs(marseille_en_grand, nodes=False)"
   ]
  },
  {
   "cell_type": "code",
   "execution_count": null,
   "id": "933556f5-0e34-4e5a-b63c-fff1574c7189",
   "metadata": {},
   "outputs": [],
   "source": [
    "arêtes = [(route[i], route[i+1], 0) for i in range(len(route)-1)]"
   ]
  },
  {
   "cell_type": "code",
   "execution_count": null,
   "id": "26b92970-6f93-4f68-9963-0e9f10c9696c",
   "metadata": {},
   "outputs": [],
   "source": [
    "chemin = marseille_en_grand_gdf.loc[marseille_en_grand_gdf.index.isin(arêtes)]"
   ]
  },
  {
   "cell_type": "code",
   "execution_count": null,
   "id": "9cc2f86f-145d-4977-a8d6-c4ac1fa77cc9",
   "metadata": {},
   "outputs": [],
   "source": [
    "chemin"
   ]
  },
  {
   "cell_type": "markdown",
   "id": "0817c296-f589-4594-bbd2-b0668070c66e",
   "metadata": {},
   "source": [
    "Il y a 61 lignes à notre geodataframe (ce qui est cohérent avec les 62 sommets de la route) que l'on peut représenter graphiquement :"
   ]
  },
  {
   "cell_type": "code",
   "execution_count": null,
   "id": "36e30b21-8c89-45ba-80c9-f57c567b8851",
   "metadata": {},
   "outputs": [],
   "source": [
    "fig, ax = plt.subplots(figsize=(20,12))\n",
    "\n",
    "chemin.plot(ax=ax)\n",
    "\n",
    "plt.show()"
   ]
  },
  {
   "cell_type": "markdown",
   "id": "5ec18a11-3c36-400f-9597-f0edff05e21a",
   "metadata": {},
   "source": [
    "Comparons ce dessoin à ce que l'on aurait eu si l'on avait juste utilisé des segments entre les différents sommets "
   ]
  },
  {
   "cell_type": "code",
   "execution_count": null,
   "id": "e66e05d5-4a2a-4679-b701-ef929337b859",
   "metadata": {},
   "outputs": [],
   "source": [
    "from shapely.geometry import Point, LineString"
   ]
  },
  {
   "cell_type": "code",
   "execution_count": null,
   "id": "6dd76127-e0c7-43d3-82aa-ced67a2934d9",
   "metadata": {},
   "outputs": [],
   "source": [
    "rows = []\n",
    "for i in range(len(route) - 1):\n",
    "    x = Point(marseille_en_grand.nodes[route[i]]['x'], marseille_en_grand.nodes[route[i]]['y'])\n",
    "    y = Point(marseille_en_grand.nodes[route[i + 1]]['x'], marseille_en_grand.nodes[route[i + 1]]['y'])\n",
    "    row = {'orig': route[i], \n",
    "           'dest': route[i+1],\n",
    "           'geometry': LineString([x, y])}\n",
    "    rows.append(row)"
   ]
  },
  {
   "cell_type": "code",
   "execution_count": null,
   "id": "e8e947a0-7058-4e43-9b72-e1bd6b8d8b50",
   "metadata": {},
   "outputs": [],
   "source": [
    "import geopandas as gpd"
   ]
  },
  {
   "cell_type": "code",
   "execution_count": null,
   "id": "8f803a5d-8efb-41b2-9af1-d0e9b06614fc",
   "metadata": {},
   "outputs": [],
   "source": [
    "gdf = gpd.GeoDataFrame(rows)"
   ]
  },
  {
   "cell_type": "markdown",
   "id": "b13cf62b-b812-42f3-92e2-d7193dc8367d",
   "metadata": {},
   "source": [
    "On a crée un geodataframe dont les LineString sont des segments :"
   ]
  },
  {
   "cell_type": "code",
   "execution_count": null,
   "id": "91a69c0e-62fa-49ac-958d-a6298068e2fb",
   "metadata": {},
   "outputs": [],
   "source": [
    "gdf"
   ]
  },
  {
   "cell_type": "code",
   "execution_count": null,
   "id": "b14f0e19-19b4-4fd0-8c3f-0bdc44ad1186",
   "metadata": {},
   "outputs": [],
   "source": [
    "fig, ax = plt.subplots(figsize=(20,12), ncols=2)\n",
    "\n",
    "ax[0].set_title(\"Segments\")\n",
    "ax[1].set_title(\"Courbes\")\n",
    "\n",
    "gdf.plot(ax=ax[0])\n",
    "chemin.plot(ax=ax[1])\n",
    "\n",
    "plt.show()"
   ]
  },
  {
   "cell_type": "markdown",
   "id": "10944a13-39b4-4162-8375-1c1667bf6398",
   "metadata": {},
   "source": [
    "Finissons cette partie en représentant les deux chemins sur la même carte :"
   ]
  },
  {
   "cell_type": "code",
   "execution_count": null,
   "id": "6bad7e3e-4d0e-4fed-96c9-f20d572e4b5d",
   "metadata": {},
   "outputs": [],
   "source": [
    "fig, ax = plt.subplots(figsize=(10, 10)) \n",
    "\n",
    "ax.axis(False)\n",
    "\n",
    "chemin.plot(ax=ax, color=\"red\")\n",
    "gdf.plot(ax=ax, color=\"blue\")\n",
    "ctx.add_basemap(ax, crs=chemin.crs.to_string())\n",
    "\n",
    "\n",
    "plt.plot()"
   ]
  },
  {
   "cell_type": "code",
   "execution_count": null,
   "id": "72fb5448-4868-4546-910c-eed505707d97",
   "metadata": {},
   "outputs": [],
   "source": []
  }
 ],
 "metadata": {
  "kernelspec": {
   "display_name": ".venv",
   "language": "python",
   "name": "python3"
  },
  "language_info": {
   "codemirror_mode": {
    "name": "ipython",
    "version": 3
   },
   "file_extension": ".py",
   "mimetype": "text/x-python",
   "name": "python",
   "nbconvert_exporter": "python",
   "pygments_lexer": "ipython3",
   "version": "3.13.0"
  }
 },
 "nbformat": 4,
 "nbformat_minor": 5
}
