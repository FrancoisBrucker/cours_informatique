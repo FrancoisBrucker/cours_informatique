{
 "cells": [
  {
   "cell_type": "markdown",
   "metadata": {},
   "source": [
    "# Cartes de géographie\n",
    "\n",
    "Représentation de cartes de géographie"
   ]
  },
  {
   "cell_type": "markdown",
   "metadata": {},
   "source": [
    "Pour installer tous les packages nécessaire pour ce cours (anaconda ne les connait pas a priori), on va utiliser le terminal. Pour activer un rerminal configuré pour fonctionner avec anaconda il faut :\n",
    "\n",
    "1. dans anaconda-navigator allez dans la partie [environnement](https://docs.anaconda.com/anaconda/navigator/tutorials/manage-environments/)\n",
    "2. ouvre un terminal en [cliquant sur le triangle vert](https://docs.anaconda.com/anaconda/navigator/tutorials/manage-environments/#using-an-environment) de l'environnement *base (root)*.\n",
    "\n",
    "Une fois dans le terminal on peut installer nos packages : \n",
    "1. *étape facultative* : mettre à jour conda. Tapez la commande : `conda update --all` \n",
    "2. installez les bibliothèques nécessaire pour ce cours avec `pip` (ou `pip3` sous mac)."
   ]
  },
  {
   "cell_type": "markdown",
   "metadata": {},
   "source": [
    "Pour ce cours, outre les bibliothèque par défaut de conda, on aura besoin de :\n",
    "* [descartes](https://pypi.org/project/descartes/) pour dessiner des cartes : `pip install descartes`\n",
    "* [geopandas](https://geopandas.org/) pour les dataframe geographiques : `pip install geopandas`\n",
    "* [contextily](https://contextily.readthedocs.io/en/latest/) pour les fond de cartes : `pip install contextily`\n",
    "\n",
    "**Attention** si vous êtes sous mac tapez bien `pip3` à la place de `pip` "
   ]
  },
  {
   "cell_type": "markdown",
   "metadata": {},
   "source": [
    "## tutos\n",
    "\n",
    "- https://www.youtube.com/watch?v=y85IKthrV-s&list=PLewNEVDy7gq3DjrPDxGFLbHE4G2QWe8Qh \n",
    "- https://www.youtube.com/watch?v=t7lliJXFt8w"
   ]
  },
  {
   "cell_type": "markdown",
   "metadata": {},
   "source": [
    "## lire les données\n",
    "\n",
    "Il existe une multitude de format de cartes concurrents (une [explication](https://xkcd.com/927/) de cet état de fait). Heuresement, geopandas permet d'en lire la plupart et il les convertit à la volée au format geojson.\n",
    "\n",
    "On va en voir deux geojson et shapefile.\n",
    "\n",
    "**doc** : https://geopandas.org/io.html"
   ]
  },
  {
   "cell_type": "markdown",
   "metadata": {},
   "source": [
    "### geojson\n",
    "\n",
    "Le format [geojson](https://geojson.org/) est un format de représentation de données cartographiques."
   ]
  },
  {
   "cell_type": "markdown",
   "metadata": {},
   "source": [
    "On va utiliser [Grégoire David](https://github.com/gregoiredavid/france-geojson) et sa carte des [régions françaises](https://github.com/gregoiredavid/france-geojson/blob/master/departements-avec-outre-mer.geojson) (cliquez droit sur download pour récupérer le fichier geojson ou utilisez directectement l'url  comme ci-dessous)."
   ]
  },
  {
   "cell_type": "code",
   "execution_count": null,
   "metadata": {},
   "outputs": [],
   "source": [
    "import geopandas as gpd"
   ]
  },
  {
   "cell_type": "code",
   "execution_count": null,
   "metadata": {},
   "outputs": [],
   "source": [
    "regions = gpd.read_file(\"https://raw.githubusercontent.com/gregoiredavid/france-geojson/master/regions-avec-outre-mer.geojson\")"
   ]
  },
  {
   "cell_type": "markdown",
   "metadata": {},
   "source": [
    "geopandas crée un geodataframe avec ces données (on verra tout ça en détail dans le cours suivant) : "
   ]
  },
  {
   "cell_type": "code",
   "execution_count": null,
   "metadata": {},
   "outputs": [],
   "source": [
    "regions"
   ]
  },
  {
   "cell_type": "code",
   "execution_count": null,
   "metadata": {},
   "outputs": [],
   "source": [
    "type(regions)"
   ]
  },
  {
   "cell_type": "markdown",
   "metadata": {},
   "source": [
    "geodataframe que l'on peut ensuite représenter graphiquement : "
   ]
  },
  {
   "cell_type": "code",
   "execution_count": null,
   "metadata": {},
   "outputs": [],
   "source": [
    "regions.plot()"
   ]
  },
  {
   "cell_type": "markdown",
   "metadata": {},
   "source": [
    "### shapefile\n",
    "\n",
    "Un standard de fait est le format [shapefile](https://fr.wikipedia.org/wiki/Shapefile). \n",
    "\n",
    "Ce format est en fait constitué de multiples fichiers, chacun avec sa propre extension (shp pour les formes, dbf pour les données associées, etc). C'est pourquoi les fichier shapefile viennent souvent sous la forme d'un fichier zip.\n",
    "\n",
    "On va utiliser la carte du monde et des différents pays. Pour cela, allez sur [ce site](https://hub.arcgis.com/) puis tapez _\"world countries political boundaries\"_ dans la barre de recherche : cliquez sur *télécharger* puis *shapefile*.\n",
    "\n",
    "Si l'on décompresse le fichier zip on voit qu'il est constitué de multiple fichier avec le même nom et différentes extensions. C'est l'ensemble de ces fichiers qui correspond à nos données (les formes, les méta-données, etc).\n"
   ]
  },
  {
   "cell_type": "markdown",
   "metadata": {},
   "source": [
    "geopandas permet de lire directement un fichier zip : "
   ]
  },
  {
   "cell_type": "code",
   "execution_count": null,
   "metadata": {},
   "outputs": [],
   "source": [
    "# lecture d'un fichier zip dans le dossier où se trouve le notebook Jupyter\n",
    "\n",
    "monde = gpd.read_file(\"zip://./UIA_World_Countries_Boundaries.zip\")"
   ]
  },
  {
   "cell_type": "markdown",
   "metadata": {},
   "source": [
    "on peut ensuite le représenter graphiquement :"
   ]
  },
  {
   "cell_type": "code",
   "execution_count": null,
   "metadata": {},
   "outputs": [],
   "source": [
    "monde.plot()"
   ]
  },
  {
   "cell_type": "markdown",
   "metadata": {},
   "source": [
    "On peut aussi charger le fichier shp du dossier décompressé."
   ]
  },
  {
   "cell_type": "code",
   "execution_count": null,
   "metadata": {},
   "outputs": [],
   "source": [
    "monde_pas_zip = gpd.read_file(\"UIA_World_Countries_Boundaries/World_Countries_Generalized.shp\")"
   ]
  },
  {
   "cell_type": "code",
   "execution_count": null,
   "metadata": {},
   "outputs": [],
   "source": [
    "monde_pas_zip.plot()"
   ]
  },
  {
   "cell_type": "markdown",
   "metadata": {},
   "source": [
    "Les 2 façons de faire sont équivalentes, geopandas lira également les autres fichier du dossier si l'on charge le fichier shp."
   ]
  },
  {
   "cell_type": "code",
   "execution_count": null,
   "metadata": {},
   "outputs": [],
   "source": [
    "monde"
   ]
  },
  {
   "cell_type": "code",
   "execution_count": null,
   "metadata": {},
   "outputs": [],
   "source": [
    "monde_pas_zip"
   ]
  },
  {
   "cell_type": "markdown",
   "metadata": {},
   "source": [
    "Si je crée un dossier avec uniquement les fichiers shp et shx, on voit que l'on a que les coordonnées géographiques :"
   ]
  },
  {
   "cell_type": "code",
   "execution_count": null,
   "metadata": {},
   "outputs": [],
   "source": [
    "gpd.read_file(\"fichier_shp_seul/World_Countries_Generalized.shp\")"
   ]
  },
  {
   "cell_type": "markdown",
   "metadata": {},
   "source": [
    "## dessiner une carte\n",
    "\n",
    "geopandas utilise de façon cachée matplotlib pour représenter les cartes. Faisons le explicitement, ce qui nous permettra de contrôler le dessin."
   ]
  },
  {
   "cell_type": "markdown",
   "metadata": {},
   "source": [
    "###  axes\n",
    "\n",
    "La première chose à faire est de dessiner sur ce que l'on veut. On commence donc par créer notre dessin (avec la commande [subplots](https://matplotlib.org/3.3.3/api/_as_gen/matplotlib.pyplot.subplots.html)) de taille 20x5, puis on dessine dessus."
   ]
  },
  {
   "cell_type": "code",
   "execution_count": null,
   "metadata": {},
   "outputs": [],
   "source": [
    "import matplotlib.pyplot as plt"
   ]
  },
  {
   "cell_type": "code",
   "execution_count": null,
   "metadata": {},
   "outputs": [],
   "source": [
    "fig, ax = plt.subplots(figsize=(20, 5)) \n",
    "\n",
    "regions.plot(ax=ax)\n",
    "\n",
    "plt.show()"
   ]
  },
  {
   "cell_type": "markdown",
   "metadata": {},
   "source": [
    "Mettons côte à cote la France et le monde :"
   ]
  },
  {
   "cell_type": "code",
   "execution_count": null,
   "metadata": {},
   "outputs": [],
   "source": [
    "fig, ax = plt.subplots(figsize=(20, 5), ncols=2) \n",
    "\n",
    "regions.plot(ax=ax[0])\n",
    "monde.plot(ax=ax[1])\n",
    "\n",
    "plt.show()"
   ]
  },
  {
   "cell_type": "markdown",
   "metadata": {},
   "source": [
    "### legendes et coordonnées"
   ]
  },
  {
   "cell_type": "markdown",
   "metadata": {},
   "source": [
    "\n",
    "- se centrer sur la réunion (puis sur la métropole)\n",
    "- enlever les axes\n"
   ]
  },
  {
   "cell_type": "markdown",
   "metadata": {},
   "source": [
    "Reprenons la France :"
   ]
  },
  {
   "cell_type": "code",
   "execution_count": null,
   "metadata": {},
   "outputs": [],
   "source": [
    "fig, ax = plt.subplots(figsize=(10, 10)) \n",
    "\n",
    "regions.plot(ax=ax)\n",
    "\n",
    "plt.show()"
   ]
  },
  {
   "cell_type": "markdown",
   "metadata": {},
   "source": [
    "Concentrons nous sur la réunion (en bas à droite) en délimitant les bornes des axes : "
   ]
  },
  {
   "cell_type": "code",
   "execution_count": null,
   "metadata": {},
   "outputs": [],
   "source": [
    "fig, ax = plt.subplots(figsize=(10, 10)) \n",
    "ax.set_xlim(55.1, 56)\n",
    "ax.set_ylim(-21.5, -20.75)\n",
    "\n",
    "regions.plot(ax=ax)\n",
    "\n",
    "plt.show()"
   ]
  },
  {
   "cell_type": "markdown",
   "metadata": {},
   "source": [
    "Puis supprimons les graduations :"
   ]
  },
  {
   "cell_type": "code",
   "execution_count": null,
   "metadata": {},
   "outputs": [],
   "source": [
    "fig, ax = plt.subplots(figsize=(10, 10)) \n",
    "\n",
    "ax.set_xlim(55.1, 56)\n",
    "ax.set_ylim(-21.5, -20.75)\n",
    "ax.axis('off')\n",
    "\n",
    "regions.plot(ax=ax)\n",
    "\n",
    "plt.show()"
   ]
  },
  {
   "cell_type": "markdown",
   "metadata": {},
   "source": [
    "### titres\n",
    "\n",
    "[set_title](https://matplotlib.org/3.1.1/gallery/subplots_axes_and_figures/figure_title.html)\n",
    "\n",
    "Il y a deux titre, celui du dessin et un pour chaque axe. Le texte est également très [paramétrable](https://matplotlib.org/3.1.1/api/text_api.html#matplotlib.text.Text)"
   ]
  },
  {
   "cell_type": "code",
   "execution_count": null,
   "metadata": {},
   "outputs": [],
   "source": [
    "fig, ax = plt.subplots(figsize=(10, 10))\n",
    "\n",
    "ax.set_xlim(55.1, 56)\n",
    "ax.set_ylim(-21.5, -20.75)\n",
    "ax.axis('off')\n",
    "\n",
    "fig.suptitle('Les régions françaises', \n",
    "             fontsize=30)\n",
    "\n",
    "ax.set_title(\"L'île de la réunion\",\n",
    "             fontsize=20,\n",
    "             fontweight=\"bold\"\n",
    "            )\n",
    "\n",
    "regions.plot(ax=ax)\n",
    "\n",
    "plt.show()"
   ]
  },
  {
   "cell_type": "markdown",
   "metadata": {},
   "source": [
    "## Gestion des couleurs"
   ]
  },
  {
   "cell_type": "markdown",
   "metadata": {},
   "source": [
    "Prenons la métropole : "
   ]
  },
  {
   "cell_type": "code",
   "execution_count": null,
   "metadata": {},
   "outputs": [],
   "source": [
    "fig, ax = plt.subplots(figsize=(10, 10)) \n",
    "\n",
    "ax.set_xlim(-6, 11)\n",
    "ax.set_ylim(40, 53)\n",
    "\n",
    "regions.plot(ax=ax)\n",
    "\n",
    "plt.show()"
   ]
  },
  {
   "cell_type": "markdown",
   "metadata": {},
   "source": [
    "### quoi colorier"
   ]
  },
  {
   "cell_type": "markdown",
   "metadata": {},
   "source": [
    "#### dessin\n",
    "\n",
    "Chaque dessin est constitué d'un fond (`color`) et d'un bord (`edgecolor`)."
   ]
  },
  {
   "cell_type": "code",
   "execution_count": null,
   "metadata": {},
   "outputs": [],
   "source": [
    "fig, ax = plt.subplots(figsize=(10, 10))\n",
    "\n",
    "ax.set_xlim(-6, 11)\n",
    "ax.set_ylim(40, 53)\n",
    "\n",
    "ax.axis('off')\n",
    "\n",
    "regions.plot(ax=ax,\n",
    "            color=\"lightgrey\",\n",
    "            edgecolor=\"black\")\n",
    "\n",
    "plt.show()"
   ]
  },
  {
   "cell_type": "markdown",
   "metadata": {},
   "source": [
    "#### fond"
   ]
  },
  {
   "cell_type": "markdown",
   "metadata": {},
   "source": [
    "Le fond est séparé en 2 entités : la figure et les axes qui ont chacune leur couleur."
   ]
  },
  {
   "cell_type": "code",
   "execution_count": null,
   "metadata": {},
   "outputs": [],
   "source": [
    "fig, ax = plt.subplots(figsize=(10, 10)) \n",
    "ax.set_xlim(-6, 11)\n",
    "ax.set_ylim(40, 53)\n",
    "\n",
    "fig.patch.set_facecolor('green')\n",
    "ax.patch.set_facecolor('blue')\n",
    "\n",
    "regions.plot(ax=ax,\n",
    "             color=\"red\",\n",
    "            edgecolor=\"white\")\n",
    "\n",
    "plt.show()"
   ]
  },
  {
   "cell_type": "markdown",
   "metadata": {},
   "source": [
    "Notez que si l'on supprime les axes, la couleur des axes n'est pas montrée :"
   ]
  },
  {
   "cell_type": "code",
   "execution_count": null,
   "metadata": {},
   "outputs": [],
   "source": [
    "fig, ax = plt.subplots(figsize=(10, 10)) \n",
    "ax.set_xlim(-6, 11)\n",
    "ax.set_ylim(40, 53)\n",
    "\n",
    "ax.axis('off')\n",
    "\n",
    "fig.patch.set_facecolor('green')\n",
    "ax.patch.set_facecolor('blue')\n",
    "\n",
    "regions.plot(ax=ax,\n",
    "             color=\"red\",\n",
    "            edgecolor=\"white\")\n",
    "\n",
    "plt.show()"
   ]
  },
  {
   "cell_type": "markdown",
   "metadata": {},
   "source": [
    "### couleurs"
   ]
  },
  {
   "cell_type": "markdown",
   "metadata": {},
   "source": [
    "Une couleur peut être [beaucoup de chose](https://matplotlib.org/3.1.0/tutorials/colors/colors.html) :"
   ]
  },
  {
   "cell_type": "markdown",
   "metadata": {},
   "source": [
    "#### noms "
   ]
  },
  {
   "cell_type": "code",
   "execution_count": null,
   "metadata": {},
   "outputs": [],
   "source": [
    "fig, ax = plt.subplots(figsize=(10, 10)) \n",
    "\n",
    "ax.set_xlim(-6, 11)\n",
    "ax.set_ylim(40, 53)\n",
    "\n",
    "ax.axis('off')\n",
    "\n",
    "regions.plot(ax=ax,\n",
    "            color=\"orange\",\n",
    "            edgecolor=\"xkcd:pinkish red\")\n",
    "\n",
    "plt.show()"
   ]
  },
  {
   "cell_type": "markdown",
   "metadata": {},
   "source": [
    "Ou des couleurs seaborn :"
   ]
  },
  {
   "cell_type": "code",
   "execution_count": null,
   "metadata": {},
   "outputs": [],
   "source": [
    "import seaborn as sns\n",
    "\n",
    "sns.palplot(sns.color_palette()) # https://seaborn.pydata.org/tutorial/color_palettes.html\n",
    "plt.show()"
   ]
  },
  {
   "cell_type": "code",
   "execution_count": null,
   "metadata": {},
   "outputs": [],
   "source": [
    "fig, ax = plt.subplots(figsize=(10, 10)) \n",
    "ax.set_xlim(-6, 11)\n",
    "ax.set_ylim(40, 53)\n",
    "\n",
    "ax.axis('off')\n",
    "\n",
    "regions.plot(ax=ax,\n",
    "            color=sns.color_palette()[8],\n",
    "            edgecolor=sns.color_palette()[3])\n",
    "\n",
    "plt.show()"
   ]
  },
  {
   "cell_type": "markdown",
   "metadata": {},
   "source": [
    "### un code RGB\n",
    "\n",
    "On a tout le contrôle nécessaire puisque l'on peut directement utiliser des code [RGB](https://color.adobe.com/fr/create/color-wheel)."
   ]
  },
  {
   "cell_type": "code",
   "execution_count": null,
   "metadata": {},
   "outputs": [],
   "source": [
    "fig, ax = plt.subplots(figsize=(10, 10)) \n",
    "ax.set_xlim(-6, 11)\n",
    "ax.set_ylim(40, 53)\n",
    "\n",
    "#ax.axis('off')\n",
    "\n",
    "regions.plot(ax=ax,\n",
    "            color=\"#bbaadd\",\n",
    "            edgecolor=\"#dd0000\")\n",
    "\n",
    "plt.show()"
   ]
  },
  {
   "cell_type": "markdown",
   "metadata": {},
   "source": [
    "### des entiers ou des réels\n",
    "\n",
    "On peut faire ses propres couleurs avec des listes de pourcentage de couleurs (réels de 0 à 1)."
   ]
  },
  {
   "cell_type": "code",
   "execution_count": null,
   "metadata": {},
   "outputs": [],
   "source": [
    "# valeur en base 10 des couleurs de la carte précédente\n",
    "\n",
    "0xbb, 0xaa, 0xdd"
   ]
  },
  {
   "cell_type": "code",
   "execution_count": null,
   "metadata": {},
   "outputs": [],
   "source": [
    "#pourcentages \n",
    "\n",
    "0xbb / 255, 0xaa / 255, 0xdd / 255"
   ]
  },
  {
   "cell_type": "code",
   "execution_count": null,
   "metadata": {},
   "outputs": [],
   "source": [
    "fig, ax = plt.subplots(figsize=(10, 10)) \n",
    "ax.set_xlim(-6, 11)\n",
    "ax.set_ylim(40, 53)\n",
    "\n",
    "#ax.axis('off')\n",
    "\n",
    "regions.plot(ax=ax,\n",
    "            color=(0.73, 0.67, 0.87),\n",
    "            edgecolor=(.87, 0.0, 0.0))\n",
    "\n",
    "plt.show()"
   ]
  },
  {
   "cell_type": "markdown",
   "metadata": {},
   "source": [
    "### pas de couleurs\n",
    "\n",
    "On peut aussi, ne pas mettre de couleur en utilsant le mot clé `\"none\"`"
   ]
  },
  {
   "cell_type": "code",
   "execution_count": null,
   "metadata": {},
   "outputs": [],
   "source": [
    "fig, ax = plt.subplots(figsize=(10, 10)) \n",
    "ax.set_xlim(-6, 11)\n",
    "ax.set_ylim(40, 53)\n",
    "\n",
    "ax.axis('off')\n",
    "\n",
    "fig.patch.set_facecolor('green')\n",
    "\n",
    "regions.plot(ax=ax,\n",
    "            color=\"none\",\n",
    "            edgecolor=\"blue\")\n",
    "\n",
    "plt.show()"
   ]
  },
  {
   "cell_type": "markdown",
   "metadata": {},
   "source": [
    "### la transparence\n",
    "\n",
    "On gère la transpacence soit avec un paramètre spécifique soit en ajoutant une *coordonnée* de transparence.\n"
   ]
  },
  {
   "cell_type": "markdown",
   "metadata": {},
   "source": [
    "#### paramètre\n",
    "\n",
    "Ce paramètre désigne le caratère de transparence pour tout le dessin (fond et bord)"
   ]
  },
  {
   "cell_type": "code",
   "execution_count": null,
   "metadata": {},
   "outputs": [],
   "source": [
    "fig, ax = plt.subplots(figsize=(10, 10)) \n",
    "ax.set_xlim(-6, 11)\n",
    "ax.set_ylim(40, 53)\n",
    "\n",
    "ax.axis('off')\n",
    "\n",
    "fig.patch.set_facecolor('green')\n",
    "ax.patch.set_facecolor('blue')\n",
    "\n",
    "regions.plot(ax=ax,\n",
    "             color=\"red\",\n",
    "            edgecolor=\"white\",\n",
    "            alpha=0.5)\n",
    "\n",
    "plt.show()"
   ]
  },
  {
   "cell_type": "markdown",
   "metadata": {},
   "source": [
    "#### pour chaque couleur \n",
    "\n",
    "On a juste ajouté la transparence dans la définition de la couleur (équivalent à #ff00007f)"
   ]
  },
  {
   "cell_type": "code",
   "execution_count": null,
   "metadata": {},
   "outputs": [],
   "source": [
    "fig, ax = plt.subplots(figsize=(10, 10)) \n",
    "ax.set_xlim(-6, 11)\n",
    "ax.set_ylim(40, 53)\n",
    "\n",
    "ax.axis('off')\n",
    "\n",
    "fig.patch.set_facecolor('green')\n",
    "ax.patch.set_facecolor('blue')\n",
    "\n",
    "regions.plot(ax=ax,\n",
    "             color=(1, 0, 0, .5),\n",
    "             edgecolor=\"white\")\n",
    "\n",
    "plt.show()"
   ]
  },
  {
   "cell_type": "markdown",
   "metadata": {},
   "source": [
    "### couleurs différentes par régions\n",
    "\n",
    "un dessin d'une geodataframe est une supperposition de dessins de chacune de ses lignes.\n",
    "\n",
    "On peut du coup représenter une couleur différente par ligne. Il est cependant déconseillé d'utiliser trop de couleurs, c'est souvent pas beau et ça distrait le lecteur du but de la carte. Préférez peu de couleurs ayant chacune une utilité pour la compréhension deu dessin.\n"
   ]
  },
  {
   "cell_type": "markdown",
   "metadata": {},
   "source": [
    "#### listes"
   ]
  },
  {
   "cell_type": "markdown",
   "metadata": {},
   "source": [
    "On peut représenter du coup une couleur différente pour chaque ligne en passant en paramètre de la couleur une liste au moins aussi longue que le nombre de lignes.\n",
    "\n",
    "On a ci-dessous doublé la palette de seaborn :"
   ]
  },
  {
   "cell_type": "code",
   "execution_count": null,
   "metadata": {},
   "outputs": [],
   "source": [
    "fig, ax = plt.subplots(figsize=(10, 10)) \n",
    "ax.set_xlim(-6, 11)\n",
    "ax.set_ylim(40, 53)\n",
    "\n",
    "ax.axis('off')\n",
    "\n",
    "regions.plot(ax=ax,\n",
    "             color=sns.color_palette() * 2,\n",
    "             edgecolor=\"white\")\n",
    "\n",
    "plt.show()"
   ]
  },
  {
   "cell_type": "markdown",
   "metadata": {},
   "source": [
    "Les couleurs ont été prises ligne à ligne, ce qui permet de choisir une couleur particulière pour chaque ligne."
   ]
  },
  {
   "cell_type": "code",
   "execution_count": null,
   "metadata": {},
   "outputs": [],
   "source": [
    "sns.color_palette()"
   ]
  },
  {
   "cell_type": "code",
   "execution_count": null,
   "metadata": {},
   "outputs": [],
   "source": [
    "regions"
   ]
  },
  {
   "cell_type": "markdown",
   "metadata": {},
   "source": [
    "Une couleur pour PACA et une autre couleur pour les autres :"
   ]
  },
  {
   "cell_type": "code",
   "execution_count": null,
   "metadata": {},
   "outputs": [],
   "source": [
    "fig, ax = plt.subplots(figsize=(10, 10))\n",
    "\n",
    "ax.set_xlim(-6, 11)\n",
    "ax.set_ylim(40, 53)\n",
    "\n",
    "ax.axis('off')\n",
    "\n",
    "regions.plot(ax=ax,\n",
    "             color= [sns.color_palette()[1]] * 13 + [sns.color_palette()[6]] + [sns.color_palette()[1]] * 4,\n",
    "             edgecolor=\"white\")\n",
    "\n",
    "plt.show()"
   ]
  },
  {
   "cell_type": "markdown",
   "metadata": {},
   "source": [
    "#### gradiant\n",
    "\n",
    "Matplotlib possède pluseurs [gradiant](https://matplotlib.org/3.1.0/tutorials/colors/colormaps.html) de couleurs."
   ]
  },
  {
   "cell_type": "code",
   "execution_count": null,
   "metadata": {},
   "outputs": [],
   "source": [
    "fig, ax = plt.subplots(figsize=(10, 10)) \n",
    "ax.set_xlim(-6, 11)\n",
    "ax.set_ylim(40, 53)\n",
    "\n",
    "ax.axis('off')\n",
    "\n",
    "regions.plot(ax=ax,\n",
    "             cmap = 'plasma',\n",
    "             edgecolor=\"white\")\n",
    "\n",
    "plt.show()"
   ]
  },
  {
   "cell_type": "markdown",
   "metadata": {},
   "source": [
    "### fond de carte\n",
    "\n",
    "https://geopandas.org/gallery/plotting_basemap_background.html\n"
   ]
  },
  {
   "cell_type": "code",
   "execution_count": null,
   "metadata": {},
   "outputs": [],
   "source": [
    "import contextily as ctx"
   ]
  },
  {
   "cell_type": "markdown",
   "metadata": {},
   "source": [
    "On le verra dans la suite, mais une carte est une projection de la terre considérée comme un ellipsoide sur un plan. Il y a de nombreuses façon de faire et il est crutial de faire correspondre les projections de la carte et du fond de carte."
   ]
  },
  {
   "cell_type": "code",
   "execution_count": null,
   "metadata": {},
   "outputs": [],
   "source": [
    "regions.crs.to_string()"
   ]
  },
  {
   "cell_type": "markdown",
   "metadata": {},
   "source": [
    "C'est la projection du GPS : <https://epsg.io/4326>"
   ]
  },
  {
   "cell_type": "code",
   "execution_count": null,
   "metadata": {},
   "outputs": [],
   "source": [
    "fig, ax = plt.subplots(figsize=(10, 10)) \n",
    "\n",
    "\n",
    "regions.plot(ax=ax,\n",
    "        color=\"none\",\n",
    "        edgecolor=\"red\")\n",
    "ctx.add_basemap(ax, crs=regions.crs.to_string())\n",
    "\n",
    "plt.show()\n"
   ]
  },
  {
   "cell_type": "markdown",
   "metadata": {},
   "source": [
    "En convertissant au format Mercator des cartes \"classiques\" (<https://epsg.io/3857>)"
   ]
  },
  {
   "cell_type": "code",
   "execution_count": null,
   "metadata": {},
   "outputs": [],
   "source": [
    "# conversion au crs mercator\n",
    "\n",
    "df = regions.to_crs(epsg=3857)"
   ]
  },
  {
   "cell_type": "code",
   "execution_count": null,
   "metadata": {},
   "outputs": [],
   "source": [
    "df.crs.to_string()"
   ]
  },
  {
   "cell_type": "code",
   "execution_count": null,
   "metadata": {},
   "outputs": [],
   "source": [
    "fig, ax = plt.subplots(figsize=(10, 10)) \n",
    "\n",
    "\n",
    "df.plot(ax=ax,\n",
    "        color=\"none\",\n",
    "        edgecolor=\"red\")\n",
    "ctx.add_basemap(ax, crs=df.crs.to_string())\n",
    "\n",
    "plt.show()"
   ]
  },
  {
   "cell_type": "markdown",
   "metadata": {},
   "source": [
    "On ne peut plus zoomer, il faut réduire le dataframe :"
   ]
  },
  {
   "cell_type": "code",
   "execution_count": null,
   "metadata": {},
   "outputs": [],
   "source": [
    "df"
   ]
  },
  {
   "cell_type": "code",
   "execution_count": null,
   "metadata": {},
   "outputs": [],
   "source": [
    "fig, ax = plt.subplots(figsize=(10, 10)) \n",
    "\n",
    "\n",
    "df.loc[[16]].plot(ax=ax,\n",
    "             color=\"none\",\n",
    "            edgecolor=\"red\")\n",
    "ctx.add_basemap(ax, crs=df.crs.to_string())\n",
    "\n",
    "plt.show()"
   ]
  },
  {
   "cell_type": "markdown",
   "metadata": {},
   "source": [
    "**Note** : on a utilisé `df.loc[[16]]` qui rend un dataframe contenant les lignes choisies (ici juste celle d'index 16) et non pas `df.loc[16]` qui rendrait la ligne d'index 16 (ce serait une serie et par un dataframe)."
   ]
  },
  {
   "cell_type": "markdown",
   "metadata": {},
   "source": [
    "### supperpositions de dessins"
   ]
  },
  {
   "cell_type": "code",
   "execution_count": null,
   "metadata": {},
   "outputs": [],
   "source": [
    "from matplotlib.patches import Circle"
   ]
  },
  {
   "cell_type": "markdown",
   "metadata": {},
   "source": [
    "supperposer des cercles, des cartes, des disques de tailles différentes"
   ]
  },
  {
   "cell_type": "code",
   "execution_count": null,
   "metadata": {},
   "outputs": [],
   "source": [
    "fig, ax = plt.subplots(figsize=(10, 10)) \n",
    "\n",
    "\n",
    "\n",
    "df.loc[[16]].plot(ax=ax,\n",
    "             color=\"none\",\n",
    "            edgecolor=\"black\")\n",
    "ctx.add_basemap(ax, crs=df.crs.to_string())\n",
    "\n",
    "ax.text(6.173e6, -2.378e6, \"st denis\", color=\"red\")\n",
    "ax.scatter([6.172e6], [-2.378e6], color=\"red\")\n",
    "\n",
    "ax.add_artist(Circle((6.202e6, -2.421e6), .002e6, \n",
    "                     facecolor=\"#FF000077\", \n",
    "                     edgecolor=\"yellow\"))\n",
    "\n",
    "plt.show()\n"
   ]
  },
  {
   "cell_type": "markdown",
   "metadata": {},
   "source": [
    "## créer ses propres cartes\n",
    "\n",
    "**TBD** \n",
    "\n",
    "* https://www.youtube.com/watch?v=LwpqA2WMR_8\n",
    "* stockage en [geojson](https://geojson.org/), https://geojson.io/\n",
    "* https://www.naturalearthdata.com/"
   ]
  }
 ],
 "metadata": {
  "kernelspec": {
   "display_name": "Python 3 (ipykernel)",
   "language": "python",
   "name": "python3"
  },
  "language_info": {
   "codemirror_mode": {
    "name": "ipython",
    "version": 3
   },
   "file_extension": ".py",
   "mimetype": "text/x-python",
   "name": "python",
   "nbconvert_exporter": "python",
   "pygments_lexer": "ipython3",
   "version": "3.13.9"
  }
 },
 "nbformat": 4,
 "nbformat_minor": 4
}
