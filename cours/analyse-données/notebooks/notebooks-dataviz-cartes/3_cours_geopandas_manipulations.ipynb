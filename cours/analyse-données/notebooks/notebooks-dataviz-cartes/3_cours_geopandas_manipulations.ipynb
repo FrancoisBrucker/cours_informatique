{
 "cells": [
  {
   "cell_type": "markdown",
   "metadata": {},
   "source": [
    "# Geopandas\n",
    "\n",
    "https://geopandas.org/ \n",
    "\n",
    "Est la bibliothèque bermettant d'utiliser des dataframe géographiques (geodataframes). Vous devirez déjà l'avoir installée mais dans le doute, remettons la procédure"
   ]
  },
  {
   "cell_type": "markdown",
   "metadata": {},
   "source": [
    "## Bases \n",
    "\n",
    "### tutos\n",
    "\n",
    "* https://www.youtube.com/watch?v=t7lliJXFt8w : introduction à geopandas\n",
    "* https://www.youtube.com/watch?v=CtPqQP45vl0&list=PLewNEVDy7gq3DjrPDxGFLbHE4G2QWe8Qh&index=1 : les 7 premières vidéos\n",
    "\n",
    "### geodataframe"
   ]
  },
  {
   "cell_type": "code",
   "execution_count": null,
   "metadata": {},
   "outputs": [],
   "source": [
    "import geopandas as gpd"
   ]
  },
  {
   "cell_type": "markdown",
   "metadata": {},
   "source": [
    "Importer des données se fait avec [read_file](https://geopandas.org/reference/geopandas.read_file.html?highlight=read_file). On l'a vu en 1.1 cette méthode lit tout un tas de format de données (geojson, shp, fichier zip shp, ...) qu'ils soient le local sur votre disque dur ou sur internet.\n"
   ]
  },
  {
   "cell_type": "code",
   "execution_count": null,
   "metadata": {},
   "outputs": [],
   "source": [
    "métropole = gpd.read_file(\"https://raw.githubusercontent.com/gregoiredavid/france-geojson/master/regions.geojson\")"
   ]
  },
  {
   "cell_type": "code",
   "execution_count": null,
   "metadata": {},
   "outputs": [],
   "source": [
    "métropole.head()"
   ]
  },
  {
   "cell_type": "markdown",
   "metadata": {},
   "source": [
    "geopandas manipule des [GeoDataframe](https://geopandas.org/en/stable/docs/reference/api/geopandas.GeoDataFrame.html#geopandas.GeoDataFrame) tout comme pandas manipule des [Dataframe](https://pandas.pydata.org/pandas-docs/stable/reference/api/pandas.DataFrame.html). \n",
    "\n",
    "La principale différence visible est un type geometry (qui est dans la colonne `geometry`) qui contient nos données spaciales :"
   ]
  },
  {
   "cell_type": "code",
   "execution_count": null,
   "metadata": {},
   "outputs": [],
   "source": [
    "métropole.dtypes"
   ]
  },
  {
   "cell_type": "markdown",
   "metadata": {},
   "source": [
    "Et un crs associé à ces données : "
   ]
  },
  {
   "cell_type": "code",
   "execution_count": null,
   "metadata": {},
   "outputs": [],
   "source": [
    "métropole.crs"
   ]
  },
  {
   "cell_type": "markdown",
   "metadata": {},
   "source": [
    "La colonne nommée geometry est une [GeoSeries](https://geopandas.org/en/stable/docs/reference/api/geopandas.GeoSeries.html). \n",
    "\n",
    "Il est **indispensable** qu'une geodataframe ait :\n",
    "\n",
    "* une colonne nommée `geometry` qui soit une geoseries (une geoseries qui n'est pas nommée geometry ne sera pas prise en compte et une colonne geometry qui n'est pas une geoserie fera planter tôt ou tard geopandas).\n",
    "* un crs de renseigné (sinon, tôt ou tard un calcul ne se fera pas comme il faut)."
   ]
  },
  {
   "cell_type": "code",
   "execution_count": null,
   "metadata": {},
   "outputs": [],
   "source": [
    "métropole['geometry']"
   ]
  },
  {
   "cell_type": "markdown",
   "metadata": {},
   "source": [
    "Le format du champ `geometry` est fixé (voir [la doc](https://fr.wikipedia.org/wiki/GeoJSON#Objets_g%C3%A9om%C3%A9triques)), et permet de gérer les objets primitifs suivant:\n",
    "- des points `POINT`\n",
    "- des lignes `LINESTRING`\n",
    "- des polygones `POLYGON`\n",
    "\n",
    "Ou des listes de même nature `MULTIPOINT`, `MULTILINESTRING` et `MULTIPOLYGON`.\n",
    "\n",
    "> **Note** : il n'a pas de cercle car la projection de cercles sur des cartes peut être compliquée."
   ]
  },
  {
   "cell_type": "markdown",
   "metadata": {},
   "source": [
    "En python, ces formes sont gérées par la bibliothèque [shapely](https://shapely.readthedocs.io/en/latest/)"
   ]
  },
  {
   "cell_type": "code",
   "execution_count": null,
   "metadata": {},
   "outputs": [],
   "source": [
    "type(métropole['geometry'][0])"
   ]
  },
  {
   "cell_type": "markdown",
   "metadata": {},
   "source": [
    "On peut bien sur représenter graphiquement le dataframe :"
   ]
  },
  {
   "cell_type": "code",
   "execution_count": null,
   "metadata": {},
   "outputs": [],
   "source": [
    "import matplotlib.pyplot as plt"
   ]
  },
  {
   "cell_type": "code",
   "execution_count": null,
   "metadata": {},
   "outputs": [],
   "source": [
    "fig, ax = plt.subplots(figsize=(15, 15)) \n",
    "\n",
    "métropole.plot(ax=ax)\n",
    "\n",
    "plt.show()"
   ]
  },
  {
   "cell_type": "markdown",
   "metadata": {},
   "source": [
    "Qui est équivalent à représenter juste sa géométrie : "
   ]
  },
  {
   "cell_type": "code",
   "execution_count": null,
   "metadata": {},
   "outputs": [],
   "source": [
    "fig, ax = plt.subplots(figsize=(15, 15)) \n",
    "\n",
    "métropole['geometry'].plot(ax=ax)\n",
    "\n",
    "plt.show()"
   ]
  },
  {
   "cell_type": "markdown",
   "metadata": {},
   "source": [
    "ou une forme (sans plot) :"
   ]
  },
  {
   "cell_type": "code",
   "execution_count": null,
   "metadata": {},
   "outputs": [],
   "source": [
    "métropole['geometry'][0]"
   ]
  },
  {
   "cell_type": "markdown",
   "metadata": {},
   "source": [
    "### Manipulations\n",
    "\n",
    "Tou ce que vous faites avec pandas est également possible avec geopandas. On ajoute en plus des traitements de données spaciales 2D :\n",
    "\n",
    "* des manipulations de données spaciales (grace à la bibliothèque [shapely](https://shapely.readthedocs.io/en/latest/))\n",
    "* des représentation graphique avec [plot](https://geopandas.org/reference.html?highlight=plot#geopandas.GeoDataFrame.plot)"
   ]
  },
  {
   "cell_type": "markdown",
   "metadata": {},
   "source": [
    "## Création d'un geodataframe\n",
    "\n",
    "On va créer un geodataframe avec les villes française."
   ]
  },
  {
   "cell_type": "markdown",
   "metadata": {},
   "source": [
    "### Données brutes\n",
    "\n",
    "> On va utiliser cet exemple poiur ontrer qu'il faut faire très attention lorsque l'on récupère des données sur internet. Tout le monde n'est pas soigneux dans le traitement de ses données...\n",
    "\n",
    "Prenons les données de ce site : <https://sql.sh/736-base-donnees-villes-francaises> en csv."
   ]
  },
  {
   "cell_type": "code",
   "execution_count": null,
   "metadata": {},
   "outputs": [],
   "source": [
    "import pandas as pd"
   ]
  },
  {
   "cell_type": "code",
   "execution_count": null,
   "metadata": {},
   "outputs": [],
   "source": [
    "villes_raw = pd.read_csv(\"https://sql.sh/ressources/sql-villes-france/villes_france.csv\", \n",
    "                     header=None, index_col=0)"
   ]
  },
  {
   "cell_type": "code",
   "execution_count": null,
   "metadata": {},
   "outputs": [],
   "source": [
    "villes_raw.dtypes"
   ]
  },
  {
   "cell_type": "code",
   "execution_count": null,
   "metadata": {},
   "outputs": [],
   "source": [
    "villes_raw.head()"
   ]
  },
  {
   "cell_type": "code",
   "execution_count": null,
   "metadata": {},
   "outputs": [],
   "source": [
    "villes_raw.loc[4440]"
   ]
  },
  {
   "cell_type": "markdown",
   "metadata": {},
   "source": [
    "> **Attntion** aux données. L'analyse de Marseille montre que les noms de colonnes du site sont fantaisistes (ça n'a pas du passer les mise à jour successives...). Il vaut mieux mettre directement le nom des colonnes dans le tableau..."
   ]
  },
  {
   "attachments": {},
   "cell_type": "markdown",
   "metadata": {},
   "source": [
    "Après une analyse des correspondances on peut supposer que : \n",
    "\n",
    "- le nom : colonne 5\n",
    "- la population en 2010 : colonne 14\n",
    "- les coordonnées gps :\n",
    "    - longitude : 19\n",
    "    - latitude : 20"
   ]
  },
  {
   "cell_type": "code",
   "execution_count": null,
   "metadata": {},
   "outputs": [],
   "source": [
    "mes_villes = villes_raw[[5, 14, 19, 20]].rename({5: \"nom\", 14: \"population\", 19: \"longitude\", 20: \"latitude\"}, axis=1)"
   ]
  },
  {
   "cell_type": "code",
   "execution_count": null,
   "metadata": {},
   "outputs": [],
   "source": [
    "mes_villes"
   ]
  },
  {
   "cell_type": "code",
   "execution_count": null,
   "metadata": {},
   "outputs": [],
   "source": [
    "mes_villes.loc[4440]"
   ]
  },
  {
   "cell_type": "markdown",
   "metadata": {},
   "source": [
    "### Conversion en geodataframe"
   ]
  },
  {
   "cell_type": "markdown",
   "metadata": {},
   "source": [
    "Pour obtenir une GeoDataFrame, il faut créer une colonne geometry. NOus allons utiliser les coordonnées GPS et donc associer un `POINT` pour chaque ligne. \n",
    "\n",
    "Il faut transformer nos coordonnées latitude/longitude GPS en point shapely."
   ]
  },
  {
   "cell_type": "markdown",
   "metadata": {},
   "source": [
    "#### A la main avec shapely\n",
    "\n",
    "Nos coordonnées vont être des [Points](https://shapely.readthedocs.io/en/stable/manual.html#points), avec d'abord la longitude puis la latitude (abcisse puis ordonnée)."
   ]
  },
  {
   "cell_type": "code",
   "execution_count": null,
   "metadata": {},
   "outputs": [],
   "source": [
    "from shapely.geometry import Point"
   ]
  },
  {
   "cell_type": "code",
   "execution_count": null,
   "metadata": {},
   "outputs": [],
   "source": [
    "coordonnee_marseille = Point(mes_villes.loc[4440]['longitude'], mes_villes.loc[4440]['latitude'])"
   ]
  },
  {
   "cell_type": "code",
   "execution_count": null,
   "metadata": {},
   "outputs": [],
   "source": [
    "print(coordonnee_marseille)"
   ]
  },
  {
   "cell_type": "markdown",
   "metadata": {},
   "source": [
    "Il n'y a pas de crs par défaut sur un point, c'est juste un point. Pour transformer un point, il faut cependant connaitre son crs d'origne pour pouvoir trouver ses coordonnées dans le crs d'arrivé.\n",
    "\n",
    "Le crs de shapely et de geopandas est géré par la bipliothèque [pyproj](http://pyproj4.github.io/pyproj/stable/). C'est très pratique car ce permet de faire toutes les projections que l'on veut très facilement (y'a juste un peu de doc à lire)."
   ]
  },
  {
   "cell_type": "code",
   "execution_count": null,
   "metadata": {},
   "outputs": [],
   "source": [
    "import pyproj"
   ]
  },
  {
   "cell_type": "markdown",
   "metadata": {},
   "source": [
    "Nos points sont dans le crs du wgs84, qui est le format lat/long couramment utilisé pour des coordonnées GPS:"
   ]
  },
  {
   "cell_type": "code",
   "execution_count": null,
   "metadata": {},
   "outputs": [],
   "source": [
    "wgs84 = pyproj.CRS('epsg:4326') "
   ]
  },
  {
   "cell_type": "markdown",
   "metadata": {},
   "source": [
    "Essayons de convertir notre point dans un autre CRS. Par exemple dans les coordonnées [UTM](https://www.centcols.org/coord-utm/), qui permet de représenter des coordonnées geodésique dans le plan (voir [utiliser son gps](https://www.camptocamp.org/articles/427764/fr/-gps-en-pratique)).\n",
    "\n",
    "Pour Marseille, c'est la 31ème zone de l'hémisphère nord donc l'epsg 32600 + 31 (32700 pour l'hémisphère sud) ce qui donne le CRS :"
   ]
  },
  {
   "cell_type": "code",
   "execution_count": null,
   "metadata": {},
   "outputs": [],
   "source": [
    "utm = pyproj.CRS('epsg:32631')"
   ]
  },
  {
   "cell_type": "markdown",
   "metadata": {},
   "source": [
    "Puis on convertit :"
   ]
  },
  {
   "cell_type": "code",
   "execution_count": null,
   "metadata": {},
   "outputs": [],
   "source": [
    "from shapely.ops import transform\n",
    "\n",
    "project = pyproj.Transformer.from_crs(wgs84, utm, always_xy=True).transform"
   ]
  },
  {
   "cell_type": "code",
   "execution_count": null,
   "metadata": {},
   "outputs": [],
   "source": [
    "utm_pt = transform(project, coordonnee_marseille)"
   ]
  },
  {
   "cell_type": "code",
   "execution_count": null,
   "metadata": {},
   "outputs": [],
   "source": [
    "print(utm_pt)"
   ]
  },
  {
   "cell_type": "markdown",
   "metadata": {},
   "source": [
    "Ouf, ça à l'air correct : [Zone 31T E: 692228.9 N: 4796466.46](https://www.gps-longitude-latitude.net/coordonnees-gps-de-marseille).\n",
    "\n",
    "\n",
    "**Note** : l'epsg est vrai pour toute les latitude Nord, le [cadrillage UTM](https://fr.wikipedia.org/wiki/Syst%C3%A8me_de_r%C3%A9f%C3%A9rence_de_carroyage_militaire) est plus fin et sépare les latitude en 20 lettre (T, c'est dans le coin de Marseille)."
   ]
  },
  {
   "cell_type": "markdown",
   "metadata": {},
   "source": [
    "#### Avec geopandas\n",
    "\n",
    "On peut le faire directmeent en geopandas avec [points_from_xy](https://geopandas.org/reference/geopandas.points_from_xy.html) qui crée ainsi directement une colonne (notre geometry) : "
   ]
  },
  {
   "cell_type": "code",
   "execution_count": null,
   "metadata": {},
   "outputs": [],
   "source": [
    "mes_villes[\"longitude\"]"
   ]
  },
  {
   "cell_type": "code",
   "execution_count": null,
   "metadata": {},
   "outputs": [],
   "source": [
    "print(coordonnee_marseille)"
   ]
  },
  {
   "cell_type": "code",
   "execution_count": null,
   "metadata": {},
   "outputs": [],
   "source": [
    "les_points = gpd.points_from_xy(x=mes_villes[\"longitude\"], y=mes_villes[\"latitude\"],\n",
    "                   crs='epsg:4326')"
   ]
  },
  {
   "cell_type": "code",
   "execution_count": null,
   "metadata": {},
   "outputs": [],
   "source": [
    "les_points"
   ]
  },
  {
   "cell_type": "markdown",
   "metadata": {},
   "source": [
    "#### Création du geodataframe\n",
    "\n",
    "On peut maintenant créer notre geodataframe"
   ]
  },
  {
   "cell_type": "code",
   "execution_count": null,
   "metadata": {},
   "outputs": [],
   "source": [
    "villes = gpd.GeoDataFrame(mes_villes, geometry=les_points)"
   ]
  },
  {
   "cell_type": "code",
   "execution_count": null,
   "metadata": {},
   "outputs": [],
   "source": [
    "villes.head()"
   ]
  },
  {
   "cell_type": "code",
   "execution_count": null,
   "metadata": {},
   "outputs": [],
   "source": [
    "villes.crs"
   ]
  },
  {
   "cell_type": "markdown",
   "metadata": {},
   "source": [
    "Y'a du monde dans le monde : "
   ]
  },
  {
   "cell_type": "code",
   "execution_count": null,
   "metadata": {},
   "outputs": [],
   "source": [
    "fig, ax = plt.subplots(figsize=(15, 15)) \n",
    "\n",
    "villes.plot(ax=ax)\n",
    "\n",
    "plt.show()\n"
   ]
  },
  {
   "cell_type": "markdown",
   "metadata": {},
   "source": [
    "Pour y voir plus clair utilisons la bibliothèque [`contextily`](https://contextily.readthedocs.io) pour ajouter un fond de carte :"
   ]
  },
  {
   "cell_type": "code",
   "execution_count": null,
   "metadata": {},
   "outputs": [],
   "source": [
    "import matplotlib.pyplot as plt\n",
    "import contextily as ctx"
   ]
  },
  {
   "cell_type": "code",
   "execution_count": null,
   "metadata": {},
   "outputs": [],
   "source": [
    "fig, ax = plt.subplots(figsize=(15, 15)) \n",
    "\n",
    "villes.plot(ax=ax)\n",
    "ctx.add_basemap(ax, crs=\"epsg:4326\")\n",
    "\n",
    "plt.show()"
   ]
  },
  {
   "cell_type": "markdown",
   "metadata": {},
   "source": [
    "Y'a des choses bizarres... Mais avant de régler ces choses, utilisons le fond de carte de geoportail (`contextily` a [toute une liste](https://contextily.readthedocs.io/en/latest/providers_deepdive.html) de fond de cartes possible, n'hésitez pas à expérimenter) :"
   ]
  },
  {
   "cell_type": "code",
   "execution_count": null,
   "metadata": {},
   "outputs": [],
   "source": [
    "import xyzservices.providers as xyz"
   ]
  },
  {
   "cell_type": "code",
   "execution_count": null,
   "metadata": {},
   "outputs": [],
   "source": [
    "fig, ax = plt.subplots(figsize=(15, 15)) \n",
    "\n",
    "villes.plot(ax=ax)\n",
    "ctx.add_basemap(ax, crs=\"epsg:4326\", source=xyz.GeoportailFrance.plan)\n",
    "\n",
    "plt.show()"
   ]
  },
  {
   "cell_type": "markdown",
   "metadata": {},
   "source": [
    "Revenons aux bizareries :"
   ]
  },
  {
   "cell_type": "code",
   "execution_count": null,
   "metadata": {},
   "outputs": [],
   "source": [
    "from matplotlib.patches import Rectangle"
   ]
  },
  {
   "cell_type": "code",
   "execution_count": null,
   "metadata": {},
   "outputs": [],
   "source": [
    "fig, ax = plt.subplots(figsize=(15, 15)) \n",
    "\n",
    "villes.plot(ax=ax)\n",
    "ctx.add_basemap(ax, crs=\"epsg:4326\")\n",
    "\n",
    "ax.add_artist(Rectangle((-5, -50), 30, -15, \n",
    "                     facecolor=\"none\", \n",
    "                     edgecolor=\"red\"))\n",
    "ax.text(-15, -55, \"hein ?\",\n",
    "       color=\"red\", size=20)\n",
    "\n",
    "plt.show()"
   ]
  },
  {
   "cell_type": "markdown",
   "metadata": {},
   "source": [
    "Il faudrait pouvoir connaitre les villes dans ce carré. Ca tombe bien c'est ce qu'on va apprendre tout de suite."
   ]
  },
  {
   "cell_type": "markdown",
   "metadata": {},
   "source": [
    "## Opérations sur des géodataframe\n",
    "\n",
    "On ne va pas en faire beaucoup, je vous laisserai lire les docs (voir section tuto ci-après). Je vais juste essayer de vous mettre l'eau à la bouche."
   ]
  },
  {
   "cell_type": "markdown",
   "metadata": {},
   "source": [
    "### Point dans un polygone\n",
    "\n",
    "Cherchons les villes dans le carré wtf."
   ]
  },
  {
   "cell_type": "code",
   "execution_count": null,
   "metadata": {},
   "outputs": [],
   "source": [
    "from shapely.geometry import Polygon"
   ]
  },
  {
   "cell_type": "code",
   "execution_count": null,
   "metadata": {},
   "outputs": [],
   "source": [
    "sud = Polygon([(-5, -30), (-5, -45), (25, -45), (25, -30)])"
   ]
  },
  {
   "cell_type": "code",
   "execution_count": null,
   "metadata": {},
   "outputs": [],
   "source": [
    "villes.geometry.within(sud)"
   ]
  },
  {
   "cell_type": "code",
   "execution_count": null,
   "metadata": {},
   "outputs": [],
   "source": [
    "villes[villes.geometry.within(sud)]"
   ]
  },
  {
   "cell_type": "markdown",
   "metadata": {},
   "source": [
    "Il n'y a personne...\n",
    "\n",
    "C'est normal car les coordonnées wsg84 ne sont pas faitent pour être représentées sur un plan. La représentation graphique utilise la projection <https://epsg.io/3857>. Explicitons tout ça :"
   ]
  },
  {
   "cell_type": "code",
   "execution_count": null,
   "metadata": {},
   "outputs": [],
   "source": [
    "fig, ax = plt.subplots(figsize=(15, 15)) \n",
    "\n",
    "villes.to_crs(\"epsg:3857\").plot(ax=ax)\n",
    "ctx.add_basemap(ax, crs=\"epsg:3857\")\n",
    "\n",
    "plt.show()"
   ]
  },
  {
   "cell_type": "markdown",
   "metadata": {},
   "source": [
    "La carte, donc la projection est bien identique. On peut maintenant faire notre intersection :"
   ]
  },
  {
   "cell_type": "code",
   "execution_count": null,
   "metadata": {
    "scrolled": true
   },
   "outputs": [],
   "source": [
    "villes[villes.to_crs(\"epsg:3857\").geometry.within(Polygon([(-2*1e6, -5*1e6), (-2*1e6, -10*1e6), (5*1e6, -10*1e6), (5*1e6, -5*1e6)]))]"
   ]
  },
  {
   "cell_type": "markdown",
   "metadata": {},
   "source": [
    "Parmi les 84 lignes présentent dans le caré, il y a  [POMPIDOU PAPA ICHTON](https://fr.wikipedia.org/wiki/Papaichton) est une ville de guyane.\n",
    "\n",
    "Regardons cette villes dans le CRS pseudo-mercator de représentation graphique :"
   ]
  },
  {
   "cell_type": "code",
   "execution_count": null,
   "metadata": {},
   "outputs": [],
   "source": [
    "villes.to_crs(\"epsg:3857\").loc[36656]"
   ]
  },
  {
   "cell_type": "markdown",
   "metadata": {},
   "source": [
    "Et dans le CRS wsg84 :"
   ]
  },
  {
   "cell_type": "code",
   "execution_count": null,
   "metadata": {},
   "outputs": [],
   "source": [
    "villes.loc[36656]"
   ]
  },
  {
   "cell_type": "markdown",
   "metadata": {},
   "source": [
    "Il semblerait que **Longitude et latitude ont été inversées pour certaines coordonnées**. Ce n'est pas sérieux pour des données disponible au téléchargement.\n",
    "\n",
    "> sans une étude préalable des données ont aurait rien vu.\n",
    "\n",
    "Comme il semble que pour la france métropolitaine les coordonnées sont exactes, restreignons nous à ces données."
   ]
  },
  {
   "cell_type": "markdown",
   "metadata": {},
   "source": [
    "### Associer sa région à une ville\n",
    "\n",
    "<https://geopandas.org/en/stable/docs/user_guide/mergingdata.html>"
   ]
  },
  {
   "cell_type": "code",
   "execution_count": null,
   "metadata": {},
   "outputs": [],
   "source": [
    "villes.head()"
   ]
  },
  {
   "cell_type": "code",
   "execution_count": null,
   "metadata": {},
   "outputs": [],
   "source": [
    "métropole.head()"
   ]
  },
  {
   "cell_type": "markdown",
   "metadata": {},
   "source": [
    "On va créer une nouvelle table avec pour chaque ville le nom de sa région. La jointure se fait sur les données spaciales :"
   ]
  },
  {
   "cell_type": "code",
   "execution_count": null,
   "metadata": {},
   "outputs": [],
   "source": [
    "villes_métropole = gpd.sjoin(villes, métropole, how=\"inner\", predicate='intersects')"
   ]
  },
  {
   "cell_type": "code",
   "execution_count": null,
   "metadata": {},
   "outputs": [],
   "source": [
    "villes_métropole.head()"
   ]
  },
  {
   "cell_type": "markdown",
   "metadata": {},
   "source": [
    "Il reste des colonnes en trop, épurons le tout :"
   ]
  },
  {
   "cell_type": "code",
   "execution_count": null,
   "metadata": {},
   "outputs": [],
   "source": [
    "villes_métropole = villes_métropole.drop(columns=[\"index_right\", \"longitude\", \"latitude\"]).rename({\"nom_left\": \"nom\", \"nom_right\": \"région\"}, axis=1)"
   ]
  },
  {
   "cell_type": "code",
   "execution_count": null,
   "metadata": {},
   "outputs": [],
   "source": [
    "villes_métropole.head()"
   ]
  },
  {
   "cell_type": "markdown",
   "metadata": {},
   "source": [
    "Réordonnons les colonnes : "
   ]
  },
  {
   "cell_type": "code",
   "execution_count": null,
   "metadata": {},
   "outputs": [],
   "source": [
    "villes_métropole = villes_métropole[['nom', 'région', 'population', 'geometry']]"
   ]
  },
  {
   "cell_type": "code",
   "execution_count": null,
   "metadata": {},
   "outputs": [],
   "source": [
    "villes_métropole"
   ]
  },
  {
   "cell_type": "markdown",
   "metadata": {},
   "source": [
    "### Compter le nombre de villes par régions\n",
    "\n",
    "On va ajouter une colonne à régions qui contient le nombre de villes que possède la région."
   ]
  },
  {
   "cell_type": "markdown",
   "metadata": {},
   "source": [
    "#### nombre de villes par régions\n",
    "\n",
    "On commence par compter le nombre de villes par région avec un [groupby](https://pandas.pydata.org/pandas-docs/stable/reference/api/pandas.DataFrame.groupby.html).\n",
    "\n",
    "1. On crée une colonne de 1 que l'on va sommer\n",
    "2. On groupe par nom de région\n",
    "3. on somme les colonnes groupées\n",
    "\n",
    "On obtient une dataframe où tout ce qui est sommable l'a été, en particulier notre colonne de 1 :"
   ]
  },
  {
   "cell_type": "code",
   "execution_count": null,
   "metadata": {},
   "outputs": [],
   "source": [
    "villes_métropole.assign(nombre=1)"
   ]
  },
  {
   "cell_type": "code",
   "execution_count": null,
   "metadata": {},
   "outputs": [],
   "source": [
    "compte = (villes_métropole\n",
    "             .assign(nombre=1)\n",
    "             .groupby(by=\"région\", as_index=False)\n",
    "             .sum(numeric_only=True)\n",
    "        )\n",
    "compte"
   ]
  },
  {
   "cell_type": "markdown",
   "metadata": {},
   "source": [
    "#### ajout de la colonne nombre pour les régions"
   ]
  },
  {
   "cell_type": "markdown",
   "metadata": {},
   "source": [
    "Il nous reste à merger cette nouvelle table dans le geodataframe des régions :\n",
    "\n",
    "1. Il faut que la colonne de merge ait le même nom donc on commence par renommer la colonne de compte\n",
    "2. on peut ensuite faire le merge\n",
    "\n",
    "On a utilisé l'attribut `inplace=True` qui modifie la dataframe plutôt que d'en créer une nouvelle. Utiliser ça avec parcimonie, car modifer une dataframe n'est presque jamais une bonne solution."
   ]
  },
  {
   "cell_type": "code",
   "execution_count": null,
   "metadata": {},
   "outputs": [],
   "source": [
    "compte.rename(columns={\"région\": \"nom\"}, inplace=True)"
   ]
  },
  {
   "cell_type": "markdown",
   "metadata": {},
   "source": [
    "Tout est prêt on peut merger le résultat. On a pas besoin de toutes les colonnes de compte, juste de `'nom'` et `'nombre'` :"
   ]
  },
  {
   "cell_type": "code",
   "execution_count": null,
   "metadata": {},
   "outputs": [],
   "source": [
    "villes_métropole"
   ]
  },
  {
   "cell_type": "code",
   "execution_count": null,
   "metadata": {},
   "outputs": [],
   "source": [
    "métropole = métropole.merge(compte[['nom', 'nombre']], how='inner', on='nom')"
   ]
  },
  {
   "cell_type": "code",
   "execution_count": null,
   "metadata": {},
   "outputs": [],
   "source": [
    "métropole"
   ]
  },
  {
   "cell_type": "markdown",
   "metadata": {},
   "source": [
    "## Carte chloroplète\n",
    "\n",
    "Une [carte chloroplète](https://fr.wikipedia.org/wiki/Carte_choropl%C3%A8the) associe donnée et cartographie."
   ]
  },
  {
   "cell_type": "markdown",
   "metadata": {},
   "source": [
    "### Graphique\n",
    "\n",
    "La géographie peut se représenter directement avec GeoPandas :"
   ]
  },
  {
   "cell_type": "code",
   "execution_count": null,
   "metadata": {},
   "outputs": [],
   "source": [
    "fig, ax = plt.subplots(figsize=(10, 10))\n",
    "\n",
    "ax.axis(False)\n",
    "\n",
    "métropole.plot(ax=ax)\n",
    "\n",
    "plt.show()"
   ]
  },
  {
   "cell_type": "markdown",
   "metadata": {},
   "source": [
    "L'idée est de colorier chaque région en fonction du nombre. Ce si se fait facilement en ajoutant des paramètres (voir [cette doc](https://geopandas.org/en/stable/docs/user_guide/mapping.html)) :"
   ]
  },
  {
   "cell_type": "code",
   "execution_count": null,
   "metadata": {},
   "outputs": [],
   "source": [
    "fig, ax = plt.subplots(figsize=(10, 10))\n",
    "\n",
    "ax.axis(False)\n",
    "\n",
    "métropole.plot(column='nombre', \n",
    "               legend=True,\n",
    "               legend_kwds={'label': \"Nombre de villes\", 'orientation': \"horizontal\"},\n",
    "               cmap='OrRd',\n",
    "               ax=ax)\n",
    "\n",
    "\n",
    "plt.show()"
   ]
  },
  {
   "cell_type": "markdown",
   "metadata": {},
   "source": [
    "On pourrait utiliser ce qu'on a vu précédemment pour colorier chaque région avec une coluleur spécifique et ainsi faire de plus jolies graphiques, mais plot permet d'avoir un résultat rapide et consitue une première solution."
   ]
  },
  {
   "cell_type": "markdown",
   "metadata": {},
   "source": [
    "### Cartes interractives\n",
    "\n",
    "On utilise souvent une carte interactive pour représenter ces cartes chloroplète.  \n",
    "\n",
    "Geopandas permet de le faire directeemnt avec la méthode `explore` (voir [la doc](https://geopandas.org/en/stable/docs/user_guide/interactive_mapping.html)) :"
   ]
  },
  {
   "cell_type": "code",
   "execution_count": null,
   "metadata": {},
   "outputs": [],
   "source": [
    "métropole.explore(column='nombre',\n",
    "                  cmap='OrRd')"
   ]
  },
  {
   "cell_type": "markdown",
   "metadata": {},
   "source": [
    "Geopandas utilise la bibliothèque javascript <https://leafletjs.com/> pour afficher ses cartes interractive dans jupyter. On peut également l'utiliser directement via la bibliothèque python [`folium`](https://python-visualization.github.io/folium/latest/).\n",
    "\n",
    "\n",
    "\n",
    "Quelques tutos : \n",
    "\n",
    "* <https://geopandas.org/en/stable/gallery/plotting_with_folium.html>\n",
    "* <https://python-visualization.github.io/folium/quickstart.html>\n",
    "* ce qu'on va faire mais avec Paris :  <https://fxjollois.github.io/cours-2016-2017/analyse-donnees-massives-tp9.html>\n",
    "* quelques exemple de cartes : <https://python-graph-gallery.com/288-map-background-with-folium/>"
   ]
  },
  {
   "cell_type": "markdown",
   "metadata": {},
   "source": [
    "Plan :\n",
    "\n",
    "1. carte centrée sur la France métropolitaine\n",
    "2. ajout des régions\n",
    "3. le nombre\n",
    "4. on ajoute ecm avec un marker"
   ]
  },
  {
   "cell_type": "markdown",
   "metadata": {},
   "source": [
    "#### Carte de France métropolitaine\n",
    "\n",
    "On commence par trouver les coordonnées GPS du [centre de la France métropolitaine](https://fr.wikipedia.org/wiki/Centre_de_la_France) à Bruère-Allichamps (ce n'est pas la [gare de Perpignan](https://www.radiofrance.fr/franceculture/podcasts/l-esprit-des-lieux-la-chronique-de-l-ete/la-gare-de-perpignan-ou-salvador-dali-declara-le-centre-du-monde-8867048), qui est elle le centre du monde)."
   ]
  },
  {
   "cell_type": "code",
   "execution_count": null,
   "metadata": {},
   "outputs": [],
   "source": [
    "from geopy import Nominatim # geodécodeur d'openstretmap\n",
    "\n",
    "locator = Nominatim(user_agent=\"jupiter cours\")"
   ]
  },
  {
   "cell_type": "code",
   "execution_count": null,
   "metadata": {},
   "outputs": [],
   "source": [
    "centre_Fr = locator.geocode(\"Bruère-Allichamps, France\")\n",
    "\n",
    "centre_Fr"
   ]
  },
  {
   "cell_type": "code",
   "execution_count": null,
   "metadata": {},
   "outputs": [],
   "source": [
    "centre_Fr.point[:2]"
   ]
  },
  {
   "cell_type": "code",
   "execution_count": null,
   "metadata": {},
   "outputs": [],
   "source": [
    "import folium"
   ]
  },
  {
   "cell_type": "code",
   "execution_count": null,
   "metadata": {},
   "outputs": [],
   "source": [
    "m = folium.Map(location=centre_Fr.point[:2],\n",
    "               #tiles='Stamen Terrain',\n",
    "               zoom_start=6\n",
    "              )"
   ]
  },
  {
   "cell_type": "code",
   "execution_count": null,
   "metadata": {},
   "outputs": [],
   "source": [
    "m"
   ]
  },
  {
   "cell_type": "markdown",
   "metadata": {},
   "source": [
    "#### Ajout des régions\n",
    "\n",
    "On peut utiliser explore pour ajouter un geodataframe à notre carte, mais par féfaut, folium ne connait que le format [Geojson](https://fr.wikipedia.org/wiki/GeoJSON), qui est un standard de gestion de données."
   ]
  },
  {
   "cell_type": "code",
   "execution_count": null,
   "metadata": {},
   "outputs": [],
   "source": [
    "data_geojson = métropole.to_json() # conversion en geojson (c'est du texte)"
   ]
  },
  {
   "cell_type": "markdown",
   "metadata": {},
   "source": [
    "Le format geojson a une structure déterminé. C'est un dictionnaire de clés :\n",
    "\n",
    "- `type` (nous c'est une featureCollection)\n",
    "- `features` : liste des features\n",
    "\n",
    "Chaque feature est un dictionnaire avec les clés :\n",
    "\n",
    "- `id` : identifiant unique de la feature, nous des entiers\n",
    "- `type` : nous une feature\n",
    "- `properties` : les méta-données\n",
    "- `geometry` : qui contient la géométrie de la feature. Nous ce sera des polygones déterminant las régions\n",
    "\n",
    "Ce format est utilisé par folium. Voir : <https://python-visualization.github.io/folium/latest/user_guide/geojson/geojson.html>"
   ]
  },
  {
   "cell_type": "code",
   "execution_count": null,
   "metadata": {
    "scrolled": true
   },
   "outputs": [],
   "source": [
    "import json \n",
    "\n",
    "# json.loads(data_geojson)  # affichage des propriétés"
   ]
  },
  {
   "cell_type": "code",
   "execution_count": null,
   "metadata": {},
   "outputs": [],
   "source": [
    "json.loads(data_geojson)['features'][0]['properties']"
   ]
  },
  {
   "cell_type": "code",
   "execution_count": null,
   "metadata": {},
   "outputs": [],
   "source": [
    "layer_regions = folium.GeoJson(\n",
    "    data_geojson,\n",
    "    name='geojson',\n",
    "    tooltip=folium.features.GeoJsonTooltip(fields=['nom',]),  # sur le champ properties\n",
    ")\n",
    "layer_regions.add_to(m)"
   ]
  },
  {
   "cell_type": "code",
   "execution_count": null,
   "metadata": {},
   "outputs": [],
   "source": [
    "m"
   ]
  },
  {
   "cell_type": "markdown",
   "metadata": {},
   "source": [
    "#### Ajout du nombre\n",
    "\n",
    "On va utiliser les données de la geodataframe pour réaliser la carte chloroplète. Il faut refaire la carte car on a ajouté les régions qui sont inutiles ici."
   ]
  },
  {
   "cell_type": "code",
   "execution_count": null,
   "metadata": {},
   "outputs": [],
   "source": [
    "layer_chloro = folium.Choropleth(\n",
    "    geo_data=data_geojson,\n",
    "    name='choropleth',\n",
    "    data=métropole,\n",
    "    columns=['code', 'nombre'],\n",
    "    key_on='properties.code',\n",
    "    fill_color='OrRd',\n",
    "    fill_opacity=0.7,\n",
    "    line_opacity=0.2,\n",
    "    legend_name='Nombre de pizzerias (%)'\n",
    ")\n",
    "\n",
    "layer_chloro.add_to(m)"
   ]
  },
  {
   "cell_type": "code",
   "execution_count": null,
   "metadata": {},
   "outputs": [],
   "source": [
    "m"
   ]
  },
  {
   "cell_type": "markdown",
   "metadata": {},
   "source": [
    "On a supperposé les deux layers sur la carte et la choloplète est au-dessus des régions, ce qui empêche le tooltip.\n",
    "\n",
    "On va forcer l'ordre des deux layers sur la carte."
   ]
  },
  {
   "cell_type": "code",
   "execution_count": null,
   "metadata": {},
   "outputs": [],
   "source": [
    "m.keep_in_front(layer_chloro, layer_regions)"
   ]
  },
  {
   "cell_type": "markdown",
   "metadata": {},
   "source": [
    "Dans l'idéal il faudrait supprimer la couleur bleue du layer région pour ne garder que les contours. Mais on va laisser ça en exercice, c'est facile avec la [doc](https://python-visualization.github.io/folium/latest/user_guide/geojson/geojson.html#Styling) "
   ]
  },
  {
   "cell_type": "code",
   "execution_count": null,
   "metadata": {},
   "outputs": [],
   "source": [
    "m"
   ]
  },
  {
   "cell_type": "markdown",
   "metadata": {},
   "source": [
    "Terminons cette partie en ajoutant un contrôle des layers :"
   ]
  },
  {
   "cell_type": "code",
   "execution_count": null,
   "metadata": {},
   "outputs": [],
   "source": [
    "folium.LayerControl().add_to(m)"
   ]
  },
  {
   "cell_type": "code",
   "execution_count": null,
   "metadata": {},
   "outputs": [],
   "source": [
    "m"
   ]
  },
  {
   "cell_type": "markdown",
   "metadata": {},
   "source": [
    "#### Ajout d'une marque\n",
    "\n",
    "Nous allons ajouter la marque de l'ecm sur la carte."
   ]
  },
  {
   "cell_type": "markdown",
   "metadata": {},
   "source": [
    "Commençons par trouver la localisation de l'ecm :"
   ]
  },
  {
   "cell_type": "code",
   "execution_count": null,
   "metadata": {},
   "outputs": [],
   "source": [
    "from geopy import Nominatim\n",
    "locator = Nominatim(user_agent=\"jupiter cours\")\n",
    "location = locator.geocode(\"ecole centrale de marseille, Marseille, France\")"
   ]
  },
  {
   "cell_type": "markdown",
   "metadata": {},
   "source": [
    "Les coordonnées sont :"
   ]
  },
  {
   "cell_type": "code",
   "execution_count": null,
   "metadata": {},
   "outputs": [],
   "source": [
    "(location.latitude, location.longitude)"
   ]
  },
  {
   "cell_type": "markdown",
   "metadata": {},
   "source": [
    "Et ajoutons une marque à la carte. On a tout de suite ajouté une [icône personalisée](https://python-visualization.github.io/folium/latest/user_guide/ui_elements/icons.html) et ajouté un [pop-up](https://python-visualization.github.io/folium/latest/user_guide/ui_elements/popups.html)"
   ]
  },
  {
   "cell_type": "code",
   "execution_count": null,
   "metadata": {},
   "outputs": [],
   "source": [
    "folium.Marker(\n",
    "    [location.latitude, location.longitude],\n",
    "    icon=folium.Icon(color='beige', prefix=\"fa\", icon='graduation-cap'),\n",
    "    popup='ecm'\n",
    ").add_to(m)\n",
    "\n",
    "m"
   ]
  },
  {
   "cell_type": "markdown",
   "metadata": {},
   "source": [
    "## Pour aller plus loin\n",
    "\n",
    "### Opérations sur les géométries"
   ]
  },
  {
   "cell_type": "markdown",
   "metadata": {},
   "source": [
    "Pour aller plus loin dans l'utilsation de shapely, vous pouvez :\n",
    "* regarder ce tuto shapely en 2 parties : https://www.youtube.com/watch?v=LwpqA2WMR_8 et https://www.youtube.com/watch?v=3fm7x3TRcWs\n",
    "* lire [la doc](https://shapely.readthedocs.io/en/latest/). Elle fourmille d'exemples sur les manipulations et conversions que l'on peut faire\n"
   ]
  },
  {
   "cell_type": "markdown",
   "metadata": {},
   "source": [
    "### opérations sur les géodataframes\n",
    "\n",
    "* https://www.youtube.com/watch?v=HtYxzt55-1w : les opérations geométriques disponibles très bien fait !)\n",
    "* sur le [site de geopandas](https://geopandas.org/) même. Les user guide sont super bien. Par exemple :\n",
    "    * https://geopandas.org/set_operations.html \n",
    "    * https://geopandas.org/geometric_manipulations.html"
   ]
  },
  {
   "cell_type": "markdown",
   "metadata": {},
   "source": [
    "### Geoplot\n",
    "\n",
    "Pour dessiner plus de choses. C'est une surcouche de cartopy donc l'installation est plus ardue.\n",
    "<https://residentmario.github.io/geoplot/>"
   ]
  }
 ],
 "metadata": {
  "kernelspec": {
   "display_name": "Python 3 (ipykernel)",
   "language": "python",
   "name": "python3"
  },
  "language_info": {
   "codemirror_mode": {
    "name": "ipython",
    "version": 3
   },
   "file_extension": ".py",
   "mimetype": "text/x-python",
   "name": "python",
   "nbconvert_exporter": "python",
   "pygments_lexer": "ipython3",
   "version": "3.13.9"
  }
 },
 "nbformat": 4,
 "nbformat_minor": 4
}
