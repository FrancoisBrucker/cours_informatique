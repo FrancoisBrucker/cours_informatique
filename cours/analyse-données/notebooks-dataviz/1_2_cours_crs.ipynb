{
 "cells": [
  {
   "cell_type": "markdown",
   "metadata": {},
   "source": [
    "# CRS\n",
    "\n",
    "Coordinates Reference System"
   ]
  },
  {
   "cell_type": "markdown",
   "metadata": {},
   "source": [
    "Les cartes de géographies tentent de représenter en 2D des points sur la terre : il faut pouvoir associer 2 coordonnées à tout point sur la surface de la terre.\n",
    "\n",
    "Ce n'est pas simple du tout car la terre, ce n'est pas ça :\n",
    "\n",
    "![terre sphere](https://upload.wikimedia.org/wikipedia/commons/d/d6/Sciences_de_la_terre.svg)\n",
    "\n",
    "mais plutôt ça : \n",
    "\n",
    "<img src=\"https://upload.wikimedia.org/wikipedia/commons/4/4a/Geoid_undulation_10k_scale.jpg\" alt=\"terre biscornue\" width=\"300px\"/>\n",
    "\n",
    "La façon classique de considérer la terre étant ça (un elllipsoïde) :\n",
    "\n",
    "<img src=\"https://upload.wikimedia.org/wikipedia/commons/b/b5/OblateSpheroid.PNG\" alt=\"ellipsoïde\" width=\"300px\"/>"
   ]
  },
  {
   "cell_type": "code",
   "execution_count": null,
   "metadata": {},
   "outputs": [],
   "source": [
    "import geopandas as gpd\n",
    "import matplotlib.pyplot as plt"
   ]
  },
  {
   "cell_type": "markdown",
   "metadata": {},
   "source": [
    "## Représentation classique du monde"
   ]
  },
  {
   "cell_type": "markdown",
   "metadata": {},
   "source": [
    "Le module [geodatasets](https://geodatasets.readthedocs.io/en/latest/index.html) contient quelques jeux de données, dont la terre. \n",
    "\n",
    "Installez le dans votre environnement virtuel et importez le."
   ]
  },
  {
   "cell_type": "code",
   "execution_count": null,
   "metadata": {},
   "outputs": [],
   "source": [
    "import geodatasets"
   ]
  },
  {
   "cell_type": "code",
   "execution_count": null,
   "metadata": {},
   "outputs": [],
   "source": [
    "geodatasets.data"
   ]
  },
  {
   "cell_type": "code",
   "execution_count": null,
   "metadata": {},
   "outputs": [],
   "source": [
    "path = geodatasets.get_path('naturalearth land')\n",
    "monde = gpd.read_file(path)"
   ]
  },
  {
   "cell_type": "code",
   "execution_count": null,
   "metadata": {},
   "outputs": [],
   "source": [
    "monde.head()"
   ]
  },
  {
   "cell_type": "code",
   "execution_count": null,
   "metadata": {},
   "outputs": [],
   "source": [
    "# encodage du monde actuel (on y reviendra en détail plus tard)\n",
    "\n",
    "monde.crs"
   ]
  },
  {
   "cell_type": "code",
   "execution_count": null,
   "metadata": {},
   "outputs": [],
   "source": [
    "fig, ax = plt.subplots(figsize=(15, 15)) \n",
    "\n",
    "monde.plot(ax=ax)\n",
    "\n",
    "ax.set_title(\"WGS 84\");\n",
    "plt.show()"
   ]
  },
  {
   "cell_type": "markdown",
   "metadata": {},
   "source": [
    "### Mercator"
   ]
  },
  {
   "cell_type": "markdown",
   "metadata": {},
   "source": [
    "Le premier à réaliser ce prodige a été [mercator](https://fr.wikipedia.org/wiki/Projection_de_Mercator) qui a projeté une sphère sur un cylindre avec l'équateur comme milieu :\n",
    "\n",
    "Son système de coordonnées est [là](https://epsg.io/3395)"
   ]
  },
  {
   "cell_type": "code",
   "execution_count": null,
   "metadata": {},
   "outputs": [],
   "source": [
    "mercator = monde.to_crs(epsg=3395)"
   ]
  },
  {
   "cell_type": "code",
   "execution_count": null,
   "metadata": {},
   "outputs": [],
   "source": [
    "mercator.crs"
   ]
  },
  {
   "cell_type": "code",
   "execution_count": null,
   "metadata": {},
   "outputs": [],
   "source": [
    "mercator"
   ]
  },
  {
   "cell_type": "code",
   "execution_count": null,
   "metadata": {},
   "outputs": [],
   "source": [
    "fig, ax = plt.subplots(figsize=(15, 25)) \n",
    "\n",
    "ax.set_ylim(-.2e8, .2e8)\n",
    "mercator.plot(ax=ax)\n",
    "\n",
    "ax.set_title(\"Mercator\")\n",
    "plt.show()"
   ]
  },
  {
   "cell_type": "markdown",
   "metadata": {},
   "source": [
    "La projection de mercator déforme cependant énormément les contours loin de l'équateur, mais les angles sont conservés ce qui est crucial en navigation."
   ]
  },
  {
   "cell_type": "markdown",
   "metadata": {},
   "source": [
    "### WGS 84 (GPS en lat/lon)\n",
    "\n"
   ]
  },
  {
   "cell_type": "code",
   "execution_count": null,
   "metadata": {},
   "outputs": [],
   "source": [
    "gps = monde.to_crs(epsg=4326)"
   ]
  },
  {
   "cell_type": "code",
   "execution_count": null,
   "metadata": {},
   "outputs": [],
   "source": [
    "fig, ax = plt.subplots(figsize=(15, 15)) \n",
    "\n",
    "gps.plot(ax=ax)\n",
    "\n",
    "ax.set_title(\"WGS 84\");\n",
    "plt.show()"
   ]
  },
  {
   "cell_type": "markdown",
   "metadata": {},
   "source": [
    "Vous voyez qu'il y a des différences"
   ]
  },
  {
   "cell_type": "markdown",
   "metadata": {},
   "source": [
    "### peters\n",
    "\n",
    "Une dernière projection pour la route. Celle de [Peters](https://fr.wikipedia.org/wiki/Projection_de_Peters), souvent représentée la tête en bas. Elle respecte les surfaces.\n",
    "\n",
    "Elle est définie [là](https://spatialreference.org/ref/sr-org/22/)\n"
   ]
  },
  {
   "cell_type": "code",
   "execution_count": null,
   "metadata": {},
   "outputs": [],
   "source": [
    "peters = monde.to_crs(\"+proj=cea +lon_0=0 +lat_ts=45 +x_0=0 +y_0=0 +ellps=WGS84 +units=m +no_defs +axis=wsu\")"
   ]
  },
  {
   "cell_type": "code",
   "execution_count": null,
   "metadata": {},
   "outputs": [],
   "source": [
    "fig, ax = plt.subplots(figsize=(15, 15)) \n",
    "\n",
    "peters.plot(ax=ax)\n",
    "\n",
    "ax.set_title(\"Peters\");\n",
    "plt.show()"
   ]
  },
  {
   "cell_type": "markdown",
   "metadata": {},
   "source": [
    "### conclusions\n",
    "\n",
    "Tout est faux. Chaque système de coordonnées a des soucis quelquepart. Il faut donc utiliser celui qui en a le moins à l'endroit où l'on regarde.\n",
    "\n",
    "http://metrocosm.com/compare-map-projections.html"
   ]
  },
  {
   "cell_type": "markdown",
   "metadata": {},
   "source": [
    "## tutos \n",
    "\n",
    "* une [introduction aux systèmes de coordonnées](https://medium.com/@_FrancoisM/introduction-%C3%A0-la-manipulation-de-donn%C3%A9es-cartographiques-23b4e38d8f0f) avec une vidéo éclairante.\n",
    "* un [autre tuto](\n",
    "https://medium.com/cr%C3%A9ation-dune-app-cartographique-avec-firebase-vue/comprendre-les-coordinates-reference-system-crs-b67a88bce63c) très bien fait en français (avec de vrais morceaux de lol dedans en plus).\n",
    "* [super vidéo](https://www.youtube.com/watch?v=xJyJlKbZFlc&list=PLewNEVDy7gq3DjrPDxGFLbHE4G2QWe8Qh&index=8) vous expliquant très bien tout ça (mais passez le en x1.5 sinon vous allez vous endormir). Toute la playlist est bien d'ailleurs.\n",
    "* [un grop pdf](https://pubs.usgs.gov/bul/1532/report.pdf)"
   ]
  },
  {
   "cell_type": "markdown",
   "metadata": {},
   "source": [
    "Les sites de références qui recencent les différentes projections :\n",
    "\n",
    "* https://epsg.io/\n",
    "* https://spatialreference.org/"
   ]
  },
  {
   "cell_type": "markdown",
   "metadata": {},
   "source": [
    "### conclusion\n",
    "\n",
    "Lorsque vous chargez des donnes il est **CRITIQUE** que vous leurs associez leur CRS, sinon aucune conversion ne sera possible.\n",
    "\n",
    "Lorsque vous allez faire des calculs ou des graphiques, il est indispensable que toutes vos données géographiques soient avec le même système de coordonnées (CRS)."
   ]
  },
  {
   "cell_type": "markdown",
   "metadata": {},
   "source": [
    "Si vous voulez créer les votres (on fera un essai ci-après), vous pouvez lire la doc :\n",
    "* de geopandas : https://geopandas.org/projections.html\n",
    "* des différents paramètres que l'on peut utiliser : https://proj.org/usage/projections.html"
   ]
  },
  {
   "cell_type": "markdown",
   "metadata": {},
   "source": [
    "## Rotation de carte\n",
    "\n",
    "On va montrer comment faire une rotation de carte pour expliciter qu'une carte c'est :\n",
    "1. toujours pour que quelqu'un la regarde\n",
    "2. elle doit avoir un but\n",
    "\n",
    "exemple : \n",
    "\n",
    "* mercator pour les marins (elle respecte les angles)\n",
    "* Peters qui respecte les surfaces réelle des pays (l'afrique, c'est grand !)\n",
    "\n",
    "Surtout, son centre n'est qu'une convention :\n",
    "    * carte européenne (greenwich)\n",
    "    * carte américaine (centrée sur le milieu des USA)\n",
    "    * carte chinoise (centrée sur le pacifique)\n",
    "\n",
    "On va essayer de le voir en déplaçant le centre de la carte. Commençons par toruver notre carte avec le méridien de greenwitch en 0 :"
   ]
  },
  {
   "cell_type": "code",
   "execution_count": null,
   "metadata": {},
   "outputs": [],
   "source": [
    "fig, ax = plt.subplots(figsize=(15, 15)) \n",
    "\n",
    "(monde\n",
    "     .plot(ax=ax)\n",
    ")\n",
    "ax.axvline(x=0, color=\"green\")\n",
    "\n",
    "plt.show()"
   ]
  },
  {
   "cell_type": "markdown",
   "metadata": {},
   "source": [
    "Ses paramètres de projections sont :"
   ]
  },
  {
   "cell_type": "code",
   "execution_count": null,
   "metadata": {},
   "outputs": [],
   "source": [
    "monde.crs"
   ]
  },
  {
   "cell_type": "markdown",
   "metadata": {},
   "source": [
    "En [lisant la doc](https://proj.org/usage/projections.html) des paramètres de projection, on doit toucher au paramètre `pm` pour changer le centre vertical. \n",
    "\n",
    "On veut centrer la carte pour les USA, donc une longitude de -100 environ.\n",
    "\n",
    "Sauf que si on change de repère sans faire attention : "
   ]
  },
  {
   "cell_type": "code",
   "execution_count": null,
   "metadata": {},
   "outputs": [],
   "source": [
    "fig, ax = plt.subplots(figsize=(15, 15)) \n",
    "\n",
    "(monde\n",
    "     .to_crs(\"+proj=longlat +pm=100 +x_0=0 +y_0=0 +ellps=WGS84 +datum=WGS84 +units=m +no_defs\")\n",
    "     .plot(ax=ax)\n",
    ")\n",
    "ax.axvline(x=0, color=\"green\")\n",
    "plt.show()"
   ]
  },
  {
   "cell_type": "markdown",
   "metadata": {},
   "source": [
    "C'est la catastrophe. \n",
    "\n",
    "Tous les pays qui chevauchent les nouveaux bords sont détruits : ils ont des bords à gauche et à droite de la figure... \n",
    "\n",
    "Pour palier ça, il faut découper la carte pour que chaque région soit toujours d'un côté de la carte. Pour que l'on puisse faire plusieurs essais, on va découper la carte en tronçons de 10 de longitude."
   ]
  },
  {
   "cell_type": "markdown",
   "metadata": {},
   "source": [
    "### découpage en tronçons\n",
    "\n",
    "on va créer des petites bandes de .02 de largeur sur toute la carte et les soustraire à notre carte. Ceci découpera nos pays par tronçons de 10 de longitude."
   ]
  },
  {
   "cell_type": "code",
   "execution_count": null,
   "metadata": {},
   "outputs": [],
   "source": [
    "from shapely.geometry import Polygon"
   ]
  },
  {
   "cell_type": "code",
   "execution_count": null,
   "metadata": {},
   "outputs": [],
   "source": [
    "bandes = []\n",
    "delta = .01\n",
    "for pm in range(-180, 180, 10):\n",
    "    bandes.append(Polygon([(pm - delta, -100), (pm - delta, 100), (pm + delta,100), (pm + delta, -100)]))\n",
    "\n",
    "\n",
    "meridiens = gpd.GeoDataFrame({'geometry': gpd.GeoSeries(bandes)}, \n",
    "                             crs=monde.crs)"
   ]
  },
  {
   "cell_type": "markdown",
   "metadata": {},
   "source": [
    "découpage avec la fonction [overlay](https://geopandas.org/set_operations.html) de geopandas  qui est ultra puissante (on y reviendra) :"
   ]
  },
  {
   "cell_type": "code",
   "execution_count": null,
   "metadata": {},
   "outputs": [],
   "source": [
    "monde_découpé = gpd.overlay(monde, meridiens, how='difference')"
   ]
  },
  {
   "cell_type": "markdown",
   "metadata": {},
   "source": [
    "En dessinant, on voit bien les nouveaux bords :"
   ]
  },
  {
   "cell_type": "code",
   "execution_count": null,
   "metadata": {},
   "outputs": [],
   "source": [
    "fig, ax = plt.subplots(figsize=(15, 15)) \n",
    "\n",
    "monde_découpé.plot(ax=ax)\n",
    "\n",
    "plt.show()"
   ]
  },
  {
   "cell_type": "markdown",
   "metadata": {},
   "source": [
    "On voit bien les découpages. \n",
    "\n",
    "Pour bien faire on ne devrait faire que les découpages nécessaires pour la rotation, histoire de ne pas dénaturer les pays plus que ça.\n",
    "\n",
    "**Note** : un bout de la sibérie est déjà découpée par défaut dans cette carte."
   ]
  },
  {
   "cell_type": "markdown",
   "metadata": {},
   "source": [
    "#### carte USA :\n",
    "\n",
    "On centre en -100 (paramètre `+pm=-100`)"
   ]
  },
  {
   "cell_type": "code",
   "execution_count": null,
   "metadata": {},
   "outputs": [],
   "source": [
    "fig, ax = plt.subplots(figsize=(15, 15)) \n",
    "\n",
    "(monde_découpé\n",
    "     .to_crs(\"+proj=longlat +pm=-100 +x_0=0 +y_0=0 +ellps=WGS84 +units=m +no_defs\")\n",
    "     .plot(ax=ax)\n",
    ")\n",
    "ax.axvline(x=0, color=\"green\")\n",
    "\n",
    "plt.show()"
   ]
  },
  {
   "cell_type": "markdown",
   "metadata": {},
   "source": [
    "#### carte chine\n",
    "\n",
    "On centre en +110 (paramètre `+pm=-110`)"
   ]
  },
  {
   "cell_type": "code",
   "execution_count": null,
   "metadata": {},
   "outputs": [],
   "source": [
    "fig, ax = plt.subplots(figsize=(15, 15)) \n",
    "\n",
    "(monde_découpé\n",
    "     .to_crs(\"+proj=longlat +pm=110 +x_0=0 +y_0=0 +ellps=WGS84 +units=m +no_defs\")\n",
    "     .plot(ax=ax)\n",
    ")\n",
    "\n",
    "plt.show()"
   ]
  },
  {
   "cell_type": "markdown",
   "metadata": {},
   "source": [
    "## Cartopy\n",
    "\n",
    "<https://scitools.org.uk/>"
   ]
  },
  {
   "cell_type": "code",
   "execution_count": null,
   "metadata": {},
   "outputs": [],
   "source": []
  }
 ],
 "metadata": {
  "kernelspec": {
   "display_name": ".venv",
   "language": "python",
   "name": "python3"
  },
  "language_info": {
   "codemirror_mode": {
    "name": "ipython",
    "version": 3
   },
   "file_extension": ".py",
   "mimetype": "text/x-python",
   "name": "python",
   "nbconvert_exporter": "python",
   "pygments_lexer": "ipython3",
   "version": "3.13.0"
  }
 },
 "nbformat": 4,
 "nbformat_minor": 4
}
