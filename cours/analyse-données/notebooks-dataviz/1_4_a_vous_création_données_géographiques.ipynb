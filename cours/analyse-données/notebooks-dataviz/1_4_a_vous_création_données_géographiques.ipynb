{
 "cells": [
  {
   "cell_type": "markdown",
   "metadata": {},
   "source": [
    "# Création données géographiques"
   ]
  },
  {
   "cell_type": "markdown",
   "metadata": {},
   "source": [
    "Le fichier `villes_france_30000.csv` contient les coordonnées géographiques des villes françaises de métropole. "
   ]
  },
  {
   "cell_type": "code",
   "execution_count": 2,
   "metadata": {},
   "outputs": [],
   "source": [
    "import geopandas as gpd\n",
    "import pandas as pd"
   ]
  },
  {
   "cell_type": "code",
   "execution_count": null,
   "metadata": {},
   "outputs": [],
   "source": [
    "df = pd.read_csv(\"./villes_france_30000.csv\")"
   ]
  },
  {
   "cell_type": "markdown",
   "metadata": {},
   "source": [
    "1. A quoi correspond la colonne INSEE ?\n",
    "2. Quelles sont les villes avec plus de 250 000 habitants ?\n",
    "3. Combien y a-t-il de villes avec plus de 100 000 habitants ?"
   ]
  },
  {
   "cell_type": "markdown",
   "metadata": {},
   "source": [
    "### Données géographiques\n",
    "\n",
    "Faites en un geoDataFrame où la coordonnée géographique de chaque ville est position"
   ]
  },
  {
   "cell_type": "markdown",
   "metadata": {},
   "source": [
    "1. représentez graphiquement l'ensemble des villes (sans aucune fioritures)\n",
    "2. représentez graphiquement l'ensemble des villes de plus de 100 000 habitants\n",
    "3. représentez graphiquement l'ensemble des villes de plus de 50 000 habitants\n",
    "4. combien y a-t-il de villes de de plus de 1million, 100mille et 50mille habitants\n",
    "\n",
    "Conclusion ?"
   ]
  },
  {
   "cell_type": "markdown",
   "metadata": {},
   "source": [
    "### Région de métropole\n",
    "\n",
    "Vous avez du remarquer en regardant la représentation graphique que beaucoup de sommets (les villes) se trouvent autour de Paris. Explicitons ce résultat."
   ]
  },
  {
   "cell_type": "markdown",
   "metadata": {},
   "source": [
    "Vous allez pour cela utiliser les données de régions utilisées en cours :"
   ]
  },
  {
   "cell_type": "code",
   "execution_count": 4,
   "metadata": {},
   "outputs": [],
   "source": [
    "regions = gpd.read_file(\"https://raw.githubusercontent.com/gregoiredavid/france-geojson/master/regions.geojson\")"
   ]
  },
  {
   "cell_type": "markdown",
   "metadata": {},
   "source": [
    "1. combien y a-t-il de villes en Ile de France ?\n",
    "2. combien y a-t-il de villes de plus de 50 000 habitants en Ile de France ?"
   ]
  },
  {
   "cell_type": "markdown",
   "metadata": {},
   "source": [
    "## Carte interactive\n",
    "\n",
    "Utilisez folium pour en faire une carte avec une marque pour chacune des des villes de plus de 200000 habitants."
   ]
  },
  {
   "cell_type": "markdown",
   "metadata": {},
   "source": []
  }
 ],
 "metadata": {
  "kernelspec": {
   "display_name": ".venv",
   "language": "python",
   "name": "python3"
  },
  "language_info": {
   "codemirror_mode": {
    "name": "ipython",
    "version": 3
   },
   "file_extension": ".py",
   "mimetype": "text/x-python",
   "name": "python",
   "nbconvert_exporter": "python",
   "pygments_lexer": "ipython3",
   "version": "3.13.0"
  }
 },
 "nbformat": 4,
 "nbformat_minor": 4
}
