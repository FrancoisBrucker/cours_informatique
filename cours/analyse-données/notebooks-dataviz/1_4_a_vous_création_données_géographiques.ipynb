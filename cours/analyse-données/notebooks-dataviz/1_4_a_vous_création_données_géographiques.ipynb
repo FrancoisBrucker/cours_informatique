{
 "cells": [
  {
   "cell_type": "markdown",
   "metadata": {},
   "source": [
    "# Création données géographiques"
   ]
  },
  {
   "cell_type": "markdown",
   "metadata": {},
   "source": [
    "1. le fichier `villes_france_30000.csv` contient les coordonnées géographiques des villes françaises de métropole. Faites en un geoDataFrame.\n",
    "2. en utilisant <https://github.com/gregoiredavid/france-geojson/blob/master/regions.geojson> faites une carte chloroplète du nombre de villes par région.\n",
    "\n"
   ]
  },
  {
   "cell_type": "markdown",
   "metadata": {},
   "source": [
    "## Carte interactive\n",
    "\n",
    "Utilisez folium pour en faire une carte interactive en ne conservant que les villes de plus de 250000 habitants."
   ]
  }
 ],
 "metadata": {
  "kernelspec": {
   "display_name": ".venv",
   "language": "python",
   "name": "python3"
  },
  "language_info": {
   "codemirror_mode": {
    "name": "ipython",
    "version": 3
   },
   "file_extension": ".py",
   "mimetype": "text/x-python",
   "name": "python",
   "nbconvert_exporter": "python",
   "pygments_lexer": "ipython3",
   "version": "3.13.0"
  }
 },
 "nbformat": 4,
 "nbformat_minor": 4
}
