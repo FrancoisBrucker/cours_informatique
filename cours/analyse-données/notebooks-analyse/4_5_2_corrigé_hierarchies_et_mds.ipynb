{
 "cells": [
  {
   "cell_type": "markdown",
   "metadata": {},
   "source": [
    "# Données de Henley\n",
    "\n",
    "Les données de Henley (1969) concernent une expérience de rappel\n",
    "libre. \n",
    "\n",
    "L'expérience était la suivante : on a demandé à des\n",
    "sujets d'écrire une liste de tous les animaux auxquels ils pouvaient penser en\n",
    "un temps limité. \n",
    "\n",
    "Le but de cette expérience est d'analyser le comportement de la mémoire. Deux\n",
    "animaux proches dans une liste montre qu'ils sont proches dans la mémoire des\n",
    "sujets  et inversement deux animaux éloignés dans une même liste montre\n",
    "qu'ils doivent être *rangés* séparément dans le cerveau du sujet et ils se\n",
    "retrouvent dans la même liste par association d'idées successives.\n",
    "\n",
    "\n",
    "N'ont été conservés dans la table que les animaux présents\n",
    "dans toutes les listes ou presque, la dissimilarité entre deux animaux donnés\n",
    "correspondant aux nombres moyens d'animaux entre eux (à la gestion des animaux\n",
    "absents de certaines listes près). On pourra se référer à Henley (1969)\n",
    "pour des renseignements plus précis concernant la création de cette\n",
    "dissimilarité."
   ]
  },
  {
   "cell_type": "markdown",
   "metadata": {},
   "source": [
    "**Remarque** : Si cela vous amuse, essayez de créer votre propre distance de Henley avec les autres étudiants. Ca dnne souvent des résultats rigolo et, au final, très interprétables. En utilisant les données du fichier, vous regardez l'intérieur du cerveaux d'étudiants américain des années 1970 et non dans celui d'élèves de 2020.\n"
   ]
  },
  {
   "cell_type": "markdown",
   "metadata": {},
   "source": [
    "## Lecture des données"
   ]
  },
  {
   "cell_type": "markdown",
   "metadata": {},
   "source": [
    "Le fichier `henley.mat` contient une matrice triangulaire inférieure contenant les données"
   ]
  },
  {
   "cell_type": "code",
   "execution_count": null,
   "metadata": {},
   "outputs": [],
   "source": [
    "print(open('henley.mat').read())"
   ]
  },
  {
   "cell_type": "markdown",
   "metadata": {},
   "source": [
    "Le code suivant crée une matrice carrée `d` de distance et les noms des animaux dans la liste `elements`"
   ]
  },
  {
   "cell_type": "code",
   "execution_count": null,
   "metadata": {},
   "outputs": [],
   "source": [
    "# crée \n",
    "elements = []\n",
    "d = []\n",
    "for line in open('henley.mat'):\n",
    "    token = line.split()\n",
    "    elements.append(token[0])\n",
    "    d.append([])\n",
    "    for x in token[1:]:\n",
    "        d[-1].append(float(x))\n",
    "    \n",
    "    for i, d_line in enumerate(d[:-1]):\n",
    "        d_line.append(d[-1][i])"
   ]
  },
  {
   "cell_type": "code",
   "execution_count": null,
   "metadata": {},
   "outputs": [],
   "source": [
    "elements"
   ]
  },
  {
   "cell_type": "code",
   "execution_count": null,
   "metadata": {},
   "outputs": [],
   "source": [
    "d"
   ]
  },
  {
   "cell_type": "markdown",
   "metadata": {},
   "source": [
    "## Hiérarchie"
   ]
  },
  {
   "cell_type": "markdown",
   "metadata": {},
   "source": [
    "Nos données sont déjà décrite par une distance, il faut faire un peu attention dans l'utilisation de l'algortihme [AgglomerativeClustering](https://scikit-learn.org/stable/modules/generated/sklearn.cluster.AgglomerativeClustering.html) :\n",
    "\n",
    "- il faut dire à sklearn que nos données sont une distance (par défaut nos données sont considérées come étant des détaframes). Ceci se fait avec l'attribut `affinity`\n",
    "- il faut présiser la méthdoe d'agrégation. On ne peut utiilser `ward`, qui est la méthode par défaut car ne s'applique qu'à des dataframe. On a 3 méthodes possible : `average`, `single` et `complete`.\n",
    "\n",
    "Faites les 3 méthodes d'agrégations."
   ]
  },
  {
   "cell_type": "code",
   "execution_count": null,
   "metadata": {},
   "outputs": [],
   "source": [
    "import sklearn\n",
    "from sklearn.cluster import AgglomerativeClustering\n",
    "\n",
    "import pandas\n",
    "\n",
    "import matplotlib.pyplot as plt\n",
    "import matplotlib.lines as mlines\n",
    "\n",
    "import seaborn as sns\n",
    "sns.set()\n",
    "current_palette = sns.color_palette()"
   ]
  },
  {
   "cell_type": "markdown",
   "metadata": {},
   "source": [
    "### lien moyen"
   ]
  },
  {
   "cell_type": "code",
   "execution_count": null,
   "metadata": {},
   "outputs": [],
   "source": [
    "clustering = AgglomerativeClustering(n_clusters=None, distance_threshold=0,\n",
    "                                    metric=\"precomputed\",\n",
    "                                    linkage=\"average\").fit(d)\n",
    "\n",
    "fils = clustering.children_\n",
    "hauteur = clustering.distances_\n",
    "n = len(clustering.labels_)\n",
    "\n",
    "\n",
    "node_position = pandas.DataFrame([(0, 0) for i in range(n)], \n",
    "                             columns=['x', 'y'])\n",
    "\n",
    "node_position \n",
    "\n",
    "pos = [0]\n",
    "def backtracking(noeud):\n",
    "    for x in noeud:\n",
    "        if x < n:\n",
    "            node_position.loc[x , 'x'] = pos[0]\n",
    "            pos[0] += 1\n",
    "        else:\n",
    "            backtracking(fils[x - n])\n",
    "\n",
    "backtracking(fils[-1])\n",
    "\n",
    "for i, (son1, son2) in enumerate(fils):\n",
    "    pos = 0.5 * (node_position.loc[son1]['x'] + node_position.loc[son2]['x'])\n",
    "    node_position = pandas.concat([node_position, pandas.DataFrame([(pos, hauteur[i])], columns=['x', 'y'])], ignore_index=True)"
   ]
  },
  {
   "cell_type": "code",
   "execution_count": null,
   "metadata": {},
   "outputs": [],
   "source": [
    "n = len(clustering.labels_)\n",
    "\n",
    "fig, ax = plt.subplots(figsize=(10, 10))\n",
    "\n",
    "sns.scatterplot(x='x', \n",
    "                y='y', \n",
    "                data=node_position,\n",
    "                legend=False,\n",
    "                ax=ax)\n",
    "\n",
    "for i, sons in enumerate(fils):\n",
    "    u = node_position.loc[i + n]    \n",
    "    v1 = node_position.loc[sons[0]]\n",
    "    v2 = node_position.loc[sons[1]]\n",
    "    \n",
    "    l = mlines.Line2D([u['x'], v1['x']] , [u['y'], v1['y']])\n",
    "    ax.add_line(l)\n",
    "    l = mlines.Line2D([u['x'], v2['x']] , [u['y'], v2['y']])\n",
    "    ax.add_line(l)\n",
    "\n",
    "\n",
    "for i, row in node_position.iterrows():\n",
    "    if i < len(elements):\n",
    "        label = elements[i]\n",
    "    else:\n",
    "        label = str(i)\n",
    "    ax.text(row['x'], row['y'], label)\n",
    "    \n",
    "plt.show()"
   ]
  },
  {
   "cell_type": "markdown",
   "metadata": {},
   "source": [
    "### lien simple"
   ]
  },
  {
   "cell_type": "code",
   "execution_count": null,
   "metadata": {},
   "outputs": [],
   "source": [
    "clustering = AgglomerativeClustering(n_clusters=None, distance_threshold=0,\n",
    "                                    metric=\"precomputed\",\n",
    "                                    linkage=\"single\").fit(d)\n",
    "\n",
    "fils = clustering.children_\n",
    "hauteur = clustering.distances_\n",
    "n = len(clustering.labels_)\n",
    "\n",
    "\n",
    "node_position = pandas.DataFrame([(0, 0) for i in range(n)], \n",
    "                             columns=['x', 'y'])\n",
    "\n",
    "node_position \n",
    "\n",
    "pos = [0]\n",
    "def backtracking(noeud):\n",
    "    for x in noeud:\n",
    "        if x < n:\n",
    "            node_position.loc[x , 'x'] = pos[0]\n",
    "            pos[0] += 1\n",
    "        else:\n",
    "            backtracking(fils[x - n])\n",
    "\n",
    "backtracking(fils[-1])\n",
    "\n",
    "for i, (son1, son2) in enumerate(fils):\n",
    "    pos = 0.5 * (node_position.loc[son1]['x'] + node_position.loc[son2]['x'])\n",
    "    node_position = pandas.concat([node_position, pandas.DataFrame([(pos, hauteur[i])], columns=['x', 'y'])], ignore_index=True)"
   ]
  },
  {
   "cell_type": "code",
   "execution_count": null,
   "metadata": {},
   "outputs": [],
   "source": [
    "n = len(clustering.labels_)\n",
    "\n",
    "fig, ax = plt.subplots(figsize=(10, 10))\n",
    "\n",
    "sns.scatterplot(x='x', \n",
    "                y='y', \n",
    "                data=node_position,\n",
    "                legend=False,\n",
    "                ax=ax)\n",
    "\n",
    "for i, sons in enumerate(fils):\n",
    "    u = node_position.loc[i + n]    \n",
    "    v1 = node_position.loc[sons[0]]\n",
    "    v2 = node_position.loc[sons[1]]\n",
    "    \n",
    "    l = mlines.Line2D([u['x'], v1['x']] , [u['y'], v1['y']])\n",
    "    ax.add_line(l)\n",
    "    l = mlines.Line2D([u['x'], v2['x']] , [u['y'], v2['y']])\n",
    "    ax.add_line(l)\n",
    "\n",
    "\n",
    "for i, row in node_position.iterrows():\n",
    "    if i < len(elements):\n",
    "        label = elements[i]\n",
    "    else:\n",
    "        label = str(i)\n",
    "    ax.text(row['x'], row['y'], label)\n",
    "    \n",
    "plt.show()"
   ]
  },
  {
   "cell_type": "markdown",
   "metadata": {},
   "source": [
    "### lien complet"
   ]
  },
  {
   "cell_type": "code",
   "execution_count": null,
   "metadata": {},
   "outputs": [],
   "source": [
    "clustering = AgglomerativeClustering(n_clusters=None, distance_threshold=0,\n",
    "                                    metric=\"precomputed\",\n",
    "                                    linkage=\"complete\").fit(d)\n",
    "\n",
    "fils = clustering.children_\n",
    "hauteur = clustering.distances_\n",
    "n = len(clustering.labels_)\n",
    "\n",
    "\n",
    "node_position = pandas.DataFrame([(0, 0) for i in range(n)], \n",
    "                             columns=['x', 'y'])\n",
    "\n",
    "node_position \n",
    "\n",
    "pos = [0]\n",
    "def backtracking(noeud):\n",
    "    for x in noeud:\n",
    "        if x < n:\n",
    "            node_position.loc[x , 'x'] = pos[0]\n",
    "            pos[0] += 1\n",
    "        else:\n",
    "            backtracking(fils[x - n])\n",
    "\n",
    "backtracking(fils[-1])\n",
    "\n",
    "for i, (son1, son2) in enumerate(fils):\n",
    "    pos = 0.5 * (node_position.loc[son1]['x'] + node_position.loc[son2]['x'])\n",
    "    node_position = pandas.concat([node_position, pandas.DataFrame([(pos, hauteur[i])], columns=['x', 'y'])], ignore_index=True)"
   ]
  },
  {
   "cell_type": "code",
   "execution_count": null,
   "metadata": {},
   "outputs": [],
   "source": [
    "n = len(clustering.labels_)\n",
    "\n",
    "fig, ax = plt.subplots(figsize=(10, 10))\n",
    "\n",
    "sns.scatterplot(x='x', \n",
    "                y='y', \n",
    "                data=node_position,\n",
    "                legend=False,\n",
    "                ax=ax)\n",
    "\n",
    "for i, sons in enumerate(fils):\n",
    "    u = node_position.loc[i + n]    \n",
    "    v1 = node_position.loc[sons[0]]\n",
    "    v2 = node_position.loc[sons[1]]\n",
    "    \n",
    "    l = mlines.Line2D([u['x'], v1['x']] , [u['y'], v1['y']])\n",
    "    ax.add_line(l)\n",
    "    l = mlines.Line2D([u['x'], v2['x']] , [u['y'], v2['y']])\n",
    "    ax.add_line(l)\n",
    "\n",
    "\n",
    "for i, row in node_position.iterrows():\n",
    "    if i < len(elements):\n",
    "        label = elements[i]\n",
    "    else:\n",
    "        label = str(i)\n",
    "    ax.text(row['x'], row['y'], label)\n",
    "    \n",
    "plt.show()"
   ]
  },
  {
   "cell_type": "markdown",
   "metadata": {},
   "source": [
    "## MDS classique\n",
    "\n",
    "Faite une représentation en 2d des animaux en utilisant le MDS classique"
   ]
  },
  {
   "cell_type": "code",
   "execution_count": null,
   "metadata": {},
   "outputs": [],
   "source": [
    "from sklearn import manifold"
   ]
  },
  {
   "cell_type": "code",
   "execution_count": null,
   "metadata": {},
   "outputs": [],
   "source": [
    "mds = manifold.MDS(n_components=2, max_iter=3000,\n",
    "                   dissimilarity=\"precomputed\", n_jobs=1)\n",
    "\n",
    "pos = mds.fit(d).embedding_"
   ]
  },
  {
   "cell_type": "code",
   "execution_count": null,
   "metadata": {},
   "outputs": [],
   "source": [
    "data = pandas.DataFrame(pos)\n",
    "data.columns=(str(x) for x in data.columns) # pour ce fichu bug\n",
    "\n",
    "fig, ax = plt.subplots(figsize=(10, 10))\n",
    "\n",
    "sns.scatterplot(x='0', \n",
    "                y='1', \n",
    "                data=data,\n",
    "                legend=False,\n",
    "                ax=ax)\n",
    "\n",
    "for i, row in data.iterrows():\n",
    "    label = elements[i]\n",
    "    ax.text(row['0'], row['1'], label)\n",
    "    \n",
    "plt.show()"
   ]
  },
  {
   "cell_type": "markdown",
   "metadata": {},
   "source": [
    "## Isomap\n",
    "\n",
    "Que donne les méthodes isomap ? Essayez plusieurs plus proches voisins"
   ]
  },
  {
   "cell_type": "code",
   "execution_count": null,
   "metadata": {},
   "outputs": [],
   "source": [
    "mds = manifold.Isomap(n_neighbors=3,\n",
    "                      n_components=2, max_iter=3000,                      \n",
    "                      metric=\"precomputed\")\n",
    "\n",
    "pos = mds.fit(d).embedding_"
   ]
  },
  {
   "cell_type": "code",
   "execution_count": null,
   "metadata": {},
   "outputs": [],
   "source": [
    "data = pandas.DataFrame(pos)\n",
    "data.columns=(str(x) for x in data.columns) # pour ce fichu bug\n",
    "\n",
    "fig, ax = plt.subplots(figsize=(10, 10))\n",
    "\n",
    "sns.scatterplot(x='0', \n",
    "                y='1', \n",
    "                data=data,\n",
    "                legend=False,\n",
    "                ax=ax)\n",
    "\n",
    "for i, row in data.iterrows():\n",
    "    label = elements[i]\n",
    "    ax.text(row['0'], row['1'], label)\n",
    "    \n",
    "plt.show()"
   ]
  },
  {
   "cell_type": "code",
   "execution_count": null,
   "metadata": {},
   "outputs": [],
   "source": []
  }
 ],
 "metadata": {
  "kernelspec": {
   "display_name": "Python 3",
   "language": "python",
   "name": "python3"
  },
  "language_info": {
   "codemirror_mode": {
    "name": "ipython",
    "version": 3
   },
   "file_extension": ".py",
   "mimetype": "text/x-python",
   "name": "python",
   "nbconvert_exporter": "python",
   "pygments_lexer": "ipython3",
   "version": "3.13.2"
  }
 },
 "nbformat": 4,
 "nbformat_minor": 2
}
