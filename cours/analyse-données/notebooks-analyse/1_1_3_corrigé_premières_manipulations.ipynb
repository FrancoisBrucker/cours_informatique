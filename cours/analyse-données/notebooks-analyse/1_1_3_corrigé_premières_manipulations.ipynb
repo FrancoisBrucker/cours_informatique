{
 "cells": [
  {
   "cell_type": "markdown",
   "metadata": {},
   "source": [
    "# Corrigé : Premières manipulations\n",
    "\n",
    "Quelques élément de corrigé"
   ]
  },
  {
   "cell_type": "code",
   "execution_count": null,
   "metadata": {},
   "outputs": [],
   "source": [
    "import pandas"
   ]
  },
  {
   "cell_type": "code",
   "execution_count": null,
   "metadata": {},
   "outputs": [],
   "source": [
    "prénom = pandas.read_csv(\"https://www.insee.fr/fr/statistiques/fichier/2540004/nat2021_csv.zip\",\n",
    "                         compression='zip',\n",
    "                         sep=\";\")"
   ]
  },
  {
   "cell_type": "markdown",
   "metadata": {},
   "source": [
    "## Votre prénom\n",
    "\n",
    "### étude d'un prénom\n",
    "\n",
    "On utilise le cours 1.1\n",
    "\n",
    "### graphique"
   ]
  },
  {
   "cell_type": "code",
   "execution_count": null,
   "metadata": {},
   "outputs": [],
   "source": [
    "import matplotlib.pyplot as plt\n",
    "import seaborn as sns\n",
    "\n",
    "sns.reset_orig() # reset au cas où on a déjà exécuté des cellules en-dessous\n",
    "sns.set()\n",
    "color_palette = sns.color_palette()"
   ]
  },
  {
   "cell_type": "markdown",
   "metadata": {},
   "source": [
    "\n",
    "#### François\n",
    "\n",
    "Les François homme par an :"
   ]
  },
  {
   "cell_type": "code",
   "execution_count": null,
   "metadata": {},
   "outputs": [],
   "source": [
    "data = (prénom[(prénom[\"preusuel\"] == 'FRANÇOIS') & (prénom[\"sexe\"] == 1)]\n",
    "            .sort_values(by=['annais']))\n",
    "\n",
    "data"
   ]
  },
  {
   "cell_type": "code",
   "execution_count": null,
   "metadata": {},
   "outputs": [],
   "source": [
    "# 1. créer le dessin (ici ax)\n",
    "fig, ax = plt.subplots(figsize=(20, 5)) \n",
    "\n",
    "#  2. ajouter des choses au dessin\n",
    "chart = sns.lineplot(x=data.annais, \n",
    "                     y=data.nombre,\n",
    "                     color=color_palette[0],\n",
    "                     ax=ax)\n",
    "\n",
    "ax.axhline(data.nombre.mean(), ls='--', color=color_palette[1])\n",
    "ax.axvline(x='1981', ls='--', color=color_palette[2])\n",
    "ax.axvline(x='2012', ls='--', color=color_palette[2])\n",
    "\n",
    "\n",
    "plt.xticks(rotation=90)\n",
    "plt.title(\"nombre de François ♂ par année\")\n",
    "plt.xlabel('année')\n",
    "\n",
    "# 3. représenter le graphique\n",
    "plt.show()"
   ]
  },
  {
   "attachments": {},
   "cell_type": "markdown",
   "metadata": {},
   "source": [
    "#### Les Adolphe"
   ]
  },
  {
   "cell_type": "code",
   "execution_count": null,
   "metadata": {},
   "outputs": [],
   "source": [
    "data = (prénom[(prénom[\"preusuel\"] == 'ADOLPHE') & (prénom[\"sexe\"] == 1)]\n",
    "            .sort_values(by=['annais']))\n"
   ]
  },
  {
   "cell_type": "markdown",
   "metadata": {},
   "source": [
    "Attention aux années sans Adolphe :"
   ]
  },
  {
   "cell_type": "code",
   "execution_count": null,
   "metadata": {},
   "outputs": [],
   "source": [
    "data.tail()"
   ]
  },
  {
   "cell_type": "markdown",
   "metadata": {},
   "source": [
    "On ne peut donc pas faire comme avant. Il faut ajouter des lignes pour les années manquantes.\n",
    "\n",
    "On procéde comme dans le cours avec les françois filles :"
   ]
  },
  {
   "cell_type": "code",
   "execution_count": null,
   "metadata": {},
   "outputs": [],
   "source": [
    "data = (prénom[(prénom[\"preusuel\"] == 'ADOLPHE') & (prénom[\"sexe\"] == 1) & (prénom['annais'] != \"XXXX\")]\n",
    "            .assign(annais=lambda df: pandas.to_numeric(df.annais))\n",
    "            .drop([\"sexe\", \"preusuel\"], axis=1)\n",
    "            .set_index(\"annais\")\n",
    "            .reindex(pandas.RangeIndex(1900,2021 + 1,1))\n",
    "            .fillna(0)\n",
    "            .sort_index()\n",
    ")\n",
    "data"
   ]
  },
  {
   "cell_type": "code",
   "execution_count": null,
   "metadata": {
    "tags": []
   },
   "outputs": [],
   "source": [
    "# 1. créer le dessin (ici ax)\n",
    "fig, ax = plt.subplots(figsize=(20, 5)) \n",
    "\n",
    "#  2. ajouter des choses au dessin\n",
    "chart = sns.lineplot(x=data.index, \n",
    "                     y=data.nombre,\n",
    "                     color=color_palette[0],\n",
    "                     ax=ax)\n",
    "\n",
    "ax.axhline(data.nombre.mean(), ls='--', color=color_palette[1])\n",
    "\n",
    "plt.xticks(rotation=90)\n",
    "plt.title(\"nombre de Adolphe ♂ par année\")\n",
    "plt.xlabel('année')\n",
    "\n",
    "# 3. représenter le graphique\n",
    "plt.show()"
   ]
  },
  {
   "cell_type": "markdown",
   "metadata": {},
   "source": [
    "### de l'importance des séries dans la vie\n",
    "\n",
    "TBD"
   ]
  },
  {
   "cell_type": "markdown",
   "metadata": {},
   "source": [
    "## Répartition des prénoms"
   ]
  },
  {
   "cell_type": "code",
   "execution_count": null,
   "metadata": {},
   "outputs": [],
   "source": [
    "dominique_1 = (prénom[(prénom[\"preusuel\"] == \"DOMINIQUE\") & (prénom[\"sexe\"] == 1)]\n",
    "                   .drop([\"preusuel\", \"sexe\"], axis=1)\n",
    "                   .sort_values(by=['annais']))\n",
    "\n",
    "dominique_2 = (prénom[(prénom[\"preusuel\"] == \"DOMINIQUE\") & (prénom[\"sexe\"] == 2)]\n",
    "                   .drop([\"preusuel\", \"sexe\"], axis=1)\n",
    "                   .sort_values(by=['annais']))"
   ]
  },
  {
   "cell_type": "code",
   "execution_count": null,
   "metadata": {},
   "outputs": [],
   "source": [
    "dominiques = (pandas\n",
    "                 .merge(dominique_1, dominique_2, on=['annais'], how='outer')\n",
    "                 .fillna(0)\n",
    "                 .rename(columns={\"nombre_x\": \"♂\", \"nombre_y\": \"♀\"})\n",
    "            )"
   ]
  },
  {
   "cell_type": "code",
   "execution_count": null,
   "metadata": {},
   "outputs": [],
   "source": [
    "dominiques"
   ]
  },
  {
   "cell_type": "markdown",
   "metadata": {},
   "source": [
    "### graphiques\n",
    "\n",
    "On utilise le 1.2, puis on ajoute une colonne de pourcentage. Ici le pourcentage d'hommes"
   ]
  },
  {
   "cell_type": "code",
   "execution_count": null,
   "metadata": {},
   "outputs": [],
   "source": [
    "dominiques = (dominiques\n",
    "                  .assign(pourcent=dominiques[\"♂\"] / (dominiques[\"♂\"] + dominiques[\"♀\"]))\n",
    "                  .drop(120))"
   ]
  },
  {
   "cell_type": "code",
   "execution_count": null,
   "metadata": {},
   "outputs": [],
   "source": [
    "dominiques"
   ]
  },
  {
   "cell_type": "code",
   "execution_count": null,
   "metadata": {},
   "outputs": [],
   "source": [
    "data = dominiques\n",
    "\n",
    "fig, ax = plt.subplots(figsize=(20, 5)) \n",
    "\n",
    "ax.set_ylim(-0.1, 1.1)\n",
    "\n",
    "chart = sns.lineplot(x=data.annais, \n",
    "                     y=data['pourcent'],\n",
    "                     color=color_palette[0],\n",
    "                     ax=ax)\n",
    "\n",
    "ax.axhline(0.5, ls='--', color=color_palette[1])\n",
    "\n",
    "plt.xticks(rotation=90)\n",
    "plt.title(\"pourçentage de Dominique ♂ par année\")\n",
    "plt.xlabel('année')\n",
    "\n",
    "plt.show()"
   ]
  },
  {
   "cell_type": "markdown",
   "metadata": {},
   "source": [
    "## autres études"
   ]
  },
  {
   "cell_type": "markdown",
   "metadata": {},
   "source": [
    "### Prénoms mixtes"
   ]
  },
  {
   "cell_type": "code",
   "execution_count": null,
   "metadata": {},
   "outputs": [],
   "source": [
    "# les prénoms portés par des garçons :\n",
    "\n",
    "prénom[prénom.sexe == 1].preusuel"
   ]
  },
  {
   "cell_type": "code",
   "execution_count": null,
   "metadata": {},
   "outputs": [],
   "source": [
    "# liste unique\n",
    "\n",
    "prénom[prénom.sexe == 1].preusuel.unique()"
   ]
  },
  {
   "cell_type": "markdown",
   "metadata": {},
   "source": [
    "On fait l'instersection des deux avec des [ensembles](https://docs.python.org/3/tutorial/datastructures.html#sets) :"
   ]
  },
  {
   "cell_type": "code",
   "execution_count": null,
   "metadata": {},
   "outputs": [],
   "source": [
    "mixte = set(prénom[prénom.sexe == 1].preusuel.unique()) & set(prénom[prénom.sexe == 2].preusuel.unique())"
   ]
  },
  {
   "cell_type": "code",
   "execution_count": null,
   "metadata": {
    "tags": []
   },
   "outputs": [],
   "source": [
    "mixte"
   ]
  },
  {
   "cell_type": "code",
   "execution_count": null,
   "metadata": {},
   "outputs": [],
   "source": [
    "mixte.remove(\"_PRENOMS_RARES\")"
   ]
  },
  {
   "cell_type": "code",
   "execution_count": null,
   "metadata": {},
   "outputs": [],
   "source": [
    "len(mixte)"
   ]
  },
  {
   "cell_type": "code",
   "execution_count": null,
   "metadata": {},
   "outputs": [],
   "source": [
    "\"FRANÇOIS\" in mixte"
   ]
  },
  {
   "attachments": {},
   "cell_type": "markdown",
   "metadata": {},
   "source": [
    "### Mode "
   ]
  },
  {
   "cell_type": "code",
   "execution_count": null,
   "metadata": {},
   "outputs": [],
   "source": [
    "(prénom[(prénom.annais == '1900') & (prénom.sexe == 1)]\n",
    "    ['nombre']\n",
    "     .sum()\n",
    ")"
   ]
  },
  {
   "cell_type": "code",
   "execution_count": null,
   "metadata": {},
   "outputs": [],
   "source": [
    "(prénom[(prénom.annais == '1900') & (prénom.sexe == 1)]\n",
    "     ['nombre']\n",
    "     .idxmax()\n",
    ")"
   ]
  },
  {
   "cell_type": "code",
   "execution_count": null,
   "metadata": {},
   "outputs": [],
   "source": [
    "prénom.iloc[134841]"
   ]
  },
  {
   "cell_type": "code",
   "execution_count": null,
   "metadata": {},
   "outputs": [],
   "source": [
    "max_homme = pandas.DataFrame(index=pandas.RangeIndex(1900,2021 + 1,1))\n",
    "\n",
    "max_homme = (max_homme\n",
    "    .assign(total=[prénom[(prénom.annais == str(idx)) & (prénom.sexe == 1)]['nombre'].sum() for idx in max_homme.index])\n",
    "    .assign(prénom=[prénom.iloc[prénom[(prénom.annais == str(idx)) & (prénom.sexe == 1)]['nombre'].idxmax()]['preusuel'] for idx in max_homme.index])\n",
    ")"
   ]
  },
  {
   "cell_type": "code",
   "execution_count": null,
   "metadata": {},
   "outputs": [],
   "source": [
    "max_homme = (max_homme\n",
    "     .assign(nombre=lambda df:[prénom[(prénom['annais'] == str(idx)) & (prénom['preusuel']== df.loc[idx]['prénom'])]['nombre'].sum() for idx in df.index])\n",
    "     .assign(pourcent=lambda df: df['nombre'] / df['total'])\n",
    ")"
   ]
  },
  {
   "cell_type": "code",
   "execution_count": null,
   "metadata": {},
   "outputs": [],
   "source": [
    "max_homme['prénom'].unique()"
   ]
  },
  {
   "cell_type": "markdown",
   "metadata": {},
   "source": [
    "Sans les prénoms rares :"
   ]
  },
  {
   "cell_type": "code",
   "execution_count": null,
   "metadata": {},
   "outputs": [],
   "source": [
    "max_homme2 = pandas.DataFrame(index=pandas.RangeIndex(1900,2021 + 1,1))\n",
    "            \n",
    "max_homme2 = (max_homme2\n",
    "    .assign(total=[prénom[(prénom.annais == str(idx)) & (prénom.sexe == 1)]['nombre'].sum() for idx in max_homme.index])\n",
    "    .assign(prénom=[prénom.iloc[prénom[(prénom.annais == str(idx)) & (prénom.sexe == 1) & (prénom.preusuel != '_PRENOMS_RARES')]['nombre'].idxmax()]['preusuel'] for idx in max_homme.index])\n",
    "    .assign(nombre=lambda df:[prénom[(prénom['annais'] == str(idx)) & (prénom.sexe == 1) & (prénom['preusuel'] == df.loc[idx]['prénom'])]['nombre'].sum() for idx in df.index])\n",
    "    .assign(pourcent=lambda df: df['nombre'] / df['total'])\n",
    ")\n",
    "\n",
    "max_homme2"
   ]
  },
  {
   "cell_type": "code",
   "execution_count": null,
   "metadata": {},
   "outputs": [],
   "source": [
    "max_homme2['prénom'].unique()"
   ]
  },
  {
   "cell_type": "code",
   "execution_count": null,
   "metadata": {},
   "outputs": [],
   "source": [
    "max_fille2 = pandas.DataFrame(index=pandas.RangeIndex(1900,2021 + 1,1))\n",
    "\n",
    "max_fille2 = (max_fille2              \n",
    "    .assign(total=[prénom[(prénom.annais == str(idx)) & (prénom.sexe == 2)]['nombre'].sum() for idx in max_homme.index])\n",
    "    .assign(prénom=[prénom.iloc[prénom[(prénom.annais == str(idx)) & (prénom.sexe == 2) & (prénom.preusuel != '_PRENOMS_RARES')]['nombre'].idxmax()]['preusuel'] for idx in max_homme.index])\n",
    "    .assign(nombre=lambda df:[prénom[(prénom['annais'] == str(idx)) & (prénom.sexe == 2) & (prénom['preusuel'] == df.loc[idx]['prénom'])]['nombre'].sum() for idx in df.index])\n",
    "    .assign(pourcent=lambda df: df['nombre'] / df['total'])\n",
    ")\n",
    "\n",
    "max_fille2"
   ]
  },
  {
   "cell_type": "code",
   "execution_count": null,
   "metadata": {},
   "outputs": [],
   "source": [
    "max_fille2['prénom'].unique()"
   ]
  },
  {
   "cell_type": "markdown",
   "metadata": {},
   "source": [
    "### sexe par année"
   ]
  },
  {
   "cell_type": "code",
   "execution_count": null,
   "metadata": {},
   "outputs": [],
   "source": [
    "années = [str(x) for x in range(1900, 2021 + 1)]\n",
    "pourcent = [0] * len(années)\n",
    "homme = [0] * len(années)\n",
    "femme = [0] * len(années)"
   ]
  },
  {
   "cell_type": "code",
   "execution_count": null,
   "metadata": {},
   "outputs": [],
   "source": [
    "repartition = pandas.DataFrame({\"pourcent\":pourcent, \"homme\":homme, \"femme\": femme}, index=années)"
   ]
  },
  {
   "cell_type": "markdown",
   "metadata": {},
   "source": [
    "Attention au type : https://www.geeksforgeeks.org/change-data-type-for-one-or-more-columns-in-pandas-dataframe/\n",
    "\n",
    "Si vous ne faites pas attention vous aurez des entiers et pas des réels"
   ]
  },
  {
   "cell_type": "code",
   "execution_count": null,
   "metadata": {},
   "outputs": [],
   "source": [
    "repartition.dtypes"
   ]
  },
  {
   "cell_type": "code",
   "execution_count": null,
   "metadata": {},
   "outputs": [],
   "source": [
    "repartition[\"pourcent\"][\"1900\"] = 0.5"
   ]
  },
  {
   "cell_type": "code",
   "execution_count": null,
   "metadata": {},
   "outputs": [],
   "source": [
    "repartition.loc[[\"1900\"]]"
   ]
  },
  {
   "cell_type": "code",
   "execution_count": null,
   "metadata": {},
   "outputs": [],
   "source": [
    "repartition = repartition.astype({\"pourcent\":float})"
   ]
  },
  {
   "cell_type": "code",
   "execution_count": null,
   "metadata": {},
   "outputs": [],
   "source": [
    "repartition.dtypes"
   ]
  },
  {
   "cell_type": "markdown",
   "metadata": {},
   "source": [
    "Le calcul suivant est très long. On doit pouvoir faire (bien) mieux. Je laisse cependant cette approche pour vous montrer comment on peut tout de même *bourriner* les calcul si on ne connais pas toutes les méthodes. C'est juste bien plus long."
   ]
  },
  {
   "cell_type": "code",
   "execution_count": null,
   "metadata": {},
   "outputs": [],
   "source": [
    "for annee in repartition.index:\n",
    "    \n",
    "    homme = sum(prénom[(prénom.sexe == 1) & (prénom.annais == annee)]['nombre'])\n",
    "    femme = sum(prénom[(prénom.sexe == 2) & (prénom.annais == annee)]['nombre'])\n",
    "\n",
    "    repartition.loc[annee, \"pourcent\"] = homme / (homme + femme)\n",
    "    repartition.loc[annee, \"homme\"] = homme\n",
    "    repartition.loc[annee, \"femme\"] = femme"
   ]
  },
  {
   "cell_type": "code",
   "execution_count": null,
   "metadata": {},
   "outputs": [],
   "source": [
    "repartition"
   ]
  },
  {
   "cell_type": "code",
   "execution_count": null,
   "metadata": {},
   "outputs": [],
   "source": [
    "data = repartition\n",
    "\n",
    "fig, ax = plt.subplots(figsize=(20, 5)) \n",
    "\n",
    "chart = sns.lineplot(x=data.index, \n",
    "                     y=data['pourcent'],\n",
    "                     ax=ax)\n",
    "\n",
    "plt.xticks(rotation=90)\n",
    "plt.title(\"pourçentage d'homme par année'\")\n",
    "plt.xlabel('année')\n",
    "\n",
    "\n",
    "plt.show()"
   ]
  },
  {
   "cell_type": "code",
   "execution_count": null,
   "metadata": {},
   "outputs": [],
   "source": [
    "années = [str(x) for x in range(1900, 2021 + 1)]\n",
    "pourcent = [0] * len(années)\n",
    "homme = [0] * len(années)\n",
    "femme = [0] * len(années)\n",
    "\n",
    "repartition2 = pandas.DataFrame({\"pourcent\":pourcent, \"homme\":homme, \"femme\": femme}, index=années)\n",
    "\n",
    "for année in repartition2.index:\n",
    "    \n",
    "    homme = sum((prénom.sexe == 1) & (prénom.annais == année))\n",
    "    femme = sum((prénom.sexe == 2) & (prénom.annais == année))\n",
    "\n",
    "    repartition2.loc[année, \"pourcent\"] = homme / (homme + femme)\n",
    "    repartition2.loc[année, \"homme\"] = homme\n",
    "    repartition2.loc[année, \"femme\"] = femme"
   ]
  },
  {
   "cell_type": "code",
   "execution_count": null,
   "metadata": {},
   "outputs": [],
   "source": [
    "repartition2"
   ]
  },
  {
   "cell_type": "code",
   "execution_count": null,
   "metadata": {},
   "outputs": [],
   "source": [
    "data = repartition2\n",
    "\n",
    "fig, ax = plt.subplots(figsize=(20, 5)) \n",
    "\n",
    "chart = sns.lineplot(x=data.index, \n",
    "                     y=data['pourcent'],\n",
    "                     ax=ax)\n",
    "\n",
    "plt.xticks(rotation=90)\n",
    "plt.title(\"pourçentage de nombre différent de prénoms homme par année'\")\n",
    "plt.xlabel('année')\n",
    "\n",
    "\n",
    "plt.show()"
   ]
  },
  {
   "cell_type": "markdown",
   "metadata": {},
   "source": [
    "### coefficient de Gini\n",
    "\n",
    "**TBD**"
   ]
  },
  {
   "cell_type": "code",
   "execution_count": null,
   "metadata": {},
   "outputs": [],
   "source": []
  }
 ],
 "metadata": {
  "kernelspec": {
   "display_name": "Python 3",
   "language": "python",
   "name": "python3"
  },
  "language_info": {
   "codemirror_mode": {
    "name": "ipython",
    "version": 3
   },
   "file_extension": ".py",
   "mimetype": "text/x-python",
   "name": "python",
   "nbconvert_exporter": "python",
   "pygments_lexer": "ipython3",
   "version": "3.9.13"
  },
  "vscode": {
   "interpreter": {
    "hash": "aee8b7b246df8f9039afb4144a1f6fd8d2ca17a180786b69acc140d282b71a49"
   }
  }
 },
 "nbformat": 4,
 "nbformat_minor": 4
}
