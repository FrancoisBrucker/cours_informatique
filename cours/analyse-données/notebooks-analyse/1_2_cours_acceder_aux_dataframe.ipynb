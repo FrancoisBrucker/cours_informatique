{
 "cells": [
  {
   "cell_type": "markdown",
   "metadata": {},
   "source": [
    "# Accéder aux dataframes\n",
    "\n",
    "On va montrer ici comment acceder aux lignes et colonnes individuellment, ainsi que créer des dataframes.\n"
   ]
  },
  {
   "cell_type": "markdown",
   "metadata": {},
   "source": [
    "On charge ici le fichier des prénoms du 1.1 que l'on a sauvé en local."
   ]
  },
  {
   "cell_type": "code",
   "execution_count": null,
   "metadata": {
    "pycharm": {
     "name": "#%%\n"
    }
   },
   "outputs": [],
   "source": [
    "import pandas"
   ]
  },
  {
   "cell_type": "code",
   "execution_count": null,
   "metadata": {
    "pycharm": {
     "name": "#%%\n"
    }
   },
   "outputs": [],
   "source": [
    "prénom = pandas.read_csv(\"nat2020_csv.zip\",\n",
    "                         compression='zip',\n",
    "                         sep=\";\")\n"
   ]
  },
  {
   "cell_type": "markdown",
   "metadata": {},
   "source": [
    "## naviguer dans la dataframe"
   ]
  },
  {
   "cell_type": "markdown",
   "metadata": {},
   "source": [
    "https://pandas.pydata.org/pandas-docs/stable/user_guide/indexing.html"
   ]
  },
  {
   "cell_type": "markdown",
   "metadata": {},
   "source": [
    "### colonnes et lignes particulières\n"
   ]
  },
  {
   "cell_type": "markdown",
   "metadata": {},
   "source": [
    "#### colonne\n",
    "\n",
    "On accède à une colonne par son nom, de deux façons equivalentes"
   ]
  },
  {
   "cell_type": "code",
   "execution_count": null,
   "metadata": {},
   "outputs": [],
   "source": [
    "#notation pointée \n",
    "\n",
    "prénom.annais"
   ]
  },
  {
   "cell_type": "code",
   "execution_count": null,
   "metadata": {},
   "outputs": [],
   "source": [
    "# version liste\n",
    "prénom[\"annais\"]"
   ]
  },
  {
   "cell_type": "markdown",
   "metadata": {},
   "source": [
    "Les colonnes sont des [*séries*](https://pandas.pydata.org/pandas-docs/stable/reference/api/pandas.Series.html) :"
   ]
  },
  {
   "cell_type": "code",
   "execution_count": null,
   "metadata": {},
   "outputs": [],
   "source": [
    "type(prénom[\"nombre\"])"
   ]
  },
  {
   "cell_type": "markdown",
   "metadata": {},
   "source": [
    "C'est à dire une liste de données de même type : "
   ]
  },
  {
   "cell_type": "code",
   "execution_count": null,
   "metadata": {},
   "outputs": [],
   "source": [
    "prénom[\"nombre\"].dtype"
   ]
  },
  {
   "cell_type": "markdown",
   "metadata": {},
   "source": [
    "Le [`dtype`](https://numpy.org/doc/stable/reference/arrays.dtypes.html) est une liste de type de numpy. Ici `dtype('int64')` signifie que c'est un entier."
   ]
  },
  {
   "cell_type": "markdown",
   "metadata": {},
   "source": [
    "#### noms des lignes et des colonnes\n",
    "\n",
    "Les lignes et les colonnes sont des colonnes particulières"
   ]
  },
  {
   "attachments": {},
   "cell_type": "markdown",
   "metadata": {},
   "source": [
    "Les lignes sont des  [`RangeIndex`](https://pandas.pydata.org/pandas-docs/stable/reference/api/pandas.RangeIndex.html), que l'on peut itérer dans une boucle for (`for nom in prénom.index: ...`) ou transofrmer en liste (`list(prénom.index)`) si besoin."
   ]
  },
  {
   "cell_type": "code",
   "execution_count": null,
   "metadata": {},
   "outputs": [],
   "source": [
    "# nom des lignes\n",
    "prénom.index"
   ]
  },
  {
   "cell_type": "markdown",
   "metadata": {},
   "source": [
    "Les colonnes sont des [`Index`](https://pandas.pydata.org/pandas-docs/stable/reference/api/pandas.Index.html) qui sont des listes Pandas."
   ]
  },
  {
   "cell_type": "code",
   "execution_count": null,
   "metadata": {},
   "outputs": [],
   "source": [
    "# nom des colonnes\n",
    "prénom.columns"
   ]
  },
  {
   "cell_type": "markdown",
   "metadata": {},
   "source": [
    "Dont on peut par exemple obtenir les valeurs :"
   ]
  },
  {
   "cell_type": "code",
   "execution_count": null,
   "metadata": {},
   "outputs": [],
   "source": [
    "prénom.columns.values"
   ]
  },
  {
   "cell_type": "markdown",
   "metadata": {},
   "source": [
    "#### lignes"
   ]
  },
  {
   "cell_type": "markdown",
   "metadata": {},
   "source": [
    "On utilise [`loc`](https://pandas.pydata.org/pandas-docs/stable/reference/api/pandas.DataFrame.loc.html) qui prend le nom de la ligne comme paramètre"
   ]
  },
  {
   "cell_type": "code",
   "execution_count": null,
   "metadata": {},
   "outputs": [],
   "source": [
    "prénom.loc[2]"
   ]
  },
  {
   "cell_type": "markdown",
   "metadata": {},
   "source": [
    "A ne pas confondre avec [`iloc`](https://pandas.pydata.org/pandas-docs/stable/reference/api/pandas.DataFrame.iloc.html) qui lui prend **l'indice** de la ligne.\n",
    "\n",
    "Ici les noms des lignes sont aussi ses indices, donc c'est équivalent, mais ce n'est vraiment pas toujours le cas, surtout après un tri par exemple."
   ]
  },
  {
   "cell_type": "code",
   "execution_count": null,
   "metadata": {},
   "outputs": [],
   "source": [
    "prénom.iloc[2]"
   ]
  },
  {
   "cell_type": "markdown",
   "metadata": {},
   "source": [
    "### éléments ligne et colonne particulier\n",
    "\n",
    "Ligne/colonne ou colonne/ligne, en utilisant leurs noms :"
   ]
  },
  {
   "cell_type": "code",
   "execution_count": null,
   "metadata": {},
   "outputs": [],
   "source": [
    "# ligne colonne\n",
    "prénom.loc[2]['nombre']"
   ]
  },
  {
   "cell_type": "code",
   "execution_count": null,
   "metadata": {},
   "outputs": [],
   "source": [
    "# colonne ligne\n",
    "prénom['nombre'][2]"
   ]
  },
  {
   "cell_type": "markdown",
   "metadata": {},
   "source": [
    "Si l'on veut utiliser des indices, il faut considérer la dataframe comme une matrice, ce que l'on peut faire en utilisant [`to_numpy`](https://pandas.pydata.org/pandas-docs/version/0.25.1/reference/api/pandas.DataFrame.to_numpy.html#pandas.DataFrame.to_numpy) :"
   ]
  },
  {
   "cell_type": "code",
   "execution_count": null,
   "metadata": {},
   "outputs": [],
   "source": [
    "# 3ème ligne :\n",
    "\n",
    "prénom.to_numpy()[2]"
   ]
  },
  {
   "cell_type": "code",
   "execution_count": null,
   "metadata": {},
   "outputs": [],
   "source": [
    "# 3ème ligne, 4ème colonne\n",
    "\n",
    "prénom.to_numpy()[2][3]"
   ]
  },
  {
   "cell_type": "markdown",
   "metadata": {},
   "source": [
    "ou encore :"
   ]
  },
  {
   "cell_type": "code",
   "execution_count": null,
   "metadata": {},
   "outputs": [],
   "source": [
    "# 3ème ligne, 4ème colonne\n",
    "\n",
    "prénom.to_numpy()[2, 3]"
   ]
  },
  {
   "cell_type": "markdown",
   "metadata": {},
   "source": [
    "## sélections \n",
    "\n",
    "Un ensemble particulier de lignes/colonnes"
   ]
  },
  {
   "cell_type": "markdown",
   "metadata": {},
   "source": [
    "### lignes"
   ]
  },
  {
   "cell_type": "markdown",
   "metadata": {},
   "source": [
    "####  sélection booléenne\n",
    "\n",
    "On passe en paramètre de la datafframe une lise de booléens de longueur égale au nombre de lignes. Seront rendues uniquement les lignes *vraies*"
   ]
  },
  {
   "cell_type": "code",
   "execution_count": null,
   "metadata": {},
   "outputs": [],
   "source": [
    "# les lignes dont le nom est divisible par 10, version vrai/faux\n",
    "\n",
    "prénom.index % 10 == 0"
   ]
  },
  {
   "cell_type": "code",
   "execution_count": null,
   "metadata": {},
   "outputs": [],
   "source": [
    "# on sélectionne les lignes vraies :\n",
    "\n",
    "prénom[prénom.index % 10 == 0]"
   ]
  },
  {
   "cell_type": "markdown",
   "metadata": {},
   "source": [
    "#### slices\n",
    "\n",
    "On peut aussi prendre des ensembles de lignes par slices."
   ]
  },
  {
   "cell_type": "code",
   "execution_count": null,
   "metadata": {},
   "outputs": [],
   "source": [
    "prénom[3:10]"
   ]
  },
  {
   "cell_type": "markdown",
   "metadata": {},
   "source": [
    "> **Attention** : ce sont des indices de lignes pas des noms :"
   ]
  },
  {
   "cell_type": "code",
   "execution_count": null,
   "metadata": {},
   "outputs": [],
   "source": [
    "prénom[prénom.index % 10 == 0][3:10]"
   ]
  },
  {
   "cell_type": "markdown",
   "metadata": {},
   "source": [
    "### colonnes\n",
    "\n",
    "un ensemble particulier de colonnes, en passant une liste de nom de colonnes :"
   ]
  },
  {
   "cell_type": "code",
   "execution_count": null,
   "metadata": {},
   "outputs": [],
   "source": [
    "prénom[[\"annais\", \"preusuel\"]]"
   ]
  },
  {
   "cell_type": "markdown",
   "metadata": {},
   "source": [
    "### loc et iloc\n",
    "\n",
    "On peut passer 2 arguments à loc et iloc"
   ]
  },
  {
   "cell_type": "code",
   "execution_count": null,
   "metadata": {},
   "outputs": [],
   "source": [
    "# ligne de nom 23 et colonne \"preusuel\"\n",
    "\n",
    "prénom.loc[23, \"preusuel\"]"
   ]
  },
  {
   "cell_type": "code",
   "execution_count": null,
   "metadata": {},
   "outputs": [],
   "source": [
    "# 24ième ligne et deuxième colonne\n",
    "\n",
    "prénom.iloc[23, 1]"
   ]
  },
  {
   "cell_type": "markdown",
   "metadata": {},
   "source": [
    "#### arguments slices"
   ]
  },
  {
   "cell_type": "markdown",
   "metadata": {},
   "source": [
    "Ces arguments peuvent aussi être des [*slices*](http://pascal.ortiz.free.fr/contents/python/slices/slices.html).\n",
    "\n",
    "Sans sélection, on obtient toutes les lignes et colonnes :"
   ]
  },
  {
   "cell_type": "code",
   "execution_count": null,
   "metadata": {},
   "outputs": [],
   "source": [
    "prénom.loc[:, :]"
   ]
  },
  {
   "cell_type": "code",
   "execution_count": null,
   "metadata": {},
   "outputs": [],
   "source": [
    "prénom.iloc[:, :]"
   ]
  },
  {
   "cell_type": "markdown",
   "metadata": {},
   "source": [
    "En spécifiant les slices on peut sélection un groupe de lignes/colonnes : "
   ]
  },
  {
   "cell_type": "code",
   "execution_count": null,
   "metadata": {},
   "outputs": [],
   "source": [
    "# toutes les lignes, les colonnes entre \"sexe\" et \"annais\"\n",
    "prénom.loc[:, \"sexe\":\"annais\"]"
   ]
  },
  {
   "cell_type": "code",
   "execution_count": null,
   "metadata": {},
   "outputs": [],
   "source": [
    "# les lignes entre celle de noms 3 et de nom 10 et les colonnes entre \"sexe\" et \"annais\"\n",
    "\n",
    "prénom.loc[3:10, \"sexe\":\"annais\"]"
   ]
  },
  {
   "cell_type": "markdown",
   "metadata": {},
   "source": [
    "#### arguments listes"
   ]
  },
  {
   "cell_type": "markdown",
   "metadata": {},
   "source": [
    "Enfn, ces arguments peuvent être des listes :"
   ]
  },
  {
   "cell_type": "code",
   "execution_count": null,
   "metadata": {},
   "outputs": [],
   "source": [
    "# lignes de noms 3, 1 et 25 dans cet ordre, toutes les colonnes\n",
    "\n",
    "prénom.loc[[3, 1, 25], :]"
   ]
  },
  {
   "cell_type": "code",
   "execution_count": null,
   "metadata": {},
   "outputs": [],
   "source": [
    "# toutes les lignes et la 4ème colonne puis la 3 dans cet ordre\n",
    "\n",
    "prénom.iloc[:, [3, 2]]"
   ]
  },
  {
   "cell_type": "markdown",
   "metadata": {},
   "source": [
    "On peut bien sur tout combinet pour extraire ce que l'on veut des données"
   ]
  },
  {
   "cell_type": "markdown",
   "metadata": {},
   "source": [
    "## Opérations sur les dataframe\n",
    "\n",
    "https://pandas.pydata.org/pandas-docs/stable/user_guide/merging.html\n"
   ]
  },
  {
   "cell_type": "markdown",
   "metadata": {},
   "source": [
    "Pour que cette introduction soit complète, il nous reste à voir comment créer des données ([Dataframes](https://pandas.pydata.org/pandas-docs/stable/reference/api/pandas.DataFrame.html)), soit de rien du tout soit en combinant d'autres données.\n",
    "\n",
    "Pour illustrer ceci on va recréer les mêmes données de plein de façon différentes. On va trouver le nombre de Dominique hommes et femmes pour chaque année.\n",
    "\n",
    "On va procéder de trois façons différentes :\n",
    "\n",
    "* création d'une dataframe vierge puis remplissage des données\n",
    "* création de colonnes puis concaténation\n",
    "* création de lignes puis concaténation\n",
    "* en utilisant des méthodes issues des bases de données"
   ]
  },
  {
   "cell_type": "markdown",
   "metadata": {},
   "source": [
    "### modification d'un tableau"
   ]
  },
  {
   "cell_type": "markdown",
   "metadata": {},
   "source": [
    "On commence par créer un dataframe avec des listes puis on modifie celle-ci\n",
    "\n",
    "> **Attention** pour ne pas avoir de soucis, il faut faire des listes différentes pour chaque colonne"
   ]
  },
  {
   "cell_type": "code",
   "execution_count": null,
   "metadata": {},
   "outputs": [],
   "source": [
    "# on prépare les colonnes vierges \n",
    "\n",
    "années = [str(x) for x in range(1900, 2020 + 1)]\n",
    "nombre_1 = [0] * len(années)\n",
    "nombre_2 = [0] * len(années)"
   ]
  },
  {
   "cell_type": "code",
   "execution_count": null,
   "metadata": {},
   "outputs": [],
   "source": [
    "# on crée la dataframe\n",
    "\n",
    "dominiques = pandas.DataFrame({1:nombre_1, 2:nombre_2}, index=années)"
   ]
  },
  {
   "cell_type": "markdown",
   "metadata": {},
   "source": [
    "Prenez l'habitude lorsque vous créez un dataframe de faire **TRES** attention au type de données. Comme on va manipuler des entiers, ce n'est pas très grave mais si vous manipulez des `float` et que votre colonne est de type entier, seule la partie entière sera conservée..."
   ]
  },
  {
   "cell_type": "code",
   "execution_count": null,
   "metadata": {},
   "outputs": [],
   "source": [
    "dominiques.dtypes"
   ]
  },
  {
   "cell_type": "markdown",
   "metadata": {},
   "source": [
    "S'ils ne sont pas bons on peut les changer avec [`as_type`](https://pandas.pydata.org/pandas-docs/stable/reference/api/pandas.DataFrame.astype.html)."
   ]
  },
  {
   "cell_type": "markdown",
   "metadata": {},
   "source": [
    "Le noms des lignes de la dataframe `dominiques` est l'année. On a deux colonnes nommées 1 (les hommes) et 2 les femmes."
   ]
  },
  {
   "cell_type": "code",
   "execution_count": null,
   "metadata": {},
   "outputs": [],
   "source": [
    "dominiques"
   ]
  },
  {
   "cell_type": "markdown",
   "metadata": {},
   "source": [
    "On modifie ensuite la table avec les données de la dataframe initiale"
   ]
  },
  {
   "cell_type": "code",
   "execution_count": null,
   "metadata": {},
   "outputs": [],
   "source": [
    "for nom_ligne in prénom.index:\n",
    "    if prénom.loc[nom_ligne, \"preusuel\"] == \"DOMINIQUE\":\n",
    "        sexe = prénom.loc[nom_ligne, \"sexe\"]\n",
    "        annee = prénom.loc[nom_ligne, \"annais\"]\n",
    "        nombre = prénom.loc[nom_ligne, \"nombre\"]\n",
    "        \n",
    "        dominiques[sexe][annee] = nombre"
   ]
  },
  {
   "cell_type": "code",
   "execution_count": null,
   "metadata": {},
   "outputs": [],
   "source": [
    "dominiques"
   ]
  },
  {
   "cell_type": "markdown",
   "metadata": {},
   "source": [
    "### ajout de colonnes\n",
    "\n",
    "On va créer un dataframe vide et ajouter les colonnes une à une. Le lien se fera avec le nom des lignes, ici l'année"
   ]
  },
  {
   "cell_type": "code",
   "execution_count": null,
   "metadata": {},
   "outputs": [],
   "source": [
    "dominiques = pandas.DataFrame(index=années)\n",
    "\n",
    "dominiques"
   ]
  },
  {
   "cell_type": "markdown",
   "metadata": {},
   "source": [
    "On crée la colonne des hommes"
   ]
  },
  {
   "cell_type": "code",
   "execution_count": null,
   "metadata": {},
   "outputs": [],
   "source": [
    "homme = (prénom[(prénom[\"preusuel\"] == \"DOMINIQUE\") & (prénom[\"sexe\"] == 1)]\n",
    "                   .drop([\"preusuel\", \"sexe\"], axis=1))\n",
    "homme"
   ]
  },
  {
   "cell_type": "markdown",
   "metadata": {},
   "source": [
    "On va changer le nom des lignes pour qu'il correspondent aux années"
   ]
  },
  {
   "cell_type": "code",
   "execution_count": null,
   "metadata": {},
   "outputs": [],
   "source": [
    "homme = homme.set_index(\"annais\")"
   ]
  },
  {
   "cell_type": "code",
   "execution_count": null,
   "metadata": {},
   "outputs": [],
   "source": [
    "homme"
   ]
  },
  {
   "cell_type": "markdown",
   "metadata": {},
   "source": [
    "On utilise la commande [`concat`](https://pandas.pydata.org/pandas-docs/stable/reference/api/pandas.concat.html) en lui demandant d'agir sur les colonnes (`axis=1`)."
   ]
  },
  {
   "cell_type": "code",
   "execution_count": null,
   "metadata": {},
   "outputs": [],
   "source": [
    "pandas.concat([dominiques, homme], axis=1)"
   ]
  },
  {
   "cell_type": "markdown",
   "metadata": {},
   "source": [
    "Le résultat est correct, on modifie donc pour notre dataframe :"
   ]
  },
  {
   "cell_type": "code",
   "execution_count": null,
   "metadata": {},
   "outputs": [],
   "source": [
    "dominiques = pandas.concat([dominiques, homme], axis=1)"
   ]
  },
  {
   "cell_type": "markdown",
   "metadata": {},
   "source": [
    "On fait pareil pour les femmes"
   ]
  },
  {
   "cell_type": "code",
   "execution_count": null,
   "metadata": {},
   "outputs": [],
   "source": [
    "femmes = (prénom[(prénom[\"preusuel\"] == \"DOMINIQUE\") & (prénom[\"sexe\"] == 2)]\n",
    "            .drop([\"preusuel\", \"sexe\"], axis=1)\n",
    "            .set_index(\"annais\"))"
   ]
  },
  {
   "cell_type": "code",
   "execution_count": null,
   "metadata": {},
   "outputs": [],
   "source": [
    "femmes"
   ]
  },
  {
   "cell_type": "code",
   "execution_count": null,
   "metadata": {},
   "outputs": [],
   "source": [
    "pandas.concat([dominiques, femmes], axis=1)"
   ]
  },
  {
   "cell_type": "markdown",
   "metadata": {},
   "source": [
    "On voit que concat agit intelligemment :\n",
    "\n",
    "- l'année 2018 ne contenait pas de dominiques filles, on a donc rajouté une donnée `NaN`à cette colonne (`NaN` = not a number\n",
    "- il n'y a vait pas d'année `XXXX` pour les homme, elle a été ajouté dans la concaténation."
   ]
  },
  {
   "cell_type": "markdown",
   "metadata": {},
   "source": [
    "Cete remarque justifie également le fait que l'on ait pas utilisé [`assign`](https://pandas.pydata.org/pandas-docs/stable/reference/api/pandas.DataFrame.assign.html) qui n'aurait pas fait attentions aux noms des lignes.  Cette commande ajoute juste une liste de même longeur comme attribut au dataframe."
   ]
  },
  {
   "cell_type": "code",
   "execution_count": null,
   "metadata": {},
   "outputs": [],
   "source": [
    "dominiques = pandas.concat([dominiques, femmes], axis=1)"
   ]
  },
  {
   "cell_type": "markdown",
   "metadata": {},
   "source": [
    "Il nous reste à remplacer les `NaN` par 0 :"
   ]
  },
  {
   "cell_type": "code",
   "execution_count": null,
   "metadata": {},
   "outputs": [],
   "source": [
    "dominiques = dominiques.fillna(0)"
   ]
  },
  {
   "cell_type": "code",
   "execution_count": null,
   "metadata": {},
   "outputs": [],
   "source": [
    "dominiques"
   ]
  },
  {
   "cell_type": "markdown",
   "metadata": {},
   "source": [
    "Puis supprimer la ligne des `XXXX` en utilisant [`drop`](https://pandas.pydata.org/pandas-docs/stable/reference/api/pandas.DataFrame.drop.html) (si l'on avait voulu supprimer des colonnes, on aurait utiliser le paramètre `axis=1` pour drop)."
   ]
  },
  {
   "cell_type": "code",
   "execution_count": null,
   "metadata": {},
   "outputs": [],
   "source": [
    "dominiques = dominiques.drop('XXXX')"
   ]
  },
  {
   "cell_type": "markdown",
   "metadata": {},
   "source": [
    "### ajout de lignes"
   ]
  },
  {
   "cell_type": "markdown",
   "metadata": {},
   "source": [
    "On crée le dataframe puis on ajoute ligne à ligne nos donnée"
   ]
  },
  {
   "cell_type": "code",
   "execution_count": null,
   "metadata": {},
   "outputs": [],
   "source": [
    "dominiques = pandas.DataFrame()"
   ]
  },
  {
   "cell_type": "markdown",
   "metadata": {},
   "source": [
    "On va maintenant itérer sur les lignes d'un dataframe contenant uniquement les dominiques pour une année particuilère (on utilise pour ça la commande [`iterrows()`](https://pandas.pydata.org/pandas-docs/stable/reference/api/pandas.DataFrame.iterrows.html)). Ceci nous permet de créer une nouvelle ligne qui contient les dominique de chaque sexe pour une année donnée. "
   ]
  },
  {
   "cell_type": "code",
   "execution_count": null,
   "metadata": {},
   "outputs": [],
   "source": [
    "for annee in [str(x) for x in range(1900, 2020 + 1)]:\n",
    "    nombres = [0, 0]\n",
    "    for nom, ligne in prénom[(prénom.annais == annee) & (prénom.preusuel == \"DOMINIQUE\")].iterrows():\n",
    "        if ligne.sexe == 1:\n",
    "            nombres[0] = ligne.nombre\n",
    "        else:\n",
    "            nombres[1] = ligne.nombre\n",
    "        \n",
    "        nouvelle_ligne = pandas.DataFrame([nombres], index=[annee])\n",
    "    dominiques = pandas.concat([dominiques, nouvelle_ligne])\n"
   ]
  },
  {
   "cell_type": "code",
   "execution_count": null,
   "metadata": {},
   "outputs": [],
   "source": [
    "dominiques"
   ]
  },
  {
   "cell_type": "markdown",
   "metadata": {},
   "source": [
    "On voit que cette technique est bien longue."
   ]
  },
  {
   "cell_type": "markdown",
   "metadata": {},
   "source": [
    "### base de données\n",
    "\n",
    "La dernière façon de créer des données que l'on va monter est la plus rapide. Elle consiste à mimer des opération de merge que l'on peut faire en base de données."
   ]
  },
  {
   "cell_type": "markdown",
   "metadata": {},
   "source": [
    "On commence par extraire les dominiques garçons et les dominiques filles :"
   ]
  },
  {
   "cell_type": "code",
   "execution_count": null,
   "metadata": {},
   "outputs": [],
   "source": [
    "dominique_1 = (prénom[(prénom[\"preusuel\"] == \"DOMINIQUE\") & (prénom[\"sexe\"] == 1)]\n",
    "                   .drop([\"preusuel\", \"sexe\"], axis=1)\n",
    "                   .sort_values(by=['annais']))\n",
    "\n",
    "dominique_2 = (prénom[(prénom[\"preusuel\"] == \"DOMINIQUE\") & (prénom[\"sexe\"] == 2)]\n",
    "                   .drop([\"preusuel\", \"sexe\"], axis=1)\n",
    "                   .sort_values(by=['annais']))"
   ]
  },
  {
   "cell_type": "markdown",
   "metadata": {},
   "source": [
    "Puis on va les combiner en une table unique grace à [`merge`](https://pandas.pydata.org/pandas-docs/stable/reference/api/pandas.DataFrame.merge.html) :"
   ]
  },
  {
   "cell_type": "code",
   "execution_count": null,
   "metadata": {},
   "outputs": [],
   "source": [
    "dominiques = (pandas\n",
    "                 .merge(dominique_1, dominique_2, on=['annais'], how='outer')\n",
    "                 .fillna(0)\n",
    "                 .rename(columns={\"nombre_x\": \"♂\", \"nombre_y\": \"♀\"})\n",
    "            )"
   ]
  },
  {
   "cell_type": "code",
   "execution_count": null,
   "metadata": {},
   "outputs": [],
   "source": [
    "dominiques"
   ]
  },
  {
   "cell_type": "markdown",
   "metadata": {},
   "source": [
    "Les structures de données de pandas sont orientés pour l'utilisation efficace de merge, ce qui fait que tout est très rapide. \n",
    "\n",
    "Lisez https://pandas.pydata.org/pandas-docs/stable/user_guide/merging.html pour plein de trucs efficaces pour combiner vos données."
   ]
  },
  {
   "cell_type": "code",
   "execution_count": null,
   "metadata": {},
   "outputs": [],
   "source": []
  }
 ],
 "metadata": {
  "kernelspec": {
   "display_name": "Python 3",
   "language": "python",
   "name": "python3"
  },
  "language_info": {
   "codemirror_mode": {
    "name": "ipython",
    "version": 3
   },
   "file_extension": ".py",
   "mimetype": "text/x-python",
   "name": "python",
   "nbconvert_exporter": "python",
   "pygments_lexer": "ipython3",
   "version": "3.10.9 (main, Dec 15 2022, 17:11:09) [Clang 14.0.0 (clang-1400.0.29.202)]"
  },
  "vscode": {
   "interpreter": {
    "hash": "b0fa6594d8f4cbf19f97940f81e996739fb7646882a419484c72d19e05852a7e"
   }
  }
 },
 "nbformat": 4,
 "nbformat_minor": 4
}
