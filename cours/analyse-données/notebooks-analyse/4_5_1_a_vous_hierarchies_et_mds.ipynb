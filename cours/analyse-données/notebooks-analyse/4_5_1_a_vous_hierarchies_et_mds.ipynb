{
 "cells": [
  {
   "cell_type": "markdown",
   "metadata": {},
   "source": [
    "# Données de Henley\n",
    "\n",
    "Les données de Henley (1969) concernent une expérience de rappel\n",
    "libre. \n",
    "\n",
    "L'expérience était la suivante : on a demandé à des\n",
    "sujets d'écrire une liste de tous les animaux auxquels ils pouvaient penser en\n",
    "un temps limité. \n",
    "\n",
    "Le but de cette expérience est d'analyser le comportement de la mémoire. Deux\n",
    "animaux proches dans une liste montre qu'ils sont proches dans la mémoire des\n",
    "sujets  et inversement deux animaux éloignés dans une même liste montre\n",
    "qu'ils doivent être *rangés* séparément dans le cerveau du sujet et ils se\n",
    "retrouvent dans la même liste par association d'idées successives.\n",
    "\n",
    "\n",
    "N'ont été conservés dans la table que les animaux présents\n",
    "dans toutes les listes ou presque, la dissimilarité entre deux animaux donnés\n",
    "correspondant aux nombres moyens d'animaux entre eux (à la gestion des animaux\n",
    "absents de certaines listes près). On pourra se référer à Henley (1969)\n",
    "pour des renseignements plus précis concernant la création de cette\n",
    "dissimilarité."
   ]
  },
  {
   "cell_type": "markdown",
   "metadata": {},
   "source": [
    "**Remarque** : Si cela vous amuse, essayez de créer votre propre distance de Henley avec les autres étudiants. Ca dnne souvent des résultats rigolo et, au final, très interprétables. En utilisant les données du fichier, vous regardez l'intérieur du cerveaux d'étudiants américain des années 1970 et non dans celui d'élèves de 2020.\n"
   ]
  },
  {
   "cell_type": "markdown",
   "metadata": {},
   "source": [
    "## Lecture des données"
   ]
  },
  {
   "cell_type": "markdown",
   "metadata": {},
   "source": [
    "Le fichier `henley.mat` contient une matrice triangulaire inférieure contenant les données"
   ]
  },
  {
   "cell_type": "code",
   "execution_count": 1,
   "metadata": {},
   "outputs": [
    {
     "name": "stdout",
     "output_type": "stream",
     "text": [
      "Ours   0.0  \n",
      "Chat   47.2 0.0  \n",
      "Vache  27.7 30.9 0.0  \n",
      "Cerf   40.1 56.1 43.6 0.0  \n",
      "Chien  49.6 2.2  30.2 50.9 0.0  \n",
      "Chevre 19.1 29.0 11.0 44.5 17.0 0.0  \n",
      "Cheval 29.0 25.3 7.7  43.0 24.0 7.2  0.0  \n",
      "Lion   22.6 24.1 24.5 44.7 26.9 23.1 28.6 0.0  \n",
      "Souris 29.5 24.8 34.1 39.9 27.5 39.6 32.6 33.2 0.0  \n",
      "Cochon 21.4 43.0 17.0 41.1 45.0 19.5 25.7 29.3 34.9 0.0  \n",
      "Lapin  20.3 41.5 27.9 19.9 39.4 21.8 30.1 33.3 22.6 25.9 0.0  \n",
      "Mouton 16.1 47.0 8.2  53.1 46.8 1.8  15.2 35.0 51.9 19.6 32.5 0.0\n"
     ]
    }
   ],
   "source": [
    "print(open('henley.mat').read())"
   ]
  },
  {
   "cell_type": "markdown",
   "metadata": {},
   "source": [
    "Le code suivant crée une matrice carrée `d` de distance et les noms des animaux dans la liste `elements`"
   ]
  },
  {
   "cell_type": "code",
   "execution_count": 2,
   "metadata": {},
   "outputs": [],
   "source": [
    "# crée \n",
    "elements = []\n",
    "d = []\n",
    "for line in open('henley.mat'):\n",
    "    token = line.split()\n",
    "    elements.append(token[0])\n",
    "    d.append([])\n",
    "    for x in token[1:]:\n",
    "        d[-1].append(float(x))\n",
    "    \n",
    "    for i, d_line in enumerate(d[:-1]):\n",
    "        d_line.append(d[-1][i])"
   ]
  },
  {
   "cell_type": "code",
   "execution_count": 3,
   "metadata": {},
   "outputs": [
    {
     "data": {
      "text/plain": [
       "['Ours',\n",
       " 'Chat',\n",
       " 'Vache',\n",
       " 'Cerf',\n",
       " 'Chien',\n",
       " 'Chevre',\n",
       " 'Cheval',\n",
       " 'Lion',\n",
       " 'Souris',\n",
       " 'Cochon',\n",
       " 'Lapin',\n",
       " 'Mouton']"
      ]
     },
     "execution_count": 3,
     "metadata": {},
     "output_type": "execute_result"
    }
   ],
   "source": [
    "elements"
   ]
  },
  {
   "cell_type": "code",
   "execution_count": 4,
   "metadata": {},
   "outputs": [
    {
     "data": {
      "text/plain": [
       "[[0.0, 47.2, 27.7, 40.1, 49.6, 19.1, 29.0, 22.6, 29.5, 21.4, 20.3, 16.1],\n",
       " [47.2, 0.0, 30.9, 56.1, 2.2, 29.0, 25.3, 24.1, 24.8, 43.0, 41.5, 47.0],\n",
       " [27.7, 30.9, 0.0, 43.6, 30.2, 11.0, 7.7, 24.5, 34.1, 17.0, 27.9, 8.2],\n",
       " [40.1, 56.1, 43.6, 0.0, 50.9, 44.5, 43.0, 44.7, 39.9, 41.1, 19.9, 53.1],\n",
       " [49.6, 2.2, 30.2, 50.9, 0.0, 17.0, 24.0, 26.9, 27.5, 45.0, 39.4, 46.8],\n",
       " [19.1, 29.0, 11.0, 44.5, 17.0, 0.0, 7.2, 23.1, 39.6, 19.5, 21.8, 1.8],\n",
       " [29.0, 25.3, 7.7, 43.0, 24.0, 7.2, 0.0, 28.6, 32.6, 25.7, 30.1, 15.2],\n",
       " [22.6, 24.1, 24.5, 44.7, 26.9, 23.1, 28.6, 0.0, 33.2, 29.3, 33.3, 35.0],\n",
       " [29.5, 24.8, 34.1, 39.9, 27.5, 39.6, 32.6, 33.2, 0.0, 34.9, 22.6, 51.9],\n",
       " [21.4, 43.0, 17.0, 41.1, 45.0, 19.5, 25.7, 29.3, 34.9, 0.0, 25.9, 19.6],\n",
       " [20.3, 41.5, 27.9, 19.9, 39.4, 21.8, 30.1, 33.3, 22.6, 25.9, 0.0, 32.5],\n",
       " [16.1, 47.0, 8.2, 53.1, 46.8, 1.8, 15.2, 35.0, 51.9, 19.6, 32.5, 0.0]]"
      ]
     },
     "execution_count": 4,
     "metadata": {},
     "output_type": "execute_result"
    }
   ],
   "source": [
    "d"
   ]
  },
  {
   "attachments": {},
   "cell_type": "markdown",
   "metadata": {},
   "source": [
    "## Hiérarchie"
   ]
  },
  {
   "cell_type": "markdown",
   "metadata": {},
   "source": [
    "Nos données sont déjà décrite par une distance, il faut faire un peu attention dans l'utilisation de l'algortihme [AgglomerativeClustering](https://scikit-learn.org/stable/modules/generated/sklearn.cluster.AgglomerativeClustering.html) :\n",
    "\n",
    "- il faut dire à sklearn que nos données sont une distance (par défaut nos données sont considérées come étant des dataframes). Ceci se fait avec l'attribut `affinity`\n",
    "- il faut présiser la méthdoe d'agrégation. On ne peut utiilser `ward`, qui est la méthode par défaut car ne s'applique qu'à des dataframe. On a 3 méthodes possible : `average`, `single` et `complete`.\n"
   ]
  },
  {
   "cell_type": "markdown",
   "metadata": {},
   "source": [
    "Faite la hiérarchie utilisant le lien moyen (`average`)."
   ]
  },
  {
   "cell_type": "markdown",
   "metadata": {},
   "source": [
    "Vous pourrez essayer de représenter le nom des animaux sur le graphique. En reprenant le code du cours pour le dessin, vous pourrez l'adapter, par exemple comme si-dessous, pour représenter le nom des animaux :"
   ]
  },
  {
   "cell_type": "markdown",
   "metadata": {},
   "source": [
    "```\n",
    "for i, row in node_position.iterrows():\n",
    "    if i < len(elements):\n",
    "        label = elements[i]\n",
    "    else:\n",
    "        label = str(i)\n",
    "    ax.text(row['x'], row['y'], label)\n",
    "```"
   ]
  },
  {
   "cell_type": "markdown",
   "metadata": {},
   "source": [
    "## MDS classique\n",
    "\n",
    "Faite une représentation en 2d des animaux en utilisant le MDS classique"
   ]
  },
  {
   "cell_type": "markdown",
   "metadata": {},
   "source": [
    "Vous pourrez essayer de représenter le nom des animaux sur le graphique.\n",
    "\n",
    "Si `data` est la dataframe contenant les nouvelles positions (cf cours) vous pourrez ainsi utiliser le code suivant pour représenter le nom des animaux :"
   ]
  },
  {
   "cell_type": "markdown",
   "metadata": {},
   "source": [
    "```\n",
    "for i, row in data.iterrows():\n",
    "    label = elements[i]\n",
    "    ax.text(row['0'], row['1'], label)\n",
    "```"
   ]
  },
  {
   "cell_type": "markdown",
   "metadata": {},
   "source": [
    "## Isomap\n",
    "\n",
    "Que donne les méthodes isomap ? Essayez plusieurs plus proches voisins (de 1 à 3 par exemple)."
   ]
  },
  {
   "cell_type": "code",
   "execution_count": null,
   "metadata": {},
   "outputs": [],
   "source": []
  }
 ],
 "metadata": {
  "kernelspec": {
   "display_name": "Python 3",
   "language": "python",
   "name": "python3"
  },
  "language_info": {
   "codemirror_mode": {
    "name": "ipython",
    "version": 3
   },
   "file_extension": ".py",
   "mimetype": "text/x-python",
   "name": "python",
   "nbconvert_exporter": "python",
   "pygments_lexer": "ipython3",
   "version": "3.13.2"
  },
  "vscode": {
   "interpreter": {
    "hash": "aee8b7b246df8f9039afb4144a1f6fd8d2ca17a180786b69acc140d282b71a49"
   }
  }
 },
 "nbformat": 4,
 "nbformat_minor": 2
}
