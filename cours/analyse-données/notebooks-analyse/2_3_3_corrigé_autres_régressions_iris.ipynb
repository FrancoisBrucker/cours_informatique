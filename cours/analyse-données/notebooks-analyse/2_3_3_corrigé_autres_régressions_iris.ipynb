{
 "cells": [
  {
   "cell_type": "markdown",
   "metadata": {},
   "source": [
    "# Iris de fisher\n",
    "\n",
    "https://fr.wikipedia.org/wiki/Iris_de_Fisher"
   ]
  },
  {
   "cell_type": "markdown",
   "metadata": {},
   "source": [
    "## chargement des données\n",
    "\n",
    "https://seaborn.pydata.org/generated/seaborn.load_dataset.html"
   ]
  },
  {
   "cell_type": "markdown",
   "metadata": {},
   "source": [
    "On charge les données da,s ine variable nommée iris.\n",
    "\n",
    "> **NB:** dans un notebook la dernière ligne est par défaut affichée à l'écran (si ce n'est pas une affectation). On prend donc l'habitude, aprèsune affectation de remettre le nom de l'objet affecté."
   ]
  },
  {
   "cell_type": "code",
   "execution_count": 2,
   "metadata": {},
   "outputs": [],
   "source": [
    "import seaborn as sns"
   ]
  },
  {
   "cell_type": "code",
   "execution_count": 3,
   "metadata": {},
   "outputs": [
    {
     "data": {
      "text/html": [
       "<div>\n",
       "<style scoped>\n",
       "    .dataframe tbody tr th:only-of-type {\n",
       "        vertical-align: middle;\n",
       "    }\n",
       "\n",
       "    .dataframe tbody tr th {\n",
       "        vertical-align: top;\n",
       "    }\n",
       "\n",
       "    .dataframe thead th {\n",
       "        text-align: right;\n",
       "    }\n",
       "</style>\n",
       "<table border=\"1\" class=\"dataframe\">\n",
       "  <thead>\n",
       "    <tr style=\"text-align: right;\">\n",
       "      <th></th>\n",
       "      <th>sepal_length</th>\n",
       "      <th>sepal_width</th>\n",
       "      <th>petal_length</th>\n",
       "      <th>petal_width</th>\n",
       "      <th>species</th>\n",
       "    </tr>\n",
       "  </thead>\n",
       "  <tbody>\n",
       "    <tr>\n",
       "      <th>0</th>\n",
       "      <td>5.1</td>\n",
       "      <td>3.5</td>\n",
       "      <td>1.4</td>\n",
       "      <td>0.2</td>\n",
       "      <td>setosa</td>\n",
       "    </tr>\n",
       "    <tr>\n",
       "      <th>1</th>\n",
       "      <td>4.9</td>\n",
       "      <td>3.0</td>\n",
       "      <td>1.4</td>\n",
       "      <td>0.2</td>\n",
       "      <td>setosa</td>\n",
       "    </tr>\n",
       "    <tr>\n",
       "      <th>2</th>\n",
       "      <td>4.7</td>\n",
       "      <td>3.2</td>\n",
       "      <td>1.3</td>\n",
       "      <td>0.2</td>\n",
       "      <td>setosa</td>\n",
       "    </tr>\n",
       "    <tr>\n",
       "      <th>3</th>\n",
       "      <td>4.6</td>\n",
       "      <td>3.1</td>\n",
       "      <td>1.5</td>\n",
       "      <td>0.2</td>\n",
       "      <td>setosa</td>\n",
       "    </tr>\n",
       "    <tr>\n",
       "      <th>4</th>\n",
       "      <td>5.0</td>\n",
       "      <td>3.6</td>\n",
       "      <td>1.4</td>\n",
       "      <td>0.2</td>\n",
       "      <td>setosa</td>\n",
       "    </tr>\n",
       "    <tr>\n",
       "      <th>...</th>\n",
       "      <td>...</td>\n",
       "      <td>...</td>\n",
       "      <td>...</td>\n",
       "      <td>...</td>\n",
       "      <td>...</td>\n",
       "    </tr>\n",
       "    <tr>\n",
       "      <th>145</th>\n",
       "      <td>6.7</td>\n",
       "      <td>3.0</td>\n",
       "      <td>5.2</td>\n",
       "      <td>2.3</td>\n",
       "      <td>virginica</td>\n",
       "    </tr>\n",
       "    <tr>\n",
       "      <th>146</th>\n",
       "      <td>6.3</td>\n",
       "      <td>2.5</td>\n",
       "      <td>5.0</td>\n",
       "      <td>1.9</td>\n",
       "      <td>virginica</td>\n",
       "    </tr>\n",
       "    <tr>\n",
       "      <th>147</th>\n",
       "      <td>6.5</td>\n",
       "      <td>3.0</td>\n",
       "      <td>5.2</td>\n",
       "      <td>2.0</td>\n",
       "      <td>virginica</td>\n",
       "    </tr>\n",
       "    <tr>\n",
       "      <th>148</th>\n",
       "      <td>6.2</td>\n",
       "      <td>3.4</td>\n",
       "      <td>5.4</td>\n",
       "      <td>2.3</td>\n",
       "      <td>virginica</td>\n",
       "    </tr>\n",
       "    <tr>\n",
       "      <th>149</th>\n",
       "      <td>5.9</td>\n",
       "      <td>3.0</td>\n",
       "      <td>5.1</td>\n",
       "      <td>1.8</td>\n",
       "      <td>virginica</td>\n",
       "    </tr>\n",
       "  </tbody>\n",
       "</table>\n",
       "<p>150 rows × 5 columns</p>\n",
       "</div>"
      ],
      "text/plain": [
       "     sepal_length  sepal_width  petal_length  petal_width    species\n",
       "0             5.1          3.5           1.4          0.2     setosa\n",
       "1             4.9          3.0           1.4          0.2     setosa\n",
       "2             4.7          3.2           1.3          0.2     setosa\n",
       "3             4.6          3.1           1.5          0.2     setosa\n",
       "4             5.0          3.6           1.4          0.2     setosa\n",
       "..            ...          ...           ...          ...        ...\n",
       "145           6.7          3.0           5.2          2.3  virginica\n",
       "146           6.3          2.5           5.0          1.9  virginica\n",
       "147           6.5          3.0           5.2          2.0  virginica\n",
       "148           6.2          3.4           5.4          2.3  virginica\n",
       "149           5.9          3.0           5.1          1.8  virginica\n",
       "\n",
       "[150 rows x 5 columns]"
      ]
     },
     "execution_count": 3,
     "metadata": {},
     "output_type": "execute_result"
    }
   ],
   "source": [
    "iris = sns.load_dataset('iris')\n",
    "iris"
   ]
  },
  {
   "cell_type": "code",
   "execution_count": null,
   "metadata": {},
   "outputs": [],
   "source": [
    "iris.dtypes"
   ]
  },
  {
   "cell_type": "markdown",
   "metadata": {},
   "source": [
    "5 colonnes, donc 4 réelles"
   ]
  },
  {
   "cell_type": "code",
   "execution_count": null,
   "metadata": {},
   "outputs": [],
   "source": [
    "iris.shape"
   ]
  },
  {
   "cell_type": "markdown",
   "metadata": {},
   "source": [
    "150 lignes et 5 colonnes"
   ]
  },
  {
   "cell_type": "markdown",
   "metadata": {},
   "source": [
    "C'est comparable aux données cvs de https://github.com/mwaskom/seaborn-data/blob/master/iris.csv"
   ]
  },
  {
   "cell_type": "markdown",
   "metadata": {},
   "source": [
    "## Statistiques descriptives"
   ]
  },
  {
   "cell_type": "markdown",
   "metadata": {},
   "source": [
    "### Statistiques globales"
   ]
  },
  {
   "cell_type": "code",
   "execution_count": null,
   "metadata": {},
   "outputs": [],
   "source": [
    "iris.describe()"
   ]
  },
  {
   "cell_type": "markdown",
   "metadata": {},
   "source": [
    "Seuls les descriptionsdes caractères numériques sont représentées (donc pas 'species' ici)"
   ]
  },
  {
   "cell_type": "markdown",
   "metadata": {},
   "source": [
    "Pour séparer les espèces, on utilise https://wiki.centrale-marseille.fr/informatique/public:appro-s7:td6"
   ]
  },
  {
   "cell_type": "markdown",
   "metadata": {},
   "source": [
    "Pour les 'setosa' :"
   ]
  },
  {
   "cell_type": "code",
   "execution_count": null,
   "metadata": {},
   "outputs": [],
   "source": [
    "iris[iris['species'] == 'setosa'].describe()"
   ]
  },
  {
   "cell_type": "markdown",
   "metadata": {},
   "source": [
    "En plus funky, sans connaissances a priori sur les données.  On commence par trouver toutes les valeurs différentes de la colonne species :"
   ]
  },
  {
   "cell_type": "code",
   "execution_count": null,
   "metadata": {},
   "outputs": [],
   "source": [
    "iris['species'].unique()"
   ]
  },
  {
   "cell_type": "markdown",
   "metadata": {},
   "source": [
    "On peut ensuite faire une boucle :"
   ]
  },
  {
   "cell_type": "code",
   "execution_count": null,
   "metadata": {},
   "outputs": [],
   "source": [
    "for name in iris['species'].unique():\n",
    "    print(\"species:\", name)\n",
    "    display(iris[iris['species'] == name].describe())"
   ]
  },
  {
   "cell_type": "markdown",
   "metadata": {},
   "source": [
    "### représentation graphique\n",
    "\n",
    "On va représenter un boxplot (https://fr.wikipedia.org/wiki/Bo%C3%AEte_%C3%A0_moustaches) de nos données.\n",
    "\n",
    "Pour représenter graphiquement les choses, on utilise matplotlib. On va toujours procéder de la même manière : \n",
    "\n",
    "1. créer le graphique avec matplotlib\n",
    "2. ajouter des choses au dessin\n",
    "3. représenter la figure"
   ]
  },
  {
   "cell_type": "code",
   "execution_count": null,
   "metadata": {},
   "outputs": [],
   "source": [
    "import matplotlib.pyplot as plt"
   ]
  },
  {
   "cell_type": "code",
   "execution_count": null,
   "metadata": {},
   "outputs": [],
   "source": [
    "# 1. créer le dessin (ici ax)\n",
    "fig, ax = plt.subplots(figsize=(7, 7)) \n",
    "\n",
    "#  2. ajouter des choses au dessin\n",
    "sns.boxplot(data=iris,   \n",
    "            ax=ax)\n",
    "\n",
    "# 3. représenter le graphique\n",
    "plt.show() "
   ]
  },
  {
   "cell_type": "markdown",
   "metadata": {},
   "source": [
    "boxblot par espèces, pour un caractère."
   ]
  },
  {
   "cell_type": "code",
   "execution_count": null,
   "metadata": {},
   "outputs": [],
   "source": [
    "fig, ax = plt.subplots(figsize=(7, 7)) \n",
    "\n",
    "sns.boxplot(x='species',\n",
    "            y= 'petal_length',\n",
    "            data=iris,              \n",
    "            ax=ax)\n",
    "\n",
    "plt.show() "
   ]
  },
  {
   "cell_type": "markdown",
   "metadata": {},
   "source": [
    "On utilise les subplot de matplotlib pour faire autant de graphiques que de colonnes. On crée ci-dessous 2 lignes de 2 graphiques horizontaux (les 2 premiers paramètres), on représente ensuite chaque boxplot dans son dessin."
   ]
  },
  {
   "cell_type": "code",
   "execution_count": null,
   "metadata": {},
   "outputs": [],
   "source": [
    "fig, ax = plt.subplots(2, 2, figsize=(20, 20)) \n",
    "\n",
    "sns.boxplot(x='species',\n",
    "            y= 'petal_length',\n",
    "            data=iris,              \n",
    "            ax=ax[0,0])\n",
    "\n",
    "sns.boxplot(x='species',\n",
    "            y= 'sepal_length',\n",
    "            data=iris,              \n",
    "            ax=ax[1,0])\n",
    "\n",
    "sns.boxplot(x='species',\n",
    "            y= 'petal_width',\n",
    "            data=iris,              \n",
    "            ax=ax[0,1])\n",
    "\n",
    "sns.boxplot(x='species',\n",
    "            y= 'sepal_width',\n",
    "            data=iris,              \n",
    "            ax=ax[1,1])\n",
    "\n",
    "\n",
    "plt.show() "
   ]
  },
  {
   "cell_type": "markdown",
   "metadata": {},
   "source": [
    "Les caractères deux à deux, avec une séparation par espèce. Voir https://seaborn.pydata.org/generated/seaborn.pairplot.html?highlight=pairplot#seaborn-pairplot pour la documentation. La méthode pairplot ne possède pas de paramètre *ax*. Il crée lui-même la figure. Si on veut ajouter des éléments à la figure, il faut récuperer le dessin créé par pairplot."
   ]
  },
  {
   "cell_type": "code",
   "execution_count": null,
   "metadata": {},
   "outputs": [],
   "source": [
    "sns.pairplot(iris, hue=\"species\", markers=[\"o\", \"s\", \"D\"])\n",
    "plt.show()"
   ]
  },
  {
   "cell_type": "markdown",
   "metadata": {},
   "source": [
    "## corrélations"
   ]
  },
  {
   "cell_type": "markdown",
   "metadata": {},
   "source": [
    "### globale"
   ]
  },
  {
   "cell_type": "markdown",
   "metadata": {},
   "source": [
    "Les setosa ont l'air d'être les *\"petites\"* iris. En regardant les courbes, on a l'impresion que la largeur du petale est corrélée positivement à la longueur du petal et la longuer du sépale. En revanche ce n'est pas le cas de la largeur du sépale (grande et petite largeur de sépalle pour une largeur de petal donné."
   ]
  },
  {
   "cell_type": "code",
   "execution_count": null,
   "metadata": {},
   "outputs": [],
   "source": [
    "iris.corr()"
   ]
  },
  {
   "cell_type": "markdown",
   "metadata": {},
   "source": [
    "En regardant la ligne (ou colonne, la matrice est symétrique) dédiée à la largeur du pétale on voit bien que la longueur du petale et la longueur du sépale sont corrélés très positivement (0.82 et 0.96 respectivement) alors que la largeur du sépale est proche de 0 (-.37)."
   ]
  },
  {
   "cell_type": "markdown",
   "metadata": {},
   "source": [
    "Les caractères les moins corrélées linéairements sont longueur du sépale et largeur du sépale (-.12). Vérifions le graphiquement. En traçant la régression entre ces deux caractères. On utilise la méthdoe https://seaborn.pydata.org/generated/seaborn.regplot.html?highlight=regplot#seaborn.regplot de seaborn"
   ]
  },
  {
   "cell_type": "code",
   "execution_count": null,
   "metadata": {},
   "outputs": [],
   "source": [
    "fig, ax = plt.subplots(figsize=(20, 20))\n",
    "sns.regplot(x=iris['sepal_length'],\n",
    "            y=iris['sepal_width'],\n",
    "            ci=False,\n",
    "            ax=ax\n",
    "          )\n",
    "plt.show()"
   ]
  },
  {
   "cell_type": "markdown",
   "metadata": {},
   "source": [
    "On calcule la droite de régression avec statmodels. \n",
    "\n",
    "**tuto :** https://statsmaths.github.io/stat289-f18/solutions/tutorial15-statsmodels.html\n",
    "\n",
    "On va essayer d'expliquer la largeur du sépale par la longueur du sépale : $largeur = a * longueur + b$. Par défaut, statsmodels ne calcule pas le paramètre *b*, il cherche une régression passant par 0 : $largeur = a * longueur$\n",
    "\n",
    "Il faut donc lui demander de rajouter cette constante avec la méthode *statsmodels.api.add_constant*. \n",
    "\n",
    "Statsmodels fonctionne en 2 temps : \n",
    "1. on choisit le modèle de régression, ici : $largeur = a * longueur + b$\n",
    "2. on calcule la régression (avec la méthode *fit*)"
   ]
  },
  {
   "cell_type": "code",
   "execution_count": null,
   "metadata": {},
   "outputs": [],
   "source": [
    "import statsmodels.api\n",
    "\n",
    "model = statsmodels.api.OLS(iris['sepal_width'], statsmodels.api.add_constant(iris['sepal_length']))\n",
    "regression = model.fit()\n",
    "print(regression.summary())"
   ]
  },
  {
   "cell_type": "markdown",
   "metadata": {},
   "source": [
    "Le coafficient de corrélation $R^2$ (valeur *R-squared*) vaut 0.014 (donc $|R|$ vaut bien 0.12), la constantante $b$ vaut 3.41 (*const*)  et le coefficient directeur $a$ -0.061 (*sapal_length*)."
   ]
  },
  {
   "cell_type": "markdown",
   "metadata": {},
   "source": [
    "Utilisons *sns.pairplot* pour tracer toutes les droites de corrélations en même temps.\n",
    "\n",
    "**ATTENTION** : veririfer toujours la corrélation avant de tracer les droites de régression. Une droite de régression avec un petti coefficient de corrélation n'est pas pertinente."
   ]
  },
  {
   "cell_type": "code",
   "execution_count": null,
   "metadata": {},
   "outputs": [],
   "source": [
    "sns.pairplot(iris, kind=\"reg\")\n",
    "plt.show()"
   ]
  },
  {
   "cell_type": "markdown",
   "metadata": {},
   "source": [
    "Pour faire des dessins multiples avec seaborn, vous pouver lire le tuto suivant : https://seaborn.pydata.org/tutorial/axis_grids.html#building-structured-multi-plot-grids"
   ]
  },
  {
   "cell_type": "markdown",
   "metadata": {},
   "source": [
    "### Par classes"
   ]
  },
  {
   "cell_type": "code",
   "execution_count": null,
   "metadata": {},
   "outputs": [],
   "source": [
    "iris.groupby('species').corr()"
   ]
  },
  {
   "cell_type": "markdown",
   "metadata": {},
   "source": [
    "sous la forme d'une *heatmap* :"
   ]
  },
  {
   "cell_type": "code",
   "execution_count": null,
   "metadata": {},
   "outputs": [],
   "source": [
    "fig, ax = plt.subplots(figsize=(10, 10))\n",
    "sns.heatmap(iris.groupby('species').corr(), annot=True)\n",
    "plt.show()"
   ]
  },
  {
   "cell_type": "markdown",
   "metadata": {},
   "source": [
    "Intra espèce, largeur et longuer de sépale sont bien plus corrélés."
   ]
  },
  {
   "cell_type": "code",
   "execution_count": null,
   "metadata": {},
   "outputs": [],
   "source": [
    "sns.pairplot(iris, hue=\"species\", kind=\"reg\")\n",
    "plt.show()"
   ]
  },
  {
   "cell_type": "markdown",
   "metadata": {},
   "source": [
    "## Régression logisitique"
   ]
  },
  {
   "cell_type": "markdown",
   "metadata": {},
   "source": [
    "Les *virginica* ont l'air d'être les grandes iris. Faisons une régression logistique pour voir à partir de quand décider si une espèce est *virginica* ou pas."
   ]
  },
  {
   "cell_type": "markdown",
   "metadata": {},
   "source": [
    "### pour un caractère"
   ]
  },
  {
   "cell_type": "markdown",
   "metadata": {},
   "source": [
    "On commence par créer une colonne qui faut 1 si l'iris est sétosa, et 0 sinon. La fonction ajoute prend un DataFrame en paramètre et rend une liste qui sera notre nouvelle colonne. \n",
    "\n",
    "Cette fonction est ensuite passée en paramètre de la méthode *assign* qui créera la nouvelle colonne (nommée 'est_virginica')"
   ]
  },
  {
   "cell_type": "code",
   "execution_count": 6,
   "metadata": {},
   "outputs": [
    {
     "data": {
      "text/html": [
       "<div>\n",
       "<style scoped>\n",
       "    .dataframe tbody tr th:only-of-type {\n",
       "        vertical-align: middle;\n",
       "    }\n",
       "\n",
       "    .dataframe tbody tr th {\n",
       "        vertical-align: top;\n",
       "    }\n",
       "\n",
       "    .dataframe thead th {\n",
       "        text-align: right;\n",
       "    }\n",
       "</style>\n",
       "<table border=\"1\" class=\"dataframe\">\n",
       "  <thead>\n",
       "    <tr style=\"text-align: right;\">\n",
       "      <th></th>\n",
       "      <th>sepal_length</th>\n",
       "      <th>sepal_width</th>\n",
       "      <th>petal_length</th>\n",
       "      <th>petal_width</th>\n",
       "      <th>species</th>\n",
       "      <th>est_virginica</th>\n",
       "    </tr>\n",
       "  </thead>\n",
       "  <tbody>\n",
       "    <tr>\n",
       "      <th>0</th>\n",
       "      <td>5.1</td>\n",
       "      <td>3.5</td>\n",
       "      <td>1.4</td>\n",
       "      <td>0.2</td>\n",
       "      <td>setosa</td>\n",
       "      <td>0</td>\n",
       "    </tr>\n",
       "    <tr>\n",
       "      <th>1</th>\n",
       "      <td>4.9</td>\n",
       "      <td>3.0</td>\n",
       "      <td>1.4</td>\n",
       "      <td>0.2</td>\n",
       "      <td>setosa</td>\n",
       "      <td>0</td>\n",
       "    </tr>\n",
       "    <tr>\n",
       "      <th>2</th>\n",
       "      <td>4.7</td>\n",
       "      <td>3.2</td>\n",
       "      <td>1.3</td>\n",
       "      <td>0.2</td>\n",
       "      <td>setosa</td>\n",
       "      <td>0</td>\n",
       "    </tr>\n",
       "    <tr>\n",
       "      <th>3</th>\n",
       "      <td>4.6</td>\n",
       "      <td>3.1</td>\n",
       "      <td>1.5</td>\n",
       "      <td>0.2</td>\n",
       "      <td>setosa</td>\n",
       "      <td>0</td>\n",
       "    </tr>\n",
       "    <tr>\n",
       "      <th>4</th>\n",
       "      <td>5.0</td>\n",
       "      <td>3.6</td>\n",
       "      <td>1.4</td>\n",
       "      <td>0.2</td>\n",
       "      <td>setosa</td>\n",
       "      <td>0</td>\n",
       "    </tr>\n",
       "    <tr>\n",
       "      <th>...</th>\n",
       "      <td>...</td>\n",
       "      <td>...</td>\n",
       "      <td>...</td>\n",
       "      <td>...</td>\n",
       "      <td>...</td>\n",
       "      <td>...</td>\n",
       "    </tr>\n",
       "    <tr>\n",
       "      <th>145</th>\n",
       "      <td>6.7</td>\n",
       "      <td>3.0</td>\n",
       "      <td>5.2</td>\n",
       "      <td>2.3</td>\n",
       "      <td>virginica</td>\n",
       "      <td>1</td>\n",
       "    </tr>\n",
       "    <tr>\n",
       "      <th>146</th>\n",
       "      <td>6.3</td>\n",
       "      <td>2.5</td>\n",
       "      <td>5.0</td>\n",
       "      <td>1.9</td>\n",
       "      <td>virginica</td>\n",
       "      <td>1</td>\n",
       "    </tr>\n",
       "    <tr>\n",
       "      <th>147</th>\n",
       "      <td>6.5</td>\n",
       "      <td>3.0</td>\n",
       "      <td>5.2</td>\n",
       "      <td>2.0</td>\n",
       "      <td>virginica</td>\n",
       "      <td>1</td>\n",
       "    </tr>\n",
       "    <tr>\n",
       "      <th>148</th>\n",
       "      <td>6.2</td>\n",
       "      <td>3.4</td>\n",
       "      <td>5.4</td>\n",
       "      <td>2.3</td>\n",
       "      <td>virginica</td>\n",
       "      <td>1</td>\n",
       "    </tr>\n",
       "    <tr>\n",
       "      <th>149</th>\n",
       "      <td>5.9</td>\n",
       "      <td>3.0</td>\n",
       "      <td>5.1</td>\n",
       "      <td>1.8</td>\n",
       "      <td>virginica</td>\n",
       "      <td>1</td>\n",
       "    </tr>\n",
       "  </tbody>\n",
       "</table>\n",
       "<p>150 rows × 6 columns</p>\n",
       "</div>"
      ],
      "text/plain": [
       "     sepal_length  sepal_width  petal_length  petal_width    species  \\\n",
       "0             5.1          3.5           1.4          0.2     setosa   \n",
       "1             4.9          3.0           1.4          0.2     setosa   \n",
       "2             4.7          3.2           1.3          0.2     setosa   \n",
       "3             4.6          3.1           1.5          0.2     setosa   \n",
       "4             5.0          3.6           1.4          0.2     setosa   \n",
       "..            ...          ...           ...          ...        ...   \n",
       "145           6.7          3.0           5.2          2.3  virginica   \n",
       "146           6.3          2.5           5.0          1.9  virginica   \n",
       "147           6.5          3.0           5.2          2.0  virginica   \n",
       "148           6.2          3.4           5.4          2.3  virginica   \n",
       "149           5.9          3.0           5.1          1.8  virginica   \n",
       "\n",
       "     est_virginica  \n",
       "0                0  \n",
       "1                0  \n",
       "2                0  \n",
       "3                0  \n",
       "4                0  \n",
       "..             ...  \n",
       "145              1  \n",
       "146              1  \n",
       "147              1  \n",
       "148              1  \n",
       "149              1  \n",
       "\n",
       "[150 rows x 6 columns]"
      ]
     },
     "execution_count": 6,
     "metadata": {},
     "output_type": "execute_result"
    }
   ],
   "source": [
    "import numpy as np\n",
    "\n",
    "iris_logistique = iris.assign(est_virginica=np.where(iris['species'] == 'virginica', 1, 0))\n",
    "\n",
    "iris_logistique"
   ]
  },
  {
   "cell_type": "markdown",
   "metadata": {},
   "source": [
    "On peut maintenant supprimer la colonne species de notre dataframe"
   ]
  },
  {
   "cell_type": "code",
   "execution_count": 7,
   "metadata": {},
   "outputs": [
    {
     "data": {
      "text/html": [
       "<div>\n",
       "<style scoped>\n",
       "    .dataframe tbody tr th:only-of-type {\n",
       "        vertical-align: middle;\n",
       "    }\n",
       "\n",
       "    .dataframe tbody tr th {\n",
       "        vertical-align: top;\n",
       "    }\n",
       "\n",
       "    .dataframe thead th {\n",
       "        text-align: right;\n",
       "    }\n",
       "</style>\n",
       "<table border=\"1\" class=\"dataframe\">\n",
       "  <thead>\n",
       "    <tr style=\"text-align: right;\">\n",
       "      <th></th>\n",
       "      <th>sepal_length</th>\n",
       "      <th>sepal_width</th>\n",
       "      <th>petal_length</th>\n",
       "      <th>petal_width</th>\n",
       "      <th>est_virginica</th>\n",
       "    </tr>\n",
       "  </thead>\n",
       "  <tbody>\n",
       "    <tr>\n",
       "      <th>0</th>\n",
       "      <td>5.1</td>\n",
       "      <td>3.5</td>\n",
       "      <td>1.4</td>\n",
       "      <td>0.2</td>\n",
       "      <td>0</td>\n",
       "    </tr>\n",
       "    <tr>\n",
       "      <th>1</th>\n",
       "      <td>4.9</td>\n",
       "      <td>3.0</td>\n",
       "      <td>1.4</td>\n",
       "      <td>0.2</td>\n",
       "      <td>0</td>\n",
       "    </tr>\n",
       "    <tr>\n",
       "      <th>2</th>\n",
       "      <td>4.7</td>\n",
       "      <td>3.2</td>\n",
       "      <td>1.3</td>\n",
       "      <td>0.2</td>\n",
       "      <td>0</td>\n",
       "    </tr>\n",
       "    <tr>\n",
       "      <th>3</th>\n",
       "      <td>4.6</td>\n",
       "      <td>3.1</td>\n",
       "      <td>1.5</td>\n",
       "      <td>0.2</td>\n",
       "      <td>0</td>\n",
       "    </tr>\n",
       "    <tr>\n",
       "      <th>4</th>\n",
       "      <td>5.0</td>\n",
       "      <td>3.6</td>\n",
       "      <td>1.4</td>\n",
       "      <td>0.2</td>\n",
       "      <td>0</td>\n",
       "    </tr>\n",
       "    <tr>\n",
       "      <th>...</th>\n",
       "      <td>...</td>\n",
       "      <td>...</td>\n",
       "      <td>...</td>\n",
       "      <td>...</td>\n",
       "      <td>...</td>\n",
       "    </tr>\n",
       "    <tr>\n",
       "      <th>145</th>\n",
       "      <td>6.7</td>\n",
       "      <td>3.0</td>\n",
       "      <td>5.2</td>\n",
       "      <td>2.3</td>\n",
       "      <td>1</td>\n",
       "    </tr>\n",
       "    <tr>\n",
       "      <th>146</th>\n",
       "      <td>6.3</td>\n",
       "      <td>2.5</td>\n",
       "      <td>5.0</td>\n",
       "      <td>1.9</td>\n",
       "      <td>1</td>\n",
       "    </tr>\n",
       "    <tr>\n",
       "      <th>147</th>\n",
       "      <td>6.5</td>\n",
       "      <td>3.0</td>\n",
       "      <td>5.2</td>\n",
       "      <td>2.0</td>\n",
       "      <td>1</td>\n",
       "    </tr>\n",
       "    <tr>\n",
       "      <th>148</th>\n",
       "      <td>6.2</td>\n",
       "      <td>3.4</td>\n",
       "      <td>5.4</td>\n",
       "      <td>2.3</td>\n",
       "      <td>1</td>\n",
       "    </tr>\n",
       "    <tr>\n",
       "      <th>149</th>\n",
       "      <td>5.9</td>\n",
       "      <td>3.0</td>\n",
       "      <td>5.1</td>\n",
       "      <td>1.8</td>\n",
       "      <td>1</td>\n",
       "    </tr>\n",
       "  </tbody>\n",
       "</table>\n",
       "<p>150 rows × 5 columns</p>\n",
       "</div>"
      ],
      "text/plain": [
       "     sepal_length  sepal_width  petal_length  petal_width  est_virginica\n",
       "0             5.1          3.5           1.4          0.2              0\n",
       "1             4.9          3.0           1.4          0.2              0\n",
       "2             4.7          3.2           1.3          0.2              0\n",
       "3             4.6          3.1           1.5          0.2              0\n",
       "4             5.0          3.6           1.4          0.2              0\n",
       "..            ...          ...           ...          ...            ...\n",
       "145           6.7          3.0           5.2          2.3              1\n",
       "146           6.3          2.5           5.0          1.9              1\n",
       "147           6.5          3.0           5.2          2.0              1\n",
       "148           6.2          3.4           5.4          2.3              1\n",
       "149           5.9          3.0           5.1          1.8              1\n",
       "\n",
       "[150 rows x 5 columns]"
      ]
     },
     "execution_count": 7,
     "metadata": {},
     "output_type": "execute_result"
    }
   ],
   "source": [
    "iris_logistique = iris_logistique.drop('species', axis='columns')\n",
    "\n",
    "iris_logistique"
   ]
  },
  {
   "cell_type": "markdown",
   "metadata": {},
   "source": [
    "La régression logistique va essayer de savoir à partir de quelles corrélation linéaire de caractères on peut dire qu'une iris est setosa ou pas.\n",
    "\n",
    "**définition** : https://en.wikipedia.org/wiki/Logistic_regression\n"
   ]
  },
  {
   "cell_type": "markdown",
   "metadata": {},
   "source": [
    "Le modèle est :\n",
    "\n",
    "$$ln(\\frac{\\mbox{probabilité d'être virginica}}{\\mbox{probabilité de ne pas être virginica}}) = a * petal\\_length + b$$\n",
    "\n",
    "Ce qui  donne une mesure de probabilité en forme d'une courbe logistique. Une fois les paramètre trouvé on aura que :\n",
    "* la probabilité d'être virginica < 1/2 si : $0 > a * petal\\_length + b$\n",
    "* la probabilité d'être virginica = 1/2 si : $0 = a * petal\\_length + b$\n",
    "* la probabilité d'être virginica > 1/2 si : $0 < a * petal\\_length + b$\n",
    "\n",
    "La pente étant d'autant plus raide selon la valeurs des $a$.\n",
    "\n",
    "Si on jargonne, On a une droite séparant les probabilités inférieures et supérieures à 1/2."
   ]
  },
  {
   "cell_type": "markdown",
   "metadata": {},
   "source": [
    "Pour statsmodels on doit avoir :\n",
    "- la colonne à expliquer (la colonne 'est_virginica')\n",
    "- la (ou les) colonne(s) qui expliquent (la colonne 'petal_length')\n",
    "- on ajoute la constante"
   ]
  },
  {
   "cell_type": "markdown",
   "metadata": {},
   "source": [
    "**NB** : Si on avait fait la même chose avec les 'setosa' on aurai eu une erreur de type `PerfectSeparationError`. Les setosa sont parfaitement séparés, la pente de la courbe logistique est verticale, d'où une erreur."
   ]
  },
  {
   "cell_type": "markdown",
   "metadata": {},
   "source": [
    "Essayons une régression logisitique que sur la la longueur du pétale."
   ]
  },
  {
   "cell_type": "code",
   "execution_count": 8,
   "metadata": {},
   "outputs": [
    {
     "name": "stdout",
     "output_type": "stream",
     "text": [
      "Optimization terminated successfully.\n",
      "         Current function value: 0.111440\n",
      "         Iterations 11\n"
     ]
    },
    {
     "data": {
      "text/html": [
       "<table class=\"simpletable\">\n",
       "<caption>Logit Regression Results</caption>\n",
       "<tr>\n",
       "  <th>Dep. Variable:</th>     <td>est_virginica</td>  <th>  No. Observations:  </th>  <td>   150</td>  \n",
       "</tr>\n",
       "<tr>\n",
       "  <th>Model:</th>                 <td>Logit</td>      <th>  Df Residuals:      </th>  <td>   148</td>  \n",
       "</tr>\n",
       "<tr>\n",
       "  <th>Method:</th>                 <td>MLE</td>       <th>  Df Model:          </th>  <td>     1</td>  \n",
       "</tr>\n",
       "<tr>\n",
       "  <th>Date:</th>            <td>Wed, 11 Jan 2023</td> <th>  Pseudo R-squ.:     </th>  <td>0.8249</td>  \n",
       "</tr>\n",
       "<tr>\n",
       "  <th>Time:</th>                <td>17:57:55</td>     <th>  Log-Likelihood:    </th> <td> -16.716</td> \n",
       "</tr>\n",
       "<tr>\n",
       "  <th>converged:</th>             <td>True</td>       <th>  LL-Null:           </th> <td> -95.477</td> \n",
       "</tr>\n",
       "<tr>\n",
       "  <th>Covariance Type:</th>     <td>nonrobust</td>    <th>  LLR p-value:       </th> <td>3.936e-36</td>\n",
       "</tr>\n",
       "</table>\n",
       "<table class=\"simpletable\">\n",
       "<tr>\n",
       "        <td></td>          <th>coef</th>     <th>std err</th>      <th>z</th>      <th>P>|z|</th>  <th>[0.025</th>    <th>0.975]</th>  \n",
       "</tr>\n",
       "<tr>\n",
       "  <th>const</th>        <td>  -43.7809</td> <td>   11.110</td> <td>   -3.941</td> <td> 0.000</td> <td>  -65.556</td> <td>  -22.006</td>\n",
       "</tr>\n",
       "<tr>\n",
       "  <th>petal_length</th> <td>    9.0020</td> <td>    2.283</td> <td>    3.943</td> <td> 0.000</td> <td>    4.528</td> <td>   13.476</td>\n",
       "</tr>\n",
       "</table><br/><br/>Possibly complete quasi-separation: A fraction 0.47 of observations can be<br/>perfectly predicted. This might indicate that there is complete<br/>quasi-separation. In this case some parameters will not be identified."
      ],
      "text/plain": [
       "<class 'statsmodels.iolib.summary.Summary'>\n",
       "\"\"\"\n",
       "                           Logit Regression Results                           \n",
       "==============================================================================\n",
       "Dep. Variable:          est_virginica   No. Observations:                  150\n",
       "Model:                          Logit   Df Residuals:                      148\n",
       "Method:                           MLE   Df Model:                            1\n",
       "Date:                Wed, 11 Jan 2023   Pseudo R-squ.:                  0.8249\n",
       "Time:                        17:57:55   Log-Likelihood:                -16.716\n",
       "converged:                       True   LL-Null:                       -95.477\n",
       "Covariance Type:            nonrobust   LLR p-value:                 3.936e-36\n",
       "================================================================================\n",
       "                   coef    std err          z      P>|z|      [0.025      0.975]\n",
       "--------------------------------------------------------------------------------\n",
       "const          -43.7809     11.110     -3.941      0.000     -65.556     -22.006\n",
       "petal_length     9.0020      2.283      3.943      0.000       4.528      13.476\n",
       "================================================================================\n",
       "\n",
       "Possibly complete quasi-separation: A fraction 0.47 of observations can be\n",
       "perfectly predicted. This might indicate that there is complete\n",
       "quasi-separation. In this case some parameters will not be identified.\n",
       "\"\"\""
      ]
     },
     "execution_count": 8,
     "metadata": {},
     "output_type": "execute_result"
    }
   ],
   "source": [
    "import statsmodels.discrete.discrete_model\n",
    "import statsmodels.api\n",
    "\n",
    "log_reg = (statsmodels.discrete.discrete_model\n",
    "            .Logit(iris_logistique['est_virginica'], \n",
    "                   statsmodels.api.add_constant(iris_logistique['petal_length']))\n",
    "            .fit())\n",
    "\n",
    "log_reg.summary()"
   ]
  },
  {
   "cell_type": "markdown",
   "metadata": {},
   "source": [
    "La probabilité de 1/2 est pour une longeur de pétal de 43.7809/9.0020 = 4.863463674738947"
   ]
  },
  {
   "cell_type": "markdown",
   "metadata": {},
   "source": [
    "Dessinons le tout avec seaborn :"
   ]
  },
  {
   "cell_type": "code",
   "execution_count": null,
   "metadata": {},
   "outputs": [],
   "source": [
    "fig, ax = plt.subplots(figsize=(10, 10))\n",
    "sns.regplot(x=iris_logistique['petal_length'],\n",
    "            y=iris_logistique['est_virginica'],\n",
    "            ci=False,\n",
    "            logistic=True,\n",
    "            ax=ax\n",
    "          )\n",
    "plt.show()"
   ]
  },
  {
   "cell_type": "markdown",
   "metadata": {},
   "source": [
    "### pour tous les caractères"
   ]
  },
  {
   "cell_type": "markdown",
   "metadata": {},
   "source": [
    "Le modèle est :\n",
    "\n",
    "$$ln(\\frac{\\mbox{probabilité d'être virginica}}{\\mbox{probabilité de ne pas être virginica}}) = a_0 * sepal\\_length + a_1 * sepal\\_width + a_2 * petal\\_length * a_3 * petal\\_width + b$$\n",
    "\n",
    "Ce qui  donne une mesure de probabilité en forme d'une courbe logistique. Une fois les paramètre trouvé on aura que :\n",
    "* la probabilité d'être virginica < 1/2 si : $0 > a_0 * sepal\\_length + a_1 * sepal\\_width + a_2 * petal\\_length * a_3 * petal\\_width + b$\n",
    "* la probabilité d'être virginica = 1/2 si : $0 = a_0 * sepal\\_length + a_1 * sepal\\_width + a_2 * petal\\_length * a_3 * petal\\_width + b$\n",
    "* la probabilité d'être virginica > 1/2 si : $0 < a_0 * sepal\\_length + a_1 * sepal\\_width + a_2 * petal\\_length * a_3 * petal\\_width + b$\n",
    "\n",
    "La pente étant d'autant plus raide selon la valeurs des $a_i$.\n",
    "\n",
    "Si on jargonne, On a un hyerplan séparant les probabilités inférieures et supérieures à 1/2."
   ]
  },
  {
   "cell_type": "markdown",
   "metadata": {},
   "source": [
    "Pour statsmodels on doit avoir :\n",
    "- la colonne à expliquer (la colonne 'est_virginica')\n",
    "- les colonnes qui expliquent (les 4 paramètres. C'est à dire la dataframe sans la colonne 'est_virginica')\n",
    "- on ajoute la constante"
   ]
  },
  {
   "cell_type": "code",
   "execution_count": null,
   "metadata": {},
   "outputs": [],
   "source": [
    "import statsmodels.discrete.discrete_model\n",
    "import statsmodels.api\n",
    "\n",
    "log_reg = (statsmodels.discrete.discrete_model\n",
    "            .Logit(iris_logistique['est_virginica'], \n",
    "                   statsmodels.api.add_constant(iris_logistique.drop('est_virginica', axis='columns')))\n",
    "            .fit())\n",
    "\n",
    "log_reg.summary()"
   ]
  },
  {
   "cell_type": "markdown",
   "metadata": {},
   "source": [
    "L'effet des paramètre sur la probabilité peut être trouvé avec les dérivées :"
   ]
  },
  {
   "cell_type": "code",
   "execution_count": null,
   "metadata": {},
   "outputs": [],
   "source": [
    "log_reg.get_margeff(at='overall', method='dydx', count=True).summary()"
   ]
  },
  {
   "cell_type": "markdown",
   "metadata": {},
   "source": [
    "La longeur et la largeur du petal à une action positive sur le fait d'être une virginica, alors que le sepal n'a pas l'air de jouer beaucoup."
   ]
  },
  {
   "cell_type": "code",
   "execution_count": null,
   "metadata": {},
   "outputs": [],
   "source": []
  }
 ],
 "metadata": {
  "kernelspec": {
   "display_name": "Python 3",
   "language": "python",
   "name": "python3"
  },
  "language_info": {
   "codemirror_mode": {
    "name": "ipython",
    "version": 3
   },
   "file_extension": ".py",
   "mimetype": "text/x-python",
   "name": "python",
   "nbconvert_exporter": "python",
   "pygments_lexer": "ipython3",
   "version": "3.10.9 (main, Dec 15 2022, 17:11:09) [Clang 14.0.0 (clang-1400.0.29.202)]"
  },
  "vscode": {
   "interpreter": {
    "hash": "b0fa6594d8f4cbf19f97940f81e996739fb7646882a419484c72d19e05852a7e"
   }
  }
 },
 "nbformat": 4,
 "nbformat_minor": 2
}
